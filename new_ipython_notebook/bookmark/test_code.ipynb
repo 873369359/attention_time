{
 "cells": [
  {
   "cell_type": "markdown",
   "metadata": {},
   "source": [
    "# データ生成, 簡単な解析"
   ]
  },
  {
   "cell_type": "markdown",
   "metadata": {},
   "source": [
    "データ生成と, データについて簡単な解析を行う. 解析として, \n",
    "* trainとtestのデータ数確認\n",
    "* パターン数確認\n",
    "* "
   ]
  },
  {
   "cell_type": "code",
   "execution_count": 1,
   "metadata": {
    "collapsed": false
   },
   "outputs": [
    {
     "name": "stdout",
     "output_type": "stream",
     "text": [
      "Populating the interactive namespace from numpy and matplotlib\n"
     ]
    }
   ],
   "source": [
    "%pylab inline\n",
    "%load_ext autoreload\n",
    "%autoreload 2\n",
    "import numpy as np\n",
    "import matplotlib.pyplot as plt\n",
    "import pandas as pd\n",
    "import sys\n",
    "import os\n",
    "import chainer\n",
    "project_path = os.getcwd() + '/../../'\n",
    "sys.path.append(project_path + \"utils\")\n",
    "sys.path.append(project_path + \"data\")\n",
    "\n",
    "from sklearn.metrics import precision_recall_curve\n",
    "from sklearn.metrics import auc\n",
    "from sklearn.metrics import roc_curve\n",
    "from sklearn.grid_search import GridSearchCV\n",
    "from sklearn.externals import joblib\n",
    "import sklearn"
   ]
  },
  {
   "cell_type": "code",
   "execution_count": 2,
   "metadata": {
    "collapsed": false
   },
   "outputs": [
    {
     "name": "stderr",
     "output_type": "stream",
     "text": [
      "/Users/admin/Desktop/anaconda/lib/python2.7/site-packages/matplotlib/__init__.py:872: UserWarning: axes.color_cycle is deprecated and replaced with axes.prop_cycle; please use the latter.\n",
      "  warnings.warn(self.msg_depr % (key, alt_key))\n"
     ]
    }
   ],
   "source": [
    "import seaborn as sns"
   ]
  },
  {
   "cell_type": "code",
   "execution_count": 3,
   "metadata": {
    "collapsed": false
   },
   "outputs": [],
   "source": [
    "# utils\n",
    "import analysis\n",
    "import function\n",
    "import other\n",
    "import local_bayes\n",
    "import visualize"
   ]
  },
  {
   "cell_type": "code",
   "execution_count": 4,
   "metadata": {
    "collapsed": false
   },
   "outputs": [],
   "source": [
    "# data\n",
    "from base import BaseDataManager\n",
    "import get_normal_representation \n",
    "from preprocessing import Preprocessing\n",
    "from data import Data"
   ]
  },
  {
   "cell_type": "code",
   "execution_count": 5,
   "metadata": {
    "collapsed": true
   },
   "outputs": [],
   "source": [
    "sys.path.append(project_path + \"multi_models/cnn/\")\n",
    "sys.path.append(project_path + \"models/cnn/\")"
   ]
  },
  {
   "cell_type": "markdown",
   "metadata": {},
   "source": [
    "# make"
   ]
  },
  {
   "cell_type": "markdown",
   "metadata": {},
   "source": [
    "データ生成を行う."
   ]
  },
  {
   "cell_type": "code",
   "execution_count": 6,
   "metadata": {
    "collapsed": false
   },
   "outputs": [],
   "source": [
    "## 注意: このデータロードはdataを入力とする場合, 関数ごとに毎回必要\n",
    "# movielens = p.load_data('movielens.twd')\n",
    "# science = p.load_data('science.twd')\n",
    "# ajax = p.load_data('ajax.twd')\n",
    "# java = p.load_data('java.twd')\n",
    "# news = p.load_data('news.twd')\n",
    "# css = p.load_data('css.twd')\n",
    "# javascript = p.load_data('javascript.twd')\n",
    "# opensource = p.load_data('opensource.twd')\n",
    "# webdesign = p.load_data('webdesign.twd')\n",
    "# design = p.load_data('design.twd')\n",
    "# linux = p.load_data('linux.twd')\n",
    "# photography = p.load_data('photography.twd')\n",
    "\n",
    "# data_ls = [science, ajax, java, news, css, javascript, opensource, webdesign, design, linux, photography]\n",
    "data_name_ls = ['science', 'ajax', 'java', 'news', 'css', 'javascript', 'opensource', 'webdesign', 'design', 'linux', 'photography']"
   ]
  },
  {
   "cell_type": "code",
   "execution_count": 7,
   "metadata": {
    "collapsed": false
   },
   "outputs": [
    {
     "data": {
      "text/plain": [
       "'science'"
      ]
     },
     "execution_count": 7,
     "metadata": {},
     "output_type": "execute_result"
    }
   ],
   "source": [
    "data_name_ls[0]"
   ]
  },
  {
   "cell_type": "code",
   "execution_count": 8,
   "metadata": {
    "collapsed": false
   },
   "outputs": [],
   "source": [
    "# raw_data_dir = project_path + 'original_data/bookmark/'\n",
    "# save_data_dir = project_path + 'data/datasets/bookmark_new/'\n",
    "# train_test_ratio = 0.8\n",
    "# stride = 5\n",
    "# balance = True\n",
    "# output_dim_ls = [6]\n",
    "\n",
    "# base_data_manager = BaseDataManager(raw_data_dir, save_data_dir)\n",
    "# D = Data(raw_data_dir, save_data_dir)\n",
    "# P = Preprocessing(raw_data_dir, save_data_dir)"
   ]
  },
  {
   "cell_type": "code",
   "execution_count": 9,
   "metadata": {
    "collapsed": false
   },
   "outputs": [],
   "source": [
    "# for output_dim in output_dim_ls:\n",
    "    \n",
    "#     for data_name in data_name_ls:\n",
    "#         print data_name\n",
    "#         data = base_data_manager.load_data('%s.twd' % data_name)\n",
    "#         ts_ls, ts_sum_ls = get_normal_representation.get_ts_normal_representation(data)\n",
    "#         ts_dict = base_data_manager.div_train_test(ts_ls, train_test_ratio)\n",
    "#         started_ts_dict = base_data_manager.get_started_ts(ts_dict)\n",
    "#         input_ts_dict, label_dict, target_ts_dict, input_sum_dict = base_data_manager.make_supervised_data(started_ts_dict, output_dim, stride)\n",
    "# #         if balance:\n",
    "# #             input_ts_dict, label_dict, target_ts_dict = P.balancing_sampling(input_ts_dict, label_dict, target_ts_dict, output_dim)\n",
    "#         data_type = 'balance'\n",
    "#         D.make_train_data(input_ts_dict, label_dict, target_ts_dict, output_dim, data_type, data_name)"
   ]
  },
  {
   "cell_type": "code",
   "execution_count": 10,
   "metadata": {
    "collapsed": true
   },
   "outputs": [],
   "source": [
    "save_data_dir = '../../data/datasets/bookmark_new/normal/'\n",
    "train_ajax = numpy.load(save_data_dir + 'ajax' + '/output_dim=6/train.npz')\n",
    "test_ajax = numpy.load(save_data_dir + 'ajax' + '/output_dim=6/test.npz')\n",
    "target_ajax = numpy.load(save_data_dir + 'ajax' + '/output_dim=6/target.npz')"
   ]
  },
  {
   "cell_type": "code",
   "execution_count": 11,
   "metadata": {
    "collapsed": false
   },
   "outputs": [
    {
     "data": {
      "text/plain": [
       "9388"
      ]
     },
     "execution_count": 11,
     "metadata": {},
     "output_type": "execute_result"
    }
   ],
   "source": [
    "len(train_ajax['y'])"
   ]
  },
  {
   "cell_type": "code",
   "execution_count": 12,
   "metadata": {
    "collapsed": false
   },
   "outputs": [
    {
     "data": {
      "text/plain": [
       "2503"
      ]
     },
     "execution_count": 12,
     "metadata": {},
     "output_type": "execute_result"
    }
   ],
   "source": [
    "len(test_ajax['y'])"
   ]
  },
  {
   "cell_type": "code",
   "execution_count": 13,
   "metadata": {
    "collapsed": false
   },
   "outputs": [],
   "source": [
    "label = numpy.r_[train_ajax['y'], test_ajax['y']]"
   ]
  },
  {
   "cell_type": "code",
   "execution_count": 14,
   "metadata": {
    "collapsed": false
   },
   "outputs": [
    {
     "data": {
      "text/plain": [
       "array([[ 0.,  0.,  0.,  0.,  0.,  0.],\n",
       "       [ 0.,  0.,  0.,  0.,  0.,  0.],\n",
       "       [ 1.,  0.,  0.,  1.,  1.,  1.],\n",
       "       ..., \n",
       "       [ 1.,  1.,  1.,  1.,  1.,  0.],\n",
       "       [ 0.,  0.,  0.,  0.,  0.,  0.],\n",
       "       [ 0.,  0.,  0.,  0.,  0.,  0.]])"
      ]
     },
     "execution_count": 14,
     "metadata": {},
     "output_type": "execute_result"
    }
   ],
   "source": [
    "label"
   ]
  },
  {
   "cell_type": "code",
   "execution_count": 15,
   "metadata": {
    "collapsed": false
   },
   "outputs": [
    {
     "data": {
      "text/plain": [
       "numpy.ndarray"
      ]
     },
     "execution_count": 15,
     "metadata": {},
     "output_type": "execute_result"
    }
   ],
   "source": [
    "type(label)"
   ]
  },
  {
   "cell_type": "code",
   "execution_count": 16,
   "metadata": {
    "collapsed": true
   },
   "outputs": [],
   "source": [
    "ls = [0, 0, 1]"
   ]
  },
  {
   "cell_type": "code",
   "execution_count": 17,
   "metadata": {
    "collapsed": false
   },
   "outputs": [
    {
     "data": {
      "text/plain": [
       "list"
      ]
     },
     "execution_count": 17,
     "metadata": {},
     "output_type": "execute_result"
    }
   ],
   "source": [
    "type(ls)"
   ]
  },
  {
   "cell_type": "code",
   "execution_count": 20,
   "metadata": {
    "collapsed": false
   },
   "outputs": [],
   "source": [
    "pattern = numpy.array([[1, 0, 0, 0, 0, 0], [0., 0., 0., 0., 0., 1.]])\n",
    "ref = [0, 0]\n",
    "for label_ele in label:\n",
    "    for i, pattern_ele in enumerate(pattern):\n",
    "        res = label_ele == pattern_ele\n",
    "        if res.all():\n",
    "            ref[i] += 1"
   ]
  },
  {
   "cell_type": "code",
   "execution_count": 21,
   "metadata": {
    "collapsed": false
   },
   "outputs": [
    {
     "data": {
      "text/plain": [
       "[582, 276]"
      ]
     },
     "execution_count": 21,
     "metadata": {},
     "output_type": "execute_result"
    }
   ],
   "source": [
    "ref"
   ]
  },
  {
   "cell_type": "code",
   "execution_count": 40,
   "metadata": {
    "collapsed": true
   },
   "outputs": [],
   "source": [
    "sample = numpy.array([ 0.,  0.,  0.,  1.,  1.])"
   ]
  },
  {
   "cell_type": "code",
   "execution_count": 41,
   "metadata": {
    "collapsed": false
   },
   "outputs": [
    {
     "data": {
      "text/plain": [
       "array([ 0.,  0.,  0.,  1.,  1.])"
      ]
     },
     "execution_count": 41,
     "metadata": {},
     "output_type": "execute_result"
    }
   ],
   "source": [
    "label[0]"
   ]
  },
  {
   "cell_type": "code",
   "execution_count": 42,
   "metadata": {
    "collapsed": false
   },
   "outputs": [],
   "source": [
    "res = sample == label[0]"
   ]
  },
  {
   "cell_type": "code",
   "execution_count": 43,
   "metadata": {
    "collapsed": false
   },
   "outputs": [
    {
     "data": {
      "text/plain": [
       "array([ True,  True,  True,  True,  True], dtype=bool)"
      ]
     },
     "execution_count": 43,
     "metadata": {},
     "output_type": "execute_result"
    }
   ],
   "source": [
    "res"
   ]
  },
  {
   "cell_type": "code",
   "execution_count": 44,
   "metadata": {
    "collapsed": false
   },
   "outputs": [
    {
     "data": {
      "text/plain": [
       "True"
      ]
     },
     "execution_count": 44,
     "metadata": {},
     "output_type": "execute_result"
    }
   ],
   "source": [
    "res.all()"
   ]
  },
  {
   "cell_type": "code",
   "execution_count": 56,
   "metadata": {
    "collapsed": false
   },
   "outputs": [
    {
     "ename": "ValueError",
     "evalue": "The truth value of an array with more than one element is ambiguous. Use a.any() or a.all()",
     "output_type": "error",
     "traceback": [
      "\u001b[0;31m---------------------------------------------------------------------------\u001b[0m",
      "\u001b[0;31mValueError\u001b[0m                                Traceback (most recent call last)",
      "\u001b[0;32m<ipython-input-56-d9dc38556b25>\u001b[0m in \u001b[0;36m<module>\u001b[0;34m()\u001b[0m\n\u001b[0;32m----> 1\u001b[0;31m \u001b[0;32mif\u001b[0m \u001b[0mnumpy\u001b[0m\u001b[0;34m.\u001b[0m\u001b[0marray\u001b[0m\u001b[0;34m(\u001b[0m\u001b[0;34m[\u001b[0m\u001b[0;36m1\u001b[0m\u001b[0;34m,\u001b[0m \u001b[0;36m2\u001b[0m\u001b[0;34m,\u001b[0m \u001b[0;36m3\u001b[0m\u001b[0;34m,\u001b[0m \u001b[0;36m4\u001b[0m\u001b[0;34m]\u001b[0m\u001b[0;34m)\u001b[0m \u001b[0;34m-\u001b[0m \u001b[0mnumpy\u001b[0m\u001b[0;34m.\u001b[0m\u001b[0marray\u001b[0m\u001b[0;34m(\u001b[0m\u001b[0;34m[\u001b[0m\u001b[0;36m1\u001b[0m\u001b[0;34m,\u001b[0m \u001b[0;36m2\u001b[0m\u001b[0;34m,\u001b[0m \u001b[0;36m2\u001b[0m\u001b[0;34m,\u001b[0m \u001b[0;36m2\u001b[0m\u001b[0;34m]\u001b[0m\u001b[0;34m)\u001b[0m \u001b[0;34m==\u001b[0m \u001b[0marray\u001b[0m\u001b[0;34m(\u001b[0m\u001b[0;34m[\u001b[0m\u001b[0;36m0\u001b[0m\u001b[0;34m,\u001b[0m \u001b[0;36m0\u001b[0m\u001b[0;34m,\u001b[0m \u001b[0;36m1\u001b[0m\u001b[0;34m,\u001b[0m \u001b[0;36m2\u001b[0m\u001b[0;34m]\u001b[0m\u001b[0;34m)\u001b[0m\u001b[0;34m:\u001b[0m\u001b[0;34m\u001b[0m\u001b[0m\n\u001b[0m\u001b[1;32m      2\u001b[0m     \u001b[0;32mprint\u001b[0m \u001b[0;34m'a'\u001b[0m\u001b[0;34m\u001b[0m\u001b[0m\n",
      "\u001b[0;31mValueError\u001b[0m: The truth value of an array with more than one element is ambiguous. Use a.any() or a.all()"
     ]
    }
   ],
   "source": [
    "if numpy.array([1, 2, 3, 4]) - numpy.array([1, 2, 2, 2]) == array([0, 0, 1, 2]):\n",
    "    print 'a'"
   ]
  },
  {
   "cell_type": "code",
   "execution_count": null,
   "metadata": {
    "collapsed": true
   },
   "outputs": [],
   "source": []
  },
  {
   "cell_type": "code",
   "execution_count": null,
   "metadata": {
    "collapsed": true
   },
   "outputs": [],
   "source": []
  },
  {
   "cell_type": "code",
   "execution_count": null,
   "metadata": {
    "collapsed": true
   },
   "outputs": [],
   "source": []
  },
  {
   "cell_type": "code",
   "execution_count": null,
   "metadata": {
    "collapsed": true
   },
   "outputs": [],
   "source": []
  },
  {
   "cell_type": "code",
   "execution_count": null,
   "metadata": {
    "collapsed": true
   },
   "outputs": [],
   "source": []
  },
  {
   "cell_type": "code",
   "execution_count": null,
   "metadata": {
    "collapsed": true
   },
   "outputs": [],
   "source": []
  },
  {
   "cell_type": "code",
   "execution_count": null,
   "metadata": {
    "collapsed": true
   },
   "outputs": [],
   "source": []
  },
  {
   "cell_type": "code",
   "execution_count": null,
   "metadata": {
    "collapsed": true
   },
   "outputs": [],
   "source": []
  },
  {
   "cell_type": "code",
   "execution_count": null,
   "metadata": {
    "collapsed": true
   },
   "outputs": [],
   "source": []
  },
  {
   "cell_type": "code",
   "execution_count": null,
   "metadata": {
    "collapsed": true
   },
   "outputs": [],
   "source": []
  },
  {
   "cell_type": "code",
   "execution_count": null,
   "metadata": {
    "collapsed": true
   },
   "outputs": [],
   "source": []
  },
  {
   "cell_type": "code",
   "execution_count": null,
   "metadata": {
    "collapsed": true
   },
   "outputs": [],
   "source": []
  },
  {
   "cell_type": "code",
   "execution_count": null,
   "metadata": {
    "collapsed": true
   },
   "outputs": [],
   "source": []
  },
  {
   "cell_type": "code",
   "execution_count": null,
   "metadata": {
    "collapsed": true
   },
   "outputs": [],
   "source": []
  },
  {
   "cell_type": "code",
   "execution_count": null,
   "metadata": {
    "collapsed": true
   },
   "outputs": [],
   "source": []
  },
  {
   "cell_type": "code",
   "execution_count": null,
   "metadata": {
    "collapsed": true
   },
   "outputs": [],
   "source": []
  },
  {
   "cell_type": "code",
   "execution_count": null,
   "metadata": {
    "collapsed": true
   },
   "outputs": [],
   "source": []
  },
  {
   "cell_type": "code",
   "execution_count": null,
   "metadata": {
    "collapsed": true
   },
   "outputs": [],
   "source": []
  },
  {
   "cell_type": "code",
   "execution_count": null,
   "metadata": {
    "collapsed": true
   },
   "outputs": [],
   "source": []
  },
  {
   "cell_type": "code",
   "execution_count": null,
   "metadata": {
    "collapsed": true
   },
   "outputs": [],
   "source": []
  },
  {
   "cell_type": "code",
   "execution_count": null,
   "metadata": {
    "collapsed": true
   },
   "outputs": [],
   "source": []
  },
  {
   "cell_type": "code",
   "execution_count": null,
   "metadata": {
    "collapsed": true
   },
   "outputs": [],
   "source": []
  },
  {
   "cell_type": "code",
   "execution_count": null,
   "metadata": {
    "collapsed": true
   },
   "outputs": [],
   "source": []
  },
  {
   "cell_type": "code",
   "execution_count": 20,
   "metadata": {
    "collapsed": false,
    "scrolled": true
   },
   "outputs": [
    {
     "name": "stdout",
     "output_type": "stream",
     "text": [
      "science\n",
      "0\n",
      "0\n"
     ]
    },
    {
     "ename": "OSError",
     "evalue": "[Errno 17] File exists: '../../data/bookmark/science/page_shuffle/output_dim=1/'",
     "output_type": "error",
     "traceback": [
      "\u001b[0;31m---------------------------------------------------------------------------\u001b[0m",
      "\u001b[0;31mOSError\u001b[0m                                   Traceback (most recent call last)",
      "\u001b[0;32m<ipython-input-20-2a8375b6035c>\u001b[0m in \u001b[0;36m<module>\u001b[0;34m()\u001b[0m\n\u001b[1;32m     17\u001b[0m \u001b[0;31m#             os.mkdir(category_dir)\u001b[0m\u001b[0;34m\u001b[0m\u001b[0;34m\u001b[0m\u001b[0m\n\u001b[1;32m     18\u001b[0m \u001b[0;31m#             os.mkdir(save_data_dir)\u001b[0m\u001b[0;34m\u001b[0m\u001b[0;34m\u001b[0m\u001b[0m\n\u001b[0;32m---> 19\u001b[0;31m         \u001b[0mp\u001b[0m\u001b[0;34m.\u001b[0m\u001b[0mmake_test_dataset\u001b[0m\u001b[0;34m(\u001b[0m\u001b[0mcategory_input_ts_dict\u001b[0m\u001b[0;34m,\u001b[0m \u001b[0mcategory_label_dict\u001b[0m\u001b[0;34m,\u001b[0m \u001b[0mcategory_target_ts_dict\u001b[0m\u001b[0;34m,\u001b[0m \u001b[0msave_data_dir\u001b[0m\u001b[0;34m,\u001b[0m \u001b[0moutput_dim\u001b[0m\u001b[0;34m)\u001b[0m\u001b[0;34m\u001b[0m\u001b[0m\n\u001b[0m",
      "\u001b[0;32m/Users/admin/Desktop/projects/attention_time/ipython_notebook/multi_bookmark/../../utils/preprocessing.pyc\u001b[0m in \u001b[0;36mmake_test_dataset\u001b[0;34m(self, x, y, target_ts_dict, save_dir, output_dim, test_num, k_folds, rand, shuffle)\u001b[0m\n\u001b[1;32m    254\u001b[0m \u001b[0;34m\u001b[0m\u001b[0m\n\u001b[1;32m    255\u001b[0m         \u001b[0mtype_dir\u001b[0m \u001b[0;34m=\u001b[0m \u001b[0msave_dir\u001b[0m \u001b[0;34m+\u001b[0m \u001b[0;34m'output_dim=%s/'\u001b[0m \u001b[0;34m%\u001b[0m \u001b[0moutput_dim\u001b[0m\u001b[0;34m\u001b[0m\u001b[0m\n\u001b[0;32m--> 256\u001b[0;31m         \u001b[0mos\u001b[0m\u001b[0;34m.\u001b[0m\u001b[0mmkdir\u001b[0m\u001b[0;34m(\u001b[0m\u001b[0mtype_dir\u001b[0m\u001b[0;34m)\u001b[0m\u001b[0;34m\u001b[0m\u001b[0m\n\u001b[0m\u001b[1;32m    257\u001b[0m         \u001b[0mnumpy\u001b[0m\u001b[0;34m.\u001b[0m\u001b[0msavez\u001b[0m\u001b[0;34m(\u001b[0m\u001b[0mtype_dir\u001b[0m \u001b[0;34m+\u001b[0m \u001b[0;34m'train.npz'\u001b[0m\u001b[0;34m,\u001b[0m \u001b[0mx\u001b[0m\u001b[0;34m=\u001b[0m\u001b[0mtrain_x\u001b[0m\u001b[0;34m,\u001b[0m \u001b[0my\u001b[0m\u001b[0;34m=\u001b[0m\u001b[0mtrain_y\u001b[0m\u001b[0;34m)\u001b[0m\u001b[0;34m\u001b[0m\u001b[0m\n\u001b[1;32m    258\u001b[0m         \u001b[0mnumpy\u001b[0m\u001b[0;34m.\u001b[0m\u001b[0msavez\u001b[0m\u001b[0;34m(\u001b[0m\u001b[0mtype_dir\u001b[0m \u001b[0;34m+\u001b[0m \u001b[0;34m'test.npz'\u001b[0m\u001b[0;34m,\u001b[0m \u001b[0mx\u001b[0m\u001b[0;34m=\u001b[0m\u001b[0mtest_x\u001b[0m\u001b[0;34m,\u001b[0m \u001b[0my\u001b[0m\u001b[0;34m=\u001b[0m\u001b[0mtest_y\u001b[0m\u001b[0;34m)\u001b[0m\u001b[0;34m\u001b[0m\u001b[0m\n",
      "\u001b[0;31mOSError\u001b[0m: [Errno 17] File exists: '../../data/bookmark/science/page_shuffle/output_dim=1/'"
     ]
    }
   ],
   "source": [
    "train_test_ratio = 0.8\n",
    "balance = True\n",
    "for output_dim in [1]:\n",
    "    for data_name in data_name_ls:\n",
    "        print data_name\n",
    "        data = p.load_data('%s.twd' % data_name)\n",
    "        category_ts, category_sum = p.timeseries(data)\n",
    "        category_ts_dict = p.div_train_test(category_ts, train_test_ratio)\n",
    "        category_started_ts_dict = p.make_started_ts(category_ts_dict)\n",
    "        category_input_ts_dict, category_label_dict, category_target_ts_dict, category_input_sum_dict\\\n",
    "            = p.make_supervised_data(category_started_ts_dict, output_dim=output_dim, stride=5)\n",
    "        if balance:\n",
    "            category_input_ts_dict, category_label_dict, category_target_ts_dict = p.balancing_sampling(category_input_ts_dict, category_label_dict, category_target_ts_dict, output_dim)\n",
    "        \n",
    "        category_dir = '../../data/bookmark/%s/' % data_name\n",
    "        save_data_dir = '../../data/bookmark/%s/page_shuffle/' % data_name\n",
    "#         if output_dim == 1:\n",
    "#             os.mkdir(category_dir)\n",
    "#             os.mkdir(save_data_dir)\n",
    "        p.make_test_dataset(category_input_ts_dict, category_label_dict, category_target_ts_dict, save_data_dir, output_dim)"
   ]
  },
  {
   "cell_type": "code",
   "execution_count": 9,
   "metadata": {
    "collapsed": false
   },
   "outputs": [
    {
     "ename": "NameError",
     "evalue": "name 'category_label_dict' is not defined",
     "output_type": "error",
     "traceback": [
      "\u001b[0;31m---------------------------------------------------------------------------\u001b[0m",
      "\u001b[0;31mNameError\u001b[0m                                 Traceback (most recent call last)",
      "\u001b[0;32m<ipython-input-9-4e969423cba0>\u001b[0m in \u001b[0;36m<module>\u001b[0;34m()\u001b[0m\n\u001b[0;32m----> 1\u001b[0;31m \u001b[0mtra\u001b[0m \u001b[0;34m=\u001b[0m \u001b[0mcategory_label_dict\u001b[0m\u001b[0;34m[\u001b[0m\u001b[0;34m'train'\u001b[0m\u001b[0;34m]\u001b[0m\u001b[0;34m\u001b[0m\u001b[0m\n\u001b[0m",
      "\u001b[0;31mNameError\u001b[0m: name 'category_label_dict' is not defined"
     ]
    }
   ],
   "source": [
    "tra = category_label_dict['train']"
   ]
  },
  {
   "cell_type": "code",
   "execution_count": 27,
   "metadata": {
    "collapsed": false
   },
   "outputs": [
    {
     "data": {
      "text/plain": [
       "{'test': array([[ 0.,  0.,  0.],\n",
       "        [ 0.,  0.,  0.],\n",
       "        [ 1.,  1.,  0.],\n",
       "        ..., \n",
       "        [ 0.,  0.,  0.],\n",
       "        [ 0.,  0.,  0.],\n",
       "        [ 0.,  0.,  0.]]), 'train': array([[ 1.,  1.,  0.],\n",
       "        [ 1.,  1.,  1.],\n",
       "        [ 0.,  1.,  1.],\n",
       "        ..., \n",
       "        [ 0.,  0.,  0.],\n",
       "        [ 0.,  0.,  0.],\n",
       "        [ 1.,  1.,  1.]])}"
      ]
     },
     "execution_count": 27,
     "metadata": {},
     "output_type": "execute_result"
    }
   ],
   "source": [
    "category_label_dict"
   ]
  },
  {
   "cell_type": "code",
   "execution_count": 28,
   "metadata": {
    "collapsed": false
   },
   "outputs": [
    {
     "data": {
      "text/plain": [
       "(5385, 3)"
      ]
     },
     "execution_count": 28,
     "metadata": {},
     "output_type": "execute_result"
    }
   ],
   "source": [
    "tra.shape"
   ]
  },
  {
   "cell_type": "code",
   "execution_count": 29,
   "metadata": {
    "collapsed": false
   },
   "outputs": [],
   "source": [
    "tra_ele = tra[0]\n",
    "tra = numpy.delete(tra, 0, axis=0)"
   ]
  },
  {
   "cell_type": "code",
   "execution_count": 30,
   "metadata": {
    "collapsed": false
   },
   "outputs": [
    {
     "data": {
      "text/plain": [
       "10"
      ]
     },
     "execution_count": 30,
     "metadata": {},
     "output_type": "execute_result"
    }
   ],
   "source": [
    "len(tra[:10])"
   ]
  },
  {
   "cell_type": "code",
   "execution_count": 31,
   "metadata": {
    "collapsed": false
   },
   "outputs": [
    {
     "data": {
      "text/plain": [
       "array([ 1.,  0.,  0.,  0.,  0.,  0.,  0.,  1.,  0.,  0.,  0.,  1.,  0.,\n",
       "        0.,  0.,  0.,  0.,  0.,  0.,  0.,  1.,  0.,  1.,  1.,  0.,  0.,\n",
       "        0.,  0.,  0.,  1.])"
      ]
     },
     "execution_count": 31,
     "metadata": {},
     "output_type": "execute_result"
    }
   ],
   "source": [
    "tra[:, 0][:30]"
   ]
  },
  {
   "cell_type": "code",
   "execution_count": 32,
   "metadata": {
    "collapsed": false
   },
   "outputs": [
    {
     "name": "stdout",
     "output_type": "stream",
     "text": [
      "0\n",
      "1782\n",
      "1040\n",
      "0\n",
      "200\n",
      "103\n"
     ]
    }
   ],
   "source": [
    "category_input_ts_dict_, category_label_dict_, category_target_ts_dict_ = p.balancing_sampling(category_input_ts_dict, category_label_dict, category_target_ts_dict, output_dim)"
   ]
  },
  {
   "cell_type": "code",
   "execution_count": 33,
   "metadata": {
    "collapsed": false
   },
   "outputs": [
    {
     "data": {
      "text/plain": [
       "{'test': array([[ 0,  0,  0, ...,  0,  0,  1],\n",
       "        [ 0,  0,  0, ...,  3,  2, 22],\n",
       "        [ 5,  6,  6, ...,  1,  7,  1],\n",
       "        ..., \n",
       "        [ 0,  0,  0, ...,  6,  5,  2],\n",
       "        [10,  9, 11, ..., 20,  5,  3],\n",
       "        [ 3,  9,  3, ...,  1,  2,  1]]),\n",
       " 'train': array([[ 3,  4,  6, ...,  4,  1,  4],\n",
       "        [ 3,  3,  3, ...,  5,  2,  6],\n",
       "        [ 0,  0,  0, ..., 65, 74, 40],\n",
       "        ..., \n",
       "        [ 1,  2,  3, ...,  3,  2,  1],\n",
       "        [ 1,  3,  3, ...,  2,  2,  2],\n",
       "        [ 0,  0,  0, ...,  0,  0,  0]])}"
      ]
     },
     "execution_count": 33,
     "metadata": {},
     "output_type": "execute_result"
    }
   ],
   "source": [
    "category_input_ts_dict_"
   ]
  },
  {
   "cell_type": "code",
   "execution_count": 34,
   "metadata": {
    "collapsed": false
   },
   "outputs": [
    {
     "data": {
      "text/plain": [
       "array([[ 1.,  0.,  1.],\n",
       "       [ 1.,  1.,  0.],\n",
       "       [ 1.,  0.,  0.],\n",
       "       [ 0.,  0.,  0.],\n",
       "       [ 1.,  1.,  1.],\n",
       "       [ 0.,  0.,  0.],\n",
       "       [ 1.,  1.,  1.],\n",
       "       [ 1.,  1.,  1.],\n",
       "       [ 1.,  1.,  1.],\n",
       "       [ 1.,  0.,  0.],\n",
       "       [ 0.,  0.,  0.],\n",
       "       [ 1.,  1.,  0.],\n",
       "       [ 1.,  1.,  1.],\n",
       "       [ 0.,  0.,  0.],\n",
       "       [ 1.,  1.,  1.],\n",
       "       [ 1.,  1.,  1.],\n",
       "       [ 1.,  0.,  1.],\n",
       "       [ 1.,  0.,  0.],\n",
       "       [ 1.,  0.,  0.],\n",
       "       [ 1.,  1.,  0.]])"
      ]
     },
     "execution_count": 34,
     "metadata": {},
     "output_type": "execute_result"
    }
   ],
   "source": [
    "category_label_dict_ ['train'][:20]"
   ]
  },
  {
   "cell_type": "code",
   "execution_count": 36,
   "metadata": {
    "collapsed": false
   },
   "outputs": [
    {
     "data": {
      "text/plain": [
       "(730, 3)"
      ]
     },
     "execution_count": 36,
     "metadata": {},
     "output_type": "execute_result"
    }
   ],
   "source": [
    "category_label_dict_['train'].shape"
   ]
  },
  {
   "cell_type": "code",
   "execution_count": 38,
   "metadata": {
    "collapsed": false
   },
   "outputs": [
    {
     "data": {
      "text/plain": [
       "(730, 60)"
      ]
     },
     "execution_count": 38,
     "metadata": {},
     "output_type": "execute_result"
    }
   ],
   "source": [
    "category_target_ts_dict_['train'].shape"
   ]
  },
  {
   "cell_type": "code",
   "execution_count": 43,
   "metadata": {
    "collapsed": false
   },
   "outputs": [
    {
     "data": {
      "text/plain": [
       "[<matplotlib.lines.Line2D at 0x11e009850>]"
      ]
     },
     "execution_count": 43,
     "metadata": {},
     "output_type": "execute_result"
    },
    {
     "data": {
      "image/png": "[encoded data removed]",
      "text/plain": [
       "<matplotlib.figure.Figure at 0x11cf8fd50>"
      ]
     },
     "metadata": {},
     "output_type": "display_data"
    }
   ],
   "source": [
    "plt.plot(category_target_ts_dict_['train'][3])"
   ]
  },
  {
   "cell_type": "markdown",
   "metadata": {},
   "source": [
    "# load"
   ]
  },
  {
   "cell_type": "code",
   "execution_count": 43,
   "metadata": {
    "collapsed": false
   },
   "outputs": [],
   "source": [
    "save_data_dir = '../../data/bookmark/'\n",
    "train_ajax = numpy.load(save_data_dir + 'ajax' + '/balanced/output_dim=5/train.npz')\n",
    "test_ajax = numpy.load(save_data_dir + 'ajax' + '/balanced/output_dim=5/test.npz')\n",
    "target_ajax = numpy.load(save_data_dir + 'ajax' + '/balanced/output_dim=5/target.npz')"
   ]
  },
  {
   "cell_type": "code",
   "execution_count": 44,
   "metadata": {
    "collapsed": false
   },
   "outputs": [
    {
     "data": {
      "text/plain": [
       "[<matplotlib.lines.Line2D at 0x11a3dcbd0>]"
      ]
     },
     "execution_count": 44,
     "metadata": {},
     "output_type": "execute_result"
    },
    {
     "data": {
      "image/png": "[encoded data removed]",
      "text/plain": [
       "<matplotlib.figure.Figure at 0x1194b3610>"
      ]
     },
     "metadata": {},
     "output_type": "display_data"
    }
   ],
   "source": [
    "plt.plot(train_ajax['x'][0])"
   ]
  },
  {
   "cell_type": "code",
   "execution_count": 45,
   "metadata": {
    "collapsed": false
   },
   "outputs": [
    {
     "data": {
      "text/plain": [
       "array([[ 0.,  0.,  0.,  0.,  0.],\n",
       "       [ 1.,  1.,  1.,  0.,  0.],\n",
       "       [ 1.,  0.,  0.,  0.,  0.],\n",
       "       [ 1.,  1.,  1.,  0.,  1.],\n",
       "       [ 0.,  1.,  1.,  1.,  0.],\n",
       "       [ 1.,  1.,  1.,  1.,  1.],\n",
       "       [ 1.,  1.,  0.,  0.,  0.],\n",
       "       [ 0.,  0.,  0.,  0.,  0.],\n",
       "       [ 0.,  1.,  1.,  1.,  0.],\n",
       "       [ 1.,  1.,  1.,  1.,  1.],\n",
       "       [ 1.,  1.,  1.,  1.,  0.],\n",
       "       [ 1.,  0.,  1.,  1.,  0.],\n",
       "       [ 0.,  1.,  1.,  1.,  1.],\n",
       "       [ 1.,  1.,  1.,  1.,  1.],\n",
       "       [ 0.,  0.,  1.,  1.,  0.],\n",
       "       [ 0.,  1.,  0.,  0.,  1.],\n",
       "       [ 1.,  1.,  1.,  0.,  1.],\n",
       "       [ 1.,  1.,  1.,  1.,  1.],\n",
       "       [ 0.,  1.,  1.,  0.,  0.],\n",
       "       [ 0.,  0.,  0.,  0.,  0.],\n",
       "       [ 0.,  0.,  0.,  0.,  0.],\n",
       "       [ 1.,  1.,  1.,  1.,  1.],\n",
       "       [ 0.,  0.,  0.,  1.,  1.],\n",
       "       [ 1.,  1.,  1.,  1.,  1.],\n",
       "       [ 1.,  1.,  1.,  1.,  0.],\n",
       "       [ 1.,  1.,  1.,  1.,  1.],\n",
       "       [ 0.,  1.,  1.,  0.,  1.],\n",
       "       [ 1.,  1.,  1.,  1.,  0.],\n",
       "       [ 1.,  0.,  0.,  0.,  1.],\n",
       "       [ 1.,  1.,  1.,  0.,  0.]])"
      ]
     },
     "execution_count": 45,
     "metadata": {},
     "output_type": "execute_result"
    }
   ],
   "source": [
    "train_ajax['y'][:30]"
   ]
  },
  {
   "cell_type": "code",
   "execution_count": 46,
   "metadata": {
    "collapsed": false
   },
   "outputs": [
    {
     "data": {
      "text/plain": [
       "[<matplotlib.lines.Line2D at 0x11a4b0650>]"
      ]
     },
     "execution_count": 46,
     "metadata": {},
     "output_type": "execute_result"
    },
    {
     "data": {
      "image/png": "[encoded data removed]",
      "text/plain": [
       "<matplotlib.figure.Figure at 0x119659310>"
      ]
     },
     "metadata": {},
     "output_type": "display_data"
    }
   ],
   "source": [
    "plt.plot(target_ajax['train'][0])"
   ]
  },
  {
   "cell_type": "code",
   "execution_count": 14,
   "metadata": {
    "collapsed": false
   },
   "outputs": [
    {
     "data": {
      "text/plain": [
       "array([ 0.,  0.,  1.,  0.,  0.,  0.])"
      ]
     },
     "execution_count": 14,
     "metadata": {},
     "output_type": "execute_result"
    }
   ],
   "source": [
    "train_ajax['y'][1]"
   ]
  },
  {
   "cell_type": "markdown",
   "metadata": {},
   "source": [
    "# model training"
   ]
  },
  {
   "cell_type": "code",
   "execution_count": 10,
   "metadata": {
    "collapsed": false
   },
   "outputs": [],
   "source": [
    "import cnn"
   ]
  },
  {
   "cell_type": "code",
   "execution_count": 11,
   "metadata": {
    "collapsed": false
   },
   "outputs": [],
   "source": [
    "# epoch_num = 50\n",
    "# output_dim = 2\n",
    "# save_data_dir = '../../data/bookmark/ajax/balanced/'\n",
    "# save_model_dir = \"../../results/balanced_multi/output_dim=%s/ajax_%s/\" % (output_dim, epoch_num)\n",
    "# other.mkdir_p(save_model_dir)\n",
    "# train = numpy.load(save_data_dir + 'output_dim=%s/train.npz' % output_dim)\n",
    "# test = numpy.load(save_data_dir + 'output_dim=%s/test.npz' % output_dim)\n",
    "# cnntrain = cnn.CNN(save_model_dir=save_model_dir, epoch_num=epoch_num)"
   ]
  },
  {
   "cell_type": "code",
   "execution_count": 17,
   "metadata": {
    "collapsed": false
   },
   "outputs": [
    {
     "data": {
      "text/plain": [
       "array([ 0.,  1.,  1., ...,  0.,  0.,  1.])"
      ]
     },
     "execution_count": 17,
     "metadata": {},
     "output_type": "execute_result"
    }
   ],
   "source": [
    "train['y'].squeeze()"
   ]
  },
  {
   "cell_type": "code",
   "execution_count": 27,
   "metadata": {
    "collapsed": false
   },
   "outputs": [
    {
     "name": "stdout",
     "output_type": "stream",
     "text": [
      "epoch 1\n",
      "graph generated\n",
      "train mean loss=1.0531738009, accuracy=0.652774094159, throughput=936.922318187 images/sec\n",
      "test  mean loss=0.769493758151, accuracy=0.683628326892\n",
      "epoch 2\n",
      "train mean loss=0.708698244904, accuracy=0.685426072208, throughput=993.286938368 images/sec\n",
      "test  mean loss=0.625288003644, accuracy=0.694690269838\n",
      "epoch 3\n",
      "train mean loss=0.636639114634, accuracy=0.68993894477, throughput=962.082614818 images/sec\n",
      "test  mean loss=0.598771461211, accuracy=0.710177004997\n",
      "epoch 4\n",
      "train mean loss=0.58589212721, accuracy=0.704273958911, throughput=934.070974279 images/sec\n",
      "test  mean loss=0.580172024338, accuracy=0.704646020336\n",
      "epoch 5\n",
      "train mean loss=0.53981190234, accuracy=0.723387316348, throughput=1068.46788242 images/sec\n",
      "test  mean loss=0.581792832608, accuracy=0.706858409717\n",
      "epoch 6\n",
      "train mean loss=0.535286246915, accuracy=0.730289354545, throughput=1097.85220897 images/sec\n",
      "test  mean loss=0.573122834935, accuracy=0.704646022446\n",
      "epoch 7\n",
      "train mean loss=0.527132163313, accuracy=0.733209450016, throughput=1069.5843024 images/sec\n",
      "test  mean loss=0.565953312854, accuracy=0.725663720243\n",
      "epoch 8\n",
      "train mean loss=0.540158741696, accuracy=0.727369261604, throughput=988.738860174 images/sec\n",
      "test  mean loss=0.60266734119, accuracy=0.70685841631\n",
      "epoch 9\n",
      "train mean loss=0.53184038013, accuracy=0.732943990043, throughput=1032.36199708 images/sec\n",
      "test  mean loss=0.575544050639, accuracy=0.706858410904\n",
      "epoch 10\n",
      "train mean loss=0.528511756606, accuracy=0.732678521445, throughput=1004.71072195 images/sec\n",
      "test  mean loss=0.581566245221, accuracy=0.702433638472\n",
      "epoch 11\n",
      "train mean loss=0.500878879981, accuracy=0.739846031878, throughput=983.266252221 images/sec\n",
      "test  mean loss=0.600400023492, accuracy=0.712389385674\n",
      "epoch 12\n",
      "train mean loss=0.49484782521, accuracy=0.752853731357, throughput=969.307156874 images/sec\n",
      "test  mean loss=0.584837156917, accuracy=0.71017699392\n",
      "epoch 13\n",
      "train mean loss=0.49857732819, accuracy=0.748340853336, throughput=964.943664066 images/sec\n",
      "test  mean loss=0.580357478849, accuracy=0.717920361499\n",
      "epoch 14\n",
      "train mean loss=0.502864804782, accuracy=0.74887178167, throughput=958.632444498 images/sec\n",
      "test  mean loss=0.611397139201, accuracy=0.703539820108\n",
      "epoch 15\n",
      "train mean loss=0.473549762098, accuracy=0.765330502738, throughput=933.426162387 images/sec\n",
      "test  mean loss=0.574068966429, accuracy=0.702433634121\n",
      "epoch 16\n",
      "train mean loss=0.470119850813, accuracy=0.770374301498, throughput=938.226258352 images/sec\n",
      "test  mean loss=0.583129659361, accuracy=0.696902658296\n",
      "epoch 17\n",
      "train mean loss=0.454888146571, accuracy=0.770905226429, throughput=953.791829234 images/sec\n",
      "test  mean loss=0.598094374469, accuracy=0.693584080687\n",
      "epoch 18\n",
      "train mean loss=0.441967814045, accuracy=0.784178388097, throughput=950.467653905 images/sec\n",
      "test  mean loss=0.587216900184, accuracy=0.709070802526\n",
      "epoch 19\n",
      "train mean loss=0.423419123331, accuracy=0.794531453263, throughput=959.233938936 images/sec\n",
      "test  mean loss=0.626807164434, accuracy=0.703539835405\n",
      "epoch 20\n",
      "train mean loss=0.418287368646, accuracy=0.796389696735, throughput=933.152614174 images/sec\n",
      "test  mean loss=0.615254815239, accuracy=0.681415929863\n",
      "epoch 21\n",
      "train mean loss=0.44620207676, accuracy=0.793204134961, throughput=936.353798407 images/sec\n",
      "test  mean loss=0.70927139253, accuracy=0.648230095485\n",
      "epoch 22\n",
      "train mean loss=0.504783752951, accuracy=0.770639765269, throughput=944.114786606 images/sec\n",
      "test  mean loss=0.633904376191, accuracy=0.674778769106\n",
      "epoch 23\n",
      "train mean loss=0.439482316885, accuracy=0.798778867592, throughput=953.206339328 images/sec\n",
      "test  mean loss=0.655029013753, accuracy=0.663716812972\n",
      "epoch 24\n",
      "train mean loss=0.389081376046, accuracy=0.819219533363, throughput=963.017740801 images/sec\n",
      "test  mean loss=0.633423930248, accuracy=0.702433634121\n",
      "epoch 25\n",
      "train mean loss=0.373346052943, accuracy=0.83408547568, throughput=935.181240434 images/sec\n",
      "test  mean loss=0.735596560008, accuracy=0.679203541405\n",
      "epoch 26\n",
      "train mean loss=0.346898442638, accuracy=0.845234932319, throughput=979.380444678 images/sec\n",
      "test  mean loss=0.697266661026, accuracy=0.672566375242\n",
      "epoch 27\n",
      "train mean loss=0.34703157307, accuracy=0.851871510542, throughput=948.59361593 images/sec\n",
      "test  mean loss=0.755635103953, accuracy=0.680309738337\n",
      "epoch 28\n",
      "train mean loss=0.33879289961, accuracy=0.860100870206, throughput=956.511628771 images/sec\n",
      "test  mean loss=1.11159076219, accuracy=0.672566374055\n",
      "epoch 29\n",
      "train mean loss=0.356118467812, accuracy=0.856649847587, throughput=955.721688488 images/sec\n",
      "test  mean loss=0.725631369426, accuracy=0.68915929731\n",
      "epoch 30\n",
      "train mean loss=0.305070434554, accuracy=0.878417832452, throughput=923.557575751 images/sec\n",
      "test  mean loss=0.752255224615, accuracy=0.661504436647\n",
      "epoch 31\n",
      "train mean loss=0.293449148025, accuracy=0.884258024662, throughput=960.99929494 images/sec\n",
      "test  mean loss=0.779834706501, accuracy=0.673672573229\n",
      "epoch 32\n",
      "train mean loss=0.294044292654, accuracy=0.881072468899, throughput=955.091679641 images/sec\n",
      "test  mean loss=0.768794626657, accuracy=0.711283183203\n",
      "epoch 33\n",
      "train mean loss=0.239933275104, accuracy=0.915317225225, throughput=947.501293254 images/sec\n",
      "test  mean loss=0.912413340622, accuracy=0.641592917189\n",
      "epoch 34\n",
      "train mean loss=0.225162627777, accuracy=0.919033708767, throughput=945.747941943 images/sec\n",
      "test  mean loss=0.851322219699, accuracy=0.68362832254\n",
      "epoch 35\n",
      "train mean loss=0.23568024706, accuracy=0.921688340151, throughput=938.225979785 images/sec\n",
      "test  mean loss=0.991983111585, accuracy=0.676991154135\n",
      "epoch 36\n",
      "train mean loss=0.247313842027, accuracy=0.925404831921, throughput=837.240238949 images/sec\n",
      "test  mean loss=0.878544734313, accuracy=0.674778760271\n",
      "epoch 37\n",
      "train mean loss=0.293356766431, accuracy=0.90177860485, throughput=677.352432797 images/sec\n",
      "test  mean loss=1.06534008049, accuracy=0.675884960499\n",
      "epoch 38\n",
      "train mean loss=0.33047639451, accuracy=0.877886913137, throughput=797.491746587 images/sec\n",
      "test  mean loss=0.906142833354, accuracy=0.630530981429\n",
      "epoch 39\n",
      "train mean loss=0.218834945009, accuracy=0.932837801695, throughput=959.256185707 images/sec\n",
      "test  mean loss=0.955359131493, accuracy=0.678097353309\n",
      "epoch 40\n",
      "train mean loss=0.178314662908, accuracy=0.949296523318, throughput=948.22494161 images/sec\n",
      "test  mean loss=1.03906190237, accuracy=0.663716814027\n",
      "epoch 41\n",
      "train mean loss=0.195818664501, accuracy=0.949296522527, throughput=961.200115466 images/sec\n",
      "test  mean loss=1.04956203172, accuracy=0.671460179365\n",
      "epoch 42\n",
      "train mean loss=0.160205771595, accuracy=0.951154759432, throughput=965.494871554 images/sec\n",
      "test  mean loss=1.05330476758, accuracy=0.669247801984\n",
      "epoch 43\n",
      "train mean loss=0.105509954454, accuracy=0.978232017429, throughput=943.837983295 images/sec\n",
      "test  mean loss=1.09129485633, accuracy=0.685840709811\n",
      "epoch 44\n",
      "train mean loss=0.0952712068829, accuracy=0.980621185833, throughput=959.573576601 images/sec\n",
      "test  mean loss=1.1705654485, accuracy=0.663716817324\n",
      "epoch 45\n",
      "train mean loss=0.0740237688833, accuracy=0.988585085523, throughput=942.368932442 images/sec\n",
      "test  mean loss=1.24464114024, accuracy=0.660398229825\n",
      "epoch 46\n",
      "train mean loss=0.0606928531922, accuracy=0.994690739605, throughput=981.286316217 images/sec\n",
      "test  mean loss=1.26715835586, accuracy=0.66482302085\n",
      "epoch 47\n",
      "train mean loss=0.0725144973647, accuracy=0.989646937444, throughput=971.747577941 images/sec\n",
      "test  mean loss=1.31697999482, accuracy=0.665929207891\n",
      "epoch 48\n",
      "train mean loss=0.208628992302, accuracy=0.951420227001, throughput=957.793534495 images/sec\n",
      "test  mean loss=1.17737889791, accuracy=0.664823015443\n",
      "epoch 49\n",
      "train mean loss=0.148704315408, accuracy=0.966286169081, throughput=964.658460406 images/sec\n",
      "test  mean loss=1.2132960703, accuracy=0.651548673094\n",
      "epoch 50\n",
      "train mean loss=0.111366092565, accuracy=0.981683041472, throughput=965.911347849 images/sec\n",
      "test  mean loss=1.26865407693, accuracy=0.671460179365\n",
      "epoch 51\n",
      "train mean loss=0.090831279273, accuracy=0.98115211393, throughput=973.402612413 images/sec\n",
      "test  mean loss=1.3550567532, accuracy=0.6537610692\n",
      "epoch 52\n",
      "train mean loss=0.0816959323036, accuracy=0.988054157981, throughput=979.076087685 images/sec\n",
      "test  mean loss=1.31641680464, accuracy=0.685840713107\n",
      "epoch 53\n",
      "train mean loss=0.0566731022074, accuracy=0.994956201794, throughput=955.668332298 images/sec\n",
      "test  mean loss=1.49834475027, accuracy=0.657079648919\n",
      "epoch 54\n",
      "train mean loss=0.054315303596, accuracy=0.993097960933, throughput=965.759495437 images/sec\n",
      "test  mean loss=1.47518385538, accuracy=0.653761068013\n",
      "epoch 55\n",
      "train mean loss=0.0649147148259, accuracy=0.990177864195, throughput=928.217027791 images/sec\n",
      "test  mean loss=1.63465814358, accuracy=0.633849556335\n",
      "epoch 56\n",
      "train mean loss=0.0729047892734, accuracy=0.985664987203, throughput=981.651693815 images/sec\n",
      "test  mean loss=1.45694875467, accuracy=0.658185844796\n",
      "epoch 57\n",
      "train mean loss=0.0747127763275, accuracy=0.986726841497, throughput=980.42324577 images/sec\n",
      "test  mean loss=1.54926680332, accuracy=0.64491151293\n",
      "epoch 58\n",
      "train mean loss=0.0352555260493, accuracy=0.996548979675, throughput=981.134952928 images/sec\n",
      "test  mean loss=1.59708691435, accuracy=0.663716812972\n",
      "epoch 59\n",
      "train mean loss=0.0390687374428, accuracy=0.992832497162, throughput=953.769892769 images/sec\n",
      "test  mean loss=1.73690688162, accuracy=0.654867261648\n",
      "epoch 60\n",
      "train mean loss=0.110513361092, accuracy=0.981152114167, throughput=981.67798125 images/sec\n",
      "test  mean loss=1.66012517132, accuracy=0.643805312108\n",
      "epoch 61\n",
      "train mean loss=0.344986687093, accuracy=0.915582687652, throughput=1008.40400333 images/sec\n",
      "test  mean loss=1.56451006972, accuracy=0.654867260593\n",
      "epoch 62\n",
      "train mean loss=0.198642140651, accuracy=0.943456328023, throughput=996.458596618 images/sec\n",
      "test  mean loss=1.3809047162, accuracy=0.638274342877\n",
      "epoch 63\n",
      "train mean loss=0.102762160342, accuracy=0.979028407161, throughput=977.694450079 images/sec\n",
      "test  mean loss=1.40634835439, accuracy=0.654867260593\n",
      "epoch 64\n",
      "train mean loss=0.0404896279854, accuracy=0.995487129337, throughput=984.530058932 images/sec\n",
      "test  mean loss=1.47332606986, accuracy=0.659292038431\n",
      "epoch 65\n",
      "train mean loss=0.0230803350899, accuracy=0.998938148079, throughput=957.72537514 images/sec\n",
      "test  mean loss=1.52843678815, accuracy=0.661504430054\n",
      "epoch 66\n",
      "train mean loss=0.0220744501721, accuracy=0.998141759139, throughput=979.42531009 images/sec\n",
      "test  mean loss=1.59679630082, accuracy=0.660398233121\n",
      "epoch 67\n",
      "train mean loss=0.0316747212283, accuracy=0.997876295367, throughput=984.112576904 images/sec\n",
      "test  mean loss=1.60380012048, accuracy=0.664823017553\n",
      "epoch 68\n",
      "train mean loss=0.018741583417, accuracy=0.998407222119, throughput=954.35630598 images/sec\n",
      "test  mean loss=1.67372359124, accuracy=0.664823017553\n",
      "epoch 69\n",
      "train mean loss=0.0313597523957, accuracy=0.997610832387, throughput=974.136170423 images/sec\n",
      "test  mean loss=1.72536219472, accuracy=0.651548680742\n",
      "epoch 70\n",
      "train mean loss=0.0172368499237, accuracy=0.998141758901, throughput=975.835217155 images/sec\n",
      "test  mean loss=1.74177946177, accuracy=0.673672566635\n",
      "epoch 71\n",
      "train mean loss=0.0161059152464, accuracy=0.998407222119, throughput=997.04722569 images/sec\n",
      "test  mean loss=1.72406750311, accuracy=0.671460182662\n",
      "epoch 72\n",
      "train mean loss=0.0102484838434, accuracy=0.99946907404, throughput=979.969850809 images/sec\n",
      "test  mean loss=1.7627570219, accuracy=0.662610623689\n",
      "epoch 73\n",
      "train mean loss=0.00723587939459, accuracy=0.99946907404, throughput=969.38470649 images/sec\n",
      "test  mean loss=1.8121793733, accuracy=0.667035404824\n",
      "epoch 74\n",
      "train mean loss=0.00817552064189, accuracy=0.99946907404, throughput=992.291635309 images/sec\n",
      "test  mean loss=1.85514635085, accuracy=0.66703540812\n",
      "epoch 75\n",
      "train mean loss=0.00750084868925, accuracy=0.99946907404, throughput=982.247806844 images/sec\n",
      "test  mean loss=1.88080632726, accuracy=0.669247798688\n",
      "epoch 76\n",
      "train mean loss=0.00460149901167, accuracy=1.0, throughput=995.094241306 images/sec\n",
      "test  mean loss=1.89472538628, accuracy=0.664823017553\n",
      "epoch 77\n",
      "train mean loss=0.00448047918771, accuracy=0.99973453702, throughput=957.968157266 images/sec\n",
      "test  mean loss=1.92101285402, accuracy=0.664823010959\n",
      "epoch 78\n",
      "train mean loss=0.00503147313924, accuracy=0.999469073802, throughput=981.213127089 images/sec\n",
      "test  mean loss=1.95620853408, accuracy=0.661504436647\n",
      "epoch 79\n",
      "train mean loss=0.00970457815877, accuracy=0.998938148079, throughput=982.947489885 images/sec\n",
      "test  mean loss=1.94905638365, accuracy=0.66150443335\n",
      "epoch 80\n",
      "train mean loss=0.00599949888107, accuracy=0.99946907404, throughput=972.256748825 images/sec\n",
      "test  mean loss=1.97559903298, accuracy=0.65597344869\n",
      "epoch 81\n",
      "train mean loss=0.00575273396632, accuracy=0.998938148079, throughput=966.013633069 images/sec\n",
      "test  mean loss=2.01241601463, accuracy=0.658185849148\n",
      "epoch 82\n",
      "train mean loss=0.00440844091037, accuracy=0.99946907404, throughput=962.969964127 images/sec\n",
      "test  mean loss=2.01971483613, accuracy=0.653761068013\n",
      "epoch 83\n",
      "train mean loss=0.00396548599367, accuracy=0.99973453702, throughput=986.64817723 images/sec\n",
      "test  mean loss=2.05101826761, accuracy=0.658185845851\n",
      "epoch 84\n",
      "train mean loss=0.00442277628991, accuracy=0.99946907404, throughput=964.275488883 images/sec\n",
      "test  mean loss=2.06814799544, accuracy=0.657079652216\n",
      "epoch 85\n",
      "train mean loss=0.00276207193773, accuracy=0.99973453702, throughput=966.901565517 images/sec\n",
      "test  mean loss=2.08560056905, accuracy=0.65597345858\n",
      "epoch 86\n",
      "train mean loss=0.00296767370766, accuracy=0.99946907404, throughput=983.681669007 images/sec\n",
      "test  mean loss=2.10124704954, accuracy=0.657079652216\n",
      "epoch 87\n",
      "train mean loss=0.00357107409523, accuracy=0.99973453702, throughput=960.818131555 images/sec\n",
      "test  mean loss=2.12767365839, accuracy=0.662610623689\n",
      "epoch 88\n",
      "train mean loss=0.00241011728198, accuracy=0.99973453702, throughput=940.055322336 images/sec\n",
      "test  mean loss=2.14920885821, accuracy=0.664823010959\n",
      "epoch 89\n",
      "train mean loss=0.00419862524435, accuracy=0.99946907404, throughput=962.815925447 images/sec\n",
      "test  mean loss=2.16861022204, accuracy=0.669247795391\n",
      "epoch 90\n",
      "train mean loss=0.00165921952957, accuracy=1.0, throughput=923.03680716 images/sec\n",
      "test  mean loss=2.17624962106, accuracy=0.657079652216\n",
      "epoch 91\n",
      "train mean loss=0.0016265674772, accuracy=1.0, throughput=975.33463469 images/sec\n",
      "test  mean loss=2.1983035042, accuracy=0.654867261648\n",
      "epoch 92\n",
      "train mean loss=0.00161787368842, accuracy=0.99973453702, throughput=966.811160663 images/sec\n",
      "test  mean loss=2.22381629696, accuracy=0.661504430054\n",
      "epoch 93\n",
      "train mean loss=0.00143141085257, accuracy=1.0, throughput=973.06264489 images/sec\n",
      "test  mean loss=2.23497732089, accuracy=0.657079655512\n",
      "epoch 94\n",
      "train mean loss=0.00128066479727, accuracy=1.0, throughput=959.875315879 images/sec\n",
      "test  mean loss=2.25540513196, accuracy=0.653761068013\n",
      "epoch 95\n",
      "train mean loss=0.00136029454378, accuracy=0.99973453702, throughput=962.243158137 images/sec\n",
      "test  mean loss=2.27529608373, accuracy=0.655973455283\n",
      "epoch 96\n",
      "train mean loss=0.00375285670139, accuracy=0.999203611059, throughput=672.854845567 images/sec\n",
      "test  mean loss=2.28784087999, accuracy=0.660398239715\n",
      "epoch 97\n",
      "train mean loss=0.00207472828971, accuracy=0.99946907404, throughput=749.463511123 images/sec\n",
      "test  mean loss=2.3017574078, accuracy=0.659292042783\n",
      "epoch 98\n",
      "train mean loss=0.00229383874259, accuracy=0.99946907404, throughput=641.336587925 images/sec\n",
      "test  mean loss=2.31629906133, accuracy=0.653761068013\n",
      "epoch 99\n",
      "train mean loss=0.00295271258738, accuracy=0.99973453702, throughput=732.266647238 images/sec\n",
      "test  mean loss=2.34398423742, accuracy=0.652654877674\n",
      "epoch 100\n",
      "train mean loss=0.00117647580042, accuracy=1.0, throughput=823.19869634 images/sec\n",
      "test  mean loss=2.35151854685, accuracy=0.65376107131\n",
      "epoch 101\n",
      "train mean loss=0.0029292298123, accuracy=0.99973453702, throughput=978.151191516 images/sec\n",
      "test  mean loss=2.3608072975, accuracy=0.660398239715\n",
      "epoch 102\n",
      "train mean loss=0.242965267634, accuracy=0.954871248829, throughput=916.746427838 images/sec\n",
      "test  mean loss=2.68429259494, accuracy=0.665929207891\n",
      "epoch 103\n",
      "train mean loss=0.766811105425, accuracy=0.837271033104, throughput=982.314188106 images/sec\n",
      "test  mean loss=1.21450962548, accuracy=0.66703539823\n",
      "epoch 104\n",
      "train mean loss=0.237562086818, accuracy=0.922750196819, throughput=966.917896993 images/sec\n",
      "test  mean loss=1.21639268087, accuracy=0.670353989026\n",
      "epoch 105\n",
      "train mean loss=0.0965716100889, accuracy=0.971860896411, throughput=954.195098693 images/sec\n",
      "test  mean loss=1.36440799128, accuracy=0.657079650106\n",
      "epoch 106\n",
      "train mean loss=0.0787918356062, accuracy=0.986726840706, throughput=975.82533306 images/sec\n",
      "test  mean loss=1.45222175069, accuracy=0.663716822863\n",
      "epoch 107\n",
      "train mean loss=0.0313774294242, accuracy=0.997079907218, throughput=957.303049972 images/sec\n",
      "test  mean loss=1.53002516622, accuracy=0.668141603997\n",
      "epoch 108\n",
      "train mean loss=0.0187074474175, accuracy=0.99946907404, throughput=988.200355466 images/sec\n",
      "test  mean loss=1.62873640709, accuracy=0.668141597404\n",
      "epoch 109\n",
      "train mean loss=0.0120165252164, accuracy=0.99973453702, throughput=977.204227698 images/sec\n",
      "test  mean loss=1.7289285524, accuracy=0.662610625931\n",
      "epoch 110\n",
      "train mean loss=0.0120987581076, accuracy=0.99946907404, throughput=918.496681076 images/sec\n",
      "test  mean loss=1.76880601616, accuracy=0.664823016498\n",
      "epoch 111\n",
      "train mean loss=0.00801366007533, accuracy=0.99973453702, throughput=970.452333022 images/sec\n",
      "test  mean loss=1.78533638368, accuracy=0.671460181607\n",
      "epoch 112\n",
      "train mean loss=0.0063401934334, accuracy=1.0, throughput=926.404582037 images/sec\n",
      "test  mean loss=1.84432717564, accuracy=0.670353987971\n",
      "epoch 113\n",
      "train mean loss=0.00541083362494, accuracy=1.0, throughput=955.990178436 images/sec\n",
      "test  mean loss=1.87426349415, accuracy=0.674778769106\n",
      "epoch 114\n",
      "train mean loss=0.00469740438977, accuracy=1.0, throughput=903.871241134 images/sec\n",
      "test  mean loss=1.91742620479, accuracy=0.671460184903\n",
      "epoch 115\n",
      "train mean loss=0.00411876866042, accuracy=1.0, throughput=891.365115804 images/sec\n",
      "test  mean loss=1.95358869091, accuracy=0.672566375242\n",
      "epoch 116\n",
      "train mean loss=0.00367504851977, accuracy=1.0, throughput=969.887176425 images/sec\n",
      "test  mean loss=1.97802124219, accuracy=0.673672572174\n",
      "epoch 117\n",
      "train mean loss=0.00326201638426, accuracy=1.0, throughput=930.510584066 images/sec\n",
      "test  mean loss=2.00605479727, accuracy=0.672566375242\n",
      "epoch 118\n",
      "train mean loss=0.00295931817212, accuracy=1.0, throughput=968.591123235 images/sec\n",
      "test  mean loss=2.03837162916, accuracy=0.674778766864\n",
      "epoch 119\n",
      "train mean loss=0.00267900212329, accuracy=1.0, throughput=972.601601561 images/sec\n",
      "test  mean loss=2.06228080629, accuracy=0.674778766864\n",
      "epoch 120\n",
      "train mean loss=0.00245564855489, accuracy=1.0, throughput=881.078911105 images/sec\n",
      "test  mean loss=2.09266285242, accuracy=0.674778766864\n",
      "epoch 121\n",
      "train mean loss=0.00223606550188, accuracy=1.0, throughput=961.14369016 images/sec\n",
      "test  mean loss=2.11116210576, accuracy=0.675884960499\n",
      "epoch 122\n",
      "train mean loss=0.00204910633991, accuracy=1.0, throughput=894.91695356 images/sec\n",
      "test  mean loss=2.13423144896, accuracy=0.674778763567\n",
      "epoch 123\n",
      "train mean loss=0.00188152581585, accuracy=1.0, throughput=945.576500496 images/sec\n",
      "test  mean loss=2.1484864639, accuracy=0.674778766864\n",
      "epoch 124\n",
      "train mean loss=0.00172683841497, accuracy=1.0, throughput=964.466848317 images/sec\n",
      "test  mean loss=2.17749028501, accuracy=0.674778766864\n",
      "epoch 125\n",
      "train mean loss=0.00160468102366, accuracy=1.0, throughput=932.272307336 images/sec\n",
      "test  mean loss=2.19097223904, accuracy=0.674778766864\n",
      "epoch 126\n",
      "train mean loss=0.00149671309698, accuracy=1.0, throughput=965.419712719 images/sec\n",
      "test  mean loss=2.21046299191, accuracy=0.676991154135\n",
      "epoch 127\n",
      "train mean loss=0.00140927709779, accuracy=1.0, throughput=923.053739623 images/sec\n",
      "test  mean loss=2.24011429749, accuracy=0.676991157432\n",
      "epoch 128\n",
      "train mean loss=0.00281386830293, accuracy=0.99946907404, throughput=968.361028844 images/sec\n",
      "test  mean loss=2.24261920616, accuracy=0.665929204595\n",
      "epoch 129\n",
      "train mean loss=0.00285772769017, accuracy=0.99946907404, throughput=967.234694711 images/sec\n",
      "test  mean loss=2.26162303549, accuracy=0.673672566635\n",
      "epoch 130\n",
      "train mean loss=0.0995848837116, accuracy=0.977170163689, throughput=841.341764318 images/sec\n",
      "test  mean loss=2.04266832307, accuracy=0.663716816269\n",
      "epoch 131\n",
      "train mean loss=0.324407793227, accuracy=0.913458983336, throughput=963.188930554 images/sec\n",
      "test  mean loss=1.66119210699, accuracy=0.647123898553\n",
      "epoch 132\n",
      "train mean loss=0.0910386760272, accuracy=0.975577384463, throughput=916.978721142 images/sec\n",
      "test  mean loss=1.70914698254, accuracy=0.674778765809\n",
      "epoch 133\n",
      "train mean loss=0.0488720607356, accuracy=0.990974256063, throughput=962.682054524 images/sec\n",
      "test  mean loss=1.6576826037, accuracy=0.67809734777\n",
      "epoch 134\n",
      "train mean loss=0.0666092469673, accuracy=0.988319623097, throughput=959.919345099 images/sec\n",
      "test  mean loss=1.87659060454, accuracy=0.681415931973\n",
      "epoch 135\n",
      "train mean loss=0.255283406383, accuracy=0.958853198278, throughput=919.62448268 images/sec\n",
      "test  mean loss=1.69030157694, accuracy=0.643805311053\n",
      "epoch 136\n",
      "train mean loss=0.132602756724, accuracy=0.971064512218, throughput=963.610706705 images/sec\n",
      "test  mean loss=1.91365078619, accuracy=0.679203541405\n",
      "epoch 137\n",
      "train mean loss=0.0536344780673, accuracy=0.992301569619, throughput=856.310113281 images/sec\n",
      "test  mean loss=1.90745555168, accuracy=0.654867260593\n",
      "epoch 138\n",
      "train mean loss=0.0293938370448, accuracy=0.997079906427, throughput=957.246617302 images/sec\n",
      "test  mean loss=1.95692485703, accuracy=0.673672566635\n",
      "epoch 139\n",
      "train mean loss=0.0157514846302, accuracy=0.997876296159, throughput=951.335415882 images/sec\n",
      "test  mean loss=2.0027241211, accuracy=0.659292040673\n",
      "epoch 140\n",
      "train mean loss=0.0132101113401, accuracy=0.998407222119, throughput=934.910645771 images/sec\n",
      "test  mean loss=2.03965897186, accuracy=0.664823016498\n",
      "epoch 141\n",
      "train mean loss=0.00541673259191, accuracy=0.99946907404, throughput=956.616797973 images/sec\n",
      "test  mean loss=2.05168058097, accuracy=0.672566375242\n",
      "epoch 142\n",
      "train mean loss=0.00394643324624, accuracy=0.99973453702, throughput=922.965578985 images/sec\n",
      "test  mean loss=2.07894182416, accuracy=0.670353987971\n",
      "epoch 143\n",
      "train mean loss=0.00406359729977, accuracy=0.99973453702, throughput=939.931004533 images/sec\n",
      "test  mean loss=2.10193053495, accuracy=0.669247800929\n",
      "epoch 144\n",
      "train mean loss=0.00393789915143, accuracy=0.99946907404, throughput=857.125932921 images/sec\n",
      "test  mean loss=2.12322953739, accuracy=0.670353991268\n",
      "epoch 145\n",
      "train mean loss=0.00320829738145, accuracy=0.99973453702, throughput=899.541680044 images/sec\n",
      "test  mean loss=2.14506400001, accuracy=0.672566381835\n",
      "epoch 146\n",
      "train mean loss=0.00266640706776, accuracy=0.99973453702, throughput=930.572239081 images/sec\n",
      "test  mean loss=2.16098777937, accuracy=0.669247797633\n",
      "epoch 147\n",
      "train mean loss=0.00232000055594, accuracy=0.99973453702, throughput=939.014205553 images/sec\n",
      "test  mean loss=2.17808541708, accuracy=0.671460181607\n",
      "epoch 148\n",
      "train mean loss=0.00286473342578, accuracy=0.99973453702, throughput=956.612396155 images/sec\n",
      "test  mean loss=2.19745602228, accuracy=0.671460181607\n",
      "epoch 149\n",
      "train mean loss=0.00218893826658, accuracy=0.99973453702, throughput=950.240202221 images/sec\n",
      "test  mean loss=2.21508283926, accuracy=0.672566378539\n",
      "epoch 150\n",
      "train mean loss=0.0020919598576, accuracy=0.99973453702, throughput=908.082374173 images/sec\n",
      "test  mean loss=2.23843778129, accuracy=0.669247791039\n",
      "epoch 151\n",
      "train mean loss=0.00163473652508, accuracy=1.0, throughput=951.025568475 images/sec\n",
      "test  mean loss=2.25060798584, accuracy=0.675884962741\n",
      "epoch 152\n",
      "train mean loss=0.00203727355077, accuracy=0.99946907404, throughput=906.313579087 images/sec\n",
      "test  mean loss=2.26738467311, accuracy=0.671460184903\n",
      "epoch 153\n",
      "train mean loss=0.00241431833222, accuracy=0.99946907404, throughput=937.94215037 images/sec\n",
      "test  mean loss=2.28022520627, accuracy=0.673672575471\n",
      "epoch 154\n",
      "train mean loss=0.00155227650302, accuracy=0.99973453702, throughput=903.850403296 images/sec\n",
      "test  mean loss=2.30174246668, accuracy=0.674778772403\n",
      "epoch 155\n",
      "train mean loss=0.0014465419425, accuracy=0.99973453702, throughput=908.852477469 images/sec\n",
      "test  mean loss=2.31528170499, accuracy=0.675884959445\n",
      "epoch 156\n",
      "train mean loss=0.001212914648, accuracy=1.0, throughput=945.257385418 images/sec\n",
      "test  mean loss=2.33396525351, accuracy=0.676991159673\n",
      "epoch 157\n",
      "train mean loss=0.00239242308353, accuracy=0.99946907404, throughput=910.355012536 images/sec\n",
      "test  mean loss=2.33770854969, accuracy=0.674778762513\n",
      "epoch 158\n",
      "train mean loss=0.00128879639193, accuracy=0.99973453702, throughput=946.098942665 images/sec\n",
      "test  mean loss=2.3638774626, accuracy=0.672566375242\n",
      "epoch 159\n",
      "train mean loss=0.00327417697735, accuracy=0.99946907404, throughput=931.065554028 images/sec\n",
      "test  mean loss=2.36330857477, accuracy=0.676991149783\n",
      "epoch 160\n",
      "train mean loss=0.000914665754772, accuracy=1.0, throughput=951.704621627 images/sec\n",
      "test  mean loss=2.37845546614, accuracy=0.674778762513\n",
      "epoch 161\n",
      "train mean loss=0.000835384950139, accuracy=1.0, throughput=909.768656975 images/sec\n",
      "test  mean loss=2.39176517619, accuracy=0.678097350012\n",
      "epoch 162\n",
      "train mean loss=0.000833422478442, accuracy=1.0, throughput=920.880579952 images/sec\n",
      "test  mean loss=2.40769804843, accuracy=0.675884952851\n",
      "epoch 163\n",
      "train mean loss=0.000955946495607, accuracy=0.99973453702, throughput=932.946924695 images/sec\n",
      "test  mean loss=2.42229612264, accuracy=0.674778762513\n",
      "epoch 164\n",
      "train mean loss=0.00255637385932, accuracy=0.99946907404, throughput=908.843746879 images/sec\n",
      "test  mean loss=2.42815293965, accuracy=0.679203537054\n",
      "epoch 165\n",
      "train mean loss=0.0011468904477, accuracy=0.99973453702, throughput=939.582385526 images/sec\n",
      "test  mean loss=2.4332232652, accuracy=0.681415934215\n",
      "epoch 166\n",
      "train mean loss=0.0015813166868, accuracy=0.99973453702, throughput=947.341427695 images/sec\n",
      "test  mean loss=2.46757730525, accuracy=0.676991149783\n",
      "epoch 167\n",
      "train mean loss=0.00300602015229, accuracy=0.99946907404, throughput=906.818245593 images/sec\n",
      "test  mean loss=2.4658109762, accuracy=0.683628318188\n",
      "epoch 168\n",
      "train mean loss=0.000658486960977, accuracy=1.0, throughput=952.005274851 images/sec\n",
      "test  mean loss=2.4750693604, accuracy=0.680309733986\n",
      "epoch 169\n",
      "train mean loss=0.000542623745311, accuracy=1.0, throughput=911.887732596 images/sec\n",
      "test  mean loss=2.49066852838, accuracy=0.680309733986\n",
      "epoch 170\n",
      "train mean loss=0.000492328818409, accuracy=1.0, throughput=939.342242135 images/sec\n",
      "test  mean loss=2.50201942277, accuracy=0.681415927621\n",
      "epoch 171\n",
      "train mean loss=0.000462644944887, accuracy=1.0, throughput=943.920026028 images/sec\n",
      "test  mean loss=2.52145245592, accuracy=0.680309737283\n",
      "epoch 172\n",
      "train mean loss=0.000433395409263, accuracy=1.0, throughput=783.344254811 images/sec\n",
      "test  mean loss=2.53143733687, accuracy=0.680309730689\n",
      "epoch 173\n",
      "train mean loss=0.000410109850633, accuracy=1.0, throughput=804.51433805 images/sec\n",
      "test  mean loss=2.55113240707, accuracy=0.681415928676\n",
      "epoch 174\n",
      "train mean loss=0.000387734236068, accuracy=1.0, throughput=887.899136993 images/sec\n",
      "test  mean loss=2.56029301302, accuracy=0.676991149783\n",
      "epoch 175\n",
      "train mean loss=0.000365323616718, accuracy=1.0, throughput=797.129755886 images/sec\n",
      "test  mean loss=2.57725274273, accuracy=0.676991146486\n",
      "epoch 176\n",
      "train mean loss=0.000349355839216, accuracy=1.0, throughput=741.574703313 images/sec\n",
      "test  mean loss=2.58630001334, accuracy=0.681415928676\n",
      "epoch 177\n",
      "train mean loss=0.000328304590675, accuracy=1.0, throughput=786.363568939 images/sec\n",
      "test  mean loss=2.60135063845, accuracy=0.676991147541\n",
      "epoch 178\n",
      "train mean loss=0.000312438363981, accuracy=1.0, throughput=786.868529782 images/sec\n",
      "test  mean loss=2.61121876076, accuracy=0.676991150838\n",
      "epoch 179\n",
      "train mean loss=0.00029964379087, accuracy=1.0, throughput=760.275334607 images/sec\n",
      "test  mean loss=2.62600462679, accuracy=0.679203541405\n",
      "epoch 180\n",
      "train mean loss=0.000283825572355, accuracy=1.0, throughput=954.494213992 images/sec\n",
      "test  mean loss=2.63580858154, accuracy=0.675884956148\n",
      "epoch 181\n",
      "train mean loss=0.000305640108924, accuracy=1.0, throughput=693.585847251 images/sec\n",
      "test  mean loss=2.65169991672, accuracy=0.679203541405\n",
      "epoch 182\n",
      "train mean loss=0.000281115275931, accuracy=1.0, throughput=716.030524944 images/sec\n",
      "test  mean loss=2.67354057215, accuracy=0.678097344473\n",
      "epoch 183\n",
      "train mean loss=0.000283396299324, accuracy=1.0, throughput=915.882719521 images/sec\n",
      "test  mean loss=2.67223385293, accuracy=0.680309731744\n",
      "epoch 184\n",
      "train mean loss=0.000835846341631, accuracy=0.99946907404, throughput=590.681714499 images/sec\n",
      "test  mean loss=2.67524455527, accuracy=0.679203541405\n",
      "epoch 185\n",
      "train mean loss=0.00116781785756, accuracy=0.99946907404, throughput=912.546442168 images/sec\n",
      "test  mean loss=2.73007628427, accuracy=0.678097350012\n",
      "epoch 186\n",
      "train mean loss=0.025137886858, accuracy=0.993363420749, throughput=893.658860566 images/sec\n",
      "test  mean loss=2.82870553315, accuracy=0.642699116363\n",
      "epoch 187\n",
      "train mean loss=0.543568414599, accuracy=0.883196172187, throughput=748.899252449 images/sec\n",
      "test  mean loss=1.66058079912, accuracy=0.672566377484\n",
      "epoch 188\n",
      "train mean loss=0.301106108783, accuracy=0.921688343316, throughput=678.032848321 images/sec\n",
      "test  mean loss=1.61718140463, accuracy=0.632743371403\n",
      "epoch 189\n",
      "train mean loss=0.127295007555, accuracy=0.965489780931, throughput=774.149201724 images/sec\n",
      "test  mean loss=1.64607679185, accuracy=0.658185842554\n",
      "epoch 190\n",
      "train mean loss=0.0456340033744, accuracy=0.992301569382, throughput=835.283295173 images/sec\n",
      "test  mean loss=1.5991630694, accuracy=0.66039822877\n",
      "epoch 191\n",
      "train mean loss=0.027540119755, accuracy=0.996283517486, throughput=930.037783686 images/sec\n",
      "test  mean loss=1.82117142429, accuracy=0.654867267187\n",
      "epoch 192\n",
      "train mean loss=0.0338220000026, accuracy=0.9938943475, throughput=884.680584534 images/sec\n",
      "test  mean loss=1.69472712226, accuracy=0.668141600701\n",
      "epoch 193\n",
      "train mean loss=0.00843268036405, accuracy=0.999203611059, throughput=912.864682404 images/sec\n",
      "test  mean loss=1.74817512072, accuracy=0.674778765809\n",
      "epoch 194\n",
      "train mean loss=0.0061578169938, accuracy=0.999203611059, throughput=876.386035459 images/sec\n",
      "test  mean loss=1.82782632983, accuracy=0.673672575471\n",
      "epoch 195\n",
      "train mean loss=0.0107507202285, accuracy=0.999203611059, throughput=929.731585408 images/sec\n",
      "test  mean loss=1.85969535334, accuracy=0.680309743876\n",
      "epoch 196\n",
      "train mean loss=0.00760874076277, accuracy=0.998938148079, throughput=885.018348121 images/sec\n",
      "test  mean loss=1.90687617528, accuracy=0.682522131147\n",
      "epoch 197\n",
      "train mean loss=0.00402138268797, accuracy=0.99946907404, throughput=827.043410094 images/sec\n",
      "test  mean loss=1.94448440449, accuracy=0.671460184903\n",
      "epoch 198\n",
      "train mean loss=0.00273510700005, accuracy=1.0, throughput=917.425602061 images/sec\n",
      "test  mean loss=1.97011179497, accuracy=0.680309740579\n",
      "epoch 199\n",
      "train mean loss=0.00217884940227, accuracy=1.0, throughput=865.731240769 images/sec\n",
      "test  mean loss=1.99401757332, accuracy=0.682522134443\n",
      "epoch 200\n",
      "train mean loss=0.00188382502091, accuracy=1.0, throughput=906.132177976 images/sec\n",
      "test  mean loss=2.0153577391, accuracy=0.680309743876\n",
      "epoch 201\n",
      "train mean loss=0.00168683789403, accuracy=1.0, throughput=885.832695989 images/sec\n",
      "test  mean loss=2.04323973039, accuracy=0.680309740579\n",
      "epoch 202\n",
      "train mean loss=0.00149167647069, accuracy=1.0, throughput=831.815957004 images/sec\n",
      "test  mean loss=2.06896939742, accuracy=0.680309740579\n",
      "epoch 203\n",
      "train mean loss=0.0013541110738, accuracy=1.0, throughput=633.671150842 images/sec\n",
      "test  mean loss=2.08646876675, accuracy=0.679203546944\n",
      "epoch 204\n",
      "train mean loss=0.00126588887651, accuracy=1.0, throughput=807.104381448 images/sec\n",
      "test  mean loss=2.10521718464, accuracy=0.675884959445\n",
      "epoch 205\n",
      "train mean loss=0.00113580602274, accuracy=1.0, throughput=760.109317968 images/sec\n",
      "test  mean loss=2.12678821741, accuracy=0.676991156377\n",
      "epoch 206\n",
      "train mean loss=0.00104229360437, accuracy=1.0, throughput=869.897553118 images/sec\n",
      "test  mean loss=2.14122874626, accuracy=0.678097350012\n",
      "epoch 207\n",
      "train mean loss=0.000968627261465, accuracy=1.0, throughput=851.649927715 images/sec\n",
      "test  mean loss=2.15795956354, accuracy=0.676991156377\n",
      "epoch 208\n",
      "train mean loss=0.000880485708686, accuracy=1.0, throughput=862.159522458 images/sec\n",
      "test  mean loss=2.17916310836, accuracy=0.678097353309\n",
      "epoch 209\n",
      "train mean loss=0.000824084685686, accuracy=1.0, throughput=824.775594614 images/sec\n",
      "test  mean loss=2.19723031953, accuracy=0.675884959445\n",
      "epoch 210\n",
      "train mean loss=0.000763533230417, accuracy=1.0, throughput=822.242593974 images/sec\n",
      "test  mean loss=2.21077429009, accuracy=0.674778769106\n",
      "epoch 211\n",
      "train mean loss=0.000709530603457, accuracy=1.0, throughput=773.771366292 images/sec\n",
      "test  mean loss=2.21984672626, accuracy=0.671460184903\n",
      "epoch 212\n",
      "train mean loss=0.000664894939982, accuracy=1.0, throughput=155.370754285 images/sec\n",
      "test  mean loss=2.23996343866, accuracy=0.676991156377\n",
      "epoch 213\n",
      "train mean loss=0.000620616682647, accuracy=1.0, throughput=597.910785032 images/sec\n",
      "test  mean loss=2.25038816127, accuracy=0.672566381835\n",
      "epoch 214\n",
      "train mean loss=0.00057910846401, accuracy=1.0, throughput=675.201176188 images/sec\n",
      "test  mean loss=2.26634140009, accuracy=0.672566381835\n",
      "epoch 215\n",
      "train mean loss=0.000545807077955, accuracy=1.0, throughput=741.830267497 images/sec\n",
      "test  mean loss=2.28066073978, accuracy=0.6714601882\n",
      "epoch 216\n",
      "train mean loss=0.000510347518313, accuracy=1.0, throughput=620.595427633 images/sec\n",
      "test  mean loss=2.29191799079, accuracy=0.672566381835\n",
      "epoch 217\n",
      "train mean loss=0.000478462852504, accuracy=1.0, throughput=583.560091615 images/sec\n",
      "test  mean loss=2.30636926061, accuracy=0.6714601882\n",
      "epoch 218\n",
      "train mean loss=0.000450824110557, accuracy=1.0, throughput=698.443538085 images/sec\n",
      "test  mean loss=2.32147600561, accuracy=0.672566381835\n",
      "epoch 219\n",
      "train mean loss=0.000421996888243, accuracy=1.0, throughput=567.768893368 images/sec\n",
      "test  mean loss=2.33806097507, accuracy=0.6714601882\n",
      "epoch 220\n",
      "train mean loss=0.000399977187998, accuracy=1.0, throughput=510.453385294 images/sec\n",
      "test  mean loss=2.35611147005, accuracy=0.670353994565\n",
      "epoch 221\n",
      "train mean loss=0.000375961471415, accuracy=1.0, throughput=381.453913635 images/sec\n",
      "test  mean loss=2.36242691553, accuracy=0.674778769106\n",
      "epoch 222\n",
      "train mean loss=0.00035582921303, accuracy=1.0, throughput=737.602590992 images/sec\n",
      "test  mean loss=2.37379678451, accuracy=0.671460184903\n",
      "epoch 223\n",
      "train mean loss=0.000337747126532, accuracy=1.0, throughput=770.909214965 images/sec\n",
      "test  mean loss=2.38856653539, accuracy=0.671460184903\n",
      "epoch 224\n",
      "train mean loss=0.000314440427086, accuracy=1.0, throughput=786.283462976 images/sec\n",
      "test  mean loss=2.40030680689, accuracy=0.672566378539\n",
      "epoch 225\n",
      "train mean loss=0.0002968137193, accuracy=1.0, throughput=822.123953844 images/sec\n",
      "test  mean loss=2.41033954193, accuracy=0.673672572174\n",
      "epoch 226\n",
      "train mean loss=0.00027991625292, accuracy=1.0, throughput=739.886010691 images/sec\n",
      "test  mean loss=2.4234294079, accuracy=0.672566375242\n",
      "epoch 227\n",
      "train mean loss=0.000266841396359, accuracy=1.0, throughput=743.862473081 images/sec\n",
      "test  mean loss=2.43414847434, accuracy=0.673672568877\n",
      "epoch 228\n",
      "train mean loss=0.000251531341397, accuracy=1.0, throughput=877.184811124 images/sec\n",
      "test  mean loss=2.4441205155, accuracy=0.672566375242\n",
      "epoch 229\n",
      "train mean loss=0.000236927745245, accuracy=1.0, throughput=848.766196679 images/sec\n",
      "test  mean loss=2.46105869919, accuracy=0.670353987971\n",
      "epoch 230\n",
      "train mean loss=0.000225435235857, accuracy=1.0, throughput=861.721091621 images/sec\n",
      "test  mean loss=2.47159181759, accuracy=0.673672572174\n",
      "epoch 231\n",
      "train mean loss=0.000212912659806, accuracy=1.0, throughput=815.138264095 images/sec\n",
      "test  mean loss=2.48345091596, accuracy=0.669247794336\n",
      "epoch 232\n",
      "train mean loss=0.000202267306195, accuracy=1.0, throughput=775.22649663 images/sec\n",
      "test  mean loss=2.49162718416, accuracy=0.673672572174\n",
      "epoch 233\n",
      "train mean loss=0.000191949926033, accuracy=1.0, throughput=864.134544701 images/sec\n",
      "test  mean loss=2.50511694719, accuracy=0.671460181607\n",
      "epoch 234\n",
      "train mean loss=0.000181586028864, accuracy=1.0, throughput=739.74477908 images/sec\n",
      "test  mean loss=2.51371671721, accuracy=0.672566378539\n",
      "epoch 235\n",
      "train mean loss=0.000174680561138, accuracy=1.0, throughput=712.306044926 images/sec\n",
      "test  mean loss=2.52289294405, accuracy=0.675884959445\n",
      "epoch 236\n",
      "train mean loss=0.000163115899691, accuracy=1.0, throughput=663.008601518 images/sec\n",
      "test  mean loss=2.53405125004, accuracy=0.675884956148\n",
      "epoch 237\n",
      "train mean loss=0.000153887512014, accuracy=1.0, throughput=877.993631078 images/sec\n",
      "test  mean loss=2.54578462955, accuracy=0.678097343418\n",
      "epoch 238\n",
      "train mean loss=0.000144991594041, accuracy=1.0, throughput=826.157407187 images/sec\n",
      "test  mean loss=2.55783073116, accuracy=0.675884956148\n",
      "epoch 239\n",
      "train mean loss=0.000138024544243, accuracy=1.0, throughput=764.881953504 images/sec\n",
      "test  mean loss=2.57166676289, accuracy=0.675884956148\n",
      "epoch 240\n",
      "train mean loss=0.000129995338278, accuracy=1.0, throughput=816.306724118 images/sec\n",
      "test  mean loss=2.58598138432, accuracy=0.675884959445\n",
      "epoch 241\n",
      "train mean loss=0.000124115127061, accuracy=1.0, throughput=764.892988085 images/sec\n",
      "test  mean loss=2.59730739588, accuracy=0.673672568877\n",
      "epoch 242\n",
      "train mean loss=0.000117313015007, accuracy=1.0, throughput=784.455646048 images/sec\n",
      "test  mean loss=2.60307581499, accuracy=0.676991149783\n",
      "epoch 243\n",
      "train mean loss=0.000111997425387, accuracy=1.0, throughput=786.19715308 images/sec\n",
      "test  mean loss=2.61682225329, accuracy=0.674778762513\n",
      "epoch 244\n",
      "train mean loss=0.000106354494441, accuracy=1.0, throughput=781.48402312 images/sec\n",
      "test  mean loss=2.62483666982, accuracy=0.67699115308\n",
      "epoch 245\n",
      "train mean loss=0.000100996310325, accuracy=1.0, throughput=885.317228122 images/sec\n",
      "test  mean loss=2.63322898086, accuracy=0.675884959445\n",
      "epoch 246\n",
      "train mean loss=9.63931294427e-05, accuracy=1.0, throughput=825.952825901 images/sec\n",
      "test  mean loss=2.64677794897, accuracy=0.67699115308\n",
      "epoch 247\n",
      "train mean loss=9.15663398711e-05, accuracy=1.0, throughput=732.216388888 images/sec\n",
      "test  mean loss=2.65698069835, accuracy=0.673672568877\n",
      "epoch 248\n",
      "train mean loss=8.78345545317e-05, accuracy=1.0, throughput=830.633449551 images/sec\n",
      "test  mean loss=2.66808472956, accuracy=0.675884956148\n",
      "epoch 249\n",
      "train mean loss=8.50774558157e-05, accuracy=1.0, throughput=842.684444315 images/sec\n",
      "test  mean loss=2.6789034969, accuracy=0.675884956148\n",
      "epoch 250\n",
      "train mean loss=7.95279425263e-05, accuracy=1.0, throughput=852.786829297 images/sec\n",
      "test  mean loss=2.68740365885, accuracy=0.676991149783\n",
      "epoch 251\n",
      "train mean loss=7.50997624141e-05, accuracy=1.0, throughput=715.026682267 images/sec\n",
      "test  mean loss=2.70121168616, accuracy=0.678097343418\n",
      "epoch 252\n",
      "train mean loss=7.14697493069e-05, accuracy=1.0, throughput=733.746159974 images/sec\n",
      "test  mean loss=2.70700947268, accuracy=0.676991146486\n",
      "epoch 253\n",
      "train mean loss=6.8462269617e-05, accuracy=1.0, throughput=705.339050469 images/sec\n",
      "test  mean loss=2.71781873492, accuracy=0.675884952851\n",
      "epoch 254\n",
      "train mean loss=6.54883353531e-05, accuracy=1.0, throughput=671.206096612 images/sec\n",
      "test  mean loss=2.72814513967, accuracy=0.676991149783\n",
      "epoch 255\n",
      "train mean loss=6.24626915016e-05, accuracy=1.0, throughput=844.165710325 images/sec\n",
      "test  mean loss=2.73798627057, accuracy=0.675884956148\n",
      "epoch 256\n",
      "train mean loss=5.96465421045e-05, accuracy=1.0, throughput=721.605219691 images/sec\n",
      "test  mean loss=2.75451136558, accuracy=0.674778762513\n",
      "epoch 257\n",
      "train mean loss=5.65634300631e-05, accuracy=1.0, throughput=840.011171551 images/sec\n",
      "test  mean loss=2.76579278101, accuracy=0.675884956148\n",
      "epoch 258\n",
      "train mean loss=5.46120308625e-05, accuracy=1.0, throughput=760.291102459 images/sec\n",
      "test  mean loss=2.76832537366, accuracy=0.679203537054\n",
      "epoch 259\n",
      "train mean loss=5.2281516255e-05, accuracy=1.0, throughput=665.374789195 images/sec\n",
      "test  mean loss=2.78269788728, accuracy=0.67920354035\n",
      "epoch 260\n",
      "train mean loss=4.97411901403e-05, accuracy=1.0, throughput=852.653459988 images/sec\n",
      "test  mean loss=2.79459154817, accuracy=0.678097342364\n",
      "epoch 261\n",
      "train mean loss=4.73465614147e-05, accuracy=1.0, throughput=834.31778793 images/sec\n",
      "test  mean loss=2.79713241347, accuracy=0.678097343418\n",
      "epoch 262\n",
      "train mean loss=4.69358637282e-05, accuracy=1.0, throughput=836.303624616 images/sec\n",
      "test  mean loss=2.81854913535, accuracy=0.675884955093\n",
      "epoch 263\n",
      "train mean loss=4.26476207848e-05, accuracy=1.0, throughput=645.778220651 images/sec\n",
      "test  mean loss=2.82668379345, accuracy=0.676991148728\n",
      "epoch 264\n",
      "train mean loss=4.1479262372e-05, accuracy=1.0, throughput=780.031553278 images/sec\n",
      "test  mean loss=2.83190865274, accuracy=0.676991146486\n",
      "epoch 265\n",
      "train mean loss=3.97520409457e-05, accuracy=1.0, throughput=739.844435816 images/sec\n",
      "test  mean loss=2.84830815497, accuracy=0.673672564526\n",
      "epoch 266\n",
      "train mean loss=3.73428548876e-05, accuracy=1.0, throughput=650.335711005 images/sec\n",
      "test  mean loss=2.86202162531, accuracy=0.674778758161\n",
      "epoch 267\n",
      "train mean loss=3.62351295237e-05, accuracy=1.0, throughput=816.556389882 images/sec\n",
      "test  mean loss=2.86707470665, accuracy=0.673672564526\n",
      "epoch 268\n",
      "train mean loss=3.41699955084e-05, accuracy=1.0, throughput=712.679744477 images/sec\n",
      "test  mean loss=2.87782586096, accuracy=0.674778758161\n",
      "epoch 269\n",
      "train mean loss=3.29961938836e-05, accuracy=1.0, throughput=645.346750059 images/sec\n",
      "test  mean loss=2.88412497503, accuracy=0.674778758161\n",
      "epoch 270\n",
      "train mean loss=3.40689193678e-05, accuracy=1.0, throughput=719.96412415 images/sec\n",
      "test  mean loss=2.89873453315, accuracy=0.674778758161\n",
      "epoch 271\n",
      "train mean loss=3.48080358355e-05, accuracy=1.0, throughput=711.516305153 images/sec\n",
      "test  mean loss=2.90586024365, accuracy=0.674778758161\n",
      "epoch 272\n",
      "train mean loss=0.0294826802661, accuracy=0.9949561995, throughput=401.924021485 images/sec\n",
      "test  mean loss=2.92342126027, accuracy=0.628318584269\n",
      "epoch 273\n",
      "train mean loss=0.837566367485, accuracy=0.846296782658, throughput=664.35070241 images/sec\n",
      "test  mean loss=1.96443155843, accuracy=0.636061953364\n",
      "epoch 274\n",
      "train mean loss=0.285538692263, accuracy=0.929917699657, throughput=321.870344944 images/sec\n",
      "test  mean loss=1.82163625718, accuracy=0.655973457525\n",
      "epoch 275\n",
      "train mean loss=0.0936495746813, accuracy=0.979559335257, throughput=539.082943191 images/sec\n",
      "test  mean loss=1.91625231953, accuracy=0.680309733986\n",
      "epoch 276\n",
      "train mean loss=0.0364669305361, accuracy=0.992301571201, throughput=235.10093668 images/sec\n",
      "test  mean loss=2.04521281688, accuracy=0.662610624282\n",
      "epoch 277\n",
      "train mean loss=0.0311850584425, accuracy=0.996814443447, throughput=456.16277748 images/sec\n",
      "test  mean loss=2.12420843977, accuracy=0.667035400472\n",
      "epoch 278\n",
      "train mean loss=0.0175261761487, accuracy=0.998141759139, throughput=392.380420842 images/sec\n",
      "test  mean loss=2.11262081801, accuracy=0.664823009905\n",
      "epoch 279\n",
      "train mean loss=0.0199322167723, accuracy=0.998407222119, throughput=411.832124632 images/sec\n",
      "test  mean loss=2.16039956513, accuracy=0.659292038431\n",
      "epoch 280\n",
      "train mean loss=0.0125028084142, accuracy=0.998938148079, throughput=656.968330894 images/sec\n",
      "test  mean loss=2.20137604333, accuracy=0.657079652809\n",
      "epoch 281\n",
      "train mean loss=0.00263387350863, accuracy=0.99973453702, throughput=595.718921006 images/sec\n",
      "test  mean loss=2.25179498175, accuracy=0.654867262242\n",
      "epoch 282\n",
      "train mean loss=0.00206186288695, accuracy=0.99973453702, throughput=722.553739465 images/sec\n",
      "test  mean loss=2.29400352066, accuracy=0.660398233715\n",
      "epoch 283\n",
      "train mean loss=0.00174812267324, accuracy=1.0, throughput=557.850945928 images/sec\n",
      "test  mean loss=2.33195970596, accuracy=0.661504425702\n",
      "epoch 284\n",
      "train mean loss=0.0014582099147, accuracy=1.0, throughput=459.280232848 images/sec\n",
      "test  mean loss=2.36136169929, accuracy=0.655973453174\n",
      "epoch 285\n",
      "train mean loss=0.0013928941202, accuracy=0.99973453702, throughput=531.803823057 images/sec\n",
      "test  mean loss=2.3908520391, accuracy=0.659292039025\n",
      "epoch 286\n",
      "train mean loss=0.00125807638061, accuracy=1.0, throughput=570.012657862 images/sec\n",
      "test  mean loss=2.40835407429, accuracy=0.657079653402\n",
      "epoch 287\n",
      "train mean loss=0.00111400069029, accuracy=1.0, throughput=667.353924064 images/sec\n",
      "test  mean loss=2.43642902875, accuracy=0.657079653402\n",
      "epoch 288\n",
      "train mean loss=0.000990428302786, accuracy=1.0, throughput=845.853835396 images/sec\n",
      "test  mean loss=2.45385784702, accuracy=0.659292037376\n",
      "epoch 289\n",
      "train mean loss=0.000980662656535, accuracy=0.99973453702, throughput=821.989268423 images/sec\n",
      "test  mean loss=2.4721845515, accuracy=0.661504427944\n",
      "epoch 290\n",
      "train mean loss=0.000910573520907, accuracy=1.0, throughput=881.816475249 images/sec\n",
      "test  mean loss=2.49658538441, accuracy=0.661504427944\n",
      "epoch 291\n",
      "train mean loss=0.00069787641769, accuracy=1.0, throughput=828.640736272 images/sec\n",
      "test  mean loss=2.5127507617, accuracy=0.659292037376\n",
      "epoch 292\n",
      "train mean loss=0.000835582707244, accuracy=0.99973453702, throughput=844.433478124 images/sec\n",
      "test  mean loss=2.5323341262, accuracy=0.661504424647\n",
      "epoch 293\n",
      "train mean loss=0.000837699317254, accuracy=0.99973453702, throughput=867.606513113 images/sec\n",
      "test  mean loss=2.5424469145, accuracy=0.65929204397\n",
      "epoch 294\n",
      "train mean loss=0.000988300652102, accuracy=0.99973453702, throughput=822.745429516 images/sec\n",
      "test  mean loss=2.56776575441, accuracy=0.664823012146\n",
      "epoch 295\n",
      "train mean loss=0.000911403480774, accuracy=1.0, throughput=876.966106415 images/sec\n",
      "test  mean loss=2.57627940152, accuracy=0.659292040673\n",
      "epoch 296\n",
      "train mean loss=0.00223749261791, accuracy=0.99946907404, throughput=820.587938207 images/sec\n",
      "test  mean loss=2.59264549587, accuracy=0.663716816863\n",
      "epoch 297\n",
      "train mean loss=0.00119018505563, accuracy=0.99946907404, throughput=889.35035526 images/sec\n",
      "test  mean loss=2.61531134728, accuracy=0.663716815214\n",
      "epoch 298\n",
      "train mean loss=0.0020177596166, accuracy=0.99973453702, throughput=879.350220629 images/sec\n",
      "test  mean loss=2.62411965601, accuracy=0.668141593052\n",
      "epoch 299\n",
      "train mean loss=0.000784435870099, accuracy=0.99973453702, throughput=854.426560259 images/sec\n",
      "test  mean loss=2.6285714821, accuracy=0.668141593052\n",
      "epoch 300\n",
      "train mean loss=0.000981662965765, accuracy=0.99973453702, throughput=889.752668592 images/sec\n",
      "test  mean loss=2.63314859266, accuracy=0.661504427944\n",
      "save the model\n",
      "save the optimizer\n"
     ]
    }
   ],
   "source": [
    "epoch_num = 300\n",
    "for output_dim in [1]:\n",
    "    save_data_dir = '../../data/bookmark/ajax/balanced/'\n",
    "    save_model_dir = \"../../results/balanced/output_dim=%s/ajax_%s/\" % (output_dim, epoch_num)\n",
    "    other.mkdir_p(save_model_dir)\n",
    "    train = numpy.load(save_data_dir + 'output_dim=%s/train.npz' % output_dim)\n",
    "    test = numpy.load(save_data_dir + 'output_dim=%s/test.npz' % output_dim)\n",
    "    cnntrain = cnn.CNN(save_model_dir=save_model_dir, epoch_num=epoch_num)\n",
    "    cnntrain.train(train, test)"
   ]
  },
  {
   "cell_type": "code",
   "execution_count": 33,
   "metadata": {
    "collapsed": true
   },
   "outputs": [],
   "source": [
    "accuracy = open('/Users/admin/Desktop/projects/attention_time/results/all/output_dim=1/ajax_300/accuracy.txt', 'r')\n",
    "acc_ls = []\n",
    "for i, line in enumerate(accuracy):\n",
    "    if i != 0:\n",
    "        acc_ls.append(float(line.split('\\t')[1].rstrip()))"
   ]
  },
  {
   "cell_type": "code",
   "execution_count": 34,
   "metadata": {
    "collapsed": false
   },
   "outputs": [
    {
     "data": {
      "text/plain": [
       "[<matplotlib.lines.Line2D at 0x116cc7850>]"
      ]
     },
     "execution_count": 34,
     "metadata": {},
     "output_type": "execute_result"
    },
    {
     "data": {
      "image/png": "[encoded data removed]",
      "text/plain": [
       "<matplotlib.figure.Figure at 0x117b443d0>"
      ]
     },
     "metadata": {},
     "output_type": "display_data"
    }
   ],
   "source": [
    "plt.title('test accuracy')\n",
    "plt.plot(acc_ls)"
   ]
  },
  {
   "cell_type": "code",
   "execution_count": 30,
   "metadata": {
    "collapsed": true
   },
   "outputs": [],
   "source": [
    "accuracy = open('/Users/admin/Desktop/projects/attention_time/results/balanced/output_dim=1/ajax_300/accuracy.txt', 'r')\n",
    "acc_ls = []\n",
    "for i, line in enumerate(accuracy):\n",
    "    if i != 0:\n",
    "        acc_ls.append(float(line.split('\\t')[1].rstrip()))"
   ]
  },
  {
   "cell_type": "code",
   "execution_count": 32,
   "metadata": {
    "collapsed": false
   },
   "outputs": [
    {
     "data": {
      "text/plain": [
       "[<matplotlib.lines.Line2D at 0x117b38fd0>]"
      ]
     },
     "execution_count": 32,
     "metadata": {},
     "output_type": "execute_result"
    },
    {
     "data": {
      "image/png": "[encoded data removed]",
      "text/plain": [
       "<matplotlib.figure.Figure at 0x117b38c10>"
      ]
     },
     "metadata": {},
     "output_type": "display_data"
    }
   ],
   "source": [
    "plt.title('test accuracy')\n",
    "plt.plot(acc_ls)"
   ]
  },
  {
   "cell_type": "code",
   "execution_count": null,
   "metadata": {
    "collapsed": true
   },
   "outputs": [],
   "source": []
  },
  {
   "cell_type": "code",
   "execution_count": null,
   "metadata": {
    "collapsed": true
   },
   "outputs": [],
   "source": []
  },
  {
   "cell_type": "code",
   "execution_count": null,
   "metadata": {
    "collapsed": true
   },
   "outputs": [],
   "source": []
  },
  {
   "cell_type": "code",
   "execution_count": 67,
   "metadata": {
    "collapsed": false
   },
   "outputs": [
    {
     "data": {
      "text/plain": [
       "array([[0, 1],\n",
       "       [0, 0],\n",
       "       [0, 0],\n",
       "       [0, 0],\n",
       "       [1, 1],\n",
       "       [1, 0],\n",
       "       [0, 0],\n",
       "       [0, 0],\n",
       "       [0, 0],\n",
       "       [0, 0]], dtype=int32)"
      ]
     },
     "execution_count": 67,
     "metadata": {},
     "output_type": "execute_result"
    }
   ],
   "source": [
    "test[\"y\"].astype(numpy.int32)[:10]"
   ]
  },
  {
   "cell_type": "code",
   "execution_count": 62,
   "metadata": {
    "collapsed": true
   },
   "outputs": [],
   "source": [
    "import chainer.functions"
   ]
  },
  {
   "cell_type": "code",
   "execution_count": 63,
   "metadata": {
    "collapsed": false
   },
   "outputs": [],
   "source": [
    "t_ = chainer.functions.array.split_axis.split_axis(chainer.Variable(test[\"y\"].astype(numpy.int32)), 2, 1)"
   ]
  },
  {
   "cell_type": "code",
   "execution_count": 64,
   "metadata": {
    "collapsed": false
   },
   "outputs": [
    {
     "data": {
      "text/plain": [
       "array([0, 0, 0, ..., 0, 1, 0], dtype=int32)"
      ]
     },
     "execution_count": 64,
     "metadata": {},
     "output_type": "execute_result"
    }
   ],
   "source": [
    "chainer.Variable(t_[0].data.squeeze()).data"
   ]
  },
  {
   "cell_type": "code",
   "execution_count": 65,
   "metadata": {
    "collapsed": false,
    "scrolled": false
   },
   "outputs": [
    {
     "name": "stdout",
     "output_type": "stream",
     "text": [
      "epoch 1\n",
      "graph generated\n",
      "train mean loss=0.521749988219, accuracy=[ 0.79888803  0.82337219], throughput=1005.20311902 images/sec\n",
      "test  mean loss=0.43464985208, accuracy=[ 0.79669029  0.81678486]\n",
      "epoch 2\n",
      "train mean loss=0.422643821551, accuracy=[ 0.79888803  0.82337219], throughput=1054.85230354 images/sec\n",
      "test  mean loss=0.422111227134, accuracy=[ 0.79669029  0.81678486]\n",
      "epoch 3\n",
      "train mean loss=0.408932572958, accuracy=[ 0.79888803  0.82337219], throughput=1113.08690132 images/sec\n",
      "test  mean loss=0.409008013465, accuracy=[ 0.79669029  0.81678486]\n",
      "epoch 4\n",
      "train mean loss=0.405950754785, accuracy=[ 0.79888803  0.82337219], throughput=1058.31431915 images/sec\n",
      "test  mean loss=0.405927830718, accuracy=[ 0.79669029  0.81678486]\n",
      "epoch 5\n",
      "train mean loss=0.399369446514, accuracy=[ 0.79888803  0.82337219], throughput=1064.73916284 images/sec\n",
      "test  mean loss=0.415084924751, accuracy=[ 0.79669029  0.81678486]\n",
      "epoch 6\n",
      "train mean loss=0.395039249054, accuracy=[ 0.79888803  0.82337219], throughput=997.870257237 images/sec\n",
      "test  mean loss=0.412156445831, accuracy=[ 0.79669029  0.81678486]\n",
      "epoch 7\n",
      "train mean loss=0.388962550812, accuracy=[ 0.79888803  0.82337219], throughput=1069.07974475 images/sec\n",
      "test  mean loss=0.4107542704, accuracy=[ 0.79669029  0.81678486]\n",
      "epoch 8\n",
      "train mean loss=0.388268903718, accuracy=[ 0.79888803  0.82337219], throughput=1091.67079295 images/sec\n",
      "test  mean loss=0.420383509545, accuracy=[ 0.79669029  0.81678486]\n",
      "epoch 9\n",
      "train mean loss=0.387680372307, accuracy=[ 0.79888803  0.82337219], throughput=1083.50331376 images/sec\n",
      "test  mean loss=0.407448803185, accuracy=[ 0.79669029  0.81678486]\n",
      "epoch 10\n",
      "train mean loss=0.377314609499, accuracy=[ 0.79888803  0.82337219], throughput=1108.03252412 images/sec\n",
      "test  mean loss=0.42307218604, accuracy=[ 0.79669029  0.81678486]\n",
      "epoch 11\n",
      "train mean loss=0.373838133985, accuracy=[ 0.79888803  0.82337219], throughput=996.835895247 images/sec\n",
      "test  mean loss=0.423546490658, accuracy=[ 0.79669029  0.81678486]\n",
      "epoch 12\n",
      "train mean loss=0.371353412252, accuracy=[ 0.79888803  0.82337219], throughput=873.543454513 images/sec\n",
      "test  mean loss=0.430411148649, accuracy=[ 0.79669029  0.81678486]\n",
      "epoch 13\n",
      "train mean loss=0.373231675033, accuracy=[ 0.79888803  0.82337219], throughput=933.329358038 images/sec\n",
      "test  mean loss=0.425015740713, accuracy=[ 0.79669029  0.81678486]\n",
      "epoch 14\n",
      "train mean loss=0.368621303635, accuracy=[ 0.79888803  0.82337219], throughput=1052.40606382 images/sec\n",
      "test  mean loss=0.428755881821, accuracy=[ 0.79669029  0.81678486]\n",
      "epoch 15\n",
      "train mean loss=0.354962360841, accuracy=[ 0.79888803  0.82337219], throughput=1043.95785659 images/sec\n",
      "test  mean loss=0.440701441609, accuracy=[ 0.79669029  0.81678486]\n",
      "epoch 16\n",
      "train mean loss=0.346382428516, accuracy=[ 0.79888803  0.82337219], throughput=1086.4863044 images/sec\n",
      "test  mean loss=0.444122473939, accuracy=[ 0.79669029  0.81678486]\n",
      "epoch 17\n",
      "train mean loss=0.337439458399, accuracy=[ 0.79888803  0.82337219], throughput=1091.09404995 images/sec\n",
      "test  mean loss=0.456299680955, accuracy=[ 0.79669029  0.81678486]\n",
      "epoch 18\n",
      "train mean loss=0.333340306321, accuracy=[ 0.79888803  0.82337219], throughput=1072.10118754 images/sec\n",
      "test  mean loss=0.452110681292, accuracy=[ 0.79669029  0.81678486]\n",
      "epoch 19\n",
      "train mean loss=0.314414149779, accuracy=[ 0.79888803  0.82337219], throughput=1027.13829067 images/sec\n",
      "test  mean loss=0.458882981675, accuracy=[ 0.79669029  0.81678486]\n",
      "epoch 20\n",
      "train mean loss=0.301500515259, accuracy=[ 0.79888803  0.82337219], throughput=1015.71672766 images/sec\n",
      "test  mean loss=0.489132581803, accuracy=[ 0.79669029  0.81678486]\n",
      "epoch 21\n",
      "train mean loss=0.28482076027, accuracy=[ 0.79888803  0.82337219], throughput=1018.25853076 images/sec\n",
      "test  mean loss=0.515585997003, accuracy=[ 0.79669029  0.81678486]\n",
      "epoch 22\n",
      "train mean loss=0.27123653644, accuracy=[ 0.79888803  0.82337219], throughput=993.031153338 images/sec\n",
      "test  mean loss=0.531891327847, accuracy=[ 0.79669029  0.81678486]\n",
      "epoch 23\n",
      "train mean loss=0.259543812087, accuracy=[ 0.79888803  0.82337219], throughput=1093.09200538 images/sec\n",
      "test  mean loss=0.536851688902, accuracy=[ 0.79669029  0.81678486]\n",
      "epoch 24\n",
      "train mean loss=0.252040038031, accuracy=[ 0.79888803  0.82337219], throughput=1087.14286686 images/sec\n",
      "test  mean loss=0.547769675981, accuracy=[ 0.79669029  0.81678486]\n",
      "epoch 25\n",
      "train mean loss=0.222051981412, accuracy=[ 0.79888803  0.82337219], throughput=1085.36999046 images/sec\n",
      "test  mean loss=0.576173909425, accuracy=[ 0.79669029  0.81678486]\n",
      "epoch 26\n",
      "train mean loss=0.20996074735, accuracy=[ 0.79888803  0.82337219], throughput=1055.77264892 images/sec\n",
      "test  mean loss=0.668985519309, accuracy=[ 0.79669029  0.81678486]\n",
      "epoch 27\n",
      "train mean loss=0.196987757995, accuracy=[ 0.79888803  0.82337219], throughput=1013.22325089 images/sec\n",
      "test  mean loss=0.693940615424, accuracy=[ 0.79669029  0.81678486]\n",
      "epoch 28\n",
      "train mean loss=0.176846785168, accuracy=[ 0.79888803  0.82337219], throughput=1055.55970171 images/sec\n",
      "test  mean loss=0.700529440826, accuracy=[ 0.79669029  0.81678486]\n",
      "epoch 29\n",
      "train mean loss=0.17911615987, accuracy=[ 0.79888803  0.82337219], throughput=898.645525982 images/sec\n",
      "test  mean loss=0.707064866644, accuracy=[ 0.79669029  0.81678486]\n",
      "epoch 30\n"
     ]
    },
    {
     "ename": "KeyboardInterrupt",
     "evalue": "",
     "output_type": "error",
     "traceback": [
      "\u001b[0;31m---------------------------------------------------------------------------\u001b[0m",
      "\u001b[0;31mKeyboardInterrupt\u001b[0m                         Traceback (most recent call last)",
      "\u001b[0;32m<ipython-input-65-d644187b73f3>\u001b[0m in \u001b[0;36m<module>\u001b[0;34m()\u001b[0m\n\u001b[0;32m----> 1\u001b[0;31m \u001b[0mcnntrain\u001b[0m\u001b[0;34m.\u001b[0m\u001b[0mtrain\u001b[0m\u001b[0;34m(\u001b[0m\u001b[0mtrain\u001b[0m\u001b[0;34m,\u001b[0m \u001b[0mtest\u001b[0m\u001b[0;34m,\u001b[0m \u001b[0moutput_dim\u001b[0m\u001b[0;34m)\u001b[0m\u001b[0;34m\u001b[0m\u001b[0m\n\u001b[0m",
      "\u001b[0;32m/Users/admin/Desktop/projects/attention_time/ipython_notebook/multi_bookmark/../../multi_models/cnn/cnn.py\u001b[0m in \u001b[0;36mtrain\u001b[0;34m(self, train, test, output_dim)\u001b[0m\n\u001b[1;32m     66\u001b[0m \u001b[0;34m\u001b[0m\u001b[0m\n\u001b[1;32m     67\u001b[0m                 \u001b[0;31m# Pass the loss function (Classifier defines it) and its arguments\u001b[0m\u001b[0;34m\u001b[0m\u001b[0;34m\u001b[0m\u001b[0m\n\u001b[0;32m---> 68\u001b[0;31m                 \u001b[0moptimizer\u001b[0m\u001b[0;34m.\u001b[0m\u001b[0mupdate\u001b[0m\u001b[0;34m(\u001b[0m\u001b[0mmodel\u001b[0m\u001b[0;34m,\u001b[0m \u001b[0mx\u001b[0m\u001b[0;34m,\u001b[0m \u001b[0mt\u001b[0m\u001b[0;34m)\u001b[0m\u001b[0;34m\u001b[0m\u001b[0m\n\u001b[0m\u001b[1;32m     69\u001b[0m \u001b[0;34m\u001b[0m\u001b[0m\n\u001b[1;32m     70\u001b[0m                 \u001b[0;32mif\u001b[0m \u001b[0mepoch\u001b[0m \u001b[0;34m==\u001b[0m \u001b[0;36m1\u001b[0m \u001b[0;32mand\u001b[0m \u001b[0mi\u001b[0m \u001b[0;34m==\u001b[0m \u001b[0;36m0\u001b[0m\u001b[0;34m:\u001b[0m\u001b[0;34m\u001b[0m\u001b[0m\n",
      "\u001b[0;32m/Users/admin/Desktop/anaconda/lib/python2.7/site-packages/chainer/optimizer.pyc\u001b[0m in \u001b[0;36mupdate\u001b[0;34m(self, lossfun, *args, **kwds)\u001b[0m\n\u001b[1;32m    374\u001b[0m         \u001b[0;32mif\u001b[0m \u001b[0mlossfun\u001b[0m \u001b[0;32mis\u001b[0m \u001b[0;32mnot\u001b[0m \u001b[0mNone\u001b[0m\u001b[0;34m:\u001b[0m\u001b[0;34m\u001b[0m\u001b[0m\n\u001b[1;32m    375\u001b[0m             \u001b[0mself\u001b[0m\u001b[0;34m.\u001b[0m\u001b[0mtarget\u001b[0m\u001b[0;34m.\u001b[0m\u001b[0mzerograds\u001b[0m\u001b[0;34m(\u001b[0m\u001b[0;34m)\u001b[0m\u001b[0;34m\u001b[0m\u001b[0m\n\u001b[0;32m--> 376\u001b[0;31m             \u001b[0mloss\u001b[0m \u001b[0;34m=\u001b[0m \u001b[0mlossfun\u001b[0m\u001b[0;34m(\u001b[0m\u001b[0;34m*\u001b[0m\u001b[0margs\u001b[0m\u001b[0;34m,\u001b[0m \u001b[0;34m**\u001b[0m\u001b[0mkwds\u001b[0m\u001b[0;34m)\u001b[0m\u001b[0;34m\u001b[0m\u001b[0m\n\u001b[0m\u001b[1;32m    377\u001b[0m             \u001b[0mloss\u001b[0m\u001b[0;34m.\u001b[0m\u001b[0mbackward\u001b[0m\u001b[0;34m(\u001b[0m\u001b[0;34m)\u001b[0m\u001b[0;34m\u001b[0m\u001b[0m\n\u001b[1;32m    378\u001b[0m             \u001b[0;32mdel\u001b[0m \u001b[0mloss\u001b[0m\u001b[0;34m\u001b[0m\u001b[0m\n",
      "\u001b[0;32m/Users/admin/Desktop/projects/attention_time/ipython_notebook/multi_bookmark/../../multi_models/cnn/cnn_net.pyc\u001b[0m in \u001b[0;36m__call__\u001b[0;34m(self, x, t)\u001b[0m\n\u001b[1;32m     19\u001b[0m \u001b[0;34m\u001b[0m\u001b[0m\n\u001b[1;32m     20\u001b[0m     \u001b[0;32mdef\u001b[0m \u001b[0m__call__\u001b[0m\u001b[0;34m(\u001b[0m\u001b[0mself\u001b[0m\u001b[0;34m,\u001b[0m \u001b[0mx\u001b[0m\u001b[0;34m,\u001b[0m \u001b[0mt\u001b[0m\u001b[0;34m)\u001b[0m\u001b[0;34m:\u001b[0m\u001b[0;34m\u001b[0m\u001b[0m\n\u001b[0;32m---> 21\u001b[0;31m         \u001b[0mh1\u001b[0m \u001b[0;34m=\u001b[0m \u001b[0mF\u001b[0m\u001b[0;34m.\u001b[0m\u001b[0mmax_pooling_2d\u001b[0m\u001b[0;34m(\u001b[0m\u001b[0mF\u001b[0m\u001b[0;34m.\u001b[0m\u001b[0mrelu\u001b[0m\u001b[0;34m(\u001b[0m\u001b[0mself\u001b[0m\u001b[0;34m.\u001b[0m\u001b[0mconv1\u001b[0m\u001b[0;34m(\u001b[0m\u001b[0mx\u001b[0m\u001b[0;34m)\u001b[0m\u001b[0;34m)\u001b[0m\u001b[0;34m,\u001b[0m \u001b[0;36m2\u001b[0m\u001b[0;34m)\u001b[0m\u001b[0;34m\u001b[0m\u001b[0m\n\u001b[0m\u001b[1;32m     22\u001b[0m         \u001b[0mh2\u001b[0m \u001b[0;34m=\u001b[0m \u001b[0mF\u001b[0m\u001b[0;34m.\u001b[0m\u001b[0mmax_pooling_2d\u001b[0m\u001b[0;34m(\u001b[0m\u001b[0mF\u001b[0m\u001b[0;34m.\u001b[0m\u001b[0mrelu\u001b[0m\u001b[0;34m(\u001b[0m\u001b[0mself\u001b[0m\u001b[0;34m.\u001b[0m\u001b[0mconv2\u001b[0m\u001b[0;34m(\u001b[0m\u001b[0mh1\u001b[0m\u001b[0;34m)\u001b[0m\u001b[0;34m)\u001b[0m\u001b[0;34m,\u001b[0m \u001b[0;36m2\u001b[0m\u001b[0;34m)\u001b[0m\u001b[0;34m\u001b[0m\u001b[0m\n\u001b[1;32m     23\u001b[0m         \u001b[0mh3\u001b[0m \u001b[0;34m=\u001b[0m \u001b[0mF\u001b[0m\u001b[0;34m.\u001b[0m\u001b[0mrelu\u001b[0m\u001b[0;34m(\u001b[0m\u001b[0mself\u001b[0m\u001b[0;34m.\u001b[0m\u001b[0ml1\u001b[0m\u001b[0;34m(\u001b[0m\u001b[0mh2\u001b[0m\u001b[0;34m)\u001b[0m\u001b[0;34m)\u001b[0m\u001b[0;34m\u001b[0m\u001b[0m\n",
      "\u001b[0;32m/Users/admin/Desktop/anaconda/lib/python2.7/site-packages/chainer/functions/pooling/max_pooling_2d.pyc\u001b[0m in \u001b[0;36mmax_pooling_2d\u001b[0;34m(x, ksize, stride, pad, cover_all, use_cudnn)\u001b[0m\n\u001b[1;32m    164\u001b[0m \u001b[0;34m\u001b[0m\u001b[0m\n\u001b[1;32m    165\u001b[0m     \"\"\"\n\u001b[0;32m--> 166\u001b[0;31m     \u001b[0;32mreturn\u001b[0m \u001b[0mMaxPooling2D\u001b[0m\u001b[0;34m(\u001b[0m\u001b[0mksize\u001b[0m\u001b[0;34m,\u001b[0m \u001b[0mstride\u001b[0m\u001b[0;34m,\u001b[0m \u001b[0mpad\u001b[0m\u001b[0;34m,\u001b[0m \u001b[0mcover_all\u001b[0m\u001b[0;34m,\u001b[0m \u001b[0muse_cudnn\u001b[0m\u001b[0;34m)\u001b[0m\u001b[0;34m(\u001b[0m\u001b[0mx\u001b[0m\u001b[0;34m)\u001b[0m\u001b[0;34m\u001b[0m\u001b[0m\n\u001b[0m",
      "\u001b[0;32m/Users/admin/Desktop/anaconda/lib/python2.7/site-packages/chainer/function.pyc\u001b[0m in \u001b[0;36m__call__\u001b[0;34m(self, *inputs)\u001b[0m\n\u001b[1;32m    121\u001b[0m         \u001b[0;31m# Forward prop\u001b[0m\u001b[0;34m\u001b[0m\u001b[0;34m\u001b[0m\u001b[0m\n\u001b[1;32m    122\u001b[0m         \u001b[0;32mwith\u001b[0m \u001b[0mcuda\u001b[0m\u001b[0;34m.\u001b[0m\u001b[0mget_device\u001b[0m\u001b[0;34m(\u001b[0m\u001b[0;34m*\u001b[0m\u001b[0min_data\u001b[0m\u001b[0;34m)\u001b[0m\u001b[0;34m:\u001b[0m\u001b[0;34m\u001b[0m\u001b[0m\n\u001b[0;32m--> 123\u001b[0;31m             \u001b[0moutputs\u001b[0m \u001b[0;34m=\u001b[0m \u001b[0mself\u001b[0m\u001b[0;34m.\u001b[0m\u001b[0mforward\u001b[0m\u001b[0;34m(\u001b[0m\u001b[0min_data\u001b[0m\u001b[0;34m)\u001b[0m\u001b[0;34m\u001b[0m\u001b[0m\n\u001b[0m\u001b[1;32m    124\u001b[0m             \u001b[0;32massert\u001b[0m \u001b[0mtype\u001b[0m\u001b[0;34m(\u001b[0m\u001b[0moutputs\u001b[0m\u001b[0;34m)\u001b[0m \u001b[0;34m==\u001b[0m \u001b[0mtuple\u001b[0m\u001b[0;34m\u001b[0m\u001b[0m\n\u001b[1;32m    125\u001b[0m         \u001b[0;32mfor\u001b[0m \u001b[0mhook\u001b[0m \u001b[0;32min\u001b[0m \u001b[0msix\u001b[0m\u001b[0;34m.\u001b[0m\u001b[0mitervalues\u001b[0m\u001b[0;34m(\u001b[0m\u001b[0mhooks\u001b[0m\u001b[0;34m)\u001b[0m\u001b[0;34m:\u001b[0m\u001b[0;34m\u001b[0m\u001b[0m\n",
      "\u001b[0;32m/Users/admin/Desktop/anaconda/lib/python2.7/site-packages/chainer/function.pyc\u001b[0m in \u001b[0;36mforward\u001b[0;34m(self, inputs)\u001b[0m\n\u001b[1;32m    227\u001b[0m             \u001b[0;32mreturn\u001b[0m \u001b[0mself\u001b[0m\u001b[0;34m.\u001b[0m\u001b[0mforward_gpu\u001b[0m\u001b[0;34m(\u001b[0m\u001b[0minputs\u001b[0m\u001b[0;34m)\u001b[0m\u001b[0;34m\u001b[0m\u001b[0m\n\u001b[1;32m    228\u001b[0m         \u001b[0;32melse\u001b[0m\u001b[0;34m:\u001b[0m\u001b[0;34m\u001b[0m\u001b[0m\n\u001b[0;32m--> 229\u001b[0;31m             \u001b[0;32mreturn\u001b[0m \u001b[0mself\u001b[0m\u001b[0;34m.\u001b[0m\u001b[0mforward_cpu\u001b[0m\u001b[0;34m(\u001b[0m\u001b[0minputs\u001b[0m\u001b[0;34m)\u001b[0m\u001b[0;34m\u001b[0m\u001b[0m\n\u001b[0m\u001b[1;32m    230\u001b[0m \u001b[0;34m\u001b[0m\u001b[0m\n\u001b[1;32m    231\u001b[0m     \u001b[0;32mdef\u001b[0m \u001b[0mforward_cpu\u001b[0m\u001b[0;34m(\u001b[0m\u001b[0mself\u001b[0m\u001b[0;34m,\u001b[0m \u001b[0minputs\u001b[0m\u001b[0;34m)\u001b[0m\u001b[0;34m:\u001b[0m\u001b[0;34m\u001b[0m\u001b[0m\n",
      "\u001b[0;32m/Users/admin/Desktop/anaconda/lib/python2.7/site-packages/chainer/functions/pooling/max_pooling_2d.pyc\u001b[0m in \u001b[0;36mforward_cpu\u001b[0;34m(self, x)\u001b[0m\n\u001b[1;32m     17\u001b[0m         col = conv.im2col_cpu(\n\u001b[1;32m     18\u001b[0m             \u001b[0mx\u001b[0m\u001b[0;34m[\u001b[0m\u001b[0;36m0\u001b[0m\u001b[0;34m]\u001b[0m\u001b[0;34m,\u001b[0m \u001b[0mself\u001b[0m\u001b[0;34m.\u001b[0m\u001b[0mkh\u001b[0m\u001b[0;34m,\u001b[0m \u001b[0mself\u001b[0m\u001b[0;34m.\u001b[0m\u001b[0mkw\u001b[0m\u001b[0;34m,\u001b[0m \u001b[0mself\u001b[0m\u001b[0;34m.\u001b[0m\u001b[0msy\u001b[0m\u001b[0;34m,\u001b[0m \u001b[0mself\u001b[0m\u001b[0;34m.\u001b[0m\u001b[0msx\u001b[0m\u001b[0;34m,\u001b[0m \u001b[0mself\u001b[0m\u001b[0;34m.\u001b[0m\u001b[0mph\u001b[0m\u001b[0;34m,\u001b[0m \u001b[0mself\u001b[0m\u001b[0;34m.\u001b[0m\u001b[0mpw\u001b[0m\u001b[0;34m,\u001b[0m\u001b[0;34m\u001b[0m\u001b[0m\n\u001b[0;32m---> 19\u001b[0;31m             pval=-float('inf'), cover_all=self.cover_all)\n\u001b[0m\u001b[1;32m     20\u001b[0m         \u001b[0mn\u001b[0m\u001b[0;34m,\u001b[0m \u001b[0mc\u001b[0m\u001b[0;34m,\u001b[0m \u001b[0mkh\u001b[0m\u001b[0;34m,\u001b[0m \u001b[0mkw\u001b[0m\u001b[0;34m,\u001b[0m \u001b[0mout_h\u001b[0m\u001b[0;34m,\u001b[0m \u001b[0mout_w\u001b[0m \u001b[0;34m=\u001b[0m \u001b[0mcol\u001b[0m\u001b[0;34m.\u001b[0m\u001b[0mshape\u001b[0m\u001b[0;34m\u001b[0m\u001b[0m\n\u001b[1;32m     21\u001b[0m         \u001b[0mcol\u001b[0m \u001b[0;34m=\u001b[0m \u001b[0mcol\u001b[0m\u001b[0;34m.\u001b[0m\u001b[0mreshape\u001b[0m\u001b[0;34m(\u001b[0m\u001b[0mn\u001b[0m\u001b[0;34m,\u001b[0m \u001b[0mc\u001b[0m\u001b[0;34m,\u001b[0m \u001b[0mkh\u001b[0m \u001b[0;34m*\u001b[0m \u001b[0mkw\u001b[0m\u001b[0;34m,\u001b[0m \u001b[0mout_h\u001b[0m\u001b[0;34m,\u001b[0m \u001b[0mout_w\u001b[0m\u001b[0;34m)\u001b[0m\u001b[0;34m\u001b[0m\u001b[0m\n",
      "\u001b[0;32m/Users/admin/Desktop/anaconda/lib/python2.7/site-packages/chainer/utils/conv.pyc\u001b[0m in \u001b[0;36mim2col_cpu\u001b[0;34m(img, kh, kw, sy, sx, ph, pw, pval, cover_all)\u001b[0m\n\u001b[1;32m     26\u001b[0m     img = numpy.pad(img,\n\u001b[1;32m     27\u001b[0m                     \u001b[0;34m(\u001b[0m\u001b[0;34m(\u001b[0m\u001b[0;36m0\u001b[0m\u001b[0;34m,\u001b[0m \u001b[0;36m0\u001b[0m\u001b[0;34m)\u001b[0m\u001b[0;34m,\u001b[0m \u001b[0;34m(\u001b[0m\u001b[0;36m0\u001b[0m\u001b[0;34m,\u001b[0m \u001b[0;36m0\u001b[0m\u001b[0;34m)\u001b[0m\u001b[0;34m,\u001b[0m \u001b[0;34m(\u001b[0m\u001b[0mph\u001b[0m\u001b[0;34m,\u001b[0m \u001b[0mph\u001b[0m \u001b[0;34m+\u001b[0m \u001b[0msy\u001b[0m \u001b[0;34m-\u001b[0m \u001b[0;36m1\u001b[0m\u001b[0;34m)\u001b[0m\u001b[0;34m,\u001b[0m \u001b[0;34m(\u001b[0m\u001b[0mpw\u001b[0m\u001b[0;34m,\u001b[0m \u001b[0mpw\u001b[0m \u001b[0;34m+\u001b[0m \u001b[0msx\u001b[0m \u001b[0;34m-\u001b[0m \u001b[0;36m1\u001b[0m\u001b[0;34m)\u001b[0m\u001b[0;34m)\u001b[0m\u001b[0;34m,\u001b[0m\u001b[0;34m\u001b[0m\u001b[0m\n\u001b[0;32m---> 28\u001b[0;31m                     mode='constant', constant_values=(pval,))\n\u001b[0m\u001b[1;32m     29\u001b[0m     \u001b[0mcol\u001b[0m \u001b[0;34m=\u001b[0m \u001b[0mnumpy\u001b[0m\u001b[0;34m.\u001b[0m\u001b[0mndarray\u001b[0m\u001b[0;34m(\u001b[0m\u001b[0;34m(\u001b[0m\u001b[0mn\u001b[0m\u001b[0;34m,\u001b[0m \u001b[0mc\u001b[0m\u001b[0;34m,\u001b[0m \u001b[0mkh\u001b[0m\u001b[0;34m,\u001b[0m \u001b[0mkw\u001b[0m\u001b[0;34m,\u001b[0m \u001b[0mout_h\u001b[0m\u001b[0;34m,\u001b[0m \u001b[0mout_w\u001b[0m\u001b[0;34m)\u001b[0m\u001b[0;34m,\u001b[0m \u001b[0mdtype\u001b[0m\u001b[0;34m=\u001b[0m\u001b[0mimg\u001b[0m\u001b[0;34m.\u001b[0m\u001b[0mdtype\u001b[0m\u001b[0;34m)\u001b[0m\u001b[0;34m\u001b[0m\u001b[0m\n\u001b[1;32m     30\u001b[0m \u001b[0;34m\u001b[0m\u001b[0m\n",
      "\u001b[0;32m/Users/admin/Desktop/anaconda/lib/python2.7/site-packages/numpy/lib/arraypad.pyc\u001b[0m in \u001b[0;36mpad\u001b[0;34m(array, pad_width, mode, **kwargs)\u001b[0m\n\u001b[1;32m   1391\u001b[0m         \u001b[0;32mfor\u001b[0m \u001b[0maxis\u001b[0m\u001b[0;34m,\u001b[0m \u001b[0;34m(\u001b[0m\u001b[0;34m(\u001b[0m\u001b[0mpad_before\u001b[0m\u001b[0;34m,\u001b[0m \u001b[0mpad_after\u001b[0m\u001b[0;34m)\u001b[0m\u001b[0;34m,\u001b[0m \u001b[0;34m(\u001b[0m\u001b[0mbefore_val\u001b[0m\u001b[0;34m,\u001b[0m \u001b[0mafter_val\u001b[0m\u001b[0;34m)\u001b[0m\u001b[0;34m)\u001b[0m\u001b[0;31m \u001b[0m\u001b[0;31m\\\u001b[0m\u001b[0;34m\u001b[0m\u001b[0m\n\u001b[1;32m   1392\u001b[0m                 \u001b[0;32min\u001b[0m \u001b[0menumerate\u001b[0m\u001b[0;34m(\u001b[0m\u001b[0mzip\u001b[0m\u001b[0;34m(\u001b[0m\u001b[0mpad_width\u001b[0m\u001b[0;34m,\u001b[0m \u001b[0mkwargs\u001b[0m\u001b[0;34m[\u001b[0m\u001b[0;34m'constant_values'\u001b[0m\u001b[0;34m]\u001b[0m\u001b[0;34m)\u001b[0m\u001b[0;34m)\u001b[0m\u001b[0;34m:\u001b[0m\u001b[0;34m\u001b[0m\u001b[0m\n\u001b[0;32m-> 1393\u001b[0;31m             \u001b[0mnewmat\u001b[0m \u001b[0;34m=\u001b[0m \u001b[0m_prepend_const\u001b[0m\u001b[0;34m(\u001b[0m\u001b[0mnewmat\u001b[0m\u001b[0;34m,\u001b[0m \u001b[0mpad_before\u001b[0m\u001b[0;34m,\u001b[0m \u001b[0mbefore_val\u001b[0m\u001b[0;34m,\u001b[0m \u001b[0maxis\u001b[0m\u001b[0;34m)\u001b[0m\u001b[0;34m\u001b[0m\u001b[0m\n\u001b[0m\u001b[1;32m   1394\u001b[0m             \u001b[0mnewmat\u001b[0m \u001b[0;34m=\u001b[0m \u001b[0m_append_const\u001b[0m\u001b[0;34m(\u001b[0m\u001b[0mnewmat\u001b[0m\u001b[0;34m,\u001b[0m \u001b[0mpad_after\u001b[0m\u001b[0;34m,\u001b[0m \u001b[0mafter_val\u001b[0m\u001b[0;34m,\u001b[0m \u001b[0maxis\u001b[0m\u001b[0;34m)\u001b[0m\u001b[0;34m\u001b[0m\u001b[0m\n\u001b[1;32m   1395\u001b[0m \u001b[0;34m\u001b[0m\u001b[0m\n",
      "\u001b[0;31mKeyboardInterrupt\u001b[0m: "
     ]
    }
   ],
   "source": [
    "cnntrain.train(train, test, output_dim)"
   ]
  },
  {
   "cell_type": "code",
   "execution_count": 28,
   "metadata": {
    "collapsed": false
   },
   "outputs": [
    {
     "ename": "OSError",
     "evalue": "[Errno 2] No such file or directory: '../models/cnn/results/ajax_50_30'",
     "output_type": "error",
     "traceback": [
      "\u001b[0;31m---------------------------------------------------\u001b[0m",
      "\u001b[0;31mOSError\u001b[0m           Traceback (most recent call last)",
      "\u001b[0;32m<ipython-input-28-4be81518caf5>\u001b[0m in \u001b[0;36m<module>\u001b[0;34m()\u001b[0m\n\u001b[1;32m      2\u001b[0m \u001b[0msave_data_dir\u001b[0m \u001b[0;34m=\u001b[0m \u001b[0;34m'../data/bookmark/ajax_30/'\u001b[0m\u001b[0;34m\u001b[0m\u001b[0m\n\u001b[1;32m      3\u001b[0m \u001b[0msave_model_dir\u001b[0m \u001b[0;34m=\u001b[0m \u001b[0;34m\"../models/cnn/results/ajax_%s_30/\"\u001b[0m \u001b[0;34m%\u001b[0m \u001b[0mepoch_num\u001b[0m\u001b[0;34m\u001b[0m\u001b[0m\n\u001b[0;32m----> 4\u001b[0;31m \u001b[0mos\u001b[0m\u001b[0;34m.\u001b[0m\u001b[0mmkdir\u001b[0m\u001b[0;34m(\u001b[0m\u001b[0;34m\"../models/cnn/results/ajax_%s_30\"\u001b[0m \u001b[0;34m%\u001b[0m \u001b[0mepoch_num\u001b[0m\u001b[0;34m)\u001b[0m\u001b[0;34m\u001b[0m\u001b[0m\n\u001b[0m\u001b[1;32m      5\u001b[0m \u001b[0mtrain_0_0_30\u001b[0m \u001b[0;34m=\u001b[0m \u001b[0mnumpy\u001b[0m\u001b[0;34m.\u001b[0m\u001b[0mload\u001b[0m\u001b[0;34m(\u001b[0m\u001b[0msave_data_dir\u001b[0m \u001b[0;34m+\u001b[0m \u001b[0;34m'0_test/0_fold/0_train.npz'\u001b[0m\u001b[0;34m)\u001b[0m\u001b[0;34m\u001b[0m\u001b[0m\n\u001b[1;32m      6\u001b[0m \u001b[0mtest_0_0_30\u001b[0m \u001b[0;34m=\u001b[0m \u001b[0mnumpy\u001b[0m\u001b[0;34m.\u001b[0m\u001b[0mload\u001b[0m\u001b[0;34m(\u001b[0m\u001b[0msave_data_dir\u001b[0m \u001b[0;34m+\u001b[0m \u001b[0;34m'0_test/0_fold/0_test.npz'\u001b[0m\u001b[0;34m)\u001b[0m\u001b[0;34m\u001b[0m\u001b[0m\n",
      "\u001b[0;31mOSError\u001b[0m: [Errno 2] No such file or directory: '../models/cnn/results/ajax_50_30'"
     ]
    }
   ],
   "source": [
    "epoch_num = 50\n",
    "save_data_dir = '../data/bookmark/ajax_30/'\n",
    "save_model_dir = \"../models/cnn/results/ajax_%s_30/\" % epoch_num\n",
    "os.mkdir(\"../models/cnn/results/ajax_%s_30\" % epoch_num)\n",
    "train_0_0_30 = numpy.load(save_data_dir + '0_test/0_fold/0_train.npz')\n",
    "test_0_0_30 = numpy.load(save_data_dir + '0_test/0_fold/0_test.npz')\n",
    "cnntrain = cnn.CNN(save_model_dir=save_model_dir, epoch_num=epoch_num)"
   ]
  },
  {
   "cell_type": "code",
   "execution_count": 57,
   "metadata": {
    "collapsed": false
   },
   "outputs": [
    {
     "data": {
      "text/plain": [
       "(2168, 30)"
      ]
     },
     "execution_count": 57,
     "metadata": {},
     "output_type": "execute_result"
    }
   ],
   "source": [
    "train_0_0_30['x'].shape"
   ]
  },
  {
   "cell_type": "code",
   "execution_count": 58,
   "metadata": {
    "collapsed": false
   },
   "outputs": [
    {
     "name": "stdout",
     "output_type": "stream",
     "text": [
      "epoch 1\n",
      "graph generated\n",
      "train mean loss=0.856766545025, accuracy=0.749077491297, throughput=915.436561686 images/sec\n",
      "test  mean loss=0.770515868255, accuracy=0.769372691967\n",
      "epoch 2\n",
      "train mean loss=0.513243945982, accuracy=0.783671582042, throughput=951.976112163 images/sec\n",
      "test  mean loss=0.517006267701, accuracy=0.7822878176\n",
      "epoch 3\n",
      "train mean loss=0.412609556917, accuracy=0.818265679633, throughput=1027.25791076 images/sec\n",
      "test  mean loss=0.451953402415, accuracy=0.789667895359\n",
      "epoch 4\n",
      "train mean loss=0.374739015839, accuracy=0.839022137032, throughput=1065.5489713 images/sec\n",
      "test  mean loss=0.436411118925, accuracy=0.813653138291\n",
      "epoch 5\n",
      "train mean loss=0.350621334466, accuracy=0.845479698474, throughput=1073.68401146 images/sec\n",
      "test  mean loss=0.52345504488, accuracy=0.789667890521\n",
      "epoch 6\n",
      "train mean loss=0.344226040468, accuracy=0.855166042038, throughput=1046.9965709 images/sec\n",
      "test  mean loss=0.429894789449, accuracy=0.800738004301\n",
      "epoch 7\n",
      "train mean loss=0.33875343829, accuracy=0.862084867385, throughput=1015.72357354 images/sec\n",
      "test  mean loss=0.412158502644, accuracy=0.821033207253\n",
      "epoch 8\n",
      "train mean loss=0.387984358503, accuracy=0.85839482867, throughput=918.100958835 images/sec\n",
      "test  mean loss=0.47232382093, accuracy=0.80442804604\n",
      "epoch 9\n",
      "train mean loss=0.378557457145, accuracy=0.851937265579, throughput=885.715734301 images/sec\n",
      "test  mean loss=0.444306295406, accuracy=0.824723232936\n",
      "epoch 10\n",
      "train mean loss=0.283775664619, accuracy=0.880535054361, throughput=942.945645605 images/sec\n",
      "test  mean loss=0.417758366169, accuracy=0.837638371105\n",
      "epoch 11\n",
      "train mean loss=0.259280933322, accuracy=0.89391143653, throughput=926.464515443 images/sec\n",
      "test  mean loss=0.358241843341, accuracy=0.841328402947\n",
      "epoch 12\n",
      "train mean loss=0.234868569169, accuracy=0.900830253794, throughput=1028.61968683 images/sec\n",
      "test  mean loss=0.507463369862, accuracy=0.837638376604\n",
      "epoch 13\n",
      "train mean loss=0.25201322218, accuracy=0.901291513465, throughput=1035.25449981 images/sec\n",
      "test  mean loss=0.391271840107, accuracy=0.856088552968\n",
      "epoch 14\n",
      "train mean loss=0.201800770137, accuracy=0.929889297023, throughput=1076.82464182 images/sec\n",
      "test  mean loss=0.338744929906, accuracy=0.872693719019\n",
      "epoch 15\n",
      "train mean loss=0.175959330506, accuracy=0.940959408714, throughput=1017.18131794 images/sec\n",
      "test  mean loss=0.379644148189, accuracy=0.872693719019\n",
      "epoch 16\n",
      "train mean loss=0.144071818058, accuracy=0.952952035899, throughput=1028.9198577 images/sec\n",
      "test  mean loss=0.27301567386, accuracy=0.89298892791\n",
      "epoch 17\n",
      "train mean loss=0.121375391658, accuracy=0.96263837149, throughput=1044.11131644 images/sec\n",
      "test  mean loss=0.313754887983, accuracy=0.900368998631\n",
      "epoch 18\n",
      "train mean loss=0.135598186823, accuracy=0.955719560275, throughput=1001.26363756 images/sec\n",
      "test  mean loss=0.301678438468, accuracy=0.876383757899\n",
      "epoch 19\n",
      "train mean loss=0.342763503409, accuracy=0.913745385034, throughput=944.463591794 images/sec\n",
      "test  mean loss=0.634856480404, accuracy=0.822878226583\n",
      "epoch 20\n",
      "train mean loss=0.27548169368, accuracy=0.911900367794, throughput=1038.27051858 images/sec\n",
      "test  mean loss=0.382006929809, accuracy=0.857933571858\n",
      "epoch 21\n",
      "train mean loss=0.14307171793, accuracy=0.959409592281, throughput=1036.37493193 images/sec\n",
      "test  mean loss=0.369163039701, accuracy=0.900369000171\n",
      "epoch 22\n",
      "train mean loss=0.109372299457, accuracy=0.970940962379, throughput=1022.27413143 images/sec\n",
      "test  mean loss=0.291186727913, accuracy=0.898523972483\n",
      "epoch 23\n",
      "train mean loss=0.0816742836333, accuracy=0.979704798533, throughput=1015.85678971 images/sec\n",
      "test  mean loss=0.299775170747, accuracy=0.894833937562\n",
      "epoch 24\n",
      "train mean loss=0.0620220541332, accuracy=0.984317348507, throughput=1005.11364357 images/sec\n",
      "test  mean loss=0.291162105339, accuracy=0.902214026319\n",
      "epoch 25\n",
      "train mean loss=0.0488085893904, accuracy=0.988929893698, throughput=1000.26301934 images/sec\n",
      "test  mean loss=0.285996560598, accuracy=0.905904055741\n",
      "epoch 26\n",
      "train mean loss=0.0387496368657, accuracy=0.993542440208, throughput=950.269561866 images/sec\n",
      "test  mean loss=0.252274867986, accuracy=0.911439111312\n",
      "epoch 27\n",
      "train mean loss=0.0329400523268, accuracy=0.994464947179, throughput=1024.49239533 images/sec\n",
      "test  mean loss=0.317164113821, accuracy=0.902214015322\n",
      "epoch 28\n",
      "train mean loss=0.0288214053936, accuracy=0.994926202726, throughput=1013.755848 images/sec\n",
      "test  mean loss=0.256769498075, accuracy=0.915129153491\n",
      "epoch 29\n",
      "train mean loss=0.0227315102169, accuracy=0.998154983309, throughput=983.747259772 images/sec\n",
      "test  mean loss=0.289320497152, accuracy=0.907749076391\n",
      "epoch 30\n",
      "train mean loss=0.0191104069792, accuracy=0.998154983309, throughput=1016.01399341 images/sec\n",
      "test  mean loss=0.265746846781, accuracy=0.909594087583\n",
      "epoch 31\n",
      "train mean loss=0.0155825323216, accuracy=0.999077491655, throughput=982.206605284 images/sec\n",
      "test  mean loss=0.290145035201, accuracy=0.911439109772\n",
      "epoch 32\n",
      "train mean loss=0.0126362345684, accuracy=0.999538745827, throughput=980.556665617 images/sec\n",
      "test  mean loss=0.324494488194, accuracy=0.909594086923\n",
      "epoch 33\n",
      "train mean loss=0.0114416033876, accuracy=0.999538745827, throughput=1028.83929834 images/sec\n",
      "test  mean loss=0.357428561992, accuracy=0.907749070233\n",
      "epoch 34\n",
      "train mean loss=0.0091096583908, accuracy=1.0, throughput=992.904100647 images/sec\n",
      "test  mean loss=0.344467441026, accuracy=0.909594086923\n",
      "epoch 35\n",
      "train mean loss=0.00825626837202, accuracy=1.0, throughput=967.216805133 images/sec\n",
      "test  mean loss=0.392575225308, accuracy=0.905904053542\n",
      "epoch 36\n",
      "train mean loss=0.00661120377288, accuracy=1.0, throughput=930.58868645 images/sec\n",
      "test  mean loss=0.422458030118, accuracy=0.907749070233\n",
      "epoch 37\n",
      "train mean loss=0.0060423160712, accuracy=1.0, throughput=652.488480735 images/sec\n",
      "test  mean loss=0.438835909061, accuracy=0.905904059041\n",
      "epoch 38\n",
      "train mean loss=0.00505457540561, accuracy=1.0, throughput=644.050816352 images/sec\n",
      "test  mean loss=0.426733645662, accuracy=0.907749070233\n",
      "epoch 39\n",
      "train mean loss=0.00428407505838, accuracy=1.0, throughput=706.346046253 images/sec\n",
      "test  mean loss=0.477386939432, accuracy=0.905904053542\n",
      "epoch 40\n",
      "train mean loss=0.0038393277191, accuracy=1.0, throughput=717.611357849 images/sec\n",
      "test  mean loss=0.460033811313, accuracy=0.907749070233\n",
      "epoch 41\n",
      "train mean loss=0.0034862875259, accuracy=1.0, throughput=869.202294677 images/sec\n",
      "test  mean loss=0.463948878154, accuracy=0.907749070233\n",
      "epoch 42\n",
      "train mean loss=0.00308880806063, accuracy=1.0, throughput=878.113951767 images/sec\n",
      "test  mean loss=0.447139227055, accuracy=0.905904048043\n",
      "epoch 43\n",
      "train mean loss=0.00275458988705, accuracy=1.0, throughput=911.598085867 images/sec\n",
      "test  mean loss=0.489619941069, accuracy=0.904059031353\n",
      "epoch 44\n",
      "train mean loss=0.00254727452812, accuracy=1.0, throughput=896.075113322 images/sec\n",
      "test  mean loss=0.528863804559, accuracy=0.905904053542\n",
      "epoch 45\n",
      "train mean loss=0.00227512874887, accuracy=1.0, throughput=831.225867715 images/sec\n",
      "test  mean loss=0.531628537208, accuracy=0.905904053542\n",
      "epoch 46\n",
      "train mean loss=0.00208247544839, accuracy=1.0, throughput=856.198826231 images/sec\n",
      "test  mean loss=0.482948404946, accuracy=0.904059031353\n",
      "epoch 47\n",
      "train mean loss=0.00194871290312, accuracy=1.0, throughput=860.675672987 images/sec\n",
      "test  mean loss=0.51363399897, accuracy=0.904059031353\n",
      "epoch 48\n",
      "train mean loss=0.00174419981928, accuracy=1.0, throughput=796.549264112 images/sec\n",
      "test  mean loss=0.476890806315, accuracy=0.904059031353\n",
      "epoch 49\n",
      "train mean loss=0.00161807563649, accuracy=1.0, throughput=773.248457096 images/sec\n",
      "test  mean loss=0.544759903419, accuracy=0.905904053542\n",
      "epoch 50\n",
      "train mean loss=0.00146194438603, accuracy=1.0, throughput=784.021328792 images/sec\n",
      "test  mean loss=0.538385951775, accuracy=0.905904053542\n",
      "save the model\n",
      "save the optimizer\n"
     ]
    }
   ],
   "source": [
    "cnntrain.train(train_0_0_30, test_0_0_30)"
   ]
  },
  {
   "cell_type": "code",
   "execution_count": 59,
   "metadata": {
    "collapsed": true
   },
   "outputs": [],
   "source": [
    "epoch_num = 50\n",
    "save_data_dir = '../data/bookmark/ajax_60/'\n",
    "save_model_dir = \"../models/cnn/results/ajax_%s_60/\" % epoch_num\n",
    "os.mkdir(\"../models/cnn/results/ajax_%s_60\" % epoch_num)\n",
    "train_0_0_60 = numpy.load(save_data_dir + '0_test/0_fold/0_train.npz')\n",
    "test_0_0_60 = numpy.load(save_data_dir + '0_test/0_fold/0_test.npz')\n",
    "cnntrain = cnn.CNN(save_model_dir=save_model_dir, epoch_num=epoch_num)"
   ]
  },
  {
   "cell_type": "code",
   "execution_count": 60,
   "metadata": {
    "collapsed": false
   },
   "outputs": [
    {
     "data": {
      "text/plain": [
       "(1456, 30)"
      ]
     },
     "execution_count": 60,
     "metadata": {},
     "output_type": "execute_result"
    }
   ],
   "source": [
    "train_0_0_60['x'].shape"
   ]
  },
  {
   "cell_type": "code",
   "execution_count": 61,
   "metadata": {
    "collapsed": false
   },
   "outputs": [
    {
     "name": "stdout",
     "output_type": "stream",
     "text": [
      "epoch 1\n",
      "graph generated\n",
      "train mean loss=0.756237555234, accuracy=0.770604389505, throughput=414.482740029 images/sec\n",
      "test  mean loss=0.714041425916, accuracy=0.834710748728\n",
      "epoch 2\n",
      "train mean loss=0.495513381518, accuracy=0.840659337139, throughput=712.392200358 images/sec\n",
      "test  mean loss=0.427742324174, accuracy=0.867768587324\n",
      "epoch 3\n",
      "train mean loss=0.323671543909, accuracy=0.870879124563, throughput=818.748929825 images/sec\n",
      "test  mean loss=0.292671098484, accuracy=0.895316805721\n",
      "epoch 4\n",
      "train mean loss=0.295001422024, accuracy=0.886675816889, throughput=917.035975479 images/sec\n",
      "test  mean loss=0.380116275981, accuracy=0.887052334373\n",
      "epoch 5\n",
      "train mean loss=0.34921425846, accuracy=0.860576918901, throughput=952.15286567 images/sec\n",
      "test  mean loss=0.473161475687, accuracy=0.878787879445\n",
      "epoch 6\n",
      "train mean loss=0.262986373893, accuracy=0.901098895122, throughput=911.876287539 images/sec\n",
      "test  mean loss=0.245746021572, accuracy=0.925619831755\n",
      "epoch 7\n",
      "train mean loss=0.208810764692, accuracy=0.916895602594, throughput=920.388372154 images/sec\n",
      "test  mean loss=0.393923745586, accuracy=0.914600550307\n",
      "epoch 8\n",
      "train mean loss=0.202058797293, accuracy=0.92857142022, throughput=963.477784216 images/sec\n",
      "test  mean loss=0.198863292693, accuracy=0.925619823545\n",
      "epoch 9\n",
      "train mean loss=0.168729668944, accuracy=0.932692302289, throughput=975.143850528 images/sec\n",
      "test  mean loss=0.240055524552, accuracy=0.911845731998\n",
      "epoch 10\n",
      "train mean loss=0.151593146252, accuracy=0.942307694109, throughput=1070.48904305 images/sec\n",
      "test  mean loss=0.17281879302, accuracy=0.944903568131\n",
      "epoch 11\n",
      "train mean loss=0.130145330402, accuracy=0.953983515337, throughput=1046.46115663 images/sec\n",
      "test  mean loss=0.175777991818, accuracy=0.928374658275\n",
      "epoch 12\n",
      "train mean loss=0.118384300639, accuracy=0.961538463422, throughput=1029.36310728 images/sec\n",
      "test  mean loss=0.182373861123, accuracy=0.920110195136\n",
      "epoch 13\n",
      "train mean loss=0.100783387782, accuracy=0.971153849101, throughput=974.889798254 images/sec\n",
      "test  mean loss=0.1860716614, accuracy=0.939393931512\n",
      "epoch 14\n",
      "train mean loss=0.129506698886, accuracy=0.958791211247, throughput=1013.43079765 images/sec\n",
      "test  mean loss=0.28037803031, accuracy=0.906336078959\n",
      "epoch 15\n",
      "train mean loss=0.106737403823, accuracy=0.964285709455, throughput=1032.91712536 images/sec\n",
      "test  mean loss=0.177208198604, accuracy=0.933884286683\n",
      "epoch 16\n",
      "train mean loss=0.465071683059, accuracy=0.937499994105, throughput=1024.84049013 images/sec\n",
      "test  mean loss=0.348406366162, accuracy=0.909090905479\n",
      "epoch 17\n",
      "train mean loss=0.154234437078, accuracy=0.949862631959, throughput=998.054625654 images/sec\n",
      "test  mean loss=0.244824408813, accuracy=0.933884294893\n",
      "epoch 18\n",
      "train mean loss=0.0919199078804, accuracy=0.971840667774, throughput=1010.88361451 images/sec\n",
      "test  mean loss=0.134991908415, accuracy=0.955922865999\n",
      "epoch 19\n",
      "train mean loss=0.0626379916787, accuracy=0.984203299487, throughput=877.400244159 images/sec\n",
      "test  mean loss=0.143783038231, accuracy=0.95316803948\n",
      "epoch 20\n",
      "train mean loss=0.053088265223, accuracy=0.990384620461, throughput=1028.20053972 images/sec\n",
      "test  mean loss=0.129740971469, accuracy=0.966942147447\n",
      "epoch 21\n",
      "train mean loss=0.0422168587882, accuracy=0.992445059366, throughput=1039.38748624 images/sec\n",
      "test  mean loss=0.144000704836, accuracy=0.95316804769\n",
      "epoch 22\n",
      "train mean loss=0.0364752660331, accuracy=0.994505497699, throughput=1000.52306252 images/sec\n",
      "test  mean loss=0.19244313278, accuracy=0.958677676098\n",
      "epoch 23\n",
      "train mean loss=0.0273363365201, accuracy=0.997252747826, throughput=1037.79233266 images/sec\n",
      "test  mean loss=0.205031831736, accuracy=0.95316804769\n",
      "epoch 24\n",
      "train mean loss=0.0289057928264, accuracy=0.995192312277, throughput=1004.8987918 images/sec\n",
      "test  mean loss=0.131666818933, accuracy=0.961432502618\n",
      "epoch 25\n",
      "train mean loss=0.0226700258234, accuracy=0.996565937341, throughput=668.052670966 images/sec\n",
      "test  mean loss=0.143265300921, accuracy=0.961432494408\n",
      "epoch 26\n",
      "train mean loss=0.0153238304889, accuracy=0.998626374936, throughput=473.777273952 images/sec\n",
      "test  mean loss=0.141085605285, accuracy=0.964187312717\n",
      "epoch 27\n",
      "train mean loss=0.0108356710816, accuracy=0.999313187468, throughput=679.722686712 images/sec\n",
      "test  mean loss=0.146113169899, accuracy=0.966942139237\n",
      "epoch 28\n",
      "train mean loss=0.00900648641566, accuracy=0.999313187468, throughput=754.349418214 images/sec\n",
      "test  mean loss=0.139458155465, accuracy=0.964187320927\n",
      "epoch 29\n",
      "train mean loss=0.00701536362732, accuracy=1.0, throughput=910.209334058 images/sec\n",
      "test  mean loss=0.157249014179, accuracy=0.966942139237\n",
      "epoch 30\n",
      "train mean loss=0.00656236591045, accuracy=1.0, throughput=952.602745478 images/sec\n",
      "test  mean loss=0.126229805164, accuracy=0.966942139237\n",
      "epoch 31\n",
      "train mean loss=0.00521093948999, accuracy=1.0, throughput=967.644438867 images/sec\n",
      "test  mean loss=0.154703814671, accuracy=0.969696965756\n",
      "epoch 32\n",
      "train mean loss=0.00419144404561, accuracy=1.0, throughput=894.433501507 images/sec\n",
      "test  mean loss=0.152119078965, accuracy=0.972451784066\n",
      "epoch 33\n",
      "train mean loss=0.00352301854934, accuracy=1.0, throughput=653.267782056 images/sec\n",
      "test  mean loss=0.167074671299, accuracy=0.969696965756\n",
      "epoch 34\n",
      "train mean loss=0.00309851426381, accuracy=1.0, throughput=734.920437238 images/sec\n",
      "test  mean loss=0.153943806451, accuracy=0.966942139237\n",
      "epoch 35\n",
      "train mean loss=0.00297498005934, accuracy=1.0, throughput=554.217405197 images/sec\n",
      "test  mean loss=0.156850178751, accuracy=0.966942139237\n",
      "epoch 36\n",
      "train mean loss=0.00280895784921, accuracy=1.0, throughput=685.454177748 images/sec\n",
      "test  mean loss=0.157621630329, accuracy=0.972451784066\n",
      "epoch 37\n",
      "train mean loss=0.00221543262232, accuracy=1.0, throughput=909.748720195 images/sec\n",
      "test  mean loss=0.169551691734, accuracy=0.972451784066\n",
      "epoch 38\n",
      "train mean loss=0.00206851285715, accuracy=1.0, throughput=826.614192805 images/sec\n",
      "test  mean loss=0.182387443994, accuracy=0.972451784066\n",
      "epoch 39\n",
      "train mean loss=0.00171463639748, accuracy=1.0, throughput=927.447023544 images/sec\n",
      "test  mean loss=0.183008130896, accuracy=0.972451784066\n",
      "epoch 40\n",
      "train mean loss=0.0015598356506, accuracy=1.0, throughput=707.192610158 images/sec\n",
      "test  mean loss=0.17773852446, accuracy=0.972451784066\n",
      "epoch 41\n",
      "train mean loss=0.00139688754128, accuracy=1.0, throughput=610.423785121 images/sec\n",
      "test  mean loss=0.180494802694, accuracy=0.972451784066\n",
      "epoch 42\n",
      "train mean loss=0.00133730804925, accuracy=1.0, throughput=508.909945562 images/sec\n",
      "test  mean loss=0.189331002278, accuracy=0.969696965756\n",
      "epoch 43\n",
      "train mean loss=0.00119277050921, accuracy=1.0, throughput=704.874108044 images/sec\n",
      "test  mean loss=0.185327380342, accuracy=0.972451784066\n",
      "epoch 44\n",
      "train mean loss=0.00105101624697, accuracy=1.0, throughput=853.458933701 images/sec\n",
      "test  mean loss=0.196701232016, accuracy=0.969696965756\n",
      "epoch 45\n",
      "train mean loss=0.000979023139315, accuracy=1.0, throughput=952.667537034 images/sec\n",
      "test  mean loss=0.212719611126, accuracy=0.966942139237\n",
      "epoch 46\n",
      "train mean loss=0.000925351893474, accuracy=1.0, throughput=752.674874362 images/sec\n",
      "test  mean loss=0.201081731483, accuracy=0.972451784066\n",
      "epoch 47\n",
      "train mean loss=0.00084227419123, accuracy=1.0, throughput=727.024723862 images/sec\n",
      "test  mean loss=0.201638974773, accuracy=0.972451784066\n",
      "epoch 48\n",
      "train mean loss=0.000802438119326, accuracy=1.0, throughput=652.693513333 images/sec\n",
      "test  mean loss=0.202227629352, accuracy=0.969696965756\n",
      "epoch 49\n",
      "train mean loss=0.000728891633176, accuracy=1.0, throughput=809.412741202 images/sec\n",
      "test  mean loss=0.199680649304, accuracy=0.972451784066\n",
      "epoch 50\n",
      "train mean loss=0.000667527958265, accuracy=1.0, throughput=992.994561617 images/sec\n",
      "test  mean loss=0.217697885945, accuracy=0.969696965756\n",
      "save the model\n",
      "save the optimizer\n"
     ]
    }
   ],
   "source": [
    "cnntrain.train(train_0_0_60, test_0_0_60)"
   ]
  },
  {
   "cell_type": "code",
   "execution_count": null,
   "metadata": {
    "collapsed": true
   },
   "outputs": [],
   "source": []
  }
 ],
 "metadata": {
  "celltoolbar": "Raw Cell Format",
  "kernelspec": {
   "display_name": "Python 2",
   "language": "python",
   "name": "python2"
  },
  "language_info": {
   "codemirror_mode": {
    "name": "ipython",
    "version": 2
   },
   "file_extension": ".py",
   "mimetype": "text/x-python",
   "name": "python",
   "nbconvert_exporter": "python",
   "pygments_lexer": "ipython2",
   "version": "2.7.11"
  }
 },
 "nbformat": 4,
 "nbformat_minor": 0
}
