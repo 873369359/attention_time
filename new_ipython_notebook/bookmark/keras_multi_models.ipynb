{
 "cells": [
  {
   "cell_type": "code",
   "execution_count": 11,
   "metadata": {
    "collapsed": false
   },
   "outputs": [],
   "source": [
    "from matplotlib import pyplot as plt\n",
    "import matplotlib.image as mpimg\n",
    "from matplotlib import rc\n",
    "%matplotlib inline\n",
    "plt.style.use(\"ggplot\")\n",
    "\n",
    "import daft\n",
    "from gensim.models.doc2vec import Word2Vec\n",
    "import json\n",
    "from IPython.display import SVG, display\n",
    "import numpy as np\n",
    "np.random.seed(13)\n",
    "\n",
    "from keras import backend as K\n",
    "from keras.models import Model, Sequential, model_from_json\n",
    "from keras.datasets import mnist, cifar10, imdb\n",
    "from keras.layers import Dense, Dropout, Activation, Flatten, Embedding, LSTM, GRU, Input, RepeatVector, TimeDistributed, Merge, Lambda, Reshape\n",
    "from keras.layers.convolutional import Convolution2D, MaxPooling2D\n",
    "from keras.optimizers import Adadelta\n",
    "from keras.utils.data_utils import get_file\n",
    "from keras.utils import np_utils\n",
    "from keras.utils.visualize_util import model_to_dot, plot\n",
    "from keras.preprocessing import sequence\n",
    "from keras.preprocessing.text import Tokenizer, base_filter"
   ]
  },
  {
   "cell_type": "code",
   "execution_count": 2,
   "metadata": {
    "collapsed": true
   },
   "outputs": [],
   "source": [
    "import sys\n",
    "import os\n",
    "project_path = os.getcwd() + '/../../'\n",
    "sys.path.append(project_path + \"utils\")\n",
    "sys.path.append(project_path + \"data\")\n",
    "sys.path.append(project_path + \"multi_models/cnn/\")\n",
    "sys.path.append(project_path + \"multi_models/timeseries_model/\")\n",
    "sys.path.append(project_path + \"multi_models/knn/\")"
   ]
  },
  {
   "cell_type": "code",
   "execution_count": 3,
   "metadata": {
    "collapsed": true
   },
   "outputs": [],
   "source": [
    "# utils\n",
    "import analysis\n",
    "import function\n",
    "import other\n",
    "import local_bayes\n",
    "import visualize"
   ]
  },
  {
   "cell_type": "code",
   "execution_count": 4,
   "metadata": {
    "collapsed": true
   },
   "outputs": [],
   "source": [
    "# data\n",
    "from base import BaseDataManager\n",
    "import get_normal_representation \n",
    "from preprocessing import Preprocessing\n",
    "from data import Data"
   ]
  },
  {
   "cell_type": "code",
   "execution_count": 5,
   "metadata": {
    "collapsed": true
   },
   "outputs": [],
   "source": [
    "import numpy\n",
    "from keras.layers import LSTM, GRU, SimpleRNN\n",
    "sys.path.append(project_path + \"multi_models/knn/\")"
   ]
  },
  {
   "cell_type": "code",
   "execution_count": 34,
   "metadata": {
    "collapsed": false
   },
   "outputs": [
    {
     "name": "stdout",
     "output_type": "stream",
     "text": [
      "The autoreload extension is already loaded. To reload it, use:\n",
      "  %reload_ext autoreload\n"
     ]
    }
   ],
   "source": [
    "%load_ext autoreload\n",
    "%autoreload 2\n",
    "from timeseries_model import TimeseriesModel"
   ]
  },
  {
   "cell_type": "markdown",
   "metadata": {},
   "source": [
    "## make data"
   ]
  },
  {
   "cell_type": "code",
   "execution_count": 35,
   "metadata": {
    "collapsed": true
   },
   "outputs": [],
   "source": [
    "data_name_ls = ['science', 'ajax', 'java', 'news', 'css', 'javascript', 'opensource', 'webdesign', 'design', 'linux', 'photography']\n",
    "raw_data_dir = project_path + 'original_data/bookmark/'\n",
    "save_data_dir = project_path + 'data/datasets/bookmark_new/'\n",
    "train_test_ratio = 0.8\n",
    "stride = 5\n",
    "balance = True\n",
    "output_dim_ls = [6]\n",
    "\n",
    "base_data_manager = BaseDataManager(raw_data_dir, save_data_dir)\n",
    "D = Data(raw_data_dir, save_data_dir)\n",
    "P = Preprocessing(raw_data_dir, save_data_dir)"
   ]
  },
  {
   "cell_type": "code",
   "execution_count": 162,
   "metadata": {
    "collapsed": false
   },
   "outputs": [
    {
     "name": "stdout",
     "output_type": "stream",
     "text": [
      "science\n",
      "ajax\n",
      "java\n",
      "news\n",
      "css\n",
      "javascript\n",
      "opensource\n",
      "webdesign\n",
      "design\n",
      "linux\n",
      "photography\n"
     ]
    }
   ],
   "source": [
    "for output_dim in output_dim_ls:\n",
    "    \n",
    "    for data_name in data_name_ls:\n",
    "        print data_name\n",
    "        data = base_data_manager.load_data('%s.twd' % data_name)\n",
    "        ts_ls, ts_sum_ls = get_normal_representation.get_ts_normal_representation(data)\n",
    "        ts_dict = base_data_manager.div_train_test(ts_ls, train_test_ratio)\n",
    "        started_ts_dict = base_data_manager.get_started_ts(ts_dict)\n",
    "        input_ts_dict, label_dict, target_ts_dict, input_sum_dict = \\\n",
    "                                    base_data_manager.make_supervised_data(started_ts_dict, stride, output_dim)\n",
    "        if balance:\n",
    "            input_ts_dict, label_dict, target_ts_dict = P.balancing_sampling(input_ts_dict, label_dict, target_ts_dict, output_dim)\n",
    "            data_type = 'balance'\n",
    "        else:\n",
    "            data_type = 'normal'\n",
    "        D.make_train_data(input_ts_dict, label_dict, target_ts_dict, output_dim, data_type, data_name)"
   ]
  },
  {
   "cell_type": "markdown",
   "metadata": {},
   "source": [
    "## data load"
   ]
  },
  {
   "cell_type": "code",
   "execution_count": 7,
   "metadata": {
    "collapsed": false
   },
   "outputs": [],
   "source": [
    "data_type = 'balance'\n",
    "output_dim = 6\n",
    "save_data_dir = '../../data/datasets/bookmark_new/%s/' % data_type\n",
    "train_ajax = numpy.load(save_data_dir + 'ajax' + '/output_dim=%s/train.npz' % output_dim)\n",
    "test_ajax = numpy.load(save_data_dir + 'ajax' + '/output_dim=%s/test.npz' % output_dim)\n",
    "target_ajax = numpy.load(save_data_dir + 'ajax' + '/output_dim=%s/target.npz' % output_dim)"
   ]
  },
  {
   "cell_type": "code",
   "execution_count": 8,
   "metadata": {
    "collapsed": false
   },
   "outputs": [
    {
     "name": "stdout",
     "output_type": "stream",
     "text": [
      "(778, 1, 1, 30)\n",
      "train samples: 778\n",
      "test samples: 322\n"
     ]
    }
   ],
   "source": [
    "rows = 1\n",
    "cols = 30\n",
    "nb_classes = 2\n",
    "x_train = train_ajax['x'].reshape(train_ajax['x'].shape[0], 1, rows, cols)\n",
    "x_test = test_ajax['x'].reshape(test_ajax['x'].shape[0], 1, rows, cols)\n",
    "x_train = x_train.astype('float32')\n",
    "x_test = x_test.astype('float32')\n",
    "print x_train.shape\n",
    "print 'train samples: %s' % x_train.shape[0]\n",
    "print 'test samples: %s' % x_test.shape[0]\n",
    "\n",
    "y_train = train_ajax['y']\n",
    "y_test = test_ajax['y']"
   ]
  },
  {
   "cell_type": "code",
   "execution_count": 9,
   "metadata": {
    "collapsed": false
   },
   "outputs": [
    {
     "name": "stdout",
     "output_type": "stream",
     "text": [
      "chance level for dim 0: 0.704968944099\n",
      "chance level for dim 1: 0.611801242236\n",
      "chance level for dim 2: 0.60248447205\n",
      "chance level for dim 3: 0.549689440994\n",
      "chance level for dim 4: 0.521739130435\n",
      "chance level for dim 5: 0.5\n"
     ]
    }
   ],
   "source": [
    "for i in xrange(output_dim):\n",
    "    all_, sum_ = 0, 0\n",
    "    for ele in test_ajax['y'][:, i]:\n",
    "        if abs(ele - 1) == 0:\n",
    "            sum_ += 1.0\n",
    "        all_ += 1.0\n",
    "    print 'chance level for dim %s: %s' % (i, sum_ / all_)"
   ]
  },
  {
   "cell_type": "markdown",
   "metadata": {},
   "source": [
    "## model"
   ]
  },
  {
   "cell_type": "code",
   "execution_count": 10,
   "metadata": {
    "collapsed": false,
    "scrolled": true
   },
   "outputs": [
    {
     "data": {
      "image/svg+xml": [
       "<svg height=\"1268pt\" viewBox=\"0.00 0.00 393.14 1268.00\" width=\"393pt\" xmlns=\"http://www.w3.org/2000/svg\" xmlns:xlink=\"http://www.w3.org/1999/xlink\">\n",
       "<g class=\"graph\" id=\"graph0\" transform=\"scale(1 1) rotate(0) translate(4 1264)\">\n",
       "<title>G</title>\n",
       "<polygon fill=\"white\" points=\"-4,4 -4,-1264 389.142,-1264 389.142,4 -4,4\" stroke=\"none\"/>\n",
       "<!-- 4779891472 -->\n",
       "<g class=\"node\" id=\"node1\"><title>4779891472</title>\n",
       "<polygon fill=\"none\" points=\"1.57227,-1215.5 1.57227,-1259.5 383.569,-1259.5 383.569,-1215.5 1.57227,-1215.5\" stroke=\"black\"/>\n",
       "<text font-family=\"Times,serif\" font-size=\"14.00\" text-anchor=\"middle\" x=\"112.412\" y=\"-1233.3\">convolution2d_input_1 (InputLayer)</text>\n",
       "<polyline fill=\"none\" points=\"223.252,-1215.5 223.252,-1259.5 \" stroke=\"black\"/>\n",
       "<text font-family=\"Times,serif\" font-size=\"14.00\" text-anchor=\"middle\" x=\"251.086\" y=\"-1244.3\">input:</text>\n",
       "<polyline fill=\"none\" points=\"223.252,-1237.5 278.921,-1237.5 \" stroke=\"black\"/>\n",
       "<text font-family=\"Times,serif\" font-size=\"14.00\" text-anchor=\"middle\" x=\"251.086\" y=\"-1222.3\">output:</text>\n",
       "<polyline fill=\"none\" points=\"278.921,-1215.5 278.921,-1259.5 \" stroke=\"black\"/>\n",
       "<text font-family=\"Times,serif\" font-size=\"14.00\" text-anchor=\"middle\" x=\"331.245\" y=\"-1244.3\">(None, 1, 1, 30)</text>\n",
       "<polyline fill=\"none\" points=\"278.921,-1237.5 383.569,-1237.5 \" stroke=\"black\"/>\n",
       "<text font-family=\"Times,serif\" font-size=\"14.00\" text-anchor=\"middle\" x=\"331.245\" y=\"-1222.3\">(None, 1, 1, 30)</text>\n",
       "</g>\n",
       "<!-- 4779891024 -->\n",
       "<g class=\"node\" id=\"node2\"><title>4779891024</title>\n",
       "<polygon fill=\"none\" points=\"3.5,-1134.5 3.5,-1178.5 381.642,-1178.5 381.642,-1134.5 3.5,-1134.5\" stroke=\"black\"/>\n",
       "<text font-family=\"Times,serif\" font-size=\"14.00\" text-anchor=\"middle\" x=\"108.912\" y=\"-1152.3\">convolution2d_1 (Convolution2D)</text>\n",
       "<polyline fill=\"none\" points=\"214.324,-1134.5 214.324,-1178.5 \" stroke=\"black\"/>\n",
       "<text font-family=\"Times,serif\" font-size=\"14.00\" text-anchor=\"middle\" x=\"242.159\" y=\"-1163.3\">input:</text>\n",
       "<polyline fill=\"none\" points=\"214.324,-1156.5 269.993,-1156.5 \" stroke=\"black\"/>\n",
       "<text font-family=\"Times,serif\" font-size=\"14.00\" text-anchor=\"middle\" x=\"242.159\" y=\"-1141.3\">output:</text>\n",
       "<polyline fill=\"none\" points=\"269.993,-1134.5 269.993,-1178.5 \" stroke=\"black\"/>\n",
       "<text font-family=\"Times,serif\" font-size=\"14.00\" text-anchor=\"middle\" x=\"325.817\" y=\"-1163.3\">(None, 1, 1, 30)</text>\n",
       "<polyline fill=\"none\" points=\"269.993,-1156.5 381.642,-1156.5 \" stroke=\"black\"/>\n",
       "<text font-family=\"Times,serif\" font-size=\"14.00\" text-anchor=\"middle\" x=\"325.817\" y=\"-1141.3\">(None, 50, 1, 28)</text>\n",
       "</g>\n",
       "<!-- 4779891472&#45;&gt;4779891024 -->\n",
       "<g class=\"edge\" id=\"edge1\"><title>4779891472-&gt;4779891024</title>\n",
       "<path d=\"M192.571,-1215.33C192.571,-1207.18 192.571,-1197.7 192.571,-1188.8\" fill=\"none\" stroke=\"black\"/>\n",
       "<polygon fill=\"black\" points=\"196.071,-1188.73 192.571,-1178.73 189.071,-1188.73 196.071,-1188.73\" stroke=\"black\"/>\n",
       "</g>\n",
       "<!-- 4779891088 -->\n",
       "<g class=\"node\" id=\"node3\"><title>4779891088</title>\n",
       "<polygon fill=\"none\" points=\"30.3516,-1053.5 30.3516,-1097.5 354.79,-1097.5 354.79,-1053.5 30.3516,-1053.5\" stroke=\"black\"/>\n",
       "<text font-family=\"Times,serif\" font-size=\"14.00\" text-anchor=\"middle\" x=\"108.912\" y=\"-1071.3\">activation_1 (Activation)</text>\n",
       "<polyline fill=\"none\" points=\"187.473,-1053.5 187.473,-1097.5 \" stroke=\"black\"/>\n",
       "<text font-family=\"Times,serif\" font-size=\"14.00\" text-anchor=\"middle\" x=\"215.307\" y=\"-1082.3\">input:</text>\n",
       "<polyline fill=\"none\" points=\"187.473,-1075.5 243.142,-1075.5 \" stroke=\"black\"/>\n",
       "<text font-family=\"Times,serif\" font-size=\"14.00\" text-anchor=\"middle\" x=\"215.307\" y=\"-1060.3\">output:</text>\n",
       "<polyline fill=\"none\" points=\"243.142,-1053.5 243.142,-1097.5 \" stroke=\"black\"/>\n",
       "<text font-family=\"Times,serif\" font-size=\"14.00\" text-anchor=\"middle\" x=\"298.966\" y=\"-1082.3\">(None, 50, 1, 28)</text>\n",
       "<polyline fill=\"none\" points=\"243.142,-1075.5 354.79,-1075.5 \" stroke=\"black\"/>\n",
       "<text font-family=\"Times,serif\" font-size=\"14.00\" text-anchor=\"middle\" x=\"298.966\" y=\"-1060.3\">(None, 50, 1, 28)</text>\n",
       "</g>\n",
       "<!-- 4779891024&#45;&gt;4779891088 -->\n",
       "<g class=\"edge\" id=\"edge2\"><title>4779891024-&gt;4779891088</title>\n",
       "<path d=\"M192.571,-1134.33C192.571,-1126.18 192.571,-1116.7 192.571,-1107.8\" fill=\"none\" stroke=\"black\"/>\n",
       "<polygon fill=\"black\" points=\"196.071,-1107.73 192.571,-1097.73 189.071,-1107.73 196.071,-1107.73\" stroke=\"black\"/>\n",
       "</g>\n",
       "<!-- 4408027152 -->\n",
       "<g class=\"node\" id=\"node4\"><title>4408027152</title>\n",
       "<polygon fill=\"none\" points=\"0,-972.5 0,-1016.5 385.142,-1016.5 385.142,-972.5 0,-972.5\" stroke=\"black\"/>\n",
       "<text font-family=\"Times,serif\" font-size=\"14.00\" text-anchor=\"middle\" x=\"105.412\" y=\"-990.3\">convolution2d_2 (Convolution2D)</text>\n",
       "<polyline fill=\"none\" points=\"210.824,-972.5 210.824,-1016.5 \" stroke=\"black\"/>\n",
       "<text font-family=\"Times,serif\" font-size=\"14.00\" text-anchor=\"middle\" x=\"238.659\" y=\"-1001.3\">input:</text>\n",
       "<polyline fill=\"none\" points=\"210.824,-994.5 266.493,-994.5 \" stroke=\"black\"/>\n",
       "<text font-family=\"Times,serif\" font-size=\"14.00\" text-anchor=\"middle\" x=\"238.659\" y=\"-979.3\">output:</text>\n",
       "<polyline fill=\"none\" points=\"266.493,-972.5 266.493,-1016.5 \" stroke=\"black\"/>\n",
       "<text font-family=\"Times,serif\" font-size=\"14.00\" text-anchor=\"middle\" x=\"325.817\" y=\"-1001.3\">(None, 50, 1, 28)</text>\n",
       "<polyline fill=\"none\" points=\"266.493,-994.5 385.142,-994.5 \" stroke=\"black\"/>\n",
       "<text font-family=\"Times,serif\" font-size=\"14.00\" text-anchor=\"middle\" x=\"325.817\" y=\"-979.3\">(None, 100, 1, 26)</text>\n",
       "</g>\n",
       "<!-- 4779891088&#45;&gt;4408027152 -->\n",
       "<g class=\"edge\" id=\"edge3\"><title>4779891088-&gt;4408027152</title>\n",
       "<path d=\"M192.571,-1053.33C192.571,-1045.18 192.571,-1035.7 192.571,-1026.8\" fill=\"none\" stroke=\"black\"/>\n",
       "<polygon fill=\"black\" points=\"196.071,-1026.73 192.571,-1016.73 189.071,-1026.73 196.071,-1026.73\" stroke=\"black\"/>\n",
       "</g>\n",
       "<!-- 4416802576 -->\n",
       "<g class=\"node\" id=\"node5\"><title>4416802576</title>\n",
       "<polygon fill=\"none\" points=\"26.8516,-891.5 26.8516,-935.5 358.29,-935.5 358.29,-891.5 26.8516,-891.5\" stroke=\"black\"/>\n",
       "<text font-family=\"Times,serif\" font-size=\"14.00\" text-anchor=\"middle\" x=\"105.412\" y=\"-909.3\">activation_2 (Activation)</text>\n",
       "<polyline fill=\"none\" points=\"183.973,-891.5 183.973,-935.5 \" stroke=\"black\"/>\n",
       "<text font-family=\"Times,serif\" font-size=\"14.00\" text-anchor=\"middle\" x=\"211.807\" y=\"-920.3\">input:</text>\n",
       "<polyline fill=\"none\" points=\"183.973,-913.5 239.642,-913.5 \" stroke=\"black\"/>\n",
       "<text font-family=\"Times,serif\" font-size=\"14.00\" text-anchor=\"middle\" x=\"211.807\" y=\"-898.3\">output:</text>\n",
       "<polyline fill=\"none\" points=\"239.642,-891.5 239.642,-935.5 \" stroke=\"black\"/>\n",
       "<text font-family=\"Times,serif\" font-size=\"14.00\" text-anchor=\"middle\" x=\"298.966\" y=\"-920.3\">(None, 100, 1, 26)</text>\n",
       "<polyline fill=\"none\" points=\"239.642,-913.5 358.29,-913.5 \" stroke=\"black\"/>\n",
       "<text font-family=\"Times,serif\" font-size=\"14.00\" text-anchor=\"middle\" x=\"298.966\" y=\"-898.3\">(None, 100, 1, 26)</text>\n",
       "</g>\n",
       "<!-- 4408027152&#45;&gt;4416802576 -->\n",
       "<g class=\"edge\" id=\"edge4\"><title>4408027152-&gt;4416802576</title>\n",
       "<path d=\"M192.571,-972.329C192.571,-964.183 192.571,-954.699 192.571,-945.797\" fill=\"none\" stroke=\"black\"/>\n",
       "<polygon fill=\"black\" points=\"196.071,-945.729 192.571,-935.729 189.071,-945.729 196.071,-945.729\" stroke=\"black\"/>\n",
       "</g>\n",
       "<!-- 4416866192 -->\n",
       "<g class=\"node\" id=\"node6\"><title>4416866192</title>\n",
       "<polygon fill=\"none\" points=\"0,-810.5 0,-854.5 385.142,-854.5 385.142,-810.5 0,-810.5\" stroke=\"black\"/>\n",
       "<text font-family=\"Times,serif\" font-size=\"14.00\" text-anchor=\"middle\" x=\"105.412\" y=\"-828.3\">convolution2d_3 (Convolution2D)</text>\n",
       "<polyline fill=\"none\" points=\"210.824,-810.5 210.824,-854.5 \" stroke=\"black\"/>\n",
       "<text font-family=\"Times,serif\" font-size=\"14.00\" text-anchor=\"middle\" x=\"238.659\" y=\"-839.3\">input:</text>\n",
       "<polyline fill=\"none\" points=\"210.824,-832.5 266.493,-832.5 \" stroke=\"black\"/>\n",
       "<text font-family=\"Times,serif\" font-size=\"14.00\" text-anchor=\"middle\" x=\"238.659\" y=\"-817.3\">output:</text>\n",
       "<polyline fill=\"none\" points=\"266.493,-810.5 266.493,-854.5 \" stroke=\"black\"/>\n",
       "<text font-family=\"Times,serif\" font-size=\"14.00\" text-anchor=\"middle\" x=\"325.817\" y=\"-839.3\">(None, 100, 1, 26)</text>\n",
       "<polyline fill=\"none\" points=\"266.493,-832.5 385.142,-832.5 \" stroke=\"black\"/>\n",
       "<text font-family=\"Times,serif\" font-size=\"14.00\" text-anchor=\"middle\" x=\"325.817\" y=\"-817.3\">(None, 100, 1, 24)</text>\n",
       "</g>\n",
       "<!-- 4416802576&#45;&gt;4416866192 -->\n",
       "<g class=\"edge\" id=\"edge5\"><title>4416802576-&gt;4416866192</title>\n",
       "<path d=\"M192.571,-891.329C192.571,-883.183 192.571,-873.699 192.571,-864.797\" fill=\"none\" stroke=\"black\"/>\n",
       "<polygon fill=\"black\" points=\"196.071,-864.729 192.571,-854.729 189.071,-864.729 196.071,-864.729\" stroke=\"black\"/>\n",
       "</g>\n",
       "<!-- 4625379664 -->\n",
       "<g class=\"node\" id=\"node7\"><title>4625379664</title>\n",
       "<polygon fill=\"none\" points=\"26.8516,-729.5 26.8516,-773.5 358.29,-773.5 358.29,-729.5 26.8516,-729.5\" stroke=\"black\"/>\n",
       "<text font-family=\"Times,serif\" font-size=\"14.00\" text-anchor=\"middle\" x=\"105.412\" y=\"-747.3\">activation_3 (Activation)</text>\n",
       "<polyline fill=\"none\" points=\"183.973,-729.5 183.973,-773.5 \" stroke=\"black\"/>\n",
       "<text font-family=\"Times,serif\" font-size=\"14.00\" text-anchor=\"middle\" x=\"211.807\" y=\"-758.3\">input:</text>\n",
       "<polyline fill=\"none\" points=\"183.973,-751.5 239.642,-751.5 \" stroke=\"black\"/>\n",
       "<text font-family=\"Times,serif\" font-size=\"14.00\" text-anchor=\"middle\" x=\"211.807\" y=\"-736.3\">output:</text>\n",
       "<polyline fill=\"none\" points=\"239.642,-729.5 239.642,-773.5 \" stroke=\"black\"/>\n",
       "<text font-family=\"Times,serif\" font-size=\"14.00\" text-anchor=\"middle\" x=\"298.966\" y=\"-758.3\">(None, 100, 1, 24)</text>\n",
       "<polyline fill=\"none\" points=\"239.642,-751.5 358.29,-751.5 \" stroke=\"black\"/>\n",
       "<text font-family=\"Times,serif\" font-size=\"14.00\" text-anchor=\"middle\" x=\"298.966\" y=\"-736.3\">(None, 100, 1, 24)</text>\n",
       "</g>\n",
       "<!-- 4416866192&#45;&gt;4625379664 -->\n",
       "<g class=\"edge\" id=\"edge6\"><title>4416866192-&gt;4625379664</title>\n",
       "<path d=\"M192.571,-810.329C192.571,-802.183 192.571,-792.699 192.571,-783.797\" fill=\"none\" stroke=\"black\"/>\n",
       "<polygon fill=\"black\" points=\"196.071,-783.729 192.571,-773.729 189.071,-783.729 196.071,-783.729\" stroke=\"black\"/>\n",
       "</g>\n",
       "<!-- 4416800592 -->\n",
       "<g class=\"node\" id=\"node8\"><title>4416800592</title>\n",
       "<polygon fill=\"none\" points=\"0,-648.5 0,-692.5 385.142,-692.5 385.142,-648.5 0,-648.5\" stroke=\"black\"/>\n",
       "<text font-family=\"Times,serif\" font-size=\"14.00\" text-anchor=\"middle\" x=\"105.412\" y=\"-666.3\">convolution2d_4 (Convolution2D)</text>\n",
       "<polyline fill=\"none\" points=\"210.824,-648.5 210.824,-692.5 \" stroke=\"black\"/>\n",
       "<text font-family=\"Times,serif\" font-size=\"14.00\" text-anchor=\"middle\" x=\"238.659\" y=\"-677.3\">input:</text>\n",
       "<polyline fill=\"none\" points=\"210.824,-670.5 266.493,-670.5 \" stroke=\"black\"/>\n",
       "<text font-family=\"Times,serif\" font-size=\"14.00\" text-anchor=\"middle\" x=\"238.659\" y=\"-655.3\">output:</text>\n",
       "<polyline fill=\"none\" points=\"266.493,-648.5 266.493,-692.5 \" stroke=\"black\"/>\n",
       "<text font-family=\"Times,serif\" font-size=\"14.00\" text-anchor=\"middle\" x=\"325.817\" y=\"-677.3\">(None, 100, 1, 24)</text>\n",
       "<polyline fill=\"none\" points=\"266.493,-670.5 385.142,-670.5 \" stroke=\"black\"/>\n",
       "<text font-family=\"Times,serif\" font-size=\"14.00\" text-anchor=\"middle\" x=\"325.817\" y=\"-655.3\">(None, 100, 1, 22)</text>\n",
       "</g>\n",
       "<!-- 4625379664&#45;&gt;4416800592 -->\n",
       "<g class=\"edge\" id=\"edge7\"><title>4625379664-&gt;4416800592</title>\n",
       "<path d=\"M192.571,-729.329C192.571,-721.183 192.571,-711.699 192.571,-702.797\" fill=\"none\" stroke=\"black\"/>\n",
       "<polygon fill=\"black\" points=\"196.071,-702.729 192.571,-692.729 189.071,-702.729 196.071,-702.729\" stroke=\"black\"/>\n",
       "</g>\n",
       "<!-- 4416904784 -->\n",
       "<g class=\"node\" id=\"node9\"><title>4416904784</title>\n",
       "<polygon fill=\"none\" points=\"26.8516,-567.5 26.8516,-611.5 358.29,-611.5 358.29,-567.5 26.8516,-567.5\" stroke=\"black\"/>\n",
       "<text font-family=\"Times,serif\" font-size=\"14.00\" text-anchor=\"middle\" x=\"105.412\" y=\"-585.3\">activation_4 (Activation)</text>\n",
       "<polyline fill=\"none\" points=\"183.973,-567.5 183.973,-611.5 \" stroke=\"black\"/>\n",
       "<text font-family=\"Times,serif\" font-size=\"14.00\" text-anchor=\"middle\" x=\"211.807\" y=\"-596.3\">input:</text>\n",
       "<polyline fill=\"none\" points=\"183.973,-589.5 239.642,-589.5 \" stroke=\"black\"/>\n",
       "<text font-family=\"Times,serif\" font-size=\"14.00\" text-anchor=\"middle\" x=\"211.807\" y=\"-574.3\">output:</text>\n",
       "<polyline fill=\"none\" points=\"239.642,-567.5 239.642,-611.5 \" stroke=\"black\"/>\n",
       "<text font-family=\"Times,serif\" font-size=\"14.00\" text-anchor=\"middle\" x=\"298.966\" y=\"-596.3\">(None, 100, 1, 22)</text>\n",
       "<polyline fill=\"none\" points=\"239.642,-589.5 358.29,-589.5 \" stroke=\"black\"/>\n",
       "<text font-family=\"Times,serif\" font-size=\"14.00\" text-anchor=\"middle\" x=\"298.966\" y=\"-574.3\">(None, 100, 1, 22)</text>\n",
       "</g>\n",
       "<!-- 4416800592&#45;&gt;4416904784 -->\n",
       "<g class=\"edge\" id=\"edge8\"><title>4416800592-&gt;4416904784</title>\n",
       "<path d=\"M192.571,-648.329C192.571,-640.183 192.571,-630.699 192.571,-621.797\" fill=\"none\" stroke=\"black\"/>\n",
       "<polygon fill=\"black\" points=\"196.071,-621.729 192.571,-611.729 189.071,-621.729 196.071,-621.729\" stroke=\"black\"/>\n",
       "</g>\n",
       "<!-- 4416939728 -->\n",
       "<g class=\"node\" id=\"node10\"><title>4416939728</title>\n",
       "<polygon fill=\"none\" points=\"0.389648,-486.5 0.389648,-530.5 384.752,-530.5 384.752,-486.5 0.389648,-486.5\" stroke=\"black\"/>\n",
       "<text font-family=\"Times,serif\" font-size=\"14.00\" text-anchor=\"middle\" x=\"105.412\" y=\"-504.3\">maxpooling2d_1 (MaxPooling2D)</text>\n",
       "<polyline fill=\"none\" points=\"210.435,-486.5 210.435,-530.5 \" stroke=\"black\"/>\n",
       "<text font-family=\"Times,serif\" font-size=\"14.00\" text-anchor=\"middle\" x=\"238.269\" y=\"-515.3\">input:</text>\n",
       "<polyline fill=\"none\" points=\"210.435,-508.5 266.104,-508.5 \" stroke=\"black\"/>\n",
       "<text font-family=\"Times,serif\" font-size=\"14.00\" text-anchor=\"middle\" x=\"238.269\" y=\"-493.3\">output:</text>\n",
       "<polyline fill=\"none\" points=\"266.104,-486.5 266.104,-530.5 \" stroke=\"black\"/>\n",
       "<text font-family=\"Times,serif\" font-size=\"14.00\" text-anchor=\"middle\" x=\"325.428\" y=\"-515.3\">(None, 100, 1, 22)</text>\n",
       "<polyline fill=\"none\" points=\"266.104,-508.5 384.752,-508.5 \" stroke=\"black\"/>\n",
       "<text font-family=\"Times,serif\" font-size=\"14.00\" text-anchor=\"middle\" x=\"325.171\" y=\"-493.3\">(None, 100, 1, 11)</text>\n",
       "</g>\n",
       "<!-- 4416904784&#45;&gt;4416939728 -->\n",
       "<g class=\"edge\" id=\"edge9\"><title>4416904784-&gt;4416939728</title>\n",
       "<path d=\"M192.571,-567.329C192.571,-559.183 192.571,-549.699 192.571,-540.797\" fill=\"none\" stroke=\"black\"/>\n",
       "<polygon fill=\"black\" points=\"196.071,-540.729 192.571,-530.729 189.071,-540.729 196.071,-540.729\" stroke=\"black\"/>\n",
       "</g>\n",
       "<!-- 4416939664 -->\n",
       "<g class=\"node\" id=\"node11\"><title>4416939664</title>\n",
       "<polygon fill=\"none\" points=\"47.3184,-405.5 47.3184,-449.5 337.823,-449.5 337.823,-405.5 47.3184,-405.5\" stroke=\"black\"/>\n",
       "<text font-family=\"Times,serif\" font-size=\"14.00\" text-anchor=\"middle\" x=\"105.668\" y=\"-423.3\">flatten_1 (Flatten)</text>\n",
       "<polyline fill=\"none\" points=\"164.019,-405.5 164.019,-449.5 \" stroke=\"black\"/>\n",
       "<text font-family=\"Times,serif\" font-size=\"14.00\" text-anchor=\"middle\" x=\"191.853\" y=\"-434.3\">input:</text>\n",
       "<polyline fill=\"none\" points=\"164.019,-427.5 219.688,-427.5 \" stroke=\"black\"/>\n",
       "<text font-family=\"Times,serif\" font-size=\"14.00\" text-anchor=\"middle\" x=\"191.853\" y=\"-412.3\">output:</text>\n",
       "<polyline fill=\"none\" points=\"219.688,-405.5 219.688,-449.5 \" stroke=\"black\"/>\n",
       "<text font-family=\"Times,serif\" font-size=\"14.00\" text-anchor=\"middle\" x=\"278.755\" y=\"-434.3\">(None, 100, 1, 11)</text>\n",
       "<polyline fill=\"none\" points=\"219.688,-427.5 337.823,-427.5 \" stroke=\"black\"/>\n",
       "<text font-family=\"Times,serif\" font-size=\"14.00\" text-anchor=\"middle\" x=\"278.755\" y=\"-412.3\">(None, 1100)</text>\n",
       "</g>\n",
       "<!-- 4416939728&#45;&gt;4416939664 -->\n",
       "<g class=\"edge\" id=\"edge10\"><title>4416939728-&gt;4416939664</title>\n",
       "<path d=\"M192.571,-486.329C192.571,-478.183 192.571,-468.699 192.571,-459.797\" fill=\"none\" stroke=\"black\"/>\n",
       "<polygon fill=\"black\" points=\"196.071,-459.729 192.571,-449.729 189.071,-459.729 196.071,-459.729\" stroke=\"black\"/>\n",
       "</g>\n",
       "<!-- 4417044240 -->\n",
       "<g class=\"node\" id=\"node12\"><title>4417044240</title>\n",
       "<polygon fill=\"none\" points=\"64.5688,-324.5 64.5688,-368.5 320.573,-368.5 320.573,-324.5 64.5688,-324.5\" stroke=\"black\"/>\n",
       "<text font-family=\"Times,serif\" font-size=\"14.00\" text-anchor=\"middle\" x=\"119.412\" y=\"-342.3\">dense_1 (Dense)</text>\n",
       "<polyline fill=\"none\" points=\"174.255,-324.5 174.255,-368.5 \" stroke=\"black\"/>\n",
       "<text font-family=\"Times,serif\" font-size=\"14.00\" text-anchor=\"middle\" x=\"202.09\" y=\"-353.3\">input:</text>\n",
       "<polyline fill=\"none\" points=\"174.255,-346.5 229.924,-346.5 \" stroke=\"black\"/>\n",
       "<text font-family=\"Times,serif\" font-size=\"14.00\" text-anchor=\"middle\" x=\"202.09\" y=\"-331.3\">output:</text>\n",
       "<polyline fill=\"none\" points=\"229.924,-324.5 229.924,-368.5 \" stroke=\"black\"/>\n",
       "<text font-family=\"Times,serif\" font-size=\"14.00\" text-anchor=\"middle\" x=\"274.992\" y=\"-353.3\">(None, 1100)</text>\n",
       "<polyline fill=\"none\" points=\"229.924,-346.5 320.573,-346.5 \" stroke=\"black\"/>\n",
       "<text font-family=\"Times,serif\" font-size=\"14.00\" text-anchor=\"middle\" x=\"275.249\" y=\"-331.3\">(None, 1000)</text>\n",
       "</g>\n",
       "<!-- 4416939664&#45;&gt;4417044240 -->\n",
       "<g class=\"edge\" id=\"edge11\"><title>4416939664-&gt;4417044240</title>\n",
       "<path d=\"M192.571,-405.329C192.571,-397.183 192.571,-387.699 192.571,-378.797\" fill=\"none\" stroke=\"black\"/>\n",
       "<polygon fill=\"black\" points=\"196.071,-378.729 192.571,-368.729 189.071,-378.729 196.071,-378.729\" stroke=\"black\"/>\n",
       "</g>\n",
       "<!-- 4780959824 -->\n",
       "<g class=\"node\" id=\"node13\"><title>4780959824</title>\n",
       "<polygon fill=\"none\" points=\"40.8516,-243.5 40.8516,-287.5 344.29,-287.5 344.29,-243.5 40.8516,-243.5\" stroke=\"black\"/>\n",
       "<text font-family=\"Times,serif\" font-size=\"14.00\" text-anchor=\"middle\" x=\"119.412\" y=\"-261.3\">activation_5 (Activation)</text>\n",
       "<polyline fill=\"none\" points=\"197.973,-243.5 197.973,-287.5 \" stroke=\"black\"/>\n",
       "<text font-family=\"Times,serif\" font-size=\"14.00\" text-anchor=\"middle\" x=\"225.807\" y=\"-272.3\">input:</text>\n",
       "<polyline fill=\"none\" points=\"197.973,-265.5 253.642,-265.5 \" stroke=\"black\"/>\n",
       "<text font-family=\"Times,serif\" font-size=\"14.00\" text-anchor=\"middle\" x=\"225.807\" y=\"-250.3\">output:</text>\n",
       "<polyline fill=\"none\" points=\"253.642,-243.5 253.642,-287.5 \" stroke=\"black\"/>\n",
       "<text font-family=\"Times,serif\" font-size=\"14.00\" text-anchor=\"middle\" x=\"298.966\" y=\"-272.3\">(None, 1000)</text>\n",
       "<polyline fill=\"none\" points=\"253.642,-265.5 344.29,-265.5 \" stroke=\"black\"/>\n",
       "<text font-family=\"Times,serif\" font-size=\"14.00\" text-anchor=\"middle\" x=\"298.966\" y=\"-250.3\">(None, 1000)</text>\n",
       "</g>\n",
       "<!-- 4417044240&#45;&gt;4780959824 -->\n",
       "<g class=\"edge\" id=\"edge12\"><title>4417044240-&gt;4780959824</title>\n",
       "<path d=\"M192.571,-324.329C192.571,-316.183 192.571,-306.699 192.571,-297.797\" fill=\"none\" stroke=\"black\"/>\n",
       "<polygon fill=\"black\" points=\"196.071,-297.729 192.571,-287.729 189.071,-297.729 196.071,-297.729\" stroke=\"black\"/>\n",
       "</g>\n",
       "<!-- 4780961552 -->\n",
       "<g class=\"node\" id=\"node14\"><title>4780961552</title>\n",
       "<polygon fill=\"none\" points=\"64.5688,-162.5 64.5688,-206.5 320.573,-206.5 320.573,-162.5 64.5688,-162.5\" stroke=\"black\"/>\n",
       "<text font-family=\"Times,serif\" font-size=\"14.00\" text-anchor=\"middle\" x=\"119.412\" y=\"-180.3\">dense_2 (Dense)</text>\n",
       "<polyline fill=\"none\" points=\"174.255,-162.5 174.255,-206.5 \" stroke=\"black\"/>\n",
       "<text font-family=\"Times,serif\" font-size=\"14.00\" text-anchor=\"middle\" x=\"202.09\" y=\"-191.3\">input:</text>\n",
       "<polyline fill=\"none\" points=\"174.255,-184.5 229.924,-184.5 \" stroke=\"black\"/>\n",
       "<text font-family=\"Times,serif\" font-size=\"14.00\" text-anchor=\"middle\" x=\"202.09\" y=\"-169.3\">output:</text>\n",
       "<polyline fill=\"none\" points=\"229.924,-162.5 229.924,-206.5 \" stroke=\"black\"/>\n",
       "<text font-family=\"Times,serif\" font-size=\"14.00\" text-anchor=\"middle\" x=\"275.249\" y=\"-191.3\">(None, 1000)</text>\n",
       "<polyline fill=\"none\" points=\"229.924,-184.5 320.573,-184.5 \" stroke=\"black\"/>\n",
       "<text font-family=\"Times,serif\" font-size=\"14.00\" text-anchor=\"middle\" x=\"275.249\" y=\"-169.3\">(None, 100)</text>\n",
       "</g>\n",
       "<!-- 4780959824&#45;&gt;4780961552 -->\n",
       "<g class=\"edge\" id=\"edge13\"><title>4780959824-&gt;4780961552</title>\n",
       "<path d=\"M192.571,-243.329C192.571,-235.183 192.571,-225.699 192.571,-216.797\" fill=\"none\" stroke=\"black\"/>\n",
       "<polygon fill=\"black\" points=\"196.071,-216.729 192.571,-206.729 189.071,-216.729 196.071,-216.729\" stroke=\"black\"/>\n",
       "</g>\n",
       "<!-- 4781008080 -->\n",
       "<g class=\"node\" id=\"node15\"><title>4781008080</title>\n",
       "<polygon fill=\"none\" points=\"44.3516,-81.5 44.3516,-125.5 340.79,-125.5 340.79,-81.5 44.3516,-81.5\" stroke=\"black\"/>\n",
       "<text font-family=\"Times,serif\" font-size=\"14.00\" text-anchor=\"middle\" x=\"122.912\" y=\"-99.3\">activation_6 (Activation)</text>\n",
       "<polyline fill=\"none\" points=\"201.473,-81.5 201.473,-125.5 \" stroke=\"black\"/>\n",
       "<text font-family=\"Times,serif\" font-size=\"14.00\" text-anchor=\"middle\" x=\"229.307\" y=\"-110.3\">input:</text>\n",
       "<polyline fill=\"none\" points=\"201.473,-103.5 257.142,-103.5 \" stroke=\"black\"/>\n",
       "<text font-family=\"Times,serif\" font-size=\"14.00\" text-anchor=\"middle\" x=\"229.307\" y=\"-88.3\">output:</text>\n",
       "<polyline fill=\"none\" points=\"257.142,-81.5 257.142,-125.5 \" stroke=\"black\"/>\n",
       "<text font-family=\"Times,serif\" font-size=\"14.00\" text-anchor=\"middle\" x=\"298.966\" y=\"-110.3\">(None, 100)</text>\n",
       "<polyline fill=\"none\" points=\"257.142,-103.5 340.79,-103.5 \" stroke=\"black\"/>\n",
       "<text font-family=\"Times,serif\" font-size=\"14.00\" text-anchor=\"middle\" x=\"298.966\" y=\"-88.3\">(None, 100)</text>\n",
       "</g>\n",
       "<!-- 4780961552&#45;&gt;4781008080 -->\n",
       "<g class=\"edge\" id=\"edge14\"><title>4780961552-&gt;4781008080</title>\n",
       "<path d=\"M192.571,-162.329C192.571,-154.183 192.571,-144.699 192.571,-135.797\" fill=\"none\" stroke=\"black\"/>\n",
       "<polygon fill=\"black\" points=\"196.071,-135.729 192.571,-125.729 189.071,-135.729 196.071,-135.729\" stroke=\"black\"/>\n",
       "</g>\n",
       "<!-- 4781009808 -->\n",
       "<g class=\"node\" id=\"node16\"><title>4781009808</title>\n",
       "<polygon fill=\"none\" points=\"68.0688,-0.5 68.0688,-44.5 317.073,-44.5 317.073,-0.5 68.0688,-0.5\" stroke=\"black\"/>\n",
       "<text font-family=\"Times,serif\" font-size=\"14.00\" text-anchor=\"middle\" x=\"122.912\" y=\"-18.3\">dense_3 (Dense)</text>\n",
       "<polyline fill=\"none\" points=\"177.755,-0.5 177.755,-44.5 \" stroke=\"black\"/>\n",
       "<text font-family=\"Times,serif\" font-size=\"14.00\" text-anchor=\"middle\" x=\"205.59\" y=\"-29.3\">input:</text>\n",
       "<polyline fill=\"none\" points=\"177.755,-22.5 233.424,-22.5 \" stroke=\"black\"/>\n",
       "<text font-family=\"Times,serif\" font-size=\"14.00\" text-anchor=\"middle\" x=\"205.59\" y=\"-7.3\">output:</text>\n",
       "<polyline fill=\"none\" points=\"233.424,-0.5 233.424,-44.5 \" stroke=\"black\"/>\n",
       "<text font-family=\"Times,serif\" font-size=\"14.00\" text-anchor=\"middle\" x=\"275.249\" y=\"-29.3\">(None, 100)</text>\n",
       "<polyline fill=\"none\" points=\"233.424,-22.5 317.073,-22.5 \" stroke=\"black\"/>\n",
       "<text font-family=\"Times,serif\" font-size=\"14.00\" text-anchor=\"middle\" x=\"275.249\" y=\"-7.3\">(None, 6)</text>\n",
       "</g>\n",
       "<!-- 4781008080&#45;&gt;4781009808 -->\n",
       "<g class=\"edge\" id=\"edge15\"><title>4781008080-&gt;4781009808</title>\n",
       "<path d=\"M192.571,-81.3294C192.571,-73.1826 192.571,-63.6991 192.571,-54.7971\" fill=\"none\" stroke=\"black\"/>\n",
       "<polygon fill=\"black\" points=\"196.071,-54.729 192.571,-44.729 189.071,-54.729 196.071,-54.729\" stroke=\"black\"/>\n",
       "</g>\n",
       "</g>\n",
       "</svg>"
      ],
      "text/plain": [
       "<IPython.core.display.SVG object>"
      ]
     },
     "execution_count": 10,
     "metadata": {},
     "output_type": "execute_result"
    }
   ],
   "source": [
    "model = Sequential()\n",
    "model.add(Convolution2D(50, 1, 3, input_shape=(1, rows, cols)))\n",
    "model.add(Activation('relu'))\n",
    "model.add(Convolution2D(100, 1, 3))\n",
    "model.add(Activation('relu'))\n",
    "model.add(Convolution2D(100, 1, 3))\n",
    "model.add(Activation('relu'))\n",
    "model.add(Convolution2D(100, 1, 3))\n",
    "model.add(Activation('relu'))\n",
    "model.add(MaxPooling2D(pool_size=(1, 2)))\n",
    "# model.add(Reshape((260, )))\n",
    "model.add(Flatten())\n",
    "model.add(Dense(1000))\n",
    "model.add(Activation('relu'))\n",
    "model.add(Dense(100))\n",
    "model.add(Activation('relu'))\n",
    "model.add(Dense(output_dim = output_dim, activation = 'sigmoid'))\n",
    "\n",
    "model.compile(loss='binary_crossentropy',\n",
    "              optimizer=\"adam\")\n",
    "\n",
    "SVG(model_to_dot(model, show_shapes=True).create(prog='dot', format='svg'))"
   ]
  },
  {
   "cell_type": "code",
   "execution_count": 11,
   "metadata": {
    "collapsed": false
   },
   "outputs": [
    {
     "name": "stdout",
     "output_type": "stream",
     "text": [
      "Train on 700 samples, validate on 78 samples\n",
      "Epoch 1/10\n",
      "0s - loss: 0.6719 - val_loss: 0.6494\n",
      "Epoch 2/10\n",
      "0s - loss: 0.6222 - val_loss: 0.6467\n",
      "Epoch 3/10\n",
      "0s - loss: 0.5976 - val_loss: 0.6545\n",
      "Epoch 4/10\n",
      "0s - loss: 0.5814 - val_loss: 0.6818\n",
      "Epoch 5/10\n",
      "0s - loss: 0.5715 - val_loss: 0.6762\n",
      "Epoch 6/10\n",
      "0s - loss: 0.5476 - val_loss: 0.7362\n",
      "Epoch 7/10\n",
      "0s - loss: 0.5233 - val_loss: 0.7376\n",
      "Epoch 8/10\n",
      "0s - loss: 0.5010 - val_loss: 0.7376\n",
      "Epoch 9/10\n",
      "0s - loss: 0.4788 - val_loss: 0.8278\n",
      "Epoch 10/10\n",
      "0s - loss: 0.4464 - val_loss: 0.8466\n"
     ]
    }
   ],
   "source": [
    "nb_epoch = 10\n",
    "cnn_result = model.fit(x_train, train_ajax['y'], nb_epoch=nb_epoch, batch_size=50, verbose=2,  validation_split=0.1)\n",
    "\n",
    "preds = model.predict(x_test)\n",
    "preds[preds>= 0.5] = 1\n",
    "preds[preds<0.5] = 0"
   ]
  },
  {
   "cell_type": "code",
   "execution_count": 231,
   "metadata": {
    "collapsed": false
   },
   "outputs": [
    {
     "name": "stdout",
     "output_type": "stream",
     "text": [
      "accuracy for 0 th dim: 0.72049689441\n",
      "accuracy for 1 th dim: 0.621118012422\n",
      "accuracy for 2 th dim: 0.633540372671\n",
      "accuracy for 3 th dim: 0.577639751553\n",
      "accuracy for 4 th dim: 0.586956521739\n",
      "accuracy for 5 th dim: 0.555900621118\n"
     ]
    }
   ],
   "source": [
    "for i in xrange(output_dim):\n",
    "    pred = preds[:, i]\n",
    "    ans = test_ajax['y'][:, i]\n",
    "    sum_, all_ = 0, 0\n",
    "    for pred_, ans_ in zip(pred, ans):\n",
    "        if abs(pred_ - ans_) == 0:\n",
    "            sum_ += 1.0\n",
    "        all_ += 1.0\n",
    "    print 'accuracy for %s th dim: %s' % (i, sum_ / all_)"
   ]
  },
  {
   "cell_type": "code",
   "execution_count": null,
   "metadata": {
    "collapsed": true
   },
   "outputs": [],
   "source": [
    "preds"
   ]
  },
  {
   "cell_type": "code",
   "execution_count": null,
   "metadata": {
    "collapsed": true
   },
   "outputs": [],
   "source": []
  },
  {
   "cell_type": "code",
   "execution_count": null,
   "metadata": {
    "collapsed": true
   },
   "outputs": [],
   "source": []
  },
  {
   "cell_type": "code",
   "execution_count": null,
   "metadata": {
    "collapsed": true
   },
   "outputs": [],
   "source": []
  },
  {
   "cell_type": "code",
   "execution_count": 112,
   "metadata": {
    "collapsed": false
   },
   "outputs": [
    {
     "ename": "IndexError",
     "evalue": "invalid index to scalar variable.",
     "output_type": "error",
     "traceback": [
      "\u001b[0;31m---------------------------------------------------------------------------\u001b[0m",
      "\u001b[0;31mIndexError\u001b[0m                                Traceback (most recent call last)",
      "\u001b[0;32m<ipython-input-112-21a271eac516>\u001b[0m in \u001b[0;36m<module>\u001b[0;34m()\u001b[0m\n\u001b[1;32m      1\u001b[0m \u001b[0mscore\u001b[0m \u001b[0;34m=\u001b[0m \u001b[0mmodel\u001b[0m\u001b[0;34m.\u001b[0m\u001b[0mevaluate\u001b[0m\u001b[0;34m(\u001b[0m\u001b[0mx_test\u001b[0m\u001b[0;34m,\u001b[0m \u001b[0mtest_ajax\u001b[0m\u001b[0;34m[\u001b[0m\u001b[0;34m'y'\u001b[0m\u001b[0;34m]\u001b[0m\u001b[0;34m,\u001b[0m \u001b[0mshow_accuracy\u001b[0m\u001b[0;34m=\u001b[0m\u001b[0mTrue\u001b[0m\u001b[0;34m,\u001b[0m \u001b[0mverbose\u001b[0m\u001b[0;34m=\u001b[0m\u001b[0;36m0\u001b[0m\u001b[0;34m)\u001b[0m\u001b[0;34m\u001b[0m\u001b[0m\n\u001b[0;32m----> 2\u001b[0;31m \u001b[0;32mprint\u001b[0m \u001b[0;34m'test score: %s'\u001b[0m \u001b[0;34m%\u001b[0m \u001b[0mscore\u001b[0m\u001b[0;34m[\u001b[0m\u001b[0;36m0\u001b[0m\u001b[0;34m]\u001b[0m\u001b[0;34m\u001b[0m\u001b[0m\n\u001b[0m\u001b[1;32m      3\u001b[0m \u001b[0;32mprint\u001b[0m \u001b[0;34m'test accuracy: %s'\u001b[0m \u001b[0;34m%\u001b[0m \u001b[0mscore\u001b[0m\u001b[0;34m[\u001b[0m\u001b[0;36m1\u001b[0m\u001b[0;34m]\u001b[0m\u001b[0;34m\u001b[0m\u001b[0m\n",
      "\u001b[0;31mIndexError\u001b[0m: invalid index to scalar variable."
     ]
    }
   ],
   "source": [
    "score = model.evaluate(x_test, np_utils.to_categorical(test_ajax['y'][:, 0], 2), show_accuracy=True, verbose=0)\n",
    "print 'test score: %s' % score[0]\n",
    "print 'test accuracy: %s' % score[1]"
   ]
  },
  {
   "cell_type": "code",
   "execution_count": 97,
   "metadata": {
    "collapsed": false
   },
   "outputs": [
    {
     "name": "stdout",
     "output_type": "stream",
     "text": [
      "Train on 1320 samples, validate on 330 samples\n",
      "Epoch 1/10\n",
      "0s - loss: 0.6859 - acc: 0.6356 - val_loss: 0.6326 - val_acc: 0.6879\n",
      "Epoch 2/10\n",
      "0s - loss: 0.6165 - acc: 0.6841 - val_loss: 0.6236 - val_acc: 0.6636\n",
      "Epoch 3/10\n",
      "0s - loss: 0.5928 - acc: 0.6909 - val_loss: 0.6103 - val_acc: 0.7000\n",
      "Epoch 4/10\n",
      "0s - loss: 0.5768 - acc: 0.7061 - val_loss: 0.6132 - val_acc: 0.6667\n",
      "Epoch 5/10\n",
      "0s - loss: 0.5621 - acc: 0.7144 - val_loss: 0.6779 - val_acc: 0.5636\n",
      "Epoch 6/10\n",
      "0s - loss: 0.5638 - acc: 0.7061 - val_loss: 0.6082 - val_acc: 0.7061\n",
      "Epoch 7/10\n",
      "0s - loss: 0.5626 - acc: 0.7144 - val_loss: 0.5997 - val_acc: 0.7000\n",
      "Epoch 8/10\n",
      "0s - loss: 0.5482 - acc: 0.7136 - val_loss: 0.5946 - val_acc: 0.7061\n",
      "Epoch 9/10\n",
      "0s - loss: 0.5396 - acc: 0.7076 - val_loss: 0.6573 - val_acc: 0.6909\n",
      "Epoch 10/10\n",
      "0s - loss: 0.5369 - acc: 0.7235 - val_loss: 0.6083 - val_acc: 0.6818\n"
     ]
    }
   ],
   "source": [
    "model = Sequential()\n",
    "model.add(Convolution2D(50, 1, 3, input_shape=(1, rows, cols)))\n",
    "model.add(Activation('relu'))\n",
    "model.add(Convolution2D(100, 1, 3))\n",
    "model.add(Activation('relu'))\n",
    "model.add(MaxPooling2D(pool_size=(1, 2)))\n",
    "model.add(Flatten())\n",
    "model.add(Dense(100))\n",
    "model.add(Activation('relu'))\n",
    "model.add(Dense(2))\n",
    "model.add(Activation('softmax'))\n",
    "\n",
    "model.compile(loss='binary_crossentropy',\n",
    "              optimizer=\"adadelta\",\n",
    "              metrics=['accuracy'])\n",
    "\n",
    "SVG(model_to_dot(model, show_shapes=True).create(prog='dot', format='svg'))\n",
    "\n",
    "nb_epoch = 10\n",
    "cnn_result = model.fit(x_train, np_utils.to_categorical(train_ajax['y'][:, 1], 2), nb_epoch=nb_epoch, batch_size=50, verbose=2,  validation_split=0.2)"
   ]
  },
  {
   "cell_type": "code",
   "execution_count": 98,
   "metadata": {
    "collapsed": false
   },
   "outputs": [
    {
     "name": "stdout",
     "output_type": "stream",
     "text": [
      "test score: 0.646138517062\n",
      "test accuracy: 0.6625\n"
     ]
    }
   ],
   "source": [
    "score = model.evaluate(x_test, np_utils.to_categorical(test_ajax['y'][:, 1], 2), show_accuracy=True, verbose=0)\n",
    "print 'test score: %s' % score[0]\n",
    "print 'test accuracy: %s' % score[1]"
   ]
  },
  {
   "cell_type": "code",
   "execution_count": 99,
   "metadata": {
    "collapsed": false
   },
   "outputs": [
    {
     "name": "stdout",
     "output_type": "stream",
     "text": [
      "Train on 1320 samples, validate on 330 samples\n",
      "Epoch 1/10\n",
      "0s - loss: 0.6736 - acc: 0.6045 - val_loss: 0.6366 - val_acc: 0.6424\n",
      "Epoch 2/10\n",
      "0s - loss: 0.6172 - acc: 0.6818 - val_loss: 0.6334 - val_acc: 0.6273\n",
      "Epoch 3/10\n",
      "0s - loss: 0.5992 - acc: 0.6864 - val_loss: 0.6172 - val_acc: 0.6394\n",
      "Epoch 4/10\n",
      "0s - loss: 0.5776 - acc: 0.6977 - val_loss: 0.6503 - val_acc: 0.6515\n",
      "Epoch 5/10\n",
      "0s - loss: 0.5749 - acc: 0.7015 - val_loss: 0.6268 - val_acc: 0.6333\n",
      "Epoch 6/10\n",
      "0s - loss: 0.5602 - acc: 0.7091 - val_loss: 0.6247 - val_acc: 0.6364\n",
      "Epoch 7/10\n",
      "0s - loss: 0.5544 - acc: 0.7106 - val_loss: 0.6504 - val_acc: 0.5879\n",
      "Epoch 8/10\n",
      "0s - loss: 0.5483 - acc: 0.7106 - val_loss: 0.6741 - val_acc: 0.6152\n",
      "Epoch 9/10\n",
      "0s - loss: 0.5321 - acc: 0.7417 - val_loss: 0.6328 - val_acc: 0.6576\n",
      "Epoch 10/10\n",
      "0s - loss: 0.5325 - acc: 0.7356 - val_loss: 0.6414 - val_acc: 0.6485\n"
     ]
    }
   ],
   "source": [
    "model = Sequential()\n",
    "model.add(Convolution2D(50, 1, 3, input_shape=(1, rows, cols)))\n",
    "model.add(Activation('relu'))\n",
    "model.add(Convolution2D(100, 1, 3))\n",
    "model.add(Activation('relu'))\n",
    "model.add(MaxPooling2D(pool_size=(1, 2)))\n",
    "model.add(Flatten())\n",
    "model.add(Dense(100))\n",
    "model.add(Activation('relu'))\n",
    "model.add(Dense(2))\n",
    "model.add(Activation('softmax'))\n",
    "\n",
    "model.compile(loss='binary_crossentropy',\n",
    "              optimizer=\"adadelta\",\n",
    "              metrics=['accuracy'])\n",
    "\n",
    "SVG(model_to_dot(model, show_shapes=True).create(prog='dot', format='svg'))\n",
    "\n",
    "nb_epoch = 10\n",
    "cnn_result = model.fit(x_train, np_utils.to_categorical(train_ajax['y'][:, 2], 2), nb_epoch=nb_epoch, batch_size=50, verbose=2,  validation_split=0.2)"
   ]
  },
  {
   "cell_type": "code",
   "execution_count": 100,
   "metadata": {
    "collapsed": false
   },
   "outputs": [
    {
     "name": "stdout",
     "output_type": "stream",
     "text": [
      "test score: 0.677830870946\n",
      "test accuracy: 0.620833333333\n"
     ]
    }
   ],
   "source": [
    "score = model.evaluate(x_test, np_utils.to_categorical(test_ajax['y'][:, 2], 2), show_accuracy=True, verbose=0)\n",
    "print 'test score: %s' % score[0]\n",
    "print 'test accuracy: %s' % score[1]"
   ]
  },
  {
   "cell_type": "code",
   "execution_count": null,
   "metadata": {
    "collapsed": true
   },
   "outputs": [],
   "source": []
  },
  {
   "cell_type": "code",
   "execution_count": null,
   "metadata": {
    "collapsed": true
   },
   "outputs": [],
   "source": []
  },
  {
   "cell_type": "markdown",
   "metadata": {},
   "source": [
    "## RNN"
   ]
  },
  {
   "cell_type": "code",
   "execution_count": 76,
   "metadata": {
    "collapsed": true
   },
   "outputs": [],
   "source": [
    "my_rnn = TimeseriesModel(rows=1, cols=30, output_dim=6, model_type='SimpleRNN')"
   ]
  },
  {
   "cell_type": "markdown",
   "metadata": {},
   "source": [
    "### data load for RNN"
   ]
  },
  {
   "cell_type": "code",
   "execution_count": 77,
   "metadata": {
    "collapsed": true
   },
   "outputs": [],
   "source": [
    "train, test, target = base_data_manager.load_normal_representation_data(output_dim=6, data_type='balance', category_name='ajax')\n",
    "x_train, y_train, x_tests, y_test = my_lstm.data_transform(train, test)"
   ]
  },
  {
   "cell_type": "code",
   "execution_count": 78,
   "metadata": {
    "collapsed": false
   },
   "outputs": [
    {
     "name": "stdout",
     "output_type": "stream",
     "text": [
      "(778, 1, 30)\n",
      "train samples: 778\n",
      "test samples: 322\n"
     ]
    }
   ],
   "source": [
    "print x_train.shape\n",
    "print 'train samples: %s' % x_train.shape[0]\n",
    "print 'test samples: %s' % x_test.shape[0]"
   ]
  },
  {
   "cell_type": "markdown",
   "metadata": {},
   "source": [
    "### model"
   ]
  },
  {
   "cell_type": "code",
   "execution_count": 79,
   "metadata": {
    "collapsed": false
   },
   "outputs": [],
   "source": [
    "my_rnn.build(rows=1, cols=30, output_dim=6)"
   ]
  },
  {
   "cell_type": "code",
   "execution_count": 80,
   "metadata": {
    "collapsed": false,
    "scrolled": true
   },
   "outputs": [
    {
     "name": "stdout",
     "output_type": "stream",
     "text": [
      "Train on 700 samples, validate on 78 samples\n",
      "Epoch 1/50\n",
      "700/700 [==============================] - 0s - loss: 0.8695 - acc: 0.0400 - val_loss: 0.9088 - val_acc: 0.0513\n",
      "Epoch 2/50\n",
      "700/700 [==============================] - 0s - loss: 0.8231 - acc: 0.0571 - val_loss: 0.8716 - val_acc: 0.0641\n",
      "Epoch 3/50\n",
      "700/700 [==============================] - 0s - loss: 0.7849 - acc: 0.0743 - val_loss: 0.8440 - val_acc: 0.1026\n",
      "Epoch 4/50\n",
      "700/700 [==============================] - 0s - loss: 0.7555 - acc: 0.0957 - val_loss: 0.8188 - val_acc: 0.1154\n",
      "Epoch 5/50\n",
      "700/700 [==============================] - 0s - loss: 0.7329 - acc: 0.1357 - val_loss: 0.7971 - val_acc: 0.1026\n",
      "Epoch 6/50\n",
      "700/700 [==============================] - 0s - loss: 0.7187 - acc: 0.1729 - val_loss: 0.7798 - val_acc: 0.1410\n",
      "Epoch 7/50\n",
      "700/700 [==============================] - 0s - loss: 0.7077 - acc: 0.1971 - val_loss: 0.7661 - val_acc: 0.1538\n",
      "Epoch 8/50\n",
      "700/700 [==============================] - 0s - loss: 0.6990 - acc: 0.2229 - val_loss: 0.7554 - val_acc: 0.1667\n",
      "Epoch 9/50\n",
      "700/700 [==============================] - 0s - loss: 0.6920 - acc: 0.2314 - val_loss: 0.7471 - val_acc: 0.1923\n",
      "Epoch 10/50\n",
      "700/700 [==============================] - 0s - loss: 0.6859 - acc: 0.2443 - val_loss: 0.7406 - val_acc: 0.2051\n",
      "Epoch 11/50\n",
      "700/700 [==============================] - 0s - loss: 0.6807 - acc: 0.2643 - val_loss: 0.7354 - val_acc: 0.2179\n",
      "Epoch 12/50\n",
      "700/700 [==============================] - 0s - loss: 0.6762 - acc: 0.2757 - val_loss: 0.7306 - val_acc: 0.2179\n",
      "Epoch 13/50\n",
      "700/700 [==============================] - 0s - loss: 0.6719 - acc: 0.2986 - val_loss: 0.7261 - val_acc: 0.2436\n",
      "Epoch 14/50\n",
      "700/700 [==============================] - 0s - loss: 0.6687 - acc: 0.3057 - val_loss: 0.7218 - val_acc: 0.2692\n",
      "Epoch 15/50\n",
      "700/700 [==============================] - 0s - loss: 0.6654 - acc: 0.3243 - val_loss: 0.7182 - val_acc: 0.2821\n",
      "Epoch 16/50\n",
      "700/700 [==============================] - 0s - loss: 0.6629 - acc: 0.3443 - val_loss: 0.7149 - val_acc: 0.2949\n",
      "Epoch 17/50\n",
      "700/700 [==============================] - 0s - loss: 0.6605 - acc: 0.3629 - val_loss: 0.7122 - val_acc: 0.3077\n",
      "Epoch 18/50\n",
      "700/700 [==============================] - 0s - loss: 0.6584 - acc: 0.3900 - val_loss: 0.7100 - val_acc: 0.3205\n",
      "Epoch 19/50\n",
      "700/700 [==============================] - 0s - loss: 0.6566 - acc: 0.3957 - val_loss: 0.7078 - val_acc: 0.3462\n",
      "Epoch 20/50\n",
      "700/700 [==============================] - 0s - loss: 0.6550 - acc: 0.4129 - val_loss: 0.7059 - val_acc: 0.3462\n",
      "Epoch 21/50\n",
      "700/700 [==============================] - 0s - loss: 0.6535 - acc: 0.4343 - val_loss: 0.7043 - val_acc: 0.3718\n",
      "Epoch 22/50\n",
      "700/700 [==============================] - 0s - loss: 0.6520 - acc: 0.4443 - val_loss: 0.7031 - val_acc: 0.3718\n",
      "Epoch 23/50\n",
      "700/700 [==============================] - 0s - loss: 0.6504 - acc: 0.4500 - val_loss: 0.7019 - val_acc: 0.3846\n",
      "Epoch 24/50\n",
      "700/700 [==============================] - 0s - loss: 0.6489 - acc: 0.4543 - val_loss: 0.7008 - val_acc: 0.3846\n",
      "Epoch 25/50\n",
      "700/700 [==============================] - 0s - loss: 0.6476 - acc: 0.4629 - val_loss: 0.6997 - val_acc: 0.3974\n",
      "Epoch 26/50\n",
      "700/700 [==============================] - 0s - loss: 0.6462 - acc: 0.4657 - val_loss: 0.6988 - val_acc: 0.4103\n",
      "Epoch 27/50\n",
      "700/700 [==============================] - 0s - loss: 0.6449 - acc: 0.4614 - val_loss: 0.6979 - val_acc: 0.4231\n",
      "Epoch 28/50\n",
      "700/700 [==============================] - 0s - loss: 0.6438 - acc: 0.4743 - val_loss: 0.6971 - val_acc: 0.4231\n",
      "Epoch 29/50\n",
      "700/700 [==============================] - 0s - loss: 0.6425 - acc: 0.4800 - val_loss: 0.6963 - val_acc: 0.4487\n",
      "Epoch 30/50\n",
      "700/700 [==============================] - 0s - loss: 0.6414 - acc: 0.4857 - val_loss: 0.6957 - val_acc: 0.4487\n",
      "Epoch 31/50\n",
      "700/700 [==============================] - 0s - loss: 0.6403 - acc: 0.4871 - val_loss: 0.6951 - val_acc: 0.4487\n",
      "Epoch 32/50\n",
      "700/700 [==============================] - 0s - loss: 0.6394 - acc: 0.4871 - val_loss: 0.6945 - val_acc: 0.4231\n",
      "Epoch 33/50\n",
      "700/700 [==============================] - 0s - loss: 0.6385 - acc: 0.4914 - val_loss: 0.6939 - val_acc: 0.4359\n",
      "Epoch 34/50\n",
      "700/700 [==============================] - 0s - loss: 0.6374 - acc: 0.4971 - val_loss: 0.6934 - val_acc: 0.4359\n",
      "Epoch 35/50\n",
      "700/700 [==============================] - 0s - loss: 0.6365 - acc: 0.5014 - val_loss: 0.6929 - val_acc: 0.4359\n",
      "Epoch 36/50\n",
      "700/700 [==============================] - 0s - loss: 0.6356 - acc: 0.4971 - val_loss: 0.6924 - val_acc: 0.4359\n",
      "Epoch 37/50\n",
      "700/700 [==============================] - 0s - loss: 0.6346 - acc: 0.5014 - val_loss: 0.6919 - val_acc: 0.4359\n",
      "Epoch 38/50\n",
      "700/700 [==============================] - 0s - loss: 0.6337 - acc: 0.5143 - val_loss: 0.6916 - val_acc: 0.4359\n",
      "Epoch 39/50\n",
      "700/700 [==============================] - 0s - loss: 0.6329 - acc: 0.5029 - val_loss: 0.6913 - val_acc: 0.4487\n",
      "Epoch 40/50\n",
      "700/700 [==============================] - 0s - loss: 0.6319 - acc: 0.5043 - val_loss: 0.6906 - val_acc: 0.4487\n",
      "Epoch 41/50\n",
      "700/700 [==============================] - 0s - loss: 0.6310 - acc: 0.5157 - val_loss: 0.6900 - val_acc: 0.4487\n",
      "Epoch 42/50\n",
      "700/700 [==============================] - 0s - loss: 0.6300 - acc: 0.5157 - val_loss: 0.6893 - val_acc: 0.4487\n",
      "Epoch 43/50\n",
      "700/700 [==============================] - 0s - loss: 0.6292 - acc: 0.5086 - val_loss: 0.6890 - val_acc: 0.4487\n",
      "Epoch 44/50\n",
      "700/700 [==============================] - 0s - loss: 0.6283 - acc: 0.5271 - val_loss: 0.6886 - val_acc: 0.4487\n",
      "Epoch 45/50\n",
      "700/700 [==============================] - 0s - loss: 0.6275 - acc: 0.5243 - val_loss: 0.6884 - val_acc: 0.4359\n",
      "Epoch 46/50\n",
      "700/700 [==============================] - 0s - loss: 0.6267 - acc: 0.5314 - val_loss: 0.6879 - val_acc: 0.4359\n",
      "Epoch 47/50\n",
      "700/700 [==============================] - 0s - loss: 0.6258 - acc: 0.5343 - val_loss: 0.6877 - val_acc: 0.4487\n",
      "Epoch 48/50\n",
      "700/700 [==============================] - 0s - loss: 0.6250 - acc: 0.5271 - val_loss: 0.6873 - val_acc: 0.4615\n",
      "Epoch 49/50\n",
      "700/700 [==============================] - 0s - loss: 0.6243 - acc: 0.5429 - val_loss: 0.6874 - val_acc: 0.4615\n",
      "Epoch 50/50\n",
      "700/700 [==============================] - 0s - loss: 0.6234 - acc: 0.5357 - val_loss: 0.6869 - val_acc: 0.4615\n"
     ]
    }
   ],
   "source": [
    "result = my_rnn.train(x_train, y_train, batch_size=50, epoch=50, validation_split=0.1)"
   ]
  },
  {
   "cell_type": "code",
   "execution_count": 81,
   "metadata": {
    "collapsed": false
   },
   "outputs": [
    {
     "name": "stdout",
     "output_type": "stream",
     "text": [
      "accuracy for 0 th dim: 0.723602\n",
      "accuracy for 1 th dim: 0.645963\n",
      "accuracy for 2 th dim: 0.618012\n",
      "accuracy for 3 th dim: 0.580745\n",
      "accuracy for 4 th dim: 0.565217\n",
      "accuracy for 5 th dim: 0.478261\n"
     ]
    }
   ],
   "source": [
    "acc_ls = my_gru.test(x_test, y_test)\n",
    "for i, acc_ in enumerate(acc_ls):\n",
    "    print 'accuracy for %s th dim: %f' % (i, acc_)"
   ]
  },
  {
   "cell_type": "markdown",
   "metadata": {},
   "source": [
    "## GRU"
   ]
  },
  {
   "cell_type": "code",
   "execution_count": 70,
   "metadata": {
    "collapsed": true
   },
   "outputs": [],
   "source": [
    "output_dim = 6\n",
    "my_gru = TimeseriesModel(rows=1, cols=30, output_dim=output_dim, model_type='GRU')"
   ]
  },
  {
   "cell_type": "markdown",
   "metadata": {},
   "source": [
    "### data load for GRU"
   ]
  },
  {
   "cell_type": "code",
   "execution_count": 71,
   "metadata": {
    "collapsed": true
   },
   "outputs": [],
   "source": [
    "train, test, target = base_data_manager.load_normal_representation_data(output_dim=6, data_type='balance', category_name='ajax')\n",
    "x_train, y_train, x_tests, y_test = my_lstm.data_transform(train, test)"
   ]
  },
  {
   "cell_type": "markdown",
   "metadata": {},
   "source": [
    "### model"
   ]
  },
  {
   "cell_type": "code",
   "execution_count": 72,
   "metadata": {
    "collapsed": false
   },
   "outputs": [],
   "source": [
    "my_gru.build(rows=1, cols=30, output_dim=6)"
   ]
  },
  {
   "cell_type": "code",
   "execution_count": 73,
   "metadata": {
    "collapsed": false,
    "scrolled": true
   },
   "outputs": [
    {
     "name": "stdout",
     "output_type": "stream",
     "text": [
      "Train on 700 samples, validate on 78 samples\n",
      "Epoch 1/50\n",
      "700/700 [==============================] - 0s - loss: 0.7475 - acc: 0.2643 - val_loss: 0.7476 - val_acc: 0.3846\n",
      "Epoch 2/50\n",
      "700/700 [==============================] - 0s - loss: 0.7296 - acc: 0.2857 - val_loss: 0.7333 - val_acc: 0.4231\n",
      "Epoch 3/50\n",
      "700/700 [==============================] - 0s - loss: 0.7168 - acc: 0.3343 - val_loss: 0.7230 - val_acc: 0.4103\n",
      "Epoch 4/50\n",
      "700/700 [==============================] - 0s - loss: 0.7075 - acc: 0.3443 - val_loss: 0.7147 - val_acc: 0.4487\n",
      "Epoch 5/50\n",
      "700/700 [==============================] - 0s - loss: 0.6997 - acc: 0.3471 - val_loss: 0.7060 - val_acc: 0.4872\n",
      "Epoch 6/50\n",
      "700/700 [==============================] - 0s - loss: 0.6925 - acc: 0.3500 - val_loss: 0.6991 - val_acc: 0.4744\n",
      "Epoch 7/50\n",
      "700/700 [==============================] - 0s - loss: 0.6864 - acc: 0.3857 - val_loss: 0.6914 - val_acc: 0.4615\n",
      "Epoch 8/50\n",
      "700/700 [==============================] - 0s - loss: 0.6810 - acc: 0.3900 - val_loss: 0.6858 - val_acc: 0.4231\n",
      "Epoch 9/50\n",
      "700/700 [==============================] - 0s - loss: 0.6764 - acc: 0.3986 - val_loss: 0.6815 - val_acc: 0.4359\n",
      "Epoch 10/50\n",
      "700/700 [==============================] - 0s - loss: 0.6725 - acc: 0.4057 - val_loss: 0.6784 - val_acc: 0.4487\n",
      "Epoch 11/50\n",
      "700/700 [==============================] - 0s - loss: 0.6695 - acc: 0.4129 - val_loss: 0.6760 - val_acc: 0.4487\n",
      "Epoch 12/50\n",
      "700/700 [==============================] - 0s - loss: 0.6669 - acc: 0.4314 - val_loss: 0.6741 - val_acc: 0.4487\n",
      "Epoch 13/50\n",
      "700/700 [==============================] - 0s - loss: 0.6645 - acc: 0.4471 - val_loss: 0.6726 - val_acc: 0.4744\n",
      "Epoch 14/50\n",
      "700/700 [==============================] - 0s - loss: 0.6625 - acc: 0.4529 - val_loss: 0.6712 - val_acc: 0.4615\n",
      "Epoch 15/50\n",
      "700/700 [==============================] - 0s - loss: 0.6603 - acc: 0.4757 - val_loss: 0.6698 - val_acc: 0.5128\n",
      "Epoch 16/50\n",
      "700/700 [==============================] - 0s - loss: 0.6583 - acc: 0.4886 - val_loss: 0.6687 - val_acc: 0.5385\n",
      "Epoch 17/50\n",
      "700/700 [==============================] - 0s - loss: 0.6563 - acc: 0.5043 - val_loss: 0.6680 - val_acc: 0.5513\n",
      "Epoch 18/50\n",
      "700/700 [==============================] - 0s - loss: 0.6542 - acc: 0.5043 - val_loss: 0.6677 - val_acc: 0.5641\n",
      "Epoch 19/50\n",
      "700/700 [==============================] - 0s - loss: 0.6524 - acc: 0.5300 - val_loss: 0.6672 - val_acc: 0.5641\n",
      "Epoch 20/50\n",
      "700/700 [==============================] - 0s - loss: 0.6509 - acc: 0.5371 - val_loss: 0.6665 - val_acc: 0.5769\n",
      "Epoch 21/50\n",
      "700/700 [==============================] - 0s - loss: 0.6494 - acc: 0.5386 - val_loss: 0.6661 - val_acc: 0.5769\n",
      "Epoch 22/50\n",
      "700/700 [==============================] - 0s - loss: 0.6479 - acc: 0.5443 - val_loss: 0.6655 - val_acc: 0.5897\n",
      "Epoch 23/50\n",
      "700/700 [==============================] - 0s - loss: 0.6462 - acc: 0.5671 - val_loss: 0.6645 - val_acc: 0.5513\n",
      "Epoch 24/50\n",
      "700/700 [==============================] - 0s - loss: 0.6446 - acc: 0.5686 - val_loss: 0.6632 - val_acc: 0.5385\n",
      "Epoch 25/50\n",
      "700/700 [==============================] - 0s - loss: 0.6428 - acc: 0.5757 - val_loss: 0.6620 - val_acc: 0.5513\n",
      "Epoch 26/50\n",
      "700/700 [==============================] - 0s - loss: 0.6411 - acc: 0.5743 - val_loss: 0.6609 - val_acc: 0.5641\n",
      "Epoch 27/50\n",
      "700/700 [==============================] - 0s - loss: 0.6396 - acc: 0.5757 - val_loss: 0.6600 - val_acc: 0.5769\n",
      "Epoch 28/50\n",
      "700/700 [==============================] - 0s - loss: 0.6383 - acc: 0.5843 - val_loss: 0.6590 - val_acc: 0.5769\n",
      "Epoch 29/50\n",
      "700/700 [==============================] - 0s - loss: 0.6369 - acc: 0.5886 - val_loss: 0.6582 - val_acc: 0.5769\n",
      "Epoch 30/50\n",
      "700/700 [==============================] - 0s - loss: 0.6356 - acc: 0.5957 - val_loss: 0.6575 - val_acc: 0.5897\n",
      "Epoch 31/50\n",
      "700/700 [==============================] - 0s - loss: 0.6344 - acc: 0.5914 - val_loss: 0.6572 - val_acc: 0.5897\n",
      "Epoch 32/50\n",
      "700/700 [==============================] - 0s - loss: 0.6333 - acc: 0.6086 - val_loss: 0.6568 - val_acc: 0.5897\n",
      "Epoch 33/50\n",
      "700/700 [==============================] - 0s - loss: 0.6323 - acc: 0.6143 - val_loss: 0.6564 - val_acc: 0.5897\n",
      "Epoch 34/50\n",
      "700/700 [==============================] - 0s - loss: 0.6313 - acc: 0.6143 - val_loss: 0.6560 - val_acc: 0.5897\n",
      "Epoch 35/50\n",
      "700/700 [==============================] - 0s - loss: 0.6302 - acc: 0.6143 - val_loss: 0.6557 - val_acc: 0.6026\n",
      "Epoch 36/50\n",
      "700/700 [==============================] - 0s - loss: 0.6293 - acc: 0.6100 - val_loss: 0.6556 - val_acc: 0.6026\n",
      "Epoch 37/50\n",
      "700/700 [==============================] - 0s - loss: 0.6283 - acc: 0.6271 - val_loss: 0.6553 - val_acc: 0.6026\n",
      "Epoch 38/50\n",
      "700/700 [==============================] - 0s - loss: 0.6273 - acc: 0.6186 - val_loss: 0.6553 - val_acc: 0.6026\n",
      "Epoch 39/50\n",
      "700/700 [==============================] - 0s - loss: 0.6263 - acc: 0.6200 - val_loss: 0.6553 - val_acc: 0.6026\n",
      "Epoch 40/50\n",
      "700/700 [==============================] - 0s - loss: 0.6255 - acc: 0.6243 - val_loss: 0.6552 - val_acc: 0.6026\n",
      "Epoch 41/50\n",
      "700/700 [==============================] - 0s - loss: 0.6245 - acc: 0.6243 - val_loss: 0.6552 - val_acc: 0.6154\n",
      "Epoch 42/50\n",
      "700/700 [==============================] - 0s - loss: 0.6236 - acc: 0.6286 - val_loss: 0.6550 - val_acc: 0.6154\n",
      "Epoch 43/50\n",
      "700/700 [==============================] - 0s - loss: 0.6227 - acc: 0.6243 - val_loss: 0.6550 - val_acc: 0.6154\n",
      "Epoch 44/50\n",
      "700/700 [==============================] - 0s - loss: 0.6218 - acc: 0.6300 - val_loss: 0.6550 - val_acc: 0.6154\n",
      "Epoch 45/50\n",
      "700/700 [==============================] - 0s - loss: 0.6209 - acc: 0.6329 - val_loss: 0.6549 - val_acc: 0.6154\n",
      "Epoch 46/50\n",
      "700/700 [==============================] - 0s - loss: 0.6201 - acc: 0.6286 - val_loss: 0.6550 - val_acc: 0.6026\n",
      "Epoch 47/50\n",
      "700/700 [==============================] - 0s - loss: 0.6193 - acc: 0.6371 - val_loss: 0.6551 - val_acc: 0.6026\n",
      "Epoch 48/50\n",
      "700/700 [==============================] - 0s - loss: 0.6184 - acc: 0.6371 - val_loss: 0.6551 - val_acc: 0.6026\n",
      "Epoch 49/50\n",
      "700/700 [==============================] - 0s - loss: 0.6177 - acc: 0.6343 - val_loss: 0.6551 - val_acc: 0.5897\n",
      "Epoch 50/50\n",
      "700/700 [==============================] - 0s - loss: 0.6168 - acc: 0.6371 - val_loss: 0.6553 - val_acc: 0.6026\n"
     ]
    }
   ],
   "source": [
    "result = my_gru.train(x_train, y_train, batch_size=50, epoch=50, validation_split=0.1)"
   ]
  },
  {
   "cell_type": "code",
   "execution_count": 75,
   "metadata": {
    "collapsed": false
   },
   "outputs": [
    {
     "name": "stdout",
     "output_type": "stream",
     "text": [
      "accuracy for 0 th dim: 0.723602\n",
      "accuracy for 1 th dim: 0.645963\n",
      "accuracy for 2 th dim: 0.618012\n",
      "accuracy for 3 th dim: 0.580745\n",
      "accuracy for 4 th dim: 0.565217\n",
      "accuracy for 5 th dim: 0.478261\n"
     ]
    }
   ],
   "source": [
    "acc_ls = my_gru.test(x_test, y_test)\n",
    "for i, acc_ in enumerate(acc_ls):\n",
    "    print 'accuracy for %s th dim: %f' % (i, acc_)"
   ]
  },
  {
   "cell_type": "markdown",
   "metadata": {},
   "source": [
    "## LSTM"
   ]
  },
  {
   "cell_type": "code",
   "execution_count": 42,
   "metadata": {
    "collapsed": false
   },
   "outputs": [],
   "source": [
    "output_dim = 6\n",
    "my_lstm = TimeseriesModel(rows=1, cols=30, output_dim=output_dim, model_type='LSTM')"
   ]
  },
  {
   "cell_type": "code",
   "execution_count": 43,
   "metadata": {
    "collapsed": true
   },
   "outputs": [],
   "source": [
    "train, test, target = base_data_manager.load_normal_representation_data(output_dim=6, data_type='balance', category_name='ajax')"
   ]
  },
  {
   "cell_type": "code",
   "execution_count": 44,
   "metadata": {
    "collapsed": false
   },
   "outputs": [],
   "source": [
    "x_train, y_train, x_test, y_test = my_lstm.data_transform(train, test)"
   ]
  },
  {
   "cell_type": "code",
   "execution_count": 45,
   "metadata": {
    "collapsed": false
   },
   "outputs": [],
   "source": [
    "my_lstm.build(rows=1, cols=30, output_dim=6)"
   ]
  },
  {
   "cell_type": "code",
   "execution_count": 46,
   "metadata": {
    "collapsed": false,
    "scrolled": true
   },
   "outputs": [
    {
     "name": "stdout",
     "output_type": "stream",
     "text": [
      "Train on 700 samples, validate on 78 samples\n",
      "Epoch 1/50\n",
      "700/700 [==============================] - 0s - loss: 0.7102 - acc: 0.0557 - val_loss: 0.7021 - val_acc: 0.0385\n",
      "Epoch 2/50\n",
      "700/700 [==============================] - 0s - loss: 0.7034 - acc: 0.0557 - val_loss: 0.6964 - val_acc: 0.0641\n",
      "Epoch 3/50\n",
      "700/700 [==============================] - 0s - loss: 0.6974 - acc: 0.0586 - val_loss: 0.6905 - val_acc: 0.0641\n",
      "Epoch 4/50\n",
      "700/700 [==============================] - 0s - loss: 0.6923 - acc: 0.0629 - val_loss: 0.6860 - val_acc: 0.0513\n",
      "Epoch 5/50\n",
      "700/700 [==============================] - 0s - loss: 0.6874 - acc: 0.0600 - val_loss: 0.6825 - val_acc: 0.0769\n",
      "Epoch 6/50\n",
      "700/700 [==============================] - 0s - loss: 0.6826 - acc: 0.0729 - val_loss: 0.6780 - val_acc: 0.1026\n",
      "Epoch 7/50\n",
      "700/700 [==============================] - 0s - loss: 0.6781 - acc: 0.0786 - val_loss: 0.6741 - val_acc: 0.0897\n",
      "Epoch 8/50\n",
      "700/700 [==============================] - 0s - loss: 0.6742 - acc: 0.0843 - val_loss: 0.6708 - val_acc: 0.1154\n",
      "Epoch 9/50\n",
      "700/700 [==============================] - 0s - loss: 0.6703 - acc: 0.0929 - val_loss: 0.6681 - val_acc: 0.1282\n",
      "Epoch 10/50\n",
      "700/700 [==============================] - 0s - loss: 0.6663 - acc: 0.1014 - val_loss: 0.6649 - val_acc: 0.1538\n",
      "Epoch 11/50\n",
      "700/700 [==============================] - 0s - loss: 0.6621 - acc: 0.1200 - val_loss: 0.6616 - val_acc: 0.2051\n",
      "Epoch 12/50\n",
      "700/700 [==============================] - 0s - loss: 0.6579 - acc: 0.1343 - val_loss: 0.6585 - val_acc: 0.2436\n",
      "Epoch 13/50\n",
      "700/700 [==============================] - 0s - loss: 0.6542 - acc: 0.1829 - val_loss: 0.6553 - val_acc: 0.2436\n",
      "Epoch 14/50\n",
      "700/700 [==============================] - 0s - loss: 0.6510 - acc: 0.2186 - val_loss: 0.6526 - val_acc: 0.3333\n",
      "Epoch 15/50\n",
      "700/700 [==============================] - 0s - loss: 0.6481 - acc: 0.2600 - val_loss: 0.6507 - val_acc: 0.3333\n",
      "Epoch 16/50\n",
      "700/700 [==============================] - 0s - loss: 0.6455 - acc: 0.3086 - val_loss: 0.6493 - val_acc: 0.3974\n",
      "Epoch 17/50\n",
      "700/700 [==============================] - 0s - loss: 0.6429 - acc: 0.3686 - val_loss: 0.6483 - val_acc: 0.4744\n",
      "Epoch 18/50\n",
      "700/700 [==============================] - 0s - loss: 0.6405 - acc: 0.4043 - val_loss: 0.6471 - val_acc: 0.5641\n",
      "Epoch 19/50\n",
      "700/700 [==============================] - 0s - loss: 0.6383 - acc: 0.4471 - val_loss: 0.6461 - val_acc: 0.5897\n",
      "Epoch 20/50\n",
      "700/700 [==============================] - 0s - loss: 0.6362 - acc: 0.4857 - val_loss: 0.6454 - val_acc: 0.6154\n",
      "Epoch 21/50\n",
      "700/700 [==============================] - 0s - loss: 0.6344 - acc: 0.5114 - val_loss: 0.6446 - val_acc: 0.6154\n",
      "Epoch 22/50\n",
      "700/700 [==============================] - 0s - loss: 0.6326 - acc: 0.5257 - val_loss: 0.6440 - val_acc: 0.6282\n",
      "Epoch 23/50\n",
      "700/700 [==============================] - 0s - loss: 0.6311 - acc: 0.5443 - val_loss: 0.6435 - val_acc: 0.6410\n",
      "Epoch 24/50\n",
      "700/700 [==============================] - 0s - loss: 0.6295 - acc: 0.5514 - val_loss: 0.6432 - val_acc: 0.6410\n",
      "Epoch 25/50\n",
      "700/700 [==============================] - 0s - loss: 0.6282 - acc: 0.5586 - val_loss: 0.6428 - val_acc: 0.6410\n",
      "Epoch 26/50\n",
      "700/700 [==============================] - 0s - loss: 0.6268 - acc: 0.5729 - val_loss: 0.6424 - val_acc: 0.6410\n",
      "Epoch 27/50\n",
      "700/700 [==============================] - 0s - loss: 0.6254 - acc: 0.5757 - val_loss: 0.6420 - val_acc: 0.6538\n",
      "Epoch 28/50\n",
      "700/700 [==============================] - 0s - loss: 0.6242 - acc: 0.5843 - val_loss: 0.6417 - val_acc: 0.6667\n",
      "Epoch 29/50\n",
      "700/700 [==============================] - 0s - loss: 0.6229 - acc: 0.5800 - val_loss: 0.6414 - val_acc: 0.6795\n",
      "Epoch 30/50\n",
      "700/700 [==============================] - 0s - loss: 0.6217 - acc: 0.5914 - val_loss: 0.6410 - val_acc: 0.6795\n",
      "Epoch 31/50\n",
      "700/700 [==============================] - 0s - loss: 0.6205 - acc: 0.5929 - val_loss: 0.6408 - val_acc: 0.6795\n",
      "Epoch 32/50\n",
      "700/700 [==============================] - 0s - loss: 0.6194 - acc: 0.5986 - val_loss: 0.6405 - val_acc: 0.6795\n",
      "Epoch 33/50\n",
      "700/700 [==============================] - 0s - loss: 0.6183 - acc: 0.6000 - val_loss: 0.6404 - val_acc: 0.6795\n",
      "Epoch 34/50\n",
      "700/700 [==============================] - 0s - loss: 0.6171 - acc: 0.6014 - val_loss: 0.6405 - val_acc: 0.6795\n",
      "Epoch 35/50\n",
      "700/700 [==============================] - 0s - loss: 0.6162 - acc: 0.5986 - val_loss: 0.6403 - val_acc: 0.6923\n",
      "Epoch 36/50\n",
      "700/700 [==============================] - 0s - loss: 0.6151 - acc: 0.6057 - val_loss: 0.6403 - val_acc: 0.6923\n",
      "Epoch 37/50\n",
      "700/700 [==============================] - 0s - loss: 0.6141 - acc: 0.6114 - val_loss: 0.6404 - val_acc: 0.6923\n",
      "Epoch 38/50\n",
      "700/700 [==============================] - 0s - loss: 0.6131 - acc: 0.6129 - val_loss: 0.6404 - val_acc: 0.7051\n",
      "Epoch 39/50\n",
      "700/700 [==============================] - 0s - loss: 0.6121 - acc: 0.6143 - val_loss: 0.6406 - val_acc: 0.7051\n",
      "Epoch 40/50\n",
      "700/700 [==============================] - 0s - loss: 0.6111 - acc: 0.6186 - val_loss: 0.6406 - val_acc: 0.7051\n",
      "Epoch 41/50\n",
      "700/700 [==============================] - 0s - loss: 0.6102 - acc: 0.6214 - val_loss: 0.6407 - val_acc: 0.7051\n",
      "Epoch 42/50\n",
      "700/700 [==============================] - 0s - loss: 0.6093 - acc: 0.6257 - val_loss: 0.6408 - val_acc: 0.7051\n",
      "Epoch 43/50\n",
      "700/700 [==============================] - 0s - loss: 0.6083 - acc: 0.6314 - val_loss: 0.6407 - val_acc: 0.7051\n",
      "Epoch 44/50\n",
      "700/700 [==============================] - 0s - loss: 0.6074 - acc: 0.6371 - val_loss: 0.6408 - val_acc: 0.7051\n",
      "Epoch 45/50\n",
      "700/700 [==============================] - 0s - loss: 0.6064 - acc: 0.6371 - val_loss: 0.6410 - val_acc: 0.7051\n",
      "Epoch 46/50\n",
      "700/700 [==============================] - 0s - loss: 0.6054 - acc: 0.6386 - val_loss: 0.6410 - val_acc: 0.7051\n",
      "Epoch 47/50\n",
      "700/700 [==============================] - 0s - loss: 0.6045 - acc: 0.6457 - val_loss: 0.6411 - val_acc: 0.7051\n",
      "Epoch 48/50\n",
      "700/700 [==============================] - 0s - loss: 0.6036 - acc: 0.6429 - val_loss: 0.6411 - val_acc: 0.7051\n",
      "Epoch 49/50\n",
      "700/700 [==============================] - 0s - loss: 0.6028 - acc: 0.6486 - val_loss: 0.6412 - val_acc: 0.7179\n",
      "Epoch 50/50\n",
      "700/700 [==============================] - 0s - loss: 0.6018 - acc: 0.6500 - val_loss: 0.6411 - val_acc: 0.7179\n"
     ]
    }
   ],
   "source": [
    "result = my_lstm.train(x_train, y_train, batch_size=50, epoch=50, validation_split=0.1)"
   ]
  },
  {
   "cell_type": "code",
   "execution_count": 66,
   "metadata": {
    "collapsed": false
   },
   "outputs": [
    {
     "name": "stdout",
     "output_type": "stream",
     "text": [
      "accuracy for 0 th dim: 0.717391\n",
      "accuracy for 1 th dim: 0.611801\n",
      "accuracy for 2 th dim: 0.627329\n",
      "accuracy for 3 th dim: 0.618012\n",
      "accuracy for 4 th dim: 0.583851\n",
      "accuracy for 5 th dim: 0.580745\n"
     ]
    }
   ],
   "source": [
    "acc_ls = my_lstm.test(x_test, y_test)\n",
    "for i, acc_ in enumerate(acc_ls):\n",
    "    print 'accuracy for %s th dim: %f' % (i, acc_)"
   ]
  },
  {
   "cell_type": "code",
   "execution_count": 32,
   "metadata": {
    "collapsed": false
   },
   "outputs": [
    {
     "data": {
      "image/png": "[encoded data removed]",
      "text/plain": [
       "<matplotlib.figure.Figure at 0x1240a1b50>"
      ]
     },
     "metadata": {},
     "output_type": "display_data"
    }
   ],
   "source": [
    "my_lstm.visualize_acc(result=result, epoch=50)"
   ]
  },
  {
   "cell_type": "code",
   "execution_count": 33,
   "metadata": {
    "collapsed": false
   },
   "outputs": [
    {
     "data": {
      "image/png": "[encoded data removed]",
      "text/plain": [
       "<matplotlib.figure.Figure at 0x123f55490>"
      ]
     },
     "metadata": {},
     "output_type": "display_data"
    }
   ],
   "source": [
    "my_lstm.visualize_loss(result=result, epoch=50)"
   ]
  },
  {
   "cell_type": "markdown",
   "metadata": {
    "collapsed": true
   },
   "source": [
    "## kNN"
   ]
  },
  {
   "cell_type": "code",
   "execution_count": 123,
   "metadata": {
    "collapsed": true
   },
   "outputs": [],
   "source": [
    "from knn import KNearestNeighbor"
   ]
  },
  {
   "cell_type": "code",
   "execution_count": 124,
   "metadata": {
    "collapsed": false
   },
   "outputs": [],
   "source": [
    "output_dim = 6\n",
    "my_knn = KNearestNeighbor()"
   ]
  },
  {
   "cell_type": "markdown",
   "metadata": {},
   "source": [
    "### data load for kNN"
   ]
  },
  {
   "cell_type": "code",
   "execution_count": 130,
   "metadata": {
    "collapsed": false
   },
   "outputs": [],
   "source": [
    "train, test, target = base_data_manager.load_normal_representation_data(data_type='balance', category_name='ajax', output_dim=6)"
   ]
  },
  {
   "cell_type": "code",
   "execution_count": 131,
   "metadata": {
    "collapsed": false
   },
   "outputs": [
    {
     "name": "stdout",
     "output_type": "stream",
     "text": [
      "321"
     ]
    }
   ],
   "source": [
    "nn_dist_array, nn_ts_array, nn_label_array = my_knn.fit(train=train['x'], test=test['x'], label=train['y'], k=1, output_dim=6, metrics='dtw')"
   ]
  },
  {
   "cell_type": "code",
   "execution_count": 132,
   "metadata": {
    "collapsed": false
   },
   "outputs": [
    {
     "data": {
      "text/plain": [
       "array([[ 0.,  0.,  0.,  0.,  0.,  0.]])"
      ]
     },
     "execution_count": 132,
     "metadata": {},
     "output_type": "execute_result"
    }
   ],
   "source": [
    "nn_label_array"
   ]
  },
  {
   "cell_type": "code",
   "execution_count": null,
   "metadata": {
    "collapsed": true
   },
   "outputs": [],
   "source": []
  }
 ],
 "metadata": {
  "kernelspec": {
   "display_name": "Python 2",
   "language": "python",
   "name": "python2"
  },
  "language_info": {
   "codemirror_mode": {
    "name": "ipython",
    "version": 2
   },
   "file_extension": ".py",
   "mimetype": "text/x-python",
   "name": "python",
   "nbconvert_exporter": "python",
   "pygments_lexer": "ipython2",
   "version": "2.7.11"
  }
 },
 "nbformat": 4,
 "nbformat_minor": 0
}
