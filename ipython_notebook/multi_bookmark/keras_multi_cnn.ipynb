{
 "cells": [
  {
   "cell_type": "code",
   "execution_count": 1,
   "metadata": {
    "collapsed": false
   },
   "outputs": [
    {
     "name": "stderr",
     "output_type": "stream",
     "text": [
      "Using Theano backend.\n"
     ]
    }
   ],
   "source": [
    "from matplotlib import pyplot as plt\n",
    "import matplotlib.image as mpimg\n",
    "from matplotlib import rc\n",
    "%matplotlib inline\n",
    "plt.style.use(\"ggplot\")\n",
    "\n",
    "import daft\n",
    "from gensim.models.doc2vec import Word2Vec\n",
    "import json\n",
    "from IPython.display import SVG, display\n",
    "import numpy as np\n",
    "np.random.seed(13)\n",
    "\n",
    "from keras import backend as K\n",
    "from keras.models import Model, Sequential, model_from_json\n",
    "from keras.datasets import mnist, cifar10, imdb\n",
    "from keras.layers import Dense, Dropout, Activation, Flatten, Embedding, LSTM, GRU, Input, RepeatVector, TimeDistributed, Merge, Lambda, Reshape\n",
    "from keras.layers.convolutional import Convolution2D, MaxPooling2D\n",
    "from keras.optimizers import Adadelta\n",
    "from keras.utils.data_utils import get_file\n",
    "from keras.utils import np_utils\n",
    "from keras.utils.visualize_util import model_to_dot, plot\n",
    "from keras.preprocessing import sequence\n",
    "from keras.preprocessing.text import Tokenizer, base_filter"
   ]
  },
  {
   "cell_type": "code",
   "execution_count": 2,
   "metadata": {
    "collapsed": true
   },
   "outputs": [],
   "source": [
    "import sys\n",
    "import os\n",
    "project_path = os.getcwd() + '/../../'\n",
    "sys.path.append(project_path + \"utils\")\n",
    "sys.path.append(project_path + \"data\")\n",
    "sys.path.append(project_path + \"multi_models/cnn/\")"
   ]
  },
  {
   "cell_type": "code",
   "execution_count": 3,
   "metadata": {
    "collapsed": true
   },
   "outputs": [],
   "source": [
    "# utils\n",
    "import analysis\n",
    "import function\n",
    "import other\n",
    "import local_bayes\n",
    "import visualize"
   ]
  },
  {
   "cell_type": "code",
   "execution_count": 4,
   "metadata": {
    "collapsed": true
   },
   "outputs": [],
   "source": [
    "# data\n",
    "from base import BaseDataManager\n",
    "import get_normal_representation \n",
    "from preprocessing import Preprocessing\n",
    "from data import Data"
   ]
  },
  {
   "cell_type": "code",
   "execution_count": 6,
   "metadata": {
    "collapsed": true
   },
   "outputs": [],
   "source": [
    "import numpy"
   ]
  },
  {
   "cell_type": "markdown",
   "metadata": {},
   "source": [
    "## make data"
   ]
  },
  {
   "cell_type": "code",
   "execution_count": 69,
   "metadata": {
    "collapsed": true
   },
   "outputs": [],
   "source": [
    "data_name_ls = ['science', 'ajax', 'java', 'news', 'css', 'javascript', 'opensource', 'webdesign', 'design', 'linux', 'photography']\n",
    "raw_data_dir = project_path + 'original_data/bookmark/'\n",
    "save_data_dir = project_path + 'data/datasets/bookmark_new/'\n",
    "train_test_ratio = 0.8\n",
    "stride = 5\n",
    "balance = True\n",
    "output_dim_ls = [1]\n",
    "\n",
    "base_data_manager = BaseDataManager(raw_data_dir, save_data_dir)\n",
    "D = Data(raw_data_dir, save_data_dir)\n",
    "P = Preprocessing(raw_data_dir, save_data_dir)"
   ]
  },
  {
   "cell_type": "code",
   "execution_count": 70,
   "metadata": {
    "collapsed": false
   },
   "outputs": [
    {
     "name": "stdout",
     "output_type": "stream",
     "text": [
      "science\n",
      "ajax\n",
      "java\n",
      "news\n",
      "css\n",
      "javascript\n",
      "opensource\n",
      "webdesign\n",
      "design\n",
      "linux\n",
      "photography\n"
     ]
    }
   ],
   "source": [
    "for output_dim in output_dim_ls:\n",
    "    \n",
    "    for data_name in data_name_ls:\n",
    "        print data_name\n",
    "        data = base_data_manager.load_data('%s.twd' % data_name)\n",
    "        ts_ls, ts_sum_ls = get_normal_representation.get_ts_normal_representation(data)\n",
    "        ts_dict = base_data_manager.div_train_test(ts_ls, train_test_ratio)\n",
    "        started_ts_dict = base_data_manager.get_started_ts(ts_dict)\n",
    "        input_ts_dict, label_dict, target_ts_dict, input_sum_dict = \\\n",
    "                                    base_data_manager.make_supervised_data(started_ts_dict, stride, output_dim)\n",
    "        if balance:\n",
    "            input_ts_dict, label_dict, target_ts_dict = P.balancing_sampling(input_ts_dict, label_dict, target_ts_dict, output_dim)\n",
    "            data_type = 'balance'\n",
    "        else:\n",
    "            data_type = 'normal'\n",
    "        D.make_train_data(input_ts_dict, label_dict, target_ts_dict, output_dim, data_type, data_name)"
   ]
  },
  {
   "cell_type": "markdown",
   "metadata": {},
   "source": [
    "## data load"
   ]
  },
  {
   "cell_type": "code",
   "execution_count": 87,
   "metadata": {
    "collapsed": false
   },
   "outputs": [],
   "source": [
    "data_type = 'balance'\n",
    "output_dim = 3\n",
    "save_data_dir = '../../data/datasets/bookmark_new/%s/' % data_type\n",
    "train_ajax = numpy.load(save_data_dir + 'ajax' + '/output_dim=%s/train.npz' % output_dim)\n",
    "test_ajax = numpy.load(save_data_dir + 'ajax' + '/output_dim=%s/test.npz' % output_dim)\n",
    "target_ajax = numpy.load(save_data_dir + 'ajax' + '/output_dim=%s/target.npz' % output_dim)"
   ]
  },
  {
   "cell_type": "code",
   "execution_count": 88,
   "metadata": {
    "collapsed": false
   },
   "outputs": [
    {
     "name": "stdout",
     "output_type": "stream",
     "text": [
      "(1650, 1, 1, 30)\n",
      "train samples: 1650\n",
      "test samples: 240\n"
     ]
    }
   ],
   "source": [
    "rows = 1\n",
    "cols = 30\n",
    "nb_classes = 2\n",
    "x_train = train_ajax['x'].reshape(train_ajax['x'].shape[0], 1, rows, cols)\n",
    "x_test = test_ajax['x'].reshape(test_ajax['x'].shape[0], 1, rows, cols)\n",
    "x_train = x_train.astype('float32')\n",
    "x_test = x_test.astype('float32')\n",
    "print x_train.shape\n",
    "print 'train samples: %s' % x_train.shape[0]\n",
    "print 'test samples: %s' % x_test.shape[0]\n",
    "\n",
    "y_train = train_ajax['y']\n",
    "y_test = test_ajax['y']"
   ]
  },
  {
   "cell_type": "code",
   "execution_count": 102,
   "metadata": {
    "collapsed": false
   },
   "outputs": [
    {
     "name": "stdout",
     "output_type": "stream",
     "text": [
      "0.5125\n"
     ]
    }
   ],
   "source": [
    "all, sum_1 = 0, 0\n",
    "for ele in test_ajax['y'][:, 2]:\n",
    "    if abs(ele - 1) == 0:\n",
    "        sum_1 += 1.0\n",
    "    all += 1.0\n",
    "print sum_1 / all"
   ]
  },
  {
   "cell_type": "code",
   "execution_count": 105,
   "metadata": {
    "collapsed": false
   },
   "outputs": [
    {
     "data": {
      "text/plain": [
       "array([[ 1.,  0.],\n",
       "       [ 0.,  1.],\n",
       "       [ 0.,  1.],\n",
       "       ..., \n",
       "       [ 0.,  1.],\n",
       "       [ 1.,  0.],\n",
       "       [ 0.,  1.]])"
      ]
     },
     "execution_count": 105,
     "metadata": {},
     "output_type": "execute_result"
    }
   ],
   "source": [
    "a = np_utils.to_categorical(train_ajax['y'][:, 0], 2)\n",
    "a"
   ]
  },
  {
   "cell_type": "code",
   "execution_count": 106,
   "metadata": {
    "collapsed": false
   },
   "outputs": [
    {
     "data": {
      "text/plain": [
       "array([[ 1.,  0.],\n",
       "       [ 0.,  1.],\n",
       "       [ 0.,  1.],\n",
       "       ..., \n",
       "       [ 1.,  0.],\n",
       "       [ 0.,  1.],\n",
       "       [ 0.,  1.]])"
      ]
     },
     "execution_count": 106,
     "metadata": {},
     "output_type": "execute_result"
    }
   ],
   "source": [
    "b = np_utils.to_categorical(train_ajax['y'][:, 1], 2)\n",
    "b"
   ]
  },
  {
   "cell_type": "code",
   "execution_count": null,
   "metadata": {
    "collapsed": true
   },
   "outputs": [],
   "source": []
  },
  {
   "cell_type": "code",
   "execution_count": 91,
   "metadata": {
    "collapsed": false
   },
   "outputs": [
    {
     "data": {
      "text/plain": [
       "array([[[[  5.,   1.,   5., ...,   3.,   7.,   3.]]],\n",
       "\n",
       "\n",
       "       [[[ 32.,  13.,   6., ...,  36.,  21.,  17.]]],\n",
       "\n",
       "\n",
       "       [[[  4.,   2.,   2., ...,   9.,   3.,   4.]]],\n",
       "\n",
       "\n",
       "       ..., \n",
       "       [[[  3.,   2.,   0., ...,   3.,   0.,   4.]]],\n",
       "\n",
       "\n",
       "       [[[ 27.,  17.,  13., ...,  24.,  25.,  20.]]],\n",
       "\n",
       "\n",
       "       [[[  3.,   1.,   2., ...,   0.,   5.,   4.]]]], dtype=float32)"
      ]
     },
     "execution_count": 91,
     "metadata": {},
     "output_type": "execute_result"
    }
   ],
   "source": [
    "x_train"
   ]
  },
  {
   "cell_type": "code",
   "execution_count": 92,
   "metadata": {
    "collapsed": false
   },
   "outputs": [
    {
     "data": {
      "text/plain": [
       "(1650, 30)"
      ]
     },
     "execution_count": 92,
     "metadata": {},
     "output_type": "execute_result"
    }
   ],
   "source": [
    "train_ajax['x'].shape"
   ]
  },
  {
   "cell_type": "markdown",
   "metadata": {},
   "source": [
    "## model"
   ]
  },
  {
   "cell_type": "code",
   "execution_count": 93,
   "metadata": {
    "collapsed": false,
    "scrolled": true
   },
   "outputs": [
    {
     "data": {
      "image/svg+xml": [
       "<svg height=\"1187pt\" viewBox=\"0.00 0.00 400.14 1187.00\" width=\"400pt\" xmlns=\"http://www.w3.org/2000/svg\" xmlns:xlink=\"http://www.w3.org/1999/xlink\">\n",
       "<g class=\"graph\" id=\"graph0\" transform=\"scale(1 1) rotate(0) translate(4 1183)\">\n",
       "<title>G</title>\n",
       "<polygon fill=\"white\" points=\"-4,4 -4,-1183 396.142,-1183 396.142,4 -4,4\" stroke=\"none\"/>\n",
       "<!-- 4888846864 -->\n",
       "<g class=\"node\" id=\"node1\"><title>4888846864</title>\n",
       "<polygon fill=\"none\" points=\"1.57227,-1134.5 1.57227,-1178.5 390.569,-1178.5 390.569,-1134.5 1.57227,-1134.5\" stroke=\"black\"/>\n",
       "<text font-family=\"Times,serif\" font-size=\"14.00\" text-anchor=\"middle\" x=\"115.912\" y=\"-1152.3\">convolution2d_input_24 (InputLayer)</text>\n",
       "<polyline fill=\"none\" points=\"230.252,-1134.5 230.252,-1178.5 \" stroke=\"black\"/>\n",
       "<text font-family=\"Times,serif\" font-size=\"14.00\" text-anchor=\"middle\" x=\"258.086\" y=\"-1163.3\">input:</text>\n",
       "<polyline fill=\"none\" points=\"230.252,-1156.5 285.921,-1156.5 \" stroke=\"black\"/>\n",
       "<text font-family=\"Times,serif\" font-size=\"14.00\" text-anchor=\"middle\" x=\"258.086\" y=\"-1141.3\">output:</text>\n",
       "<polyline fill=\"none\" points=\"285.921,-1134.5 285.921,-1178.5 \" stroke=\"black\"/>\n",
       "<text font-family=\"Times,serif\" font-size=\"14.00\" text-anchor=\"middle\" x=\"338.245\" y=\"-1163.3\">(None, 1, 1, 30)</text>\n",
       "<polyline fill=\"none\" points=\"285.921,-1156.5 390.569,-1156.5 \" stroke=\"black\"/>\n",
       "<text font-family=\"Times,serif\" font-size=\"14.00\" text-anchor=\"middle\" x=\"338.245\" y=\"-1141.3\">(None, 1, 1, 30)</text>\n",
       "</g>\n",
       "<!-- 4888849744 -->\n",
       "<g class=\"node\" id=\"node2\"><title>4888849744</title>\n",
       "<polygon fill=\"none\" points=\"3.5,-1053.5 3.5,-1097.5 388.642,-1097.5 388.642,-1053.5 3.5,-1053.5\" stroke=\"black\"/>\n",
       "<text font-family=\"Times,serif\" font-size=\"14.00\" text-anchor=\"middle\" x=\"112.412\" y=\"-1071.3\">convolution2d_59 (Convolution2D)</text>\n",
       "<polyline fill=\"none\" points=\"221.324,-1053.5 221.324,-1097.5 \" stroke=\"black\"/>\n",
       "<text font-family=\"Times,serif\" font-size=\"14.00\" text-anchor=\"middle\" x=\"249.159\" y=\"-1082.3\">input:</text>\n",
       "<polyline fill=\"none\" points=\"221.324,-1075.5 276.993,-1075.5 \" stroke=\"black\"/>\n",
       "<text font-family=\"Times,serif\" font-size=\"14.00\" text-anchor=\"middle\" x=\"249.159\" y=\"-1060.3\">output:</text>\n",
       "<polyline fill=\"none\" points=\"276.993,-1053.5 276.993,-1097.5 \" stroke=\"black\"/>\n",
       "<text font-family=\"Times,serif\" font-size=\"14.00\" text-anchor=\"middle\" x=\"332.817\" y=\"-1082.3\">(None, 1, 1, 30)</text>\n",
       "<polyline fill=\"none\" points=\"276.993,-1075.5 388.642,-1075.5 \" stroke=\"black\"/>\n",
       "<text font-family=\"Times,serif\" font-size=\"14.00\" text-anchor=\"middle\" x=\"332.817\" y=\"-1060.3\">(None, 50, 1, 28)</text>\n",
       "</g>\n",
       "<!-- 4888846864&#45;&gt;4888849744 -->\n",
       "<g class=\"edge\" id=\"edge1\"><title>4888846864-&gt;4888849744</title>\n",
       "<path d=\"M196.071,-1134.33C196.071,-1126.18 196.071,-1116.7 196.071,-1107.8\" fill=\"none\" stroke=\"black\"/>\n",
       "<polygon fill=\"black\" points=\"199.571,-1107.73 196.071,-1097.73 192.571,-1107.73 199.571,-1107.73\" stroke=\"black\"/>\n",
       "</g>\n",
       "<!-- 4888848336 -->\n",
       "<g class=\"node\" id=\"node3\"><title>4888848336</title>\n",
       "<polygon fill=\"none\" points=\"30.3516,-972.5 30.3516,-1016.5 361.79,-1016.5 361.79,-972.5 30.3516,-972.5\" stroke=\"black\"/>\n",
       "<text font-family=\"Times,serif\" font-size=\"14.00\" text-anchor=\"middle\" x=\"112.412\" y=\"-990.3\">activation_87 (Activation)</text>\n",
       "<polyline fill=\"none\" points=\"194.473,-972.5 194.473,-1016.5 \" stroke=\"black\"/>\n",
       "<text font-family=\"Times,serif\" font-size=\"14.00\" text-anchor=\"middle\" x=\"222.307\" y=\"-1001.3\">input:</text>\n",
       "<polyline fill=\"none\" points=\"194.473,-994.5 250.142,-994.5 \" stroke=\"black\"/>\n",
       "<text font-family=\"Times,serif\" font-size=\"14.00\" text-anchor=\"middle\" x=\"222.307\" y=\"-979.3\">output:</text>\n",
       "<polyline fill=\"none\" points=\"250.142,-972.5 250.142,-1016.5 \" stroke=\"black\"/>\n",
       "<text font-family=\"Times,serif\" font-size=\"14.00\" text-anchor=\"middle\" x=\"305.966\" y=\"-1001.3\">(None, 50, 1, 28)</text>\n",
       "<polyline fill=\"none\" points=\"250.142,-994.5 361.79,-994.5 \" stroke=\"black\"/>\n",
       "<text font-family=\"Times,serif\" font-size=\"14.00\" text-anchor=\"middle\" x=\"305.966\" y=\"-979.3\">(None, 50, 1, 28)</text>\n",
       "</g>\n",
       "<!-- 4888849744&#45;&gt;4888848336 -->\n",
       "<g class=\"edge\" id=\"edge2\"><title>4888849744-&gt;4888848336</title>\n",
       "<path d=\"M196.071,-1053.33C196.071,-1045.18 196.071,-1035.7 196.071,-1026.8\" fill=\"none\" stroke=\"black\"/>\n",
       "<polygon fill=\"black\" points=\"199.571,-1026.73 196.071,-1016.73 192.571,-1026.73 199.571,-1026.73\" stroke=\"black\"/>\n",
       "</g>\n",
       "<!-- 4811034960 -->\n",
       "<g class=\"node\" id=\"node4\"><title>4811034960</title>\n",
       "<polygon fill=\"none\" points=\"0,-891.5 0,-935.5 392.142,-935.5 392.142,-891.5 0,-891.5\" stroke=\"black\"/>\n",
       "<text font-family=\"Times,serif\" font-size=\"14.00\" text-anchor=\"middle\" x=\"108.912\" y=\"-909.3\">convolution2d_60 (Convolution2D)</text>\n",
       "<polyline fill=\"none\" points=\"217.824,-891.5 217.824,-935.5 \" stroke=\"black\"/>\n",
       "<text font-family=\"Times,serif\" font-size=\"14.00\" text-anchor=\"middle\" x=\"245.659\" y=\"-920.3\">input:</text>\n",
       "<polyline fill=\"none\" points=\"217.824,-913.5 273.493,-913.5 \" stroke=\"black\"/>\n",
       "<text font-family=\"Times,serif\" font-size=\"14.00\" text-anchor=\"middle\" x=\"245.659\" y=\"-898.3\">output:</text>\n",
       "<polyline fill=\"none\" points=\"273.493,-891.5 273.493,-935.5 \" stroke=\"black\"/>\n",
       "<text font-family=\"Times,serif\" font-size=\"14.00\" text-anchor=\"middle\" x=\"332.817\" y=\"-920.3\">(None, 50, 1, 28)</text>\n",
       "<polyline fill=\"none\" points=\"273.493,-913.5 392.142,-913.5 \" stroke=\"black\"/>\n",
       "<text font-family=\"Times,serif\" font-size=\"14.00\" text-anchor=\"middle\" x=\"332.817\" y=\"-898.3\">(None, 100, 1, 26)</text>\n",
       "</g>\n",
       "<!-- 4888848336&#45;&gt;4811034960 -->\n",
       "<g class=\"edge\" id=\"edge3\"><title>4888848336-&gt;4811034960</title>\n",
       "<path d=\"M196.071,-972.329C196.071,-964.183 196.071,-954.699 196.071,-945.797\" fill=\"none\" stroke=\"black\"/>\n",
       "<polygon fill=\"black\" points=\"199.571,-945.729 196.071,-935.729 192.571,-945.729 199.571,-945.729\" stroke=\"black\"/>\n",
       "</g>\n",
       "<!-- 4811068752 -->\n",
       "<g class=\"node\" id=\"node5\"><title>4811068752</title>\n",
       "<polygon fill=\"none\" points=\"26.8516,-810.5 26.8516,-854.5 365.29,-854.5 365.29,-810.5 26.8516,-810.5\" stroke=\"black\"/>\n",
       "<text font-family=\"Times,serif\" font-size=\"14.00\" text-anchor=\"middle\" x=\"108.912\" y=\"-828.3\">activation_88 (Activation)</text>\n",
       "<polyline fill=\"none\" points=\"190.973,-810.5 190.973,-854.5 \" stroke=\"black\"/>\n",
       "<text font-family=\"Times,serif\" font-size=\"14.00\" text-anchor=\"middle\" x=\"218.807\" y=\"-839.3\">input:</text>\n",
       "<polyline fill=\"none\" points=\"190.973,-832.5 246.642,-832.5 \" stroke=\"black\"/>\n",
       "<text font-family=\"Times,serif\" font-size=\"14.00\" text-anchor=\"middle\" x=\"218.807\" y=\"-817.3\">output:</text>\n",
       "<polyline fill=\"none\" points=\"246.642,-810.5 246.642,-854.5 \" stroke=\"black\"/>\n",
       "<text font-family=\"Times,serif\" font-size=\"14.00\" text-anchor=\"middle\" x=\"305.966\" y=\"-839.3\">(None, 100, 1, 26)</text>\n",
       "<polyline fill=\"none\" points=\"246.642,-832.5 365.29,-832.5 \" stroke=\"black\"/>\n",
       "<text font-family=\"Times,serif\" font-size=\"14.00\" text-anchor=\"middle\" x=\"305.966\" y=\"-817.3\">(None, 100, 1, 26)</text>\n",
       "</g>\n",
       "<!-- 4811034960&#45;&gt;4811068752 -->\n",
       "<g class=\"edge\" id=\"edge4\"><title>4811034960-&gt;4811068752</title>\n",
       "<path d=\"M196.071,-891.329C196.071,-883.183 196.071,-873.699 196.071,-864.797\" fill=\"none\" stroke=\"black\"/>\n",
       "<polygon fill=\"black\" points=\"199.571,-864.729 196.071,-854.729 192.571,-864.729 199.571,-864.729\" stroke=\"black\"/>\n",
       "</g>\n",
       "<!-- 4811068496 -->\n",
       "<g class=\"node\" id=\"node6\"><title>4811068496</title>\n",
       "<polygon fill=\"none\" points=\"0,-729.5 0,-773.5 392.142,-773.5 392.142,-729.5 0,-729.5\" stroke=\"black\"/>\n",
       "<text font-family=\"Times,serif\" font-size=\"14.00\" text-anchor=\"middle\" x=\"108.912\" y=\"-747.3\">convolution2d_61 (Convolution2D)</text>\n",
       "<polyline fill=\"none\" points=\"217.824,-729.5 217.824,-773.5 \" stroke=\"black\"/>\n",
       "<text font-family=\"Times,serif\" font-size=\"14.00\" text-anchor=\"middle\" x=\"245.659\" y=\"-758.3\">input:</text>\n",
       "<polyline fill=\"none\" points=\"217.824,-751.5 273.493,-751.5 \" stroke=\"black\"/>\n",
       "<text font-family=\"Times,serif\" font-size=\"14.00\" text-anchor=\"middle\" x=\"245.659\" y=\"-736.3\">output:</text>\n",
       "<polyline fill=\"none\" points=\"273.493,-729.5 273.493,-773.5 \" stroke=\"black\"/>\n",
       "<text font-family=\"Times,serif\" font-size=\"14.00\" text-anchor=\"middle\" x=\"332.817\" y=\"-758.3\">(None, 100, 1, 26)</text>\n",
       "<polyline fill=\"none\" points=\"273.493,-751.5 392.142,-751.5 \" stroke=\"black\"/>\n",
       "<text font-family=\"Times,serif\" font-size=\"14.00\" text-anchor=\"middle\" x=\"332.817\" y=\"-736.3\">(None, 100, 1, 24)</text>\n",
       "</g>\n",
       "<!-- 4811068752&#45;&gt;4811068496 -->\n",
       "<g class=\"edge\" id=\"edge5\"><title>4811068752-&gt;4811068496</title>\n",
       "<path d=\"M196.071,-810.329C196.071,-802.183 196.071,-792.699 196.071,-783.797\" fill=\"none\" stroke=\"black\"/>\n",
       "<polygon fill=\"black\" points=\"199.571,-783.729 196.071,-773.729 192.571,-783.729 199.571,-783.729\" stroke=\"black\"/>\n",
       "</g>\n",
       "<!-- 4810918672 -->\n",
       "<g class=\"node\" id=\"node7\"><title>4810918672</title>\n",
       "<polygon fill=\"none\" points=\"26.8516,-648.5 26.8516,-692.5 365.29,-692.5 365.29,-648.5 26.8516,-648.5\" stroke=\"black\"/>\n",
       "<text font-family=\"Times,serif\" font-size=\"14.00\" text-anchor=\"middle\" x=\"108.912\" y=\"-666.3\">activation_89 (Activation)</text>\n",
       "<polyline fill=\"none\" points=\"190.973,-648.5 190.973,-692.5 \" stroke=\"black\"/>\n",
       "<text font-family=\"Times,serif\" font-size=\"14.00\" text-anchor=\"middle\" x=\"218.807\" y=\"-677.3\">input:</text>\n",
       "<polyline fill=\"none\" points=\"190.973,-670.5 246.642,-670.5 \" stroke=\"black\"/>\n",
       "<text font-family=\"Times,serif\" font-size=\"14.00\" text-anchor=\"middle\" x=\"218.807\" y=\"-655.3\">output:</text>\n",
       "<polyline fill=\"none\" points=\"246.642,-648.5 246.642,-692.5 \" stroke=\"black\"/>\n",
       "<text font-family=\"Times,serif\" font-size=\"14.00\" text-anchor=\"middle\" x=\"305.966\" y=\"-677.3\">(None, 100, 1, 24)</text>\n",
       "<polyline fill=\"none\" points=\"246.642,-670.5 365.29,-670.5 \" stroke=\"black\"/>\n",
       "<text font-family=\"Times,serif\" font-size=\"14.00\" text-anchor=\"middle\" x=\"305.966\" y=\"-655.3\">(None, 100, 1, 24)</text>\n",
       "</g>\n",
       "<!-- 4811068496&#45;&gt;4810918672 -->\n",
       "<g class=\"edge\" id=\"edge6\"><title>4811068496-&gt;4810918672</title>\n",
       "<path d=\"M196.071,-729.329C196.071,-721.183 196.071,-711.699 196.071,-702.797\" fill=\"none\" stroke=\"black\"/>\n",
       "<polygon fill=\"black\" points=\"199.571,-702.729 196.071,-692.729 192.571,-702.729 199.571,-702.729\" stroke=\"black\"/>\n",
       "</g>\n",
       "<!-- 4810918736 -->\n",
       "<g class=\"node\" id=\"node8\"><title>4810918736</title>\n",
       "<polygon fill=\"none\" points=\"0.389648,-567.5 0.389648,-611.5 391.752,-611.5 391.752,-567.5 0.389648,-567.5\" stroke=\"black\"/>\n",
       "<text font-family=\"Times,serif\" font-size=\"14.00\" text-anchor=\"middle\" x=\"108.912\" y=\"-585.3\">maxpooling2d_24 (MaxPooling2D)</text>\n",
       "<polyline fill=\"none\" points=\"217.435,-567.5 217.435,-611.5 \" stroke=\"black\"/>\n",
       "<text font-family=\"Times,serif\" font-size=\"14.00\" text-anchor=\"middle\" x=\"245.269\" y=\"-596.3\">input:</text>\n",
       "<polyline fill=\"none\" points=\"217.435,-589.5 273.104,-589.5 \" stroke=\"black\"/>\n",
       "<text font-family=\"Times,serif\" font-size=\"14.00\" text-anchor=\"middle\" x=\"245.269\" y=\"-574.3\">output:</text>\n",
       "<polyline fill=\"none\" points=\"273.104,-567.5 273.104,-611.5 \" stroke=\"black\"/>\n",
       "<text font-family=\"Times,serif\" font-size=\"14.00\" text-anchor=\"middle\" x=\"332.428\" y=\"-596.3\">(None, 100, 1, 24)</text>\n",
       "<polyline fill=\"none\" points=\"273.104,-589.5 391.752,-589.5 \" stroke=\"black\"/>\n",
       "<text font-family=\"Times,serif\" font-size=\"14.00\" text-anchor=\"middle\" x=\"332.428\" y=\"-574.3\">(None, 100, 1, 12)</text>\n",
       "</g>\n",
       "<!-- 4810918672&#45;&gt;4810918736 -->\n",
       "<g class=\"edge\" id=\"edge7\"><title>4810918672-&gt;4810918736</title>\n",
       "<path d=\"M196.071,-648.329C196.071,-640.183 196.071,-630.699 196.071,-621.797\" fill=\"none\" stroke=\"black\"/>\n",
       "<polygon fill=\"black\" points=\"199.571,-621.729 196.071,-611.729 192.571,-621.729 199.571,-621.729\" stroke=\"black\"/>\n",
       "</g>\n",
       "<!-- 4810916432 -->\n",
       "<g class=\"node\" id=\"node9\"><title>4810916432</title>\n",
       "<polygon fill=\"none\" points=\"47.062,-486.5 47.062,-530.5 345.08,-530.5 345.08,-486.5 47.062,-486.5\" stroke=\"black\"/>\n",
       "<text font-family=\"Times,serif\" font-size=\"14.00\" text-anchor=\"middle\" x=\"108.912\" y=\"-504.3\">flatten_17 (Flatten)</text>\n",
       "<polyline fill=\"none\" points=\"170.762,-486.5 170.762,-530.5 \" stroke=\"black\"/>\n",
       "<text font-family=\"Times,serif\" font-size=\"14.00\" text-anchor=\"middle\" x=\"198.597\" y=\"-515.3\">input:</text>\n",
       "<polyline fill=\"none\" points=\"170.762,-508.5 226.431,-508.5 \" stroke=\"black\"/>\n",
       "<text font-family=\"Times,serif\" font-size=\"14.00\" text-anchor=\"middle\" x=\"198.597\" y=\"-493.3\">output:</text>\n",
       "<polyline fill=\"none\" points=\"226.431,-486.5 226.431,-530.5 \" stroke=\"black\"/>\n",
       "<text font-family=\"Times,serif\" font-size=\"14.00\" text-anchor=\"middle\" x=\"285.755\" y=\"-515.3\">(None, 100, 1, 12)</text>\n",
       "<polyline fill=\"none\" points=\"226.431,-508.5 345.08,-508.5 \" stroke=\"black\"/>\n",
       "<text font-family=\"Times,serif\" font-size=\"14.00\" text-anchor=\"middle\" x=\"285.755\" y=\"-493.3\">(None, 1200)</text>\n",
       "</g>\n",
       "<!-- 4810918736&#45;&gt;4810916432 -->\n",
       "<g class=\"edge\" id=\"edge8\"><title>4810918736-&gt;4810916432</title>\n",
       "<path d=\"M196.071,-567.329C196.071,-559.183 196.071,-549.699 196.071,-540.797\" fill=\"none\" stroke=\"black\"/>\n",
       "<polygon fill=\"black\" points=\"199.571,-540.729 196.071,-530.729 192.571,-540.729 199.571,-540.729\" stroke=\"black\"/>\n",
       "</g>\n",
       "<!-- 4810875216 -->\n",
       "<g class=\"node\" id=\"node10\"><title>4810875216</title>\n",
       "<polygon fill=\"none\" points=\"64.5688,-405.5 64.5688,-449.5 327.573,-449.5 327.573,-405.5 64.5688,-405.5\" stroke=\"black\"/>\n",
       "<text font-family=\"Times,serif\" font-size=\"14.00\" text-anchor=\"middle\" x=\"122.912\" y=\"-423.3\">dense_35 (Dense)</text>\n",
       "<polyline fill=\"none\" points=\"181.255,-405.5 181.255,-449.5 \" stroke=\"black\"/>\n",
       "<text font-family=\"Times,serif\" font-size=\"14.00\" text-anchor=\"middle\" x=\"209.09\" y=\"-434.3\">input:</text>\n",
       "<polyline fill=\"none\" points=\"181.255,-427.5 236.924,-427.5 \" stroke=\"black\"/>\n",
       "<text font-family=\"Times,serif\" font-size=\"14.00\" text-anchor=\"middle\" x=\"209.09\" y=\"-412.3\">output:</text>\n",
       "<polyline fill=\"none\" points=\"236.924,-405.5 236.924,-449.5 \" stroke=\"black\"/>\n",
       "<text font-family=\"Times,serif\" font-size=\"14.00\" text-anchor=\"middle\" x=\"282.249\" y=\"-434.3\">(None, 1200)</text>\n",
       "<polyline fill=\"none\" points=\"236.924,-427.5 327.573,-427.5 \" stroke=\"black\"/>\n",
       "<text font-family=\"Times,serif\" font-size=\"14.00\" text-anchor=\"middle\" x=\"282.249\" y=\"-412.3\">(None, 1000)</text>\n",
       "</g>\n",
       "<!-- 4810916432&#45;&gt;4810875216 -->\n",
       "<g class=\"edge\" id=\"edge9\"><title>4810916432-&gt;4810875216</title>\n",
       "<path d=\"M196.071,-486.329C196.071,-478.183 196.071,-468.699 196.071,-459.797\" fill=\"none\" stroke=\"black\"/>\n",
       "<polygon fill=\"black\" points=\"199.571,-459.729 196.071,-449.729 192.571,-459.729 199.571,-459.729\" stroke=\"black\"/>\n",
       "</g>\n",
       "<!-- 4862962384 -->\n",
       "<g class=\"node\" id=\"node11\"><title>4862962384</title>\n",
       "<polygon fill=\"none\" points=\"40.8516,-324.5 40.8516,-368.5 351.29,-368.5 351.29,-324.5 40.8516,-324.5\" stroke=\"black\"/>\n",
       "<text font-family=\"Times,serif\" font-size=\"14.00\" text-anchor=\"middle\" x=\"122.912\" y=\"-342.3\">activation_90 (Activation)</text>\n",
       "<polyline fill=\"none\" points=\"204.973,-324.5 204.973,-368.5 \" stroke=\"black\"/>\n",
       "<text font-family=\"Times,serif\" font-size=\"14.00\" text-anchor=\"middle\" x=\"232.807\" y=\"-353.3\">input:</text>\n",
       "<polyline fill=\"none\" points=\"204.973,-346.5 260.642,-346.5 \" stroke=\"black\"/>\n",
       "<text font-family=\"Times,serif\" font-size=\"14.00\" text-anchor=\"middle\" x=\"232.807\" y=\"-331.3\">output:</text>\n",
       "<polyline fill=\"none\" points=\"260.642,-324.5 260.642,-368.5 \" stroke=\"black\"/>\n",
       "<text font-family=\"Times,serif\" font-size=\"14.00\" text-anchor=\"middle\" x=\"305.966\" y=\"-353.3\">(None, 1000)</text>\n",
       "<polyline fill=\"none\" points=\"260.642,-346.5 351.29,-346.5 \" stroke=\"black\"/>\n",
       "<text font-family=\"Times,serif\" font-size=\"14.00\" text-anchor=\"middle\" x=\"305.966\" y=\"-331.3\">(None, 1000)</text>\n",
       "</g>\n",
       "<!-- 4810875216&#45;&gt;4862962384 -->\n",
       "<g class=\"edge\" id=\"edge10\"><title>4810875216-&gt;4862962384</title>\n",
       "<path d=\"M196.071,-405.329C196.071,-397.183 196.071,-387.699 196.071,-378.797\" fill=\"none\" stroke=\"black\"/>\n",
       "<polygon fill=\"black\" points=\"199.571,-378.729 196.071,-368.729 192.571,-378.729 199.571,-378.729\" stroke=\"black\"/>\n",
       "</g>\n",
       "<!-- 4862961232 -->\n",
       "<g class=\"node\" id=\"node12\"><title>4862961232</title>\n",
       "<polygon fill=\"none\" points=\"64.5688,-243.5 64.5688,-287.5 327.573,-287.5 327.573,-243.5 64.5688,-243.5\" stroke=\"black\"/>\n",
       "<text font-family=\"Times,serif\" font-size=\"14.00\" text-anchor=\"middle\" x=\"122.912\" y=\"-261.3\">dense_36 (Dense)</text>\n",
       "<polyline fill=\"none\" points=\"181.255,-243.5 181.255,-287.5 \" stroke=\"black\"/>\n",
       "<text font-family=\"Times,serif\" font-size=\"14.00\" text-anchor=\"middle\" x=\"209.09\" y=\"-272.3\">input:</text>\n",
       "<polyline fill=\"none\" points=\"181.255,-265.5 236.924,-265.5 \" stroke=\"black\"/>\n",
       "<text font-family=\"Times,serif\" font-size=\"14.00\" text-anchor=\"middle\" x=\"209.09\" y=\"-250.3\">output:</text>\n",
       "<polyline fill=\"none\" points=\"236.924,-243.5 236.924,-287.5 \" stroke=\"black\"/>\n",
       "<text font-family=\"Times,serif\" font-size=\"14.00\" text-anchor=\"middle\" x=\"282.249\" y=\"-272.3\">(None, 1000)</text>\n",
       "<polyline fill=\"none\" points=\"236.924,-265.5 327.573,-265.5 \" stroke=\"black\"/>\n",
       "<text font-family=\"Times,serif\" font-size=\"14.00\" text-anchor=\"middle\" x=\"282.249\" y=\"-250.3\">(None, 100)</text>\n",
       "</g>\n",
       "<!-- 4862962384&#45;&gt;4862961232 -->\n",
       "<g class=\"edge\" id=\"edge11\"><title>4862962384-&gt;4862961232</title>\n",
       "<path d=\"M196.071,-324.329C196.071,-316.183 196.071,-306.699 196.071,-297.797\" fill=\"none\" stroke=\"black\"/>\n",
       "<polygon fill=\"black\" points=\"199.571,-297.729 196.071,-287.729 192.571,-297.729 199.571,-297.729\" stroke=\"black\"/>\n",
       "</g>\n",
       "<!-- 4810952848 -->\n",
       "<g class=\"node\" id=\"node13\"><title>4810952848</title>\n",
       "<polygon fill=\"none\" points=\"44.3516,-162.5 44.3516,-206.5 347.79,-206.5 347.79,-162.5 44.3516,-162.5\" stroke=\"black\"/>\n",
       "<text font-family=\"Times,serif\" font-size=\"14.00\" text-anchor=\"middle\" x=\"126.412\" y=\"-180.3\">activation_91 (Activation)</text>\n",
       "<polyline fill=\"none\" points=\"208.473,-162.5 208.473,-206.5 \" stroke=\"black\"/>\n",
       "<text font-family=\"Times,serif\" font-size=\"14.00\" text-anchor=\"middle\" x=\"236.307\" y=\"-191.3\">input:</text>\n",
       "<polyline fill=\"none\" points=\"208.473,-184.5 264.142,-184.5 \" stroke=\"black\"/>\n",
       "<text font-family=\"Times,serif\" font-size=\"14.00\" text-anchor=\"middle\" x=\"236.307\" y=\"-169.3\">output:</text>\n",
       "<polyline fill=\"none\" points=\"264.142,-162.5 264.142,-206.5 \" stroke=\"black\"/>\n",
       "<text font-family=\"Times,serif\" font-size=\"14.00\" text-anchor=\"middle\" x=\"305.966\" y=\"-191.3\">(None, 100)</text>\n",
       "<polyline fill=\"none\" points=\"264.142,-184.5 347.79,-184.5 \" stroke=\"black\"/>\n",
       "<text font-family=\"Times,serif\" font-size=\"14.00\" text-anchor=\"middle\" x=\"305.966\" y=\"-169.3\">(None, 100)</text>\n",
       "</g>\n",
       "<!-- 4862961232&#45;&gt;4810952848 -->\n",
       "<g class=\"edge\" id=\"edge12\"><title>4862961232-&gt;4810952848</title>\n",
       "<path d=\"M196.071,-243.329C196.071,-235.183 196.071,-225.699 196.071,-216.797\" fill=\"none\" stroke=\"black\"/>\n",
       "<polygon fill=\"black\" points=\"199.571,-216.729 196.071,-206.729 192.571,-216.729 199.571,-216.729\" stroke=\"black\"/>\n",
       "</g>\n",
       "<!-- 4810955344 -->\n",
       "<g class=\"node\" id=\"node14\"><title>4810955344</title>\n",
       "<polygon fill=\"none\" points=\"68.0688,-81.5 68.0688,-125.5 324.073,-125.5 324.073,-81.5 68.0688,-81.5\" stroke=\"black\"/>\n",
       "<text font-family=\"Times,serif\" font-size=\"14.00\" text-anchor=\"middle\" x=\"126.412\" y=\"-99.3\">dense_37 (Dense)</text>\n",
       "<polyline fill=\"none\" points=\"184.755,-81.5 184.755,-125.5 \" stroke=\"black\"/>\n",
       "<text font-family=\"Times,serif\" font-size=\"14.00\" text-anchor=\"middle\" x=\"212.59\" y=\"-110.3\">input:</text>\n",
       "<polyline fill=\"none\" points=\"184.755,-103.5 240.424,-103.5 \" stroke=\"black\"/>\n",
       "<text font-family=\"Times,serif\" font-size=\"14.00\" text-anchor=\"middle\" x=\"212.59\" y=\"-88.3\">output:</text>\n",
       "<polyline fill=\"none\" points=\"240.424,-81.5 240.424,-125.5 \" stroke=\"black\"/>\n",
       "<text font-family=\"Times,serif\" font-size=\"14.00\" text-anchor=\"middle\" x=\"282.249\" y=\"-110.3\">(None, 100)</text>\n",
       "<polyline fill=\"none\" points=\"240.424,-103.5 324.073,-103.5 \" stroke=\"black\"/>\n",
       "<text font-family=\"Times,serif\" font-size=\"14.00\" text-anchor=\"middle\" x=\"282.249\" y=\"-88.3\">(None, 2)</text>\n",
       "</g>\n",
       "<!-- 4810952848&#45;&gt;4810955344 -->\n",
       "<g class=\"edge\" id=\"edge13\"><title>4810952848-&gt;4810955344</title>\n",
       "<path d=\"M196.071,-162.329C196.071,-154.183 196.071,-144.699 196.071,-135.797\" fill=\"none\" stroke=\"black\"/>\n",
       "<polygon fill=\"black\" points=\"199.571,-135.729 196.071,-125.729 192.571,-135.729 199.571,-135.729\" stroke=\"black\"/>\n",
       "</g>\n",
       "<!-- 4886426320 -->\n",
       "<g class=\"node\" id=\"node15\"><title>4886426320</title>\n",
       "<polygon fill=\"none\" points=\"51.3516,-0.5 51.3516,-44.5 340.79,-44.5 340.79,-0.5 51.3516,-0.5\" stroke=\"black\"/>\n",
       "<text font-family=\"Times,serif\" font-size=\"14.00\" text-anchor=\"middle\" x=\"133.412\" y=\"-18.3\">activation_92 (Activation)</text>\n",
       "<polyline fill=\"none\" points=\"215.473,-0.5 215.473,-44.5 \" stroke=\"black\"/>\n",
       "<text font-family=\"Times,serif\" font-size=\"14.00\" text-anchor=\"middle\" x=\"243.307\" y=\"-29.3\">input:</text>\n",
       "<polyline fill=\"none\" points=\"215.473,-22.5 271.142,-22.5 \" stroke=\"black\"/>\n",
       "<text font-family=\"Times,serif\" font-size=\"14.00\" text-anchor=\"middle\" x=\"243.307\" y=\"-7.3\">output:</text>\n",
       "<polyline fill=\"none\" points=\"271.142,-0.5 271.142,-44.5 \" stroke=\"black\"/>\n",
       "<text font-family=\"Times,serif\" font-size=\"14.00\" text-anchor=\"middle\" x=\"305.966\" y=\"-29.3\">(None, 2)</text>\n",
       "<polyline fill=\"none\" points=\"271.142,-22.5 340.79,-22.5 \" stroke=\"black\"/>\n",
       "<text font-family=\"Times,serif\" font-size=\"14.00\" text-anchor=\"middle\" x=\"305.966\" y=\"-7.3\">(None, 2)</text>\n",
       "</g>\n",
       "<!-- 4810955344&#45;&gt;4886426320 -->\n",
       "<g class=\"edge\" id=\"edge14\"><title>4810955344-&gt;4886426320</title>\n",
       "<path d=\"M196.071,-81.3294C196.071,-73.1826 196.071,-63.6991 196.071,-54.7971\" fill=\"none\" stroke=\"black\"/>\n",
       "<polygon fill=\"black\" points=\"199.571,-54.729 196.071,-44.729 192.571,-54.729 199.571,-54.729\" stroke=\"black\"/>\n",
       "</g>\n",
       "</g>\n",
       "</svg>"
      ],
      "text/plain": [
       "<IPython.core.display.SVG object>"
      ]
     },
     "execution_count": 93,
     "metadata": {},
     "output_type": "execute_result"
    }
   ],
   "source": [
    "model = Sequential()\n",
    "model.add(Convolution2D(50, 1, 3, input_shape=(1, rows, cols)))\n",
    "model.add(Activation('relu'))\n",
    "model.add(Convolution2D(100, 1, 3))\n",
    "model.add(Activation('relu'))\n",
    "model.add(Convolution2D(100, 1, 3))\n",
    "model.add(Activation('relu'))\n",
    "model.add(MaxPooling2D(pool_size=(1, 2)))\n",
    "# model.add(Reshape((260, )))\n",
    "model.add(Flatten())\n",
    "model.add(Dense(1000))\n",
    "model.add(Activation('relu'))\n",
    "model.add(Dense(100))\n",
    "model.add(Activation('relu'))\n",
    "model.add(Dense(output_dim = 3, activation = 'sigmoid'))\n",
    "\n",
    "model.compile(loss='binary_crossentropy',\n",
    "              optimizer=\"adam\",\n",
    "              metrics=['accuracy'])\n",
    "\n",
    "SVG(model_to_dot(model, show_shapes=True).create(prog='dot', format='svg'))"
   ]
  },
  {
   "cell_type": "code",
   "execution_count": 94,
   "metadata": {
    "collapsed": false
   },
   "outputs": [
    {
     "name": "stdout",
     "output_type": "stream",
     "text": [
      "Train on 1485 samples, validate on 165 samples\n",
      "Epoch 1/10\n",
      "1s - loss: 0.7063 - acc: 0.7024 - val_loss: 0.5736 - val_acc: 0.7394\n",
      "Epoch 2/10\n",
      "1s - loss: 0.5622 - acc: 0.7360 - val_loss: 0.5321 - val_acc: 0.7636\n",
      "Epoch 3/10\n",
      "1s - loss: 0.5485 - acc: 0.7455 - val_loss: 0.5409 - val_acc: 0.7576\n",
      "Epoch 4/10\n",
      "1s - loss: 0.5269 - acc: 0.7569 - val_loss: 0.5018 - val_acc: 0.7515\n",
      "Epoch 5/10\n",
      "1s - loss: 0.5200 - acc: 0.7589 - val_loss: 0.5202 - val_acc: 0.7818\n",
      "Epoch 6/10\n",
      "1s - loss: 0.5012 - acc: 0.7650 - val_loss: 0.5175 - val_acc: 0.7515\n",
      "Epoch 7/10\n",
      "1s - loss: 0.4830 - acc: 0.7731 - val_loss: 0.5291 - val_acc: 0.7636\n",
      "Epoch 8/10\n",
      "1s - loss: 0.4665 - acc: 0.7865 - val_loss: 0.5054 - val_acc: 0.7697\n",
      "Epoch 9/10\n",
      "1s - loss: 0.4500 - acc: 0.7953 - val_loss: 0.5561 - val_acc: 0.7152\n",
      "Epoch 10/10\n",
      "1s - loss: 0.4450 - acc: 0.7906 - val_loss: 0.5591 - val_acc: 0.7333\n"
     ]
    }
   ],
   "source": [
    "nb_epoch = 10\n",
    "cnn_result = model.fit(x_train, np_utils.to_categorical(train_ajax['y'][:, 0], 2), nb_epoch=nb_epoch, batch_size=50, verbose=2,  validation_split=0.1)"
   ]
  },
  {
   "cell_type": "code",
   "execution_count": 95,
   "metadata": {
    "collapsed": false
   },
   "outputs": [
    {
     "name": "stdout",
     "output_type": "stream",
     "text": [
      "test score: 0.512677562237\n",
      "test accuracy: 0.758333333333\n"
     ]
    }
   ],
   "source": [
    "score = model.evaluate(x_test, np_utils.to_categorical(test_ajax['y'][:, 0], 2), show_accuracy=True, verbose=0)\n",
    "print 'test score: %s' % score[0]\n",
    "print 'test accuracy: %s' % score[1]"
   ]
  },
  {
   "cell_type": "code",
   "execution_count": 97,
   "metadata": {
    "collapsed": false
   },
   "outputs": [
    {
     "name": "stdout",
     "output_type": "stream",
     "text": [
      "Train on 1320 samples, validate on 330 samples\n",
      "Epoch 1/10\n",
      "0s - loss: 0.6859 - acc: 0.6356 - val_loss: 0.6326 - val_acc: 0.6879\n",
      "Epoch 2/10\n",
      "0s - loss: 0.6165 - acc: 0.6841 - val_loss: 0.6236 - val_acc: 0.6636\n",
      "Epoch 3/10\n",
      "0s - loss: 0.5928 - acc: 0.6909 - val_loss: 0.6103 - val_acc: 0.7000\n",
      "Epoch 4/10\n",
      "0s - loss: 0.5768 - acc: 0.7061 - val_loss: 0.6132 - val_acc: 0.6667\n",
      "Epoch 5/10\n",
      "0s - loss: 0.5621 - acc: 0.7144 - val_loss: 0.6779 - val_acc: 0.5636\n",
      "Epoch 6/10\n",
      "0s - loss: 0.5638 - acc: 0.7061 - val_loss: 0.6082 - val_acc: 0.7061\n",
      "Epoch 7/10\n",
      "0s - loss: 0.5626 - acc: 0.7144 - val_loss: 0.5997 - val_acc: 0.7000\n",
      "Epoch 8/10\n",
      "0s - loss: 0.5482 - acc: 0.7136 - val_loss: 0.5946 - val_acc: 0.7061\n",
      "Epoch 9/10\n",
      "0s - loss: 0.5396 - acc: 0.7076 - val_loss: 0.6573 - val_acc: 0.6909\n",
      "Epoch 10/10\n",
      "0s - loss: 0.5369 - acc: 0.7235 - val_loss: 0.6083 - val_acc: 0.6818\n"
     ]
    }
   ],
   "source": [
    "model = Sequential()\n",
    "model.add(Convolution2D(50, 1, 3, input_shape=(1, rows, cols)))\n",
    "model.add(Activation('relu'))\n",
    "model.add(Convolution2D(100, 1, 3))\n",
    "model.add(Activation('relu'))\n",
    "model.add(MaxPooling2D(pool_size=(1, 2)))\n",
    "model.add(Flatten())\n",
    "model.add(Dense(100))\n",
    "model.add(Activation('relu'))\n",
    "model.add(Dense(2))\n",
    "model.add(Activation('softmax'))\n",
    "\n",
    "model.compile(loss='binary_crossentropy',\n",
    "              optimizer=\"adadelta\",\n",
    "              metrics=['accuracy'])\n",
    "\n",
    "SVG(model_to_dot(model, show_shapes=True).create(prog='dot', format='svg'))\n",
    "\n",
    "nb_epoch = 10\n",
    "cnn_result = model.fit(x_train, np_utils.to_categorical(train_ajax['y'][:, 1], 2), nb_epoch=nb_epoch, batch_size=50, verbose=2,  validation_split=0.2)"
   ]
  },
  {
   "cell_type": "code",
   "execution_count": 98,
   "metadata": {
    "collapsed": false
   },
   "outputs": [
    {
     "name": "stdout",
     "output_type": "stream",
     "text": [
      "test score: 0.646138517062\n",
      "test accuracy: 0.6625\n"
     ]
    }
   ],
   "source": [
    "score = model.evaluate(x_test, np_utils.to_categorical(test_ajax['y'][:, 1], 2), show_accuracy=True, verbose=0)\n",
    "print 'test score: %s' % score[0]\n",
    "print 'test accuracy: %s' % score[1]"
   ]
  },
  {
   "cell_type": "code",
   "execution_count": 99,
   "metadata": {
    "collapsed": false
   },
   "outputs": [
    {
     "name": "stdout",
     "output_type": "stream",
     "text": [
      "Train on 1320 samples, validate on 330 samples\n",
      "Epoch 1/10\n",
      "0s - loss: 0.6736 - acc: 0.6045 - val_loss: 0.6366 - val_acc: 0.6424\n",
      "Epoch 2/10\n",
      "0s - loss: 0.6172 - acc: 0.6818 - val_loss: 0.6334 - val_acc: 0.6273\n",
      "Epoch 3/10\n",
      "0s - loss: 0.5992 - acc: 0.6864 - val_loss: 0.6172 - val_acc: 0.6394\n",
      "Epoch 4/10\n",
      "0s - loss: 0.5776 - acc: 0.6977 - val_loss: 0.6503 - val_acc: 0.6515\n",
      "Epoch 5/10\n",
      "0s - loss: 0.5749 - acc: 0.7015 - val_loss: 0.6268 - val_acc: 0.6333\n",
      "Epoch 6/10\n",
      "0s - loss: 0.5602 - acc: 0.7091 - val_loss: 0.6247 - val_acc: 0.6364\n",
      "Epoch 7/10\n",
      "0s - loss: 0.5544 - acc: 0.7106 - val_loss: 0.6504 - val_acc: 0.5879\n",
      "Epoch 8/10\n",
      "0s - loss: 0.5483 - acc: 0.7106 - val_loss: 0.6741 - val_acc: 0.6152\n",
      "Epoch 9/10\n",
      "0s - loss: 0.5321 - acc: 0.7417 - val_loss: 0.6328 - val_acc: 0.6576\n",
      "Epoch 10/10\n",
      "0s - loss: 0.5325 - acc: 0.7356 - val_loss: 0.6414 - val_acc: 0.6485\n"
     ]
    }
   ],
   "source": [
    "model = Sequential()\n",
    "model.add(Convolution2D(50, 1, 3, input_shape=(1, rows, cols)))\n",
    "model.add(Activation('relu'))\n",
    "model.add(Convolution2D(100, 1, 3))\n",
    "model.add(Activation('relu'))\n",
    "model.add(MaxPooling2D(pool_size=(1, 2)))\n",
    "model.add(Flatten())\n",
    "model.add(Dense(100))\n",
    "model.add(Activation('relu'))\n",
    "model.add(Dense(2))\n",
    "model.add(Activation('softmax'))\n",
    "\n",
    "model.compile(loss='binary_crossentropy',\n",
    "              optimizer=\"adadelta\",\n",
    "              metrics=['accuracy'])\n",
    "\n",
    "SVG(model_to_dot(model, show_shapes=True).create(prog='dot', format='svg'))\n",
    "\n",
    "nb_epoch = 10\n",
    "cnn_result = model.fit(x_train, np_utils.to_categorical(train_ajax['y'][:, 2], 2), nb_epoch=nb_epoch, batch_size=50, verbose=2,  validation_split=0.2)"
   ]
  },
  {
   "cell_type": "code",
   "execution_count": 100,
   "metadata": {
    "collapsed": false
   },
   "outputs": [
    {
     "name": "stdout",
     "output_type": "stream",
     "text": [
      "test score: 0.677830870946\n",
      "test accuracy: 0.620833333333\n"
     ]
    }
   ],
   "source": [
    "score = model.evaluate(x_test, np_utils.to_categorical(test_ajax['y'][:, 2], 2), show_accuracy=True, verbose=0)\n",
    "print 'test score: %s' % score[0]\n",
    "print 'test accuracy: %s' % score[1]"
   ]
  },
  {
   "cell_type": "code",
   "execution_count": null,
   "metadata": {
    "collapsed": true
   },
   "outputs": [],
   "source": []
  }
 ],
 "metadata": {
  "kernelspec": {
   "display_name": "Python 2",
   "language": "python",
   "name": "python2"
  },
  "language_info": {
   "codemirror_mode": {
    "name": "ipython",
    "version": 2
   },
   "file_extension": ".py",
   "mimetype": "text/x-python",
   "name": "python",
   "nbconvert_exporter": "python",
   "pygments_lexer": "ipython2",
   "version": "2.7.11"
  }
 },
 "nbformat": 4,
 "nbformat_minor": 0
}
