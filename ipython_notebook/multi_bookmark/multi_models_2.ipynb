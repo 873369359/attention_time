{
 "cells": [
  {
   "cell_type": "code",
   "execution_count": 1,
   "metadata": {
    "collapsed": false
   },
   "outputs": [
    {
     "name": "stderr",
     "output_type": "stream",
     "text": [
      "Using Theano backend.\n"
     ]
    }
   ],
   "source": [
    "from matplotlib import pyplot as plt\n",
    "import matplotlib.image as mpimg\n",
    "from matplotlib import rc\n",
    "%matplotlib inline\n",
    "plt.style.use(\"ggplot\")\n",
    "\n",
    "import daft\n",
    "from gensim.models.doc2vec import Word2Vec\n",
    "import json\n",
    "from IPython.display import SVG, display\n",
    "import numpy as np\n",
    "np.random.seed(13)\n",
    "\n",
    "from keras import backend as K\n",
    "from keras.models import Model, Sequential, model_from_json\n",
    "from keras.datasets import mnist, cifar10, imdb\n",
    "from keras.layers import Dense, Dropout, Activation, Flatten, Embedding, LSTM, GRU, Input, RepeatVector, TimeDistributed, Merge, Lambda, Reshape\n",
    "from keras.layers.convolutional import Convolution2D, MaxPooling2D\n",
    "from keras.optimizers import Adadelta\n",
    "from keras.utils.data_utils import get_file\n",
    "from keras.utils import np_utils\n",
    "from keras.utils.visualize_util import model_to_dot, plot\n",
    "from keras.preprocessing import sequence\n",
    "from keras.preprocessing.text import Tokenizer, base_filter"
   ]
  },
  {
   "cell_type": "code",
   "execution_count": 2,
   "metadata": {
    "collapsed": true
   },
   "outputs": [],
   "source": [
    "import sys\n",
    "import os\n",
    "project_path = os.getcwd() + '/../../'\n",
    "sys.path.append(project_path + \"utils\")\n",
    "sys.path.append(project_path + \"data\")\n",
    "sys.path.append(project_path + \"multi_models/cnn/\")\n",
    "sys.path.append(project_path + \"multi_models/timeseries_model/\")\n",
    "sys.path.append(project_path + \"multi_models/knn/\")"
   ]
  },
  {
   "cell_type": "code",
   "execution_count": 3,
   "metadata": {
    "collapsed": true
   },
   "outputs": [],
   "source": [
    "# utils\n",
    "import analysis\n",
    "import function\n",
    "import other\n",
    "import local_bayes\n",
    "import visualize"
   ]
  },
  {
   "cell_type": "code",
   "execution_count": 4,
   "metadata": {
    "collapsed": true
   },
   "outputs": [],
   "source": [
    "# data\n",
    "from base import BaseDataManager\n",
    "import get_normal_representation \n",
    "from preprocessing import Preprocessing\n",
    "from data import Data"
   ]
  },
  {
   "cell_type": "code",
   "execution_count": 5,
   "metadata": {
    "collapsed": true
   },
   "outputs": [],
   "source": [
    "import numpy\n",
    "from keras.layers import LSTM, GRU, SimpleRNN\n",
    "sys.path.append(project_path + \"multi_models/knn/\")"
   ]
  },
  {
   "cell_type": "code",
   "execution_count": 6,
   "metadata": {
    "collapsed": false
   },
   "outputs": [],
   "source": [
    "%load_ext autoreload\n",
    "%autoreload 2\n",
    "from timeseries_model import TimeseriesModel"
   ]
  },
  {
   "cell_type": "code",
   "execution_count": 9,
   "metadata": {
    "collapsed": true
   },
   "outputs": [],
   "source": [
    "sys.path.append(project_path  + \"multi_models/\")"
   ]
  },
  {
   "cell_type": "code",
   "execution_count": 10,
   "metadata": {
    "collapsed": false
   },
   "outputs": [],
   "source": [
    "from base_estimator import BaseEstimator"
   ]
  },
  {
   "cell_type": "code",
   "execution_count": 11,
   "metadata": {
    "collapsed": true
   },
   "outputs": [],
   "source": [
    "base_estimator = BaseEstimator()"
   ]
  },
  {
   "cell_type": "markdown",
   "metadata": {},
   "source": [
    "## make data"
   ]
  },
  {
   "cell_type": "code",
   "execution_count": 88,
   "metadata": {
    "collapsed": true
   },
   "outputs": [],
   "source": [
    "data_name_ls = ['science', 'ajax', 'java', 'news', 'css', 'javascript', 'opensource', 'webdesign', 'design', 'linux', 'photography']\n",
    "raw_data_dir = project_path + 'original_data/bookmark/'\n",
    "save_data_dir = project_path + 'data/datasets/bookmark_new/'\n",
    "train_test_ratio = 0.8\n",
    "stride = 5\n",
    "balance = False\n",
    "output_dim_ls = [5]\n",
    "\n",
    "base_data_manager = BaseDataManager(raw_data_dir, save_data_dir)\n",
    "D = Data(raw_data_dir, save_data_dir)\n",
    "P = Preprocessing(raw_data_dir, save_data_dir)"
   ]
  },
  {
   "cell_type": "code",
   "execution_count": 89,
   "metadata": {
    "collapsed": false
   },
   "outputs": [
    {
     "name": "stdout",
     "output_type": "stream",
     "text": [
      "science\n",
      "ajax\n",
      "java\n",
      "news\n",
      "css\n",
      "javascript\n",
      "opensource\n",
      "webdesign\n",
      "design\n",
      "linux\n",
      "photography\n"
     ]
    }
   ],
   "source": [
    "for output_dim in output_dim_ls:\n",
    "    \n",
    "    for data_name in data_name_ls:\n",
    "        print data_name\n",
    "        data = base_data_manager.load_raw_data('%s.twd' % data_name)\n",
    "        ts_ls, ts_sum_ls = get_normal_representation.get_ts_normal_representation(data)\n",
    "        ts_dict = base_data_manager.div_train_test(ts_ls, train_test_ratio)\n",
    "        started_ts_dict = base_data_manager.get_started_ts(ts_dict)\n",
    "        input_ts_dict, label_dict, target_ts_dict, input_sum_dict = \\\n",
    "                                    base_data_manager.make_supervised_data(started_ts_dict, stride, output_dim)\n",
    "        if balance:\n",
    "            input_ts_dict, label_dict, target_ts_dict = P.balancing_sampling(input_ts_dict, label_dict, target_ts_dict, output_dim)\n",
    "            data_type = 'balance'\n",
    "        else:\n",
    "            data_type = 'normal'\n",
    "        D.make_train_data(input_ts_dict, label_dict, target_ts_dict, output_dim, data_type, data_name)"
   ]
  },
  {
   "cell_type": "markdown",
   "metadata": {},
   "source": [
    "## data load"
   ]
  },
  {
   "cell_type": "code",
   "execution_count": 82,
   "metadata": {
    "collapsed": false
   },
   "outputs": [],
   "source": [
    "data_type = 'normal'\n",
    "output_dim = 1\n",
    "save_data_dir = '../../data/datasets/bookmark_new/%s/' % data_type\n",
    "train_ajax = numpy.load(save_data_dir + 'ajax' + '/output_dim=%s/train.npz' % output_dim)\n",
    "test_ajax = numpy.load(save_data_dir + 'ajax' + '/output_dim=%s/test.npz' % output_dim)\n",
    "target_ajax = numpy.load(save_data_dir + 'ajax' + '/output_dim=%s/target.npz' % output_dim)"
   ]
  },
  {
   "cell_type": "code",
   "execution_count": 83,
   "metadata": {
    "collapsed": false
   },
   "outputs": [
    {
     "name": "stdout",
     "output_type": "stream",
     "text": [
      "(9736, 1, 1, 30)\n",
      "train samples: 9736\n",
      "test samples: 2155\n"
     ]
    }
   ],
   "source": [
    "rows = 1\n",
    "cols = 30\n",
    "nb_classes = 2\n",
    "x_train = train_ajax['x'].reshape(train_ajax['x'].shape[0], 1, rows, cols)\n",
    "x_test = test_ajax['x'].reshape(test_ajax['x'].shape[0], 1, rows, cols)\n",
    "x_train = x_train.astype('float32')\n",
    "x_test = x_test.astype('float32')\n",
    "print x_train.shape\n",
    "print 'train samples: %s' % x_train.shape[0]\n",
    "print 'test samples: %s' % x_test.shape[0]\n",
    "\n",
    "y_train = train_ajax['y']\n",
    "y_test = test_ajax['y']"
   ]
  },
  {
   "cell_type": "code",
   "execution_count": 84,
   "metadata": {
    "collapsed": false,
    "scrolled": true
   },
   "outputs": [
    {
     "name": "stdout",
     "output_type": "stream",
     "text": [
      "chance level for dim 0: 0.162412993039\n"
     ]
    }
   ],
   "source": [
    "for i in xrange(output_dim):\n",
    "    all_, sum_ = 0, 0\n",
    "    for ele in test_ajax['y'][:, i]:\n",
    "        if abs(ele - 1) == 0:\n",
    "            sum_ += 1.0\n",
    "        all_ += 1.0\n",
    "    print 'chance level for dim %s: %s' % (i, sum_ / all_)"
   ]
  },
  {
   "cell_type": "markdown",
   "metadata": {},
   "source": [
    "## 統計情報"
   ]
  },
  {
   "cell_type": "code",
   "execution_count": 85,
   "metadata": {
    "collapsed": true
   },
   "outputs": [],
   "source": [
    "def pattern_analysis(label, pattern):\n",
    "    if type(pattern) == 'list':\n",
    "        pattern = numpy.array(pattern)\n",
    "    ref = [0 for i in xrange(len(pattern))]\n",
    "    for label_ele in label:\n",
    "        for i, pattern_ele in enumerate(pattern):\n",
    "            res = label_ele == pattern_ele\n",
    "            if res.all():\n",
    "                ref[i] += 1.0\n",
    "    return numpy.array(ref) / int(label.shape[0])"
   ]
  },
  {
   "cell_type": "code",
   "execution_count": 86,
   "metadata": {
    "collapsed": false
   },
   "outputs": [
    {
     "data": {
      "text/plain": [
       "array([[ 0.],\n",
       "       [ 0.],\n",
       "       [ 0.],\n",
       "       ..., \n",
       "       [ 0.],\n",
       "       [ 1.],\n",
       "       [ 0.]])"
      ]
     },
     "execution_count": 86,
     "metadata": {},
     "output_type": "execute_result"
    }
   ],
   "source": [
    "y_train"
   ]
  },
  {
   "cell_type": "code",
   "execution_count": 87,
   "metadata": {
    "collapsed": false
   },
   "outputs": [
    {
     "data": {
      "text/plain": [
       "array([ 0.80238291,  0.        ,  0.        ,  0.19761709])"
      ]
     },
     "execution_count": 87,
     "metadata": {},
     "output_type": "execute_result"
    }
   ],
   "source": [
    "pattern = [[0, 0], [1, 0], [0, 1], [1,1]]\n",
    "ref = pattern_analysis(y_train, pattern)\n",
    "ref"
   ]
  },
  {
   "cell_type": "code",
   "execution_count": null,
   "metadata": {
    "collapsed": true
   },
   "outputs": [],
   "source": []
  },
  {
   "cell_type": "code",
   "execution_count": null,
   "metadata": {
    "collapsed": true
   },
   "outputs": [],
   "source": []
  },
  {
   "cell_type": "markdown",
   "metadata": {},
   "source": [
    "## model"
   ]
  },
  {
   "cell_type": "code",
   "execution_count": 232,
   "metadata": {
    "collapsed": false,
    "scrolled": true
   },
   "outputs": [
    {
     "data": {
      "image/svg+xml": [
       "<svg height=\"1268pt\" viewBox=\"0.00 0.00 400.14 1268.00\" width=\"400pt\" xmlns=\"http://www.w3.org/2000/svg\" xmlns:xlink=\"http://www.w3.org/1999/xlink\">\n",
       "<g class=\"graph\" id=\"graph0\" transform=\"scale(1 1) rotate(0) translate(4 1264)\">\n",
       "<title>G</title>\n",
       "<polygon fill=\"white\" points=\"-4,4 -4,-1264 396.142,-1264 396.142,4 -4,4\" stroke=\"none\"/>\n",
       "<!-- 7507401744 -->\n",
       "<g class=\"node\" id=\"node1\"><title>7507401744</title>\n",
       "<polygon fill=\"none\" points=\"1.57227,-1215.5 1.57227,-1259.5 390.569,-1259.5 390.569,-1215.5 1.57227,-1215.5\" stroke=\"black\"/>\n",
       "<text font-family=\"Times,serif\" font-size=\"14.00\" text-anchor=\"middle\" x=\"115.912\" y=\"-1233.3\">convolution2d_input_12 (InputLayer)</text>\n",
       "<polyline fill=\"none\" points=\"230.252,-1215.5 230.252,-1259.5 \" stroke=\"black\"/>\n",
       "<text font-family=\"Times,serif\" font-size=\"14.00\" text-anchor=\"middle\" x=\"258.086\" y=\"-1244.3\">input:</text>\n",
       "<polyline fill=\"none\" points=\"230.252,-1237.5 285.921,-1237.5 \" stroke=\"black\"/>\n",
       "<text font-family=\"Times,serif\" font-size=\"14.00\" text-anchor=\"middle\" x=\"258.086\" y=\"-1222.3\">output:</text>\n",
       "<polyline fill=\"none\" points=\"285.921,-1215.5 285.921,-1259.5 \" stroke=\"black\"/>\n",
       "<text font-family=\"Times,serif\" font-size=\"14.00\" text-anchor=\"middle\" x=\"338.245\" y=\"-1244.3\">(None, 1, 1, 30)</text>\n",
       "<polyline fill=\"none\" points=\"285.921,-1237.5 390.569,-1237.5 \" stroke=\"black\"/>\n",
       "<text font-family=\"Times,serif\" font-size=\"14.00\" text-anchor=\"middle\" x=\"338.245\" y=\"-1222.3\">(None, 1, 1, 30)</text>\n",
       "</g>\n",
       "<!-- 7506790800 -->\n",
       "<g class=\"node\" id=\"node2\"><title>7506790800</title>\n",
       "<polygon fill=\"none\" points=\"3.5,-1134.5 3.5,-1178.5 388.642,-1178.5 388.642,-1134.5 3.5,-1134.5\" stroke=\"black\"/>\n",
       "<text font-family=\"Times,serif\" font-size=\"14.00\" text-anchor=\"middle\" x=\"112.412\" y=\"-1152.3\">convolution2d_45 (Convolution2D)</text>\n",
       "<polyline fill=\"none\" points=\"221.324,-1134.5 221.324,-1178.5 \" stroke=\"black\"/>\n",
       "<text font-family=\"Times,serif\" font-size=\"14.00\" text-anchor=\"middle\" x=\"249.159\" y=\"-1163.3\">input:</text>\n",
       "<polyline fill=\"none\" points=\"221.324,-1156.5 276.993,-1156.5 \" stroke=\"black\"/>\n",
       "<text font-family=\"Times,serif\" font-size=\"14.00\" text-anchor=\"middle\" x=\"249.159\" y=\"-1141.3\">output:</text>\n",
       "<polyline fill=\"none\" points=\"276.993,-1134.5 276.993,-1178.5 \" stroke=\"black\"/>\n",
       "<text font-family=\"Times,serif\" font-size=\"14.00\" text-anchor=\"middle\" x=\"332.817\" y=\"-1163.3\">(None, 1, 1, 30)</text>\n",
       "<polyline fill=\"none\" points=\"276.993,-1156.5 388.642,-1156.5 \" stroke=\"black\"/>\n",
       "<text font-family=\"Times,serif\" font-size=\"14.00\" text-anchor=\"middle\" x=\"332.817\" y=\"-1141.3\">(None, 50, 1, 28)</text>\n",
       "</g>\n",
       "<!-- 7507401744&#45;&gt;7506790800 -->\n",
       "<g class=\"edge\" id=\"edge1\"><title>7507401744-&gt;7506790800</title>\n",
       "<path d=\"M196.071,-1215.33C196.071,-1207.18 196.071,-1197.7 196.071,-1188.8\" fill=\"none\" stroke=\"black\"/>\n",
       "<polygon fill=\"black\" points=\"199.571,-1188.73 196.071,-1178.73 192.571,-1188.73 199.571,-1188.73\" stroke=\"black\"/>\n",
       "</g>\n",
       "<!-- 7506765648 -->\n",
       "<g class=\"node\" id=\"node3\"><title>7506765648</title>\n",
       "<polygon fill=\"none\" points=\"30.3516,-1053.5 30.3516,-1097.5 361.79,-1097.5 361.79,-1053.5 30.3516,-1053.5\" stroke=\"black\"/>\n",
       "<text font-family=\"Times,serif\" font-size=\"14.00\" text-anchor=\"middle\" x=\"112.412\" y=\"-1071.3\">activation_79 (Activation)</text>\n",
       "<polyline fill=\"none\" points=\"194.473,-1053.5 194.473,-1097.5 \" stroke=\"black\"/>\n",
       "<text font-family=\"Times,serif\" font-size=\"14.00\" text-anchor=\"middle\" x=\"222.307\" y=\"-1082.3\">input:</text>\n",
       "<polyline fill=\"none\" points=\"194.473,-1075.5 250.142,-1075.5 \" stroke=\"black\"/>\n",
       "<text font-family=\"Times,serif\" font-size=\"14.00\" text-anchor=\"middle\" x=\"222.307\" y=\"-1060.3\">output:</text>\n",
       "<polyline fill=\"none\" points=\"250.142,-1053.5 250.142,-1097.5 \" stroke=\"black\"/>\n",
       "<text font-family=\"Times,serif\" font-size=\"14.00\" text-anchor=\"middle\" x=\"305.966\" y=\"-1082.3\">(None, 50, 1, 28)</text>\n",
       "<polyline fill=\"none\" points=\"250.142,-1075.5 361.79,-1075.5 \" stroke=\"black\"/>\n",
       "<text font-family=\"Times,serif\" font-size=\"14.00\" text-anchor=\"middle\" x=\"305.966\" y=\"-1060.3\">(None, 50, 1, 28)</text>\n",
       "</g>\n",
       "<!-- 7506790800&#45;&gt;7506765648 -->\n",
       "<g class=\"edge\" id=\"edge2\"><title>7506790800-&gt;7506765648</title>\n",
       "<path d=\"M196.071,-1134.33C196.071,-1126.18 196.071,-1116.7 196.071,-1107.8\" fill=\"none\" stroke=\"black\"/>\n",
       "<polygon fill=\"black\" points=\"199.571,-1107.73 196.071,-1097.73 192.571,-1107.73 199.571,-1107.73\" stroke=\"black\"/>\n",
       "</g>\n",
       "<!-- 7511502096 -->\n",
       "<g class=\"node\" id=\"node4\"><title>7511502096</title>\n",
       "<polygon fill=\"none\" points=\"0,-972.5 0,-1016.5 392.142,-1016.5 392.142,-972.5 0,-972.5\" stroke=\"black\"/>\n",
       "<text font-family=\"Times,serif\" font-size=\"14.00\" text-anchor=\"middle\" x=\"108.912\" y=\"-990.3\">convolution2d_46 (Convolution2D)</text>\n",
       "<polyline fill=\"none\" points=\"217.824,-972.5 217.824,-1016.5 \" stroke=\"black\"/>\n",
       "<text font-family=\"Times,serif\" font-size=\"14.00\" text-anchor=\"middle\" x=\"245.659\" y=\"-1001.3\">input:</text>\n",
       "<polyline fill=\"none\" points=\"217.824,-994.5 273.493,-994.5 \" stroke=\"black\"/>\n",
       "<text font-family=\"Times,serif\" font-size=\"14.00\" text-anchor=\"middle\" x=\"245.659\" y=\"-979.3\">output:</text>\n",
       "<polyline fill=\"none\" points=\"273.493,-972.5 273.493,-1016.5 \" stroke=\"black\"/>\n",
       "<text font-family=\"Times,serif\" font-size=\"14.00\" text-anchor=\"middle\" x=\"332.817\" y=\"-1001.3\">(None, 50, 1, 28)</text>\n",
       "<polyline fill=\"none\" points=\"273.493,-994.5 392.142,-994.5 \" stroke=\"black\"/>\n",
       "<text font-family=\"Times,serif\" font-size=\"14.00\" text-anchor=\"middle\" x=\"332.817\" y=\"-979.3\">(None, 100, 1, 26)</text>\n",
       "</g>\n",
       "<!-- 7506765648&#45;&gt;7511502096 -->\n",
       "<g class=\"edge\" id=\"edge3\"><title>7506765648-&gt;7511502096</title>\n",
       "<path d=\"M196.071,-1053.33C196.071,-1045.18 196.071,-1035.7 196.071,-1026.8\" fill=\"none\" stroke=\"black\"/>\n",
       "<polygon fill=\"black\" points=\"199.571,-1026.73 196.071,-1016.73 192.571,-1026.73 199.571,-1026.73\" stroke=\"black\"/>\n",
       "</g>\n",
       "<!-- 7507454032 -->\n",
       "<g class=\"node\" id=\"node5\"><title>7507454032</title>\n",
       "<polygon fill=\"none\" points=\"26.8516,-891.5 26.8516,-935.5 365.29,-935.5 365.29,-891.5 26.8516,-891.5\" stroke=\"black\"/>\n",
       "<text font-family=\"Times,serif\" font-size=\"14.00\" text-anchor=\"middle\" x=\"108.912\" y=\"-909.3\">activation_80 (Activation)</text>\n",
       "<polyline fill=\"none\" points=\"190.973,-891.5 190.973,-935.5 \" stroke=\"black\"/>\n",
       "<text font-family=\"Times,serif\" font-size=\"14.00\" text-anchor=\"middle\" x=\"218.807\" y=\"-920.3\">input:</text>\n",
       "<polyline fill=\"none\" points=\"190.973,-913.5 246.642,-913.5 \" stroke=\"black\"/>\n",
       "<text font-family=\"Times,serif\" font-size=\"14.00\" text-anchor=\"middle\" x=\"218.807\" y=\"-898.3\">output:</text>\n",
       "<polyline fill=\"none\" points=\"246.642,-891.5 246.642,-935.5 \" stroke=\"black\"/>\n",
       "<text font-family=\"Times,serif\" font-size=\"14.00\" text-anchor=\"middle\" x=\"305.966\" y=\"-920.3\">(None, 100, 1, 26)</text>\n",
       "<polyline fill=\"none\" points=\"246.642,-913.5 365.29,-913.5 \" stroke=\"black\"/>\n",
       "<text font-family=\"Times,serif\" font-size=\"14.00\" text-anchor=\"middle\" x=\"305.966\" y=\"-898.3\">(None, 100, 1, 26)</text>\n",
       "</g>\n",
       "<!-- 7511502096&#45;&gt;7507454032 -->\n",
       "<g class=\"edge\" id=\"edge4\"><title>7511502096-&gt;7507454032</title>\n",
       "<path d=\"M196.071,-972.329C196.071,-964.183 196.071,-954.699 196.071,-945.797\" fill=\"none\" stroke=\"black\"/>\n",
       "<polygon fill=\"black\" points=\"199.571,-945.729 196.071,-935.729 192.571,-945.729 199.571,-945.729\" stroke=\"black\"/>\n",
       "</g>\n",
       "<!-- 7507455248 -->\n",
       "<g class=\"node\" id=\"node6\"><title>7507455248</title>\n",
       "<polygon fill=\"none\" points=\"0,-810.5 0,-854.5 392.142,-854.5 392.142,-810.5 0,-810.5\" stroke=\"black\"/>\n",
       "<text font-family=\"Times,serif\" font-size=\"14.00\" text-anchor=\"middle\" x=\"108.912\" y=\"-828.3\">convolution2d_47 (Convolution2D)</text>\n",
       "<polyline fill=\"none\" points=\"217.824,-810.5 217.824,-854.5 \" stroke=\"black\"/>\n",
       "<text font-family=\"Times,serif\" font-size=\"14.00\" text-anchor=\"middle\" x=\"245.659\" y=\"-839.3\">input:</text>\n",
       "<polyline fill=\"none\" points=\"217.824,-832.5 273.493,-832.5 \" stroke=\"black\"/>\n",
       "<text font-family=\"Times,serif\" font-size=\"14.00\" text-anchor=\"middle\" x=\"245.659\" y=\"-817.3\">output:</text>\n",
       "<polyline fill=\"none\" points=\"273.493,-810.5 273.493,-854.5 \" stroke=\"black\"/>\n",
       "<text font-family=\"Times,serif\" font-size=\"14.00\" text-anchor=\"middle\" x=\"332.817\" y=\"-839.3\">(None, 100, 1, 26)</text>\n",
       "<polyline fill=\"none\" points=\"273.493,-832.5 392.142,-832.5 \" stroke=\"black\"/>\n",
       "<text font-family=\"Times,serif\" font-size=\"14.00\" text-anchor=\"middle\" x=\"332.817\" y=\"-817.3\">(None, 100, 1, 24)</text>\n",
       "</g>\n",
       "<!-- 7507454032&#45;&gt;7507455248 -->\n",
       "<g class=\"edge\" id=\"edge5\"><title>7507454032-&gt;7507455248</title>\n",
       "<path d=\"M196.071,-891.329C196.071,-883.183 196.071,-873.699 196.071,-864.797\" fill=\"none\" stroke=\"black\"/>\n",
       "<polygon fill=\"black\" points=\"199.571,-864.729 196.071,-854.729 192.571,-864.729 199.571,-864.729\" stroke=\"black\"/>\n",
       "</g>\n",
       "<!-- 7507501136 -->\n",
       "<g class=\"node\" id=\"node7\"><title>7507501136</title>\n",
       "<polygon fill=\"none\" points=\"26.8516,-729.5 26.8516,-773.5 365.29,-773.5 365.29,-729.5 26.8516,-729.5\" stroke=\"black\"/>\n",
       "<text font-family=\"Times,serif\" font-size=\"14.00\" text-anchor=\"middle\" x=\"108.912\" y=\"-747.3\">activation_81 (Activation)</text>\n",
       "<polyline fill=\"none\" points=\"190.973,-729.5 190.973,-773.5 \" stroke=\"black\"/>\n",
       "<text font-family=\"Times,serif\" font-size=\"14.00\" text-anchor=\"middle\" x=\"218.807\" y=\"-758.3\">input:</text>\n",
       "<polyline fill=\"none\" points=\"190.973,-751.5 246.642,-751.5 \" stroke=\"black\"/>\n",
       "<text font-family=\"Times,serif\" font-size=\"14.00\" text-anchor=\"middle\" x=\"218.807\" y=\"-736.3\">output:</text>\n",
       "<polyline fill=\"none\" points=\"246.642,-729.5 246.642,-773.5 \" stroke=\"black\"/>\n",
       "<text font-family=\"Times,serif\" font-size=\"14.00\" text-anchor=\"middle\" x=\"305.966\" y=\"-758.3\">(None, 100, 1, 24)</text>\n",
       "<polyline fill=\"none\" points=\"246.642,-751.5 365.29,-751.5 \" stroke=\"black\"/>\n",
       "<text font-family=\"Times,serif\" font-size=\"14.00\" text-anchor=\"middle\" x=\"305.966\" y=\"-736.3\">(None, 100, 1, 24)</text>\n",
       "</g>\n",
       "<!-- 7507455248&#45;&gt;7507501136 -->\n",
       "<g class=\"edge\" id=\"edge6\"><title>7507455248-&gt;7507501136</title>\n",
       "<path d=\"M196.071,-810.329C196.071,-802.183 196.071,-792.699 196.071,-783.797\" fill=\"none\" stroke=\"black\"/>\n",
       "<polygon fill=\"black\" points=\"199.571,-783.729 196.071,-773.729 192.571,-783.729 199.571,-783.729\" stroke=\"black\"/>\n",
       "</g>\n",
       "<!-- 7507503120 -->\n",
       "<g class=\"node\" id=\"node8\"><title>7507503120</title>\n",
       "<polygon fill=\"none\" points=\"0,-648.5 0,-692.5 392.142,-692.5 392.142,-648.5 0,-648.5\" stroke=\"black\"/>\n",
       "<text font-family=\"Times,serif\" font-size=\"14.00\" text-anchor=\"middle\" x=\"108.912\" y=\"-666.3\">convolution2d_48 (Convolution2D)</text>\n",
       "<polyline fill=\"none\" points=\"217.824,-648.5 217.824,-692.5 \" stroke=\"black\"/>\n",
       "<text font-family=\"Times,serif\" font-size=\"14.00\" text-anchor=\"middle\" x=\"245.659\" y=\"-677.3\">input:</text>\n",
       "<polyline fill=\"none\" points=\"217.824,-670.5 273.493,-670.5 \" stroke=\"black\"/>\n",
       "<text font-family=\"Times,serif\" font-size=\"14.00\" text-anchor=\"middle\" x=\"245.659\" y=\"-655.3\">output:</text>\n",
       "<polyline fill=\"none\" points=\"273.493,-648.5 273.493,-692.5 \" stroke=\"black\"/>\n",
       "<text font-family=\"Times,serif\" font-size=\"14.00\" text-anchor=\"middle\" x=\"332.817\" y=\"-677.3\">(None, 100, 1, 24)</text>\n",
       "<polyline fill=\"none\" points=\"273.493,-670.5 392.142,-670.5 \" stroke=\"black\"/>\n",
       "<text font-family=\"Times,serif\" font-size=\"14.00\" text-anchor=\"middle\" x=\"332.817\" y=\"-655.3\">(None, 100, 1, 22)</text>\n",
       "</g>\n",
       "<!-- 7507501136&#45;&gt;7507503120 -->\n",
       "<g class=\"edge\" id=\"edge7\"><title>7507501136-&gt;7507503120</title>\n",
       "<path d=\"M196.071,-729.329C196.071,-721.183 196.071,-711.699 196.071,-702.797\" fill=\"none\" stroke=\"black\"/>\n",
       "<polygon fill=\"black\" points=\"199.571,-702.729 196.071,-692.729 192.571,-702.729 199.571,-702.729\" stroke=\"black\"/>\n",
       "</g>\n",
       "<!-- 7511464400 -->\n",
       "<g class=\"node\" id=\"node9\"><title>7511464400</title>\n",
       "<polygon fill=\"none\" points=\"26.8516,-567.5 26.8516,-611.5 365.29,-611.5 365.29,-567.5 26.8516,-567.5\" stroke=\"black\"/>\n",
       "<text font-family=\"Times,serif\" font-size=\"14.00\" text-anchor=\"middle\" x=\"108.912\" y=\"-585.3\">activation_82 (Activation)</text>\n",
       "<polyline fill=\"none\" points=\"190.973,-567.5 190.973,-611.5 \" stroke=\"black\"/>\n",
       "<text font-family=\"Times,serif\" font-size=\"14.00\" text-anchor=\"middle\" x=\"218.807\" y=\"-596.3\">input:</text>\n",
       "<polyline fill=\"none\" points=\"190.973,-589.5 246.642,-589.5 \" stroke=\"black\"/>\n",
       "<text font-family=\"Times,serif\" font-size=\"14.00\" text-anchor=\"middle\" x=\"218.807\" y=\"-574.3\">output:</text>\n",
       "<polyline fill=\"none\" points=\"246.642,-567.5 246.642,-611.5 \" stroke=\"black\"/>\n",
       "<text font-family=\"Times,serif\" font-size=\"14.00\" text-anchor=\"middle\" x=\"305.966\" y=\"-596.3\">(None, 100, 1, 22)</text>\n",
       "<polyline fill=\"none\" points=\"246.642,-589.5 365.29,-589.5 \" stroke=\"black\"/>\n",
       "<text font-family=\"Times,serif\" font-size=\"14.00\" text-anchor=\"middle\" x=\"305.966\" y=\"-574.3\">(None, 100, 1, 22)</text>\n",
       "</g>\n",
       "<!-- 7507503120&#45;&gt;7511464400 -->\n",
       "<g class=\"edge\" id=\"edge8\"><title>7507503120-&gt;7511464400</title>\n",
       "<path d=\"M196.071,-648.329C196.071,-640.183 196.071,-630.699 196.071,-621.797\" fill=\"none\" stroke=\"black\"/>\n",
       "<polygon fill=\"black\" points=\"199.571,-621.729 196.071,-611.729 192.571,-621.729 199.571,-621.729\" stroke=\"black\"/>\n",
       "</g>\n",
       "<!-- 7511484880 -->\n",
       "<g class=\"node\" id=\"node10\"><title>7511484880</title>\n",
       "<polygon fill=\"none\" points=\"0.389648,-486.5 0.389648,-530.5 391.752,-530.5 391.752,-486.5 0.389648,-486.5\" stroke=\"black\"/>\n",
       "<text font-family=\"Times,serif\" font-size=\"14.00\" text-anchor=\"middle\" x=\"108.912\" y=\"-504.3\">maxpooling2d_12 (MaxPooling2D)</text>\n",
       "<polyline fill=\"none\" points=\"217.435,-486.5 217.435,-530.5 \" stroke=\"black\"/>\n",
       "<text font-family=\"Times,serif\" font-size=\"14.00\" text-anchor=\"middle\" x=\"245.269\" y=\"-515.3\">input:</text>\n",
       "<polyline fill=\"none\" points=\"217.435,-508.5 273.104,-508.5 \" stroke=\"black\"/>\n",
       "<text font-family=\"Times,serif\" font-size=\"14.00\" text-anchor=\"middle\" x=\"245.269\" y=\"-493.3\">output:</text>\n",
       "<polyline fill=\"none\" points=\"273.104,-486.5 273.104,-530.5 \" stroke=\"black\"/>\n",
       "<text font-family=\"Times,serif\" font-size=\"14.00\" text-anchor=\"middle\" x=\"332.428\" y=\"-515.3\">(None, 100, 1, 22)</text>\n",
       "<polyline fill=\"none\" points=\"273.104,-508.5 391.752,-508.5 \" stroke=\"black\"/>\n",
       "<text font-family=\"Times,serif\" font-size=\"14.00\" text-anchor=\"middle\" x=\"332.171\" y=\"-493.3\">(None, 100, 1, 11)</text>\n",
       "</g>\n",
       "<!-- 7511464400&#45;&gt;7511484880 -->\n",
       "<g class=\"edge\" id=\"edge9\"><title>7511464400-&gt;7511484880</title>\n",
       "<path d=\"M196.071,-567.329C196.071,-559.183 196.071,-549.699 196.071,-540.797\" fill=\"none\" stroke=\"black\"/>\n",
       "<polygon fill=\"black\" points=\"199.571,-540.729 196.071,-530.729 192.571,-540.729 199.571,-540.729\" stroke=\"black\"/>\n",
       "</g>\n",
       "<!-- 7511485008 -->\n",
       "<g class=\"node\" id=\"node11\"><title>7511485008</title>\n",
       "<polygon fill=\"none\" points=\"47.3184,-405.5 47.3184,-449.5 344.823,-449.5 344.823,-405.5 47.3184,-405.5\" stroke=\"black\"/>\n",
       "<text font-family=\"Times,serif\" font-size=\"14.00\" text-anchor=\"middle\" x=\"109.168\" y=\"-423.3\">flatten_12 (Flatten)</text>\n",
       "<polyline fill=\"none\" points=\"171.019,-405.5 171.019,-449.5 \" stroke=\"black\"/>\n",
       "<text font-family=\"Times,serif\" font-size=\"14.00\" text-anchor=\"middle\" x=\"198.853\" y=\"-434.3\">input:</text>\n",
       "<polyline fill=\"none\" points=\"171.019,-427.5 226.688,-427.5 \" stroke=\"black\"/>\n",
       "<text font-family=\"Times,serif\" font-size=\"14.00\" text-anchor=\"middle\" x=\"198.853\" y=\"-412.3\">output:</text>\n",
       "<polyline fill=\"none\" points=\"226.688,-405.5 226.688,-449.5 \" stroke=\"black\"/>\n",
       "<text font-family=\"Times,serif\" font-size=\"14.00\" text-anchor=\"middle\" x=\"285.755\" y=\"-434.3\">(None, 100, 1, 11)</text>\n",
       "<polyline fill=\"none\" points=\"226.688,-427.5 344.823,-427.5 \" stroke=\"black\"/>\n",
       "<text font-family=\"Times,serif\" font-size=\"14.00\" text-anchor=\"middle\" x=\"285.755\" y=\"-412.3\">(None, 1100)</text>\n",
       "</g>\n",
       "<!-- 7511484880&#45;&gt;7511485008 -->\n",
       "<g class=\"edge\" id=\"edge10\"><title>7511484880-&gt;7511485008</title>\n",
       "<path d=\"M196.071,-486.329C196.071,-478.183 196.071,-468.699 196.071,-459.797\" fill=\"none\" stroke=\"black\"/>\n",
       "<polygon fill=\"black\" points=\"199.571,-459.729 196.071,-449.729 192.571,-459.729 199.571,-459.729\" stroke=\"black\"/>\n",
       "</g>\n",
       "<!-- 7506605264 -->\n",
       "<g class=\"node\" id=\"node12\"><title>7506605264</title>\n",
       "<polygon fill=\"none\" points=\"64.5688,-324.5 64.5688,-368.5 327.573,-368.5 327.573,-324.5 64.5688,-324.5\" stroke=\"black\"/>\n",
       "<text font-family=\"Times,serif\" font-size=\"14.00\" text-anchor=\"middle\" x=\"122.912\" y=\"-342.3\">dense_67 (Dense)</text>\n",
       "<polyline fill=\"none\" points=\"181.255,-324.5 181.255,-368.5 \" stroke=\"black\"/>\n",
       "<text font-family=\"Times,serif\" font-size=\"14.00\" text-anchor=\"middle\" x=\"209.09\" y=\"-353.3\">input:</text>\n",
       "<polyline fill=\"none\" points=\"181.255,-346.5 236.924,-346.5 \" stroke=\"black\"/>\n",
       "<text font-family=\"Times,serif\" font-size=\"14.00\" text-anchor=\"middle\" x=\"209.09\" y=\"-331.3\">output:</text>\n",
       "<polyline fill=\"none\" points=\"236.924,-324.5 236.924,-368.5 \" stroke=\"black\"/>\n",
       "<text font-family=\"Times,serif\" font-size=\"14.00\" text-anchor=\"middle\" x=\"281.992\" y=\"-353.3\">(None, 1100)</text>\n",
       "<polyline fill=\"none\" points=\"236.924,-346.5 327.573,-346.5 \" stroke=\"black\"/>\n",
       "<text font-family=\"Times,serif\" font-size=\"14.00\" text-anchor=\"middle\" x=\"282.249\" y=\"-331.3\">(None, 1000)</text>\n",
       "</g>\n",
       "<!-- 7511485008&#45;&gt;7506605264 -->\n",
       "<g class=\"edge\" id=\"edge11\"><title>7511485008-&gt;7506605264</title>\n",
       "<path d=\"M196.071,-405.329C196.071,-397.183 196.071,-387.699 196.071,-378.797\" fill=\"none\" stroke=\"black\"/>\n",
       "<polygon fill=\"black\" points=\"199.571,-378.729 196.071,-368.729 192.571,-378.729 199.571,-378.729\" stroke=\"black\"/>\n",
       "</g>\n",
       "<!-- 7511482704 -->\n",
       "<g class=\"node\" id=\"node13\"><title>7511482704</title>\n",
       "<polygon fill=\"none\" points=\"40.8516,-243.5 40.8516,-287.5 351.29,-287.5 351.29,-243.5 40.8516,-243.5\" stroke=\"black\"/>\n",
       "<text font-family=\"Times,serif\" font-size=\"14.00\" text-anchor=\"middle\" x=\"122.912\" y=\"-261.3\">activation_83 (Activation)</text>\n",
       "<polyline fill=\"none\" points=\"204.973,-243.5 204.973,-287.5 \" stroke=\"black\"/>\n",
       "<text font-family=\"Times,serif\" font-size=\"14.00\" text-anchor=\"middle\" x=\"232.807\" y=\"-272.3\">input:</text>\n",
       "<polyline fill=\"none\" points=\"204.973,-265.5 260.642,-265.5 \" stroke=\"black\"/>\n",
       "<text font-family=\"Times,serif\" font-size=\"14.00\" text-anchor=\"middle\" x=\"232.807\" y=\"-250.3\">output:</text>\n",
       "<polyline fill=\"none\" points=\"260.642,-243.5 260.642,-287.5 \" stroke=\"black\"/>\n",
       "<text font-family=\"Times,serif\" font-size=\"14.00\" text-anchor=\"middle\" x=\"305.966\" y=\"-272.3\">(None, 1000)</text>\n",
       "<polyline fill=\"none\" points=\"260.642,-265.5 351.29,-265.5 \" stroke=\"black\"/>\n",
       "<text font-family=\"Times,serif\" font-size=\"14.00\" text-anchor=\"middle\" x=\"305.966\" y=\"-250.3\">(None, 1000)</text>\n",
       "</g>\n",
       "<!-- 7506605264&#45;&gt;7511482704 -->\n",
       "<g class=\"edge\" id=\"edge12\"><title>7506605264-&gt;7511482704</title>\n",
       "<path d=\"M196.071,-324.329C196.071,-316.183 196.071,-306.699 196.071,-297.797\" fill=\"none\" stroke=\"black\"/>\n",
       "<polygon fill=\"black\" points=\"199.571,-297.729 196.071,-287.729 192.571,-297.729 199.571,-297.729\" stroke=\"black\"/>\n",
       "</g>\n",
       "<!-- 7511417104 -->\n",
       "<g class=\"node\" id=\"node14\"><title>7511417104</title>\n",
       "<polygon fill=\"none\" points=\"64.5688,-162.5 64.5688,-206.5 327.573,-206.5 327.573,-162.5 64.5688,-162.5\" stroke=\"black\"/>\n",
       "<text font-family=\"Times,serif\" font-size=\"14.00\" text-anchor=\"middle\" x=\"122.912\" y=\"-180.3\">dense_68 (Dense)</text>\n",
       "<polyline fill=\"none\" points=\"181.255,-162.5 181.255,-206.5 \" stroke=\"black\"/>\n",
       "<text font-family=\"Times,serif\" font-size=\"14.00\" text-anchor=\"middle\" x=\"209.09\" y=\"-191.3\">input:</text>\n",
       "<polyline fill=\"none\" points=\"181.255,-184.5 236.924,-184.5 \" stroke=\"black\"/>\n",
       "<text font-family=\"Times,serif\" font-size=\"14.00\" text-anchor=\"middle\" x=\"209.09\" y=\"-169.3\">output:</text>\n",
       "<polyline fill=\"none\" points=\"236.924,-162.5 236.924,-206.5 \" stroke=\"black\"/>\n",
       "<text font-family=\"Times,serif\" font-size=\"14.00\" text-anchor=\"middle\" x=\"282.249\" y=\"-191.3\">(None, 1000)</text>\n",
       "<polyline fill=\"none\" points=\"236.924,-184.5 327.573,-184.5 \" stroke=\"black\"/>\n",
       "<text font-family=\"Times,serif\" font-size=\"14.00\" text-anchor=\"middle\" x=\"282.249\" y=\"-169.3\">(None, 100)</text>\n",
       "</g>\n",
       "<!-- 7511482704&#45;&gt;7511417104 -->\n",
       "<g class=\"edge\" id=\"edge13\"><title>7511482704-&gt;7511417104</title>\n",
       "<path d=\"M196.071,-243.329C196.071,-235.183 196.071,-225.699 196.071,-216.797\" fill=\"none\" stroke=\"black\"/>\n",
       "<polygon fill=\"black\" points=\"199.571,-216.729 196.071,-206.729 192.571,-216.729 199.571,-216.729\" stroke=\"black\"/>\n",
       "</g>\n",
       "<!-- 7506612816 -->\n",
       "<g class=\"node\" id=\"node15\"><title>7506612816</title>\n",
       "<polygon fill=\"none\" points=\"44.3516,-81.5 44.3516,-125.5 347.79,-125.5 347.79,-81.5 44.3516,-81.5\" stroke=\"black\"/>\n",
       "<text font-family=\"Times,serif\" font-size=\"14.00\" text-anchor=\"middle\" x=\"126.412\" y=\"-99.3\">activation_84 (Activation)</text>\n",
       "<polyline fill=\"none\" points=\"208.473,-81.5 208.473,-125.5 \" stroke=\"black\"/>\n",
       "<text font-family=\"Times,serif\" font-size=\"14.00\" text-anchor=\"middle\" x=\"236.307\" y=\"-110.3\">input:</text>\n",
       "<polyline fill=\"none\" points=\"208.473,-103.5 264.142,-103.5 \" stroke=\"black\"/>\n",
       "<text font-family=\"Times,serif\" font-size=\"14.00\" text-anchor=\"middle\" x=\"236.307\" y=\"-88.3\">output:</text>\n",
       "<polyline fill=\"none\" points=\"264.142,-81.5 264.142,-125.5 \" stroke=\"black\"/>\n",
       "<text font-family=\"Times,serif\" font-size=\"14.00\" text-anchor=\"middle\" x=\"305.966\" y=\"-110.3\">(None, 100)</text>\n",
       "<polyline fill=\"none\" points=\"264.142,-103.5 347.79,-103.5 \" stroke=\"black\"/>\n",
       "<text font-family=\"Times,serif\" font-size=\"14.00\" text-anchor=\"middle\" x=\"305.966\" y=\"-88.3\">(None, 100)</text>\n",
       "</g>\n",
       "<!-- 7511417104&#45;&gt;7506612816 -->\n",
       "<g class=\"edge\" id=\"edge14\"><title>7511417104-&gt;7506612816</title>\n",
       "<path d=\"M196.071,-162.329C196.071,-154.183 196.071,-144.699 196.071,-135.797\" fill=\"none\" stroke=\"black\"/>\n",
       "<polygon fill=\"black\" points=\"199.571,-135.729 196.071,-125.729 192.571,-135.729 199.571,-135.729\" stroke=\"black\"/>\n",
       "</g>\n",
       "<!-- 7507529360 -->\n",
       "<g class=\"node\" id=\"node16\"><title>7507529360</title>\n",
       "<polygon fill=\"none\" points=\"68.0688,-0.5 68.0688,-44.5 324.073,-44.5 324.073,-0.5 68.0688,-0.5\" stroke=\"black\"/>\n",
       "<text font-family=\"Times,serif\" font-size=\"14.00\" text-anchor=\"middle\" x=\"126.412\" y=\"-18.3\">dense_69 (Dense)</text>\n",
       "<polyline fill=\"none\" points=\"184.755,-0.5 184.755,-44.5 \" stroke=\"black\"/>\n",
       "<text font-family=\"Times,serif\" font-size=\"14.00\" text-anchor=\"middle\" x=\"212.59\" y=\"-29.3\">input:</text>\n",
       "<polyline fill=\"none\" points=\"184.755,-22.5 240.424,-22.5 \" stroke=\"black\"/>\n",
       "<text font-family=\"Times,serif\" font-size=\"14.00\" text-anchor=\"middle\" x=\"212.59\" y=\"-7.3\">output:</text>\n",
       "<polyline fill=\"none\" points=\"240.424,-0.5 240.424,-44.5 \" stroke=\"black\"/>\n",
       "<text font-family=\"Times,serif\" font-size=\"14.00\" text-anchor=\"middle\" x=\"282.249\" y=\"-29.3\">(None, 100)</text>\n",
       "<polyline fill=\"none\" points=\"240.424,-22.5 324.073,-22.5 \" stroke=\"black\"/>\n",
       "<text font-family=\"Times,serif\" font-size=\"14.00\" text-anchor=\"middle\" x=\"282.249\" y=\"-7.3\">(None, 6)</text>\n",
       "</g>\n",
       "<!-- 7506612816&#45;&gt;7507529360 -->\n",
       "<g class=\"edge\" id=\"edge15\"><title>7506612816-&gt;7507529360</title>\n",
       "<path d=\"M196.071,-81.3294C196.071,-73.1826 196.071,-63.6991 196.071,-54.7971\" fill=\"none\" stroke=\"black\"/>\n",
       "<polygon fill=\"black\" points=\"199.571,-54.729 196.071,-44.729 192.571,-54.729 199.571,-54.729\" stroke=\"black\"/>\n",
       "</g>\n",
       "</g>\n",
       "</svg>"
      ],
      "text/plain": [
       "<IPython.core.display.SVG object>"
      ]
     },
     "execution_count": 232,
     "metadata": {},
     "output_type": "execute_result"
    }
   ],
   "source": [
    "model = Sequential()\n",
    "model.add(Convolution2D(50, 1, 3, input_shape=(1, rows, cols)))\n",
    "model.add(Activation('relu'))\n",
    "model.add(Convolution2D(100, 1, 3))\n",
    "model.add(Activation('relu'))\n",
    "model.add(Convolution2D(100, 1, 3))\n",
    "model.add(Activation('relu'))\n",
    "model.add(Convolution2D(100, 1, 3))\n",
    "model.add(Activation('relu'))\n",
    "model.add(MaxPooling2D(pool_size=(1, 2)))\n",
    "# model.add(Reshape((260, )))\n",
    "model.add(Flatten())\n",
    "model.add(Dense(1000))\n",
    "model.add(Activation('relu'))\n",
    "model.add(Dense(100))\n",
    "model.add(Activation('relu'))\n",
    "model.add(Dense(output_dim = output_dim, activation = 'sigmoid'))\n",
    "\n",
    "model.compile(loss='binary_crossentropy',\n",
    "                            optimizer=\"adam\",\n",
    "                            metrics=['accuracy'])\n",
    "\n",
    "SVG(model_to_dot(model, show_shapes=True).create(prog='dot', format='svg'))"
   ]
  },
  {
   "cell_type": "code",
   "execution_count": 233,
   "metadata": {
    "collapsed": false
   },
   "outputs": [
    {
     "name": "stdout",
     "output_type": "stream",
     "text": [
      "Train on 700 samples, validate on 78 samples\n",
      "Epoch 1/10\n",
      "0s - loss: 0.6854 - acc: 0.5929 - val_loss: 0.6713 - val_acc: 0.5513\n",
      "Epoch 2/10\n",
      "0s - loss: 0.6350 - acc: 0.7371 - val_loss: 0.6324 - val_acc: 0.7564\n",
      "Epoch 3/10\n",
      "0s - loss: 0.6029 - acc: 0.6914 - val_loss: 0.6785 - val_acc: 0.7564\n",
      "Epoch 4/10\n",
      "0s - loss: 0.6060 - acc: 0.6857 - val_loss: 0.6869 - val_acc: 0.6667\n",
      "Epoch 5/10\n",
      "0s - loss: 0.5963 - acc: 0.6786 - val_loss: 0.6721 - val_acc: 0.6410\n",
      "Epoch 6/10\n",
      "0s - loss: 0.5696 - acc: 0.6657 - val_loss: 0.6919 - val_acc: 0.6026\n",
      "Epoch 7/10\n",
      "0s - loss: 0.5514 - acc: 0.6329 - val_loss: 0.6772 - val_acc: 0.6410\n",
      "Epoch 8/10\n",
      "0s - loss: 0.5383 - acc: 0.6171 - val_loss: 0.7184 - val_acc: 0.6410\n",
      "Epoch 9/10\n",
      "0s - loss: 0.5077 - acc: 0.6329 - val_loss: 0.8026 - val_acc: 0.5128\n",
      "Epoch 10/10\n",
      "0s - loss: 0.4768 - acc: 0.5814 - val_loss: 0.7868 - val_acc: 0.4359\n"
     ]
    }
   ],
   "source": [
    "epoch = 10\n",
    "cnn_result = model.fit(x_train, train_ajax['y'], nb_epoch=epoch, batch_size=50, verbose=2,  validation_split=0.1)\n",
    "\n",
    "preds = model.predict(x_test)\n",
    "preds[preds>= 0.5] = 1\n",
    "preds[preds<0.5] = 0"
   ]
  },
  {
   "cell_type": "code",
   "execution_count": 234,
   "metadata": {
    "collapsed": false,
    "scrolled": true
   },
   "outputs": [
    {
     "name": "stdout",
     "output_type": "stream",
     "text": [
      "accuracy for 0 th dim: 0.739130434783\n",
      "accuracy for 1 th dim: 0.593167701863\n",
      "accuracy for 2 th dim: 0.608695652174\n",
      "accuracy for 3 th dim: 0.580745341615\n",
      "accuracy for 4 th dim: 0.583850931677\n",
      "accuracy for 5 th dim: 0.571428571429\n"
     ]
    }
   ],
   "source": [
    "for i in xrange(output_dim):\n",
    "    pred = preds[:, i]\n",
    "    ans = test_ajax['y'][:, i]\n",
    "    sum_, all_ = 0, 0\n",
    "    for pred_, ans_ in zip(pred, ans):\n",
    "        if abs(pred_ - ans_) == 0:\n",
    "            sum_ += 1.0\n",
    "        all_ += 1.0\n",
    "    print 'accuracy for %s th dim: %s' % (i, sum_ / all_)"
   ]
  },
  {
   "cell_type": "code",
   "execution_count": 235,
   "metadata": {
    "collapsed": false
   },
   "outputs": [
    {
     "data": {
      "text/plain": [
       "0.14285714285714285"
      ]
     },
     "execution_count": 235,
     "metadata": {},
     "output_type": "execute_result"
    }
   ],
   "source": [
    "acc_all, acc_sum, res = 0.0, 0.0, []\n",
    "for pred, y_test_ in zip(preds, y_test):\n",
    "    res = pred == y_test_\n",
    "    acc_sum += 1\n",
    "    if res.all():\n",
    "        acc_all += 1.0\n",
    "acc_all = acc_all / acc_sum\n",
    "acc_all"
   ]
  },
  {
   "cell_type": "code",
   "execution_count": 194,
   "metadata": {
    "collapsed": false
   },
   "outputs": [
    {
     "data": {
      "image/png": "[encoded data removed]",
      "text/plain": [
       "<matplotlib.figure.Figure at 0x18698a0d0>"
      ]
     },
     "metadata": {},
     "output_type": "display_data"
    }
   ],
   "source": [
    "x = range(epoch)\n",
    "plt.plot(x, cnn_result.history['acc'], label=\"train acc\")\n",
    "plt.plot(x, cnn_result.history['val_acc'], label=\"val acc\")\n",
    "plt.legend(loc='center left', bbox_to_anchor=(1, 0.5))\n",
    "plt.show()"
   ]
  },
  {
   "cell_type": "code",
   "execution_count": 195,
   "metadata": {
    "collapsed": false
   },
   "outputs": [
    {
     "data": {
      "image/png": "[encoded data removed]",
      "text/plain": [
       "<matplotlib.figure.Figure at 0x1941f88d0>"
      ]
     },
     "metadata": {},
     "output_type": "display_data"
    }
   ],
   "source": [
    "x = range(epoch)\n",
    "plt.plot(x, cnn_result.history['loss'], label=\"train loss\")\n",
    "plt.plot(x, cnn_result.history['val_loss'], label=\"val loss\")\n",
    "plt.legend(loc='center left', bbox_to_anchor=(1, 0.5))\n",
    "plt.show()"
   ]
  },
  {
   "cell_type": "code",
   "execution_count": null,
   "metadata": {
    "collapsed": true
   },
   "outputs": [],
   "source": []
  },
  {
   "cell_type": "code",
   "execution_count": null,
   "metadata": {
    "collapsed": true
   },
   "outputs": [],
   "source": []
  },
  {
   "cell_type": "code",
   "execution_count": null,
   "metadata": {
    "collapsed": true
   },
   "outputs": [],
   "source": [
    "my_cnn = CNN(rows=1, cols=30, output_dim=6)"
   ]
  },
  {
   "cell_type": "code",
   "execution_count": null,
   "metadata": {
    "collapsed": true
   },
   "outputs": [],
   "source": []
  },
  {
   "cell_type": "code",
   "execution_count": null,
   "metadata": {
    "collapsed": true
   },
   "outputs": [],
   "source": []
  },
  {
   "cell_type": "code",
   "execution_count": null,
   "metadata": {
    "collapsed": true
   },
   "outputs": [],
   "source": []
  },
  {
   "cell_type": "code",
   "execution_count": 112,
   "metadata": {
    "collapsed": false
   },
   "outputs": [
    {
     "ename": "IndexError",
     "evalue": "invalid index to scalar variable.",
     "output_type": "error",
     "traceback": [
      "\u001b[0;31m---------------------------------------------------------------------------\u001b[0m",
      "\u001b[0;31mIndexError\u001b[0m                                Traceback (most recent call last)",
      "\u001b[0;32m<ipython-input-112-21a271eac516>\u001b[0m in \u001b[0;36m<module>\u001b[0;34m()\u001b[0m\n\u001b[1;32m      1\u001b[0m \u001b[0mscore\u001b[0m \u001b[0;34m=\u001b[0m \u001b[0mmodel\u001b[0m\u001b[0;34m.\u001b[0m\u001b[0mevaluate\u001b[0m\u001b[0;34m(\u001b[0m\u001b[0mx_test\u001b[0m\u001b[0;34m,\u001b[0m \u001b[0mtest_ajax\u001b[0m\u001b[0;34m[\u001b[0m\u001b[0;34m'y'\u001b[0m\u001b[0;34m]\u001b[0m\u001b[0;34m,\u001b[0m \u001b[0mshow_accuracy\u001b[0m\u001b[0;34m=\u001b[0m\u001b[0mTrue\u001b[0m\u001b[0;34m,\u001b[0m \u001b[0mverbose\u001b[0m\u001b[0;34m=\u001b[0m\u001b[0;36m0\u001b[0m\u001b[0;34m)\u001b[0m\u001b[0;34m\u001b[0m\u001b[0m\n\u001b[0;32m----> 2\u001b[0;31m \u001b[0;32mprint\u001b[0m \u001b[0;34m'test score: %s'\u001b[0m \u001b[0;34m%\u001b[0m \u001b[0mscore\u001b[0m\u001b[0;34m[\u001b[0m\u001b[0;36m0\u001b[0m\u001b[0;34m]\u001b[0m\u001b[0;34m\u001b[0m\u001b[0m\n\u001b[0m\u001b[1;32m      3\u001b[0m \u001b[0;32mprint\u001b[0m \u001b[0;34m'test accuracy: %s'\u001b[0m \u001b[0;34m%\u001b[0m \u001b[0mscore\u001b[0m\u001b[0;34m[\u001b[0m\u001b[0;36m1\u001b[0m\u001b[0;34m]\u001b[0m\u001b[0;34m\u001b[0m\u001b[0m\n",
      "\u001b[0;31mIndexError\u001b[0m: invalid index to scalar variable."
     ]
    }
   ],
   "source": [
    "score = model.evaluate(x_test, np_utils.to_categorical(test_ajax['y'][:, 0], 2), show_accuracy=True, verbose=0)\n",
    "print 'test score: %s' % score[0]\n",
    "print 'test accuracy: %s' % score[1]"
   ]
  },
  {
   "cell_type": "markdown",
   "metadata": {},
   "source": [
    "## RNN"
   ]
  },
  {
   "cell_type": "code",
   "execution_count": 80,
   "metadata": {
    "collapsed": true
   },
   "outputs": [],
   "source": [
    "my_rnn = TimeseriesModel(rows=1, cols=30, output_dim=6, model_type='SimpleRNN')"
   ]
  },
  {
   "cell_type": "markdown",
   "metadata": {},
   "source": [
    "### data load for RNN"
   ]
  },
  {
   "cell_type": "code",
   "execution_count": 81,
   "metadata": {
    "collapsed": false
   },
   "outputs": [],
   "source": [
    "train, test, target = base_data_manager.load_normal_representation_data(output_dim=6, data_type='balance', category_name='ajax')\n",
    "x_train, y_train, x_tests, y_test = my_rnn.data_transform(train, test)"
   ]
  },
  {
   "cell_type": "code",
   "execution_count": 82,
   "metadata": {
    "collapsed": false
   },
   "outputs": [
    {
     "name": "stdout",
     "output_type": "stream",
     "text": [
      "(778, 1, 30)\n",
      "train samples: 778\n",
      "test samples: 322\n"
     ]
    }
   ],
   "source": [
    "print x_train.shape\n",
    "print 'train samples: %s' % x_train.shape[0]\n",
    "print 'test samples: %s' % x_test.shape[0]"
   ]
  },
  {
   "cell_type": "markdown",
   "metadata": {},
   "source": [
    "### model"
   ]
  },
  {
   "cell_type": "code",
   "execution_count": 83,
   "metadata": {
    "collapsed": false
   },
   "outputs": [],
   "source": [
    "my_rnn.build(rows=1, cols=30, output_dim=6)"
   ]
  },
  {
   "cell_type": "code",
   "execution_count": 84,
   "metadata": {
    "collapsed": false,
    "scrolled": true
   },
   "outputs": [
    {
     "name": "stdout",
     "output_type": "stream",
     "text": [
      "Train on 700 samples, validate on 78 samples\n",
      "Epoch 1/50\n",
      "700/700 [==============================] - 0s - loss: 0.7851 - acc: 0.3429 - val_loss: 0.7210 - val_acc: 0.3974\n",
      "Epoch 2/50\n",
      "700/700 [==============================] - 0s - loss: 0.7601 - acc: 0.3843 - val_loss: 0.6981 - val_acc: 0.4359\n",
      "Epoch 3/50\n",
      "700/700 [==============================] - 0s - loss: 0.7396 - acc: 0.4214 - val_loss: 0.6861 - val_acc: 0.4744\n",
      "Epoch 4/50\n",
      "700/700 [==============================] - 0s - loss: 0.7257 - acc: 0.4471 - val_loss: 0.6768 - val_acc: 0.4744\n",
      "Epoch 5/50\n",
      "700/700 [==============================] - 0s - loss: 0.7160 - acc: 0.4571 - val_loss: 0.6691 - val_acc: 0.4872\n",
      "Epoch 6/50\n",
      "700/700 [==============================] - 0s - loss: 0.7082 - acc: 0.4686 - val_loss: 0.6621 - val_acc: 0.5000\n",
      "Epoch 7/50\n",
      "700/700 [==============================] - 0s - loss: 0.7026 - acc: 0.4743 - val_loss: 0.6573 - val_acc: 0.4872\n",
      "Epoch 8/50\n",
      "700/700 [==============================] - 0s - loss: 0.6981 - acc: 0.4843 - val_loss: 0.6539 - val_acc: 0.4872\n",
      "Epoch 9/50\n",
      "700/700 [==============================] - 0s - loss: 0.6941 - acc: 0.5043 - val_loss: 0.6508 - val_acc: 0.4872\n",
      "Epoch 10/50\n",
      "700/700 [==============================] - 0s - loss: 0.6906 - acc: 0.5057 - val_loss: 0.6482 - val_acc: 0.4744\n",
      "Epoch 11/50\n",
      "700/700 [==============================] - 0s - loss: 0.6875 - acc: 0.5014 - val_loss: 0.6462 - val_acc: 0.4744\n",
      "Epoch 12/50\n",
      "700/700 [==============================] - 0s - loss: 0.6847 - acc: 0.5000 - val_loss: 0.6444 - val_acc: 0.4615\n",
      "Epoch 13/50\n",
      "700/700 [==============================] - 0s - loss: 0.6820 - acc: 0.5000 - val_loss: 0.6430 - val_acc: 0.4615\n",
      "Epoch 14/50\n",
      "700/700 [==============================] - 0s - loss: 0.6797 - acc: 0.5014 - val_loss: 0.6414 - val_acc: 0.4744\n",
      "Epoch 15/50\n",
      "700/700 [==============================] - 0s - loss: 0.6775 - acc: 0.5071 - val_loss: 0.6400 - val_acc: 0.4744\n",
      "Epoch 16/50\n",
      "700/700 [==============================] - 0s - loss: 0.6753 - acc: 0.5071 - val_loss: 0.6386 - val_acc: 0.4744\n",
      "Epoch 17/50\n",
      "700/700 [==============================] - 0s - loss: 0.6734 - acc: 0.5043 - val_loss: 0.6374 - val_acc: 0.5000\n",
      "Epoch 18/50\n",
      "700/700 [==============================] - 0s - loss: 0.6716 - acc: 0.5114 - val_loss: 0.6364 - val_acc: 0.5000\n",
      "Epoch 19/50\n",
      "700/700 [==============================] - 0s - loss: 0.6699 - acc: 0.5114 - val_loss: 0.6355 - val_acc: 0.5000\n",
      "Epoch 20/50\n",
      "700/700 [==============================] - 0s - loss: 0.6683 - acc: 0.5186 - val_loss: 0.6348 - val_acc: 0.4872\n",
      "Epoch 21/50\n",
      "700/700 [==============================] - 0s - loss: 0.6668 - acc: 0.5157 - val_loss: 0.6341 - val_acc: 0.4872\n",
      "Epoch 22/50\n",
      "700/700 [==============================] - 0s - loss: 0.6653 - acc: 0.5200 - val_loss: 0.6337 - val_acc: 0.4872\n",
      "Epoch 23/50\n",
      "700/700 [==============================] - 0s - loss: 0.6640 - acc: 0.5143 - val_loss: 0.6334 - val_acc: 0.5000\n",
      "Epoch 24/50\n",
      "700/700 [==============================] - 0s - loss: 0.6628 - acc: 0.5171 - val_loss: 0.6330 - val_acc: 0.5000\n",
      "Epoch 25/50\n",
      "700/700 [==============================] - 0s - loss: 0.6616 - acc: 0.5186 - val_loss: 0.6326 - val_acc: 0.5000\n",
      "Epoch 26/50\n",
      "700/700 [==============================] - 0s - loss: 0.6603 - acc: 0.5200 - val_loss: 0.6324 - val_acc: 0.5128\n",
      "Epoch 27/50\n",
      "700/700 [==============================] - 0s - loss: 0.6592 - acc: 0.5229 - val_loss: 0.6321 - val_acc: 0.5128\n",
      "Epoch 28/50\n",
      "700/700 [==============================] - 0s - loss: 0.6582 - acc: 0.5200 - val_loss: 0.6318 - val_acc: 0.5256\n",
      "Epoch 29/50\n",
      "700/700 [==============================] - 0s - loss: 0.6571 - acc: 0.5271 - val_loss: 0.6315 - val_acc: 0.5256\n",
      "Epoch 30/50\n",
      "700/700 [==============================] - 0s - loss: 0.6560 - acc: 0.5243 - val_loss: 0.6313 - val_acc: 0.5256\n",
      "Epoch 31/50\n",
      "700/700 [==============================] - 0s - loss: 0.6551 - acc: 0.5343 - val_loss: 0.6309 - val_acc: 0.5128\n",
      "Epoch 32/50\n",
      "700/700 [==============================] - 0s - loss: 0.6540 - acc: 0.5343 - val_loss: 0.6307 - val_acc: 0.5256\n",
      "Epoch 33/50\n",
      "700/700 [==============================] - 0s - loss: 0.6529 - acc: 0.5257 - val_loss: 0.6305 - val_acc: 0.5256\n",
      "Epoch 34/50\n",
      "700/700 [==============================] - 0s - loss: 0.6519 - acc: 0.5414 - val_loss: 0.6303 - val_acc: 0.5256\n",
      "Epoch 35/50\n",
      "700/700 [==============================] - 0s - loss: 0.6508 - acc: 0.5414 - val_loss: 0.6301 - val_acc: 0.5256\n",
      "Epoch 36/50\n",
      "700/700 [==============================] - 0s - loss: 0.6498 - acc: 0.5343 - val_loss: 0.6300 - val_acc: 0.5513\n",
      "Epoch 37/50\n",
      "700/700 [==============================] - 0s - loss: 0.6487 - acc: 0.5443 - val_loss: 0.6299 - val_acc: 0.5385\n",
      "Epoch 38/50\n",
      "700/700 [==============================] - 0s - loss: 0.6479 - acc: 0.5443 - val_loss: 0.6298 - val_acc: 0.5385\n",
      "Epoch 39/50\n",
      "700/700 [==============================] - 0s - loss: 0.6469 - acc: 0.5457 - val_loss: 0.6297 - val_acc: 0.5513\n",
      "Epoch 40/50\n",
      "700/700 [==============================] - 0s - loss: 0.6460 - acc: 0.5371 - val_loss: 0.6296 - val_acc: 0.5513\n",
      "Epoch 41/50\n",
      "700/700 [==============================] - 0s - loss: 0.6450 - acc: 0.5414 - val_loss: 0.6295 - val_acc: 0.5513\n",
      "Epoch 42/50\n",
      "700/700 [==============================] - 0s - loss: 0.6441 - acc: 0.5371 - val_loss: 0.6295 - val_acc: 0.5641\n",
      "Epoch 43/50\n",
      "700/700 [==============================] - 0s - loss: 0.6432 - acc: 0.5500 - val_loss: 0.6294 - val_acc: 0.5641\n",
      "Epoch 44/50\n",
      "700/700 [==============================] - 0s - loss: 0.6423 - acc: 0.5371 - val_loss: 0.6294 - val_acc: 0.5641\n",
      "Epoch 45/50\n",
      "700/700 [==============================] - 0s - loss: 0.6415 - acc: 0.5471 - val_loss: 0.6294 - val_acc: 0.5641\n",
      "Epoch 46/50\n",
      "700/700 [==============================] - 0s - loss: 0.6406 - acc: 0.5486 - val_loss: 0.6294 - val_acc: 0.5641\n",
      "Epoch 47/50\n",
      "700/700 [==============================] - 0s - loss: 0.6398 - acc: 0.5514 - val_loss: 0.6294 - val_acc: 0.5641\n",
      "Epoch 48/50\n",
      "700/700 [==============================] - 0s - loss: 0.6389 - acc: 0.5500 - val_loss: 0.6295 - val_acc: 0.5641\n",
      "Epoch 49/50\n",
      "700/700 [==============================] - 0s - loss: 0.6380 - acc: 0.5443 - val_loss: 0.6295 - val_acc: 0.5641\n",
      "Epoch 50/50\n",
      "700/700 [==============================] - 0s - loss: 0.6372 - acc: 0.5486 - val_loss: 0.6295 - val_acc: 0.5641\n"
     ]
    }
   ],
   "source": [
    "result = my_rnn.train(x_train, y_train, batch_size=50, epoch=50, validation_split=0.1)"
   ]
  },
  {
   "cell_type": "code",
   "execution_count": 86,
   "metadata": {
    "collapsed": false
   },
   "outputs": [
    {
     "name": "stdout",
     "output_type": "stream",
     "text": [
      "accuracy for 1 th dim: 0.695652\n",
      "accuracy for 2 th dim: 0.599379\n",
      "accuracy for 3 th dim: 0.608696\n",
      "accuracy for 4 th dim: 0.552795\n",
      "accuracy for 5 th dim: 0.537267\n",
      "accuracy for 6 th dim: 0.527950\n"
     ]
    }
   ],
   "source": [
    "acc_ls, acc_all = my_rnn.test(x_test, y_test)\n",
    "for i, acc_ in enumerate(acc_ls):\n",
    "    print 'accuracy for %s th dim: %f' % (i + 1, acc_)"
   ]
  },
  {
   "cell_type": "code",
   "execution_count": 87,
   "metadata": {
    "collapsed": false
   },
   "outputs": [
    {
     "data": {
      "text/plain": [
       "0.11180124223602485"
      ]
     },
     "execution_count": 87,
     "metadata": {},
     "output_type": "execute_result"
    }
   ],
   "source": [
    "acc_all"
   ]
  },
  {
   "cell_type": "code",
   "execution_count": 79,
   "metadata": {
    "collapsed": false
   },
   "outputs": [
    {
     "ename": "SyntaxError",
     "evalue": "invalid syntax (<ipython-input-79-f60db428ffe1>, line 1)",
     "output_type": "error",
     "traceback": [
      "\u001b[0;36m  File \u001b[0;32m\"<ipython-input-79-f60db428ffe1>\"\u001b[0;36m, line \u001b[0;32m1\u001b[0m\n\u001b[0;31m    [for 0 in xrange(6)]\u001b[0m\n\u001b[0m       ^\u001b[0m\n\u001b[0;31mSyntaxError\u001b[0m\u001b[0;31m:\u001b[0m invalid syntax\n"
     ]
    }
   ],
   "source": [
    "pattern = []\n",
    "if type(pattern) == 'list':\n",
    "    pattern = numpy.array(pattern)\n",
    "ref = [0 for i in six.moves.range(label.shape[0])]\n",
    "for label_ele in label:\n",
    "    for i, pattern_ele in enumerate(pattern):\n",
    "        res = label_ele == pattern_ele\n",
    "        if res.all():\n",
    "            ref[i] += 1"
   ]
  },
  {
   "cell_type": "markdown",
   "metadata": {},
   "source": [
    "## GRU"
   ]
  },
  {
   "cell_type": "code",
   "execution_count": 70,
   "metadata": {
    "collapsed": true
   },
   "outputs": [],
   "source": [
    "output_dim = 6\n",
    "my_gru = TimeseriesModel(rows=1, cols=30, output_dim=output_dim, model_type='GRU')"
   ]
  },
  {
   "cell_type": "markdown",
   "metadata": {},
   "source": [
    "### data load for GRU"
   ]
  },
  {
   "cell_type": "code",
   "execution_count": 71,
   "metadata": {
    "collapsed": true
   },
   "outputs": [],
   "source": [
    "train, test, target = base_data_manager.load_normal_representation_data(output_dim=6, data_type='balance', category_name='ajax')\n",
    "x_train, y_train, x_tests, y_test = my_lstm.data_transform(train, test)"
   ]
  },
  {
   "cell_type": "markdown",
   "metadata": {},
   "source": [
    "### model"
   ]
  },
  {
   "cell_type": "code",
   "execution_count": 72,
   "metadata": {
    "collapsed": false
   },
   "outputs": [],
   "source": [
    "my_gru.build(rows=1, cols=30, output_dim=6)"
   ]
  },
  {
   "cell_type": "code",
   "execution_count": 73,
   "metadata": {
    "collapsed": false,
    "scrolled": true
   },
   "outputs": [
    {
     "name": "stdout",
     "output_type": "stream",
     "text": [
      "Train on 700 samples, validate on 78 samples\n",
      "Epoch 1/50\n",
      "700/700 [==============================] - 0s - loss: 0.7475 - acc: 0.2643 - val_loss: 0.7476 - val_acc: 0.3846\n",
      "Epoch 2/50\n",
      "700/700 [==============================] - 0s - loss: 0.7296 - acc: 0.2857 - val_loss: 0.7333 - val_acc: 0.4231\n",
      "Epoch 3/50\n",
      "700/700 [==============================] - 0s - loss: 0.7168 - acc: 0.3343 - val_loss: 0.7230 - val_acc: 0.4103\n",
      "Epoch 4/50\n",
      "700/700 [==============================] - 0s - loss: 0.7075 - acc: 0.3443 - val_loss: 0.7147 - val_acc: 0.4487\n",
      "Epoch 5/50\n",
      "700/700 [==============================] - 0s - loss: 0.6997 - acc: 0.3471 - val_loss: 0.7060 - val_acc: 0.4872\n",
      "Epoch 6/50\n",
      "700/700 [==============================] - 0s - loss: 0.6925 - acc: 0.3500 - val_loss: 0.6991 - val_acc: 0.4744\n",
      "Epoch 7/50\n",
      "700/700 [==============================] - 0s - loss: 0.6864 - acc: 0.3857 - val_loss: 0.6914 - val_acc: 0.4615\n",
      "Epoch 8/50\n",
      "700/700 [==============================] - 0s - loss: 0.6810 - acc: 0.3900 - val_loss: 0.6858 - val_acc: 0.4231\n",
      "Epoch 9/50\n",
      "700/700 [==============================] - 0s - loss: 0.6764 - acc: 0.3986 - val_loss: 0.6815 - val_acc: 0.4359\n",
      "Epoch 10/50\n",
      "700/700 [==============================] - 0s - loss: 0.6725 - acc: 0.4057 - val_loss: 0.6784 - val_acc: 0.4487\n",
      "Epoch 11/50\n",
      "700/700 [==============================] - 0s - loss: 0.6695 - acc: 0.4129 - val_loss: 0.6760 - val_acc: 0.4487\n",
      "Epoch 12/50\n",
      "700/700 [==============================] - 0s - loss: 0.6669 - acc: 0.4314 - val_loss: 0.6741 - val_acc: 0.4487\n",
      "Epoch 13/50\n",
      "700/700 [==============================] - 0s - loss: 0.6645 - acc: 0.4471 - val_loss: 0.6726 - val_acc: 0.4744\n",
      "Epoch 14/50\n",
      "700/700 [==============================] - 0s - loss: 0.6625 - acc: 0.4529 - val_loss: 0.6712 - val_acc: 0.4615\n",
      "Epoch 15/50\n",
      "700/700 [==============================] - 0s - loss: 0.6603 - acc: 0.4757 - val_loss: 0.6698 - val_acc: 0.5128\n",
      "Epoch 16/50\n",
      "700/700 [==============================] - 0s - loss: 0.6583 - acc: 0.4886 - val_loss: 0.6687 - val_acc: 0.5385\n",
      "Epoch 17/50\n",
      "700/700 [==============================] - 0s - loss: 0.6563 - acc: 0.5043 - val_loss: 0.6680 - val_acc: 0.5513\n",
      "Epoch 18/50\n",
      "700/700 [==============================] - 0s - loss: 0.6542 - acc: 0.5043 - val_loss: 0.6677 - val_acc: 0.5641\n",
      "Epoch 19/50\n",
      "700/700 [==============================] - 0s - loss: 0.6524 - acc: 0.5300 - val_loss: 0.6672 - val_acc: 0.5641\n",
      "Epoch 20/50\n",
      "700/700 [==============================] - 0s - loss: 0.6509 - acc: 0.5371 - val_loss: 0.6665 - val_acc: 0.5769\n",
      "Epoch 21/50\n",
      "700/700 [==============================] - 0s - loss: 0.6494 - acc: 0.5386 - val_loss: 0.6661 - val_acc: 0.5769\n",
      "Epoch 22/50\n",
      "700/700 [==============================] - 0s - loss: 0.6479 - acc: 0.5443 - val_loss: 0.6655 - val_acc: 0.5897\n",
      "Epoch 23/50\n",
      "700/700 [==============================] - 0s - loss: 0.6462 - acc: 0.5671 - val_loss: 0.6645 - val_acc: 0.5513\n",
      "Epoch 24/50\n",
      "700/700 [==============================] - 0s - loss: 0.6446 - acc: 0.5686 - val_loss: 0.6632 - val_acc: 0.5385\n",
      "Epoch 25/50\n",
      "700/700 [==============================] - 0s - loss: 0.6428 - acc: 0.5757 - val_loss: 0.6620 - val_acc: 0.5513\n",
      "Epoch 26/50\n",
      "700/700 [==============================] - 0s - loss: 0.6411 - acc: 0.5743 - val_loss: 0.6609 - val_acc: 0.5641\n",
      "Epoch 27/50\n",
      "700/700 [==============================] - 0s - loss: 0.6396 - acc: 0.5757 - val_loss: 0.6600 - val_acc: 0.5769\n",
      "Epoch 28/50\n",
      "700/700 [==============================] - 0s - loss: 0.6383 - acc: 0.5843 - val_loss: 0.6590 - val_acc: 0.5769\n",
      "Epoch 29/50\n",
      "700/700 [==============================] - 0s - loss: 0.6369 - acc: 0.5886 - val_loss: 0.6582 - val_acc: 0.5769\n",
      "Epoch 30/50\n",
      "700/700 [==============================] - 0s - loss: 0.6356 - acc: 0.5957 - val_loss: 0.6575 - val_acc: 0.5897\n",
      "Epoch 31/50\n",
      "700/700 [==============================] - 0s - loss: 0.6344 - acc: 0.5914 - val_loss: 0.6572 - val_acc: 0.5897\n",
      "Epoch 32/50\n",
      "700/700 [==============================] - 0s - loss: 0.6333 - acc: 0.6086 - val_loss: 0.6568 - val_acc: 0.5897\n",
      "Epoch 33/50\n",
      "700/700 [==============================] - 0s - loss: 0.6323 - acc: 0.6143 - val_loss: 0.6564 - val_acc: 0.5897\n",
      "Epoch 34/50\n",
      "700/700 [==============================] - 0s - loss: 0.6313 - acc: 0.6143 - val_loss: 0.6560 - val_acc: 0.5897\n",
      "Epoch 35/50\n",
      "700/700 [==============================] - 0s - loss: 0.6302 - acc: 0.6143 - val_loss: 0.6557 - val_acc: 0.6026\n",
      "Epoch 36/50\n",
      "700/700 [==============================] - 0s - loss: 0.6293 - acc: 0.6100 - val_loss: 0.6556 - val_acc: 0.6026\n",
      "Epoch 37/50\n",
      "700/700 [==============================] - 0s - loss: 0.6283 - acc: 0.6271 - val_loss: 0.6553 - val_acc: 0.6026\n",
      "Epoch 38/50\n",
      "700/700 [==============================] - 0s - loss: 0.6273 - acc: 0.6186 - val_loss: 0.6553 - val_acc: 0.6026\n",
      "Epoch 39/50\n",
      "700/700 [==============================] - 0s - loss: 0.6263 - acc: 0.6200 - val_loss: 0.6553 - val_acc: 0.6026\n",
      "Epoch 40/50\n",
      "700/700 [==============================] - 0s - loss: 0.6255 - acc: 0.6243 - val_loss: 0.6552 - val_acc: 0.6026\n",
      "Epoch 41/50\n",
      "700/700 [==============================] - 0s - loss: 0.6245 - acc: 0.6243 - val_loss: 0.6552 - val_acc: 0.6154\n",
      "Epoch 42/50\n",
      "700/700 [==============================] - 0s - loss: 0.6236 - acc: 0.6286 - val_loss: 0.6550 - val_acc: 0.6154\n",
      "Epoch 43/50\n",
      "700/700 [==============================] - 0s - loss: 0.6227 - acc: 0.6243 - val_loss: 0.6550 - val_acc: 0.6154\n",
      "Epoch 44/50\n",
      "700/700 [==============================] - 0s - loss: 0.6218 - acc: 0.6300 - val_loss: 0.6550 - val_acc: 0.6154\n",
      "Epoch 45/50\n",
      "700/700 [==============================] - 0s - loss: 0.6209 - acc: 0.6329 - val_loss: 0.6549 - val_acc: 0.6154\n",
      "Epoch 46/50\n",
      "700/700 [==============================] - 0s - loss: 0.6201 - acc: 0.6286 - val_loss: 0.6550 - val_acc: 0.6026\n",
      "Epoch 47/50\n",
      "700/700 [==============================] - 0s - loss: 0.6193 - acc: 0.6371 - val_loss: 0.6551 - val_acc: 0.6026\n",
      "Epoch 48/50\n",
      "700/700 [==============================] - 0s - loss: 0.6184 - acc: 0.6371 - val_loss: 0.6551 - val_acc: 0.6026\n",
      "Epoch 49/50\n",
      "700/700 [==============================] - 0s - loss: 0.6177 - acc: 0.6343 - val_loss: 0.6551 - val_acc: 0.5897\n",
      "Epoch 50/50\n",
      "700/700 [==============================] - 0s - loss: 0.6168 - acc: 0.6371 - val_loss: 0.6553 - val_acc: 0.6026\n"
     ]
    }
   ],
   "source": [
    "result = my_gru.train(x_train, y_train, batch_size=50, epoch=50, validation_split=0.1)"
   ]
  },
  {
   "cell_type": "code",
   "execution_count": 75,
   "metadata": {
    "collapsed": false
   },
   "outputs": [
    {
     "name": "stdout",
     "output_type": "stream",
     "text": [
      "accuracy for 0 th dim: 0.723602\n",
      "accuracy for 1 th dim: 0.645963\n",
      "accuracy for 2 th dim: 0.618012\n",
      "accuracy for 3 th dim: 0.580745\n",
      "accuracy for 4 th dim: 0.565217\n",
      "accuracy for 5 th dim: 0.478261\n"
     ]
    }
   ],
   "source": [
    "acc_ls = my_gru.test(x_test, y_test)\n",
    "for i, acc_ in enumerate(acc_ls):\n",
    "    print 'accuracy for %s th dim: %f' % (i, acc_)"
   ]
  },
  {
   "cell_type": "markdown",
   "metadata": {},
   "source": [
    "## LSTM"
   ]
  },
  {
   "cell_type": "code",
   "execution_count": 162,
   "metadata": {
    "collapsed": false
   },
   "outputs": [],
   "source": [
    "output_dim = 6\n",
    "my_lstm = TimeseriesModel(rows=1, cols=30, output_dim=output_dim, model_type='LSTM')"
   ]
  },
  {
   "cell_type": "code",
   "execution_count": 163,
   "metadata": {
    "collapsed": false
   },
   "outputs": [],
   "source": [
    "train, test, target = base_data_manager.load_normal_representation_data(output_dim=output_dim, data_type='balance', category_name='ajax')"
   ]
  },
  {
   "cell_type": "code",
   "execution_count": 164,
   "metadata": {
    "collapsed": false
   },
   "outputs": [],
   "source": [
    "x_train, y_train, x_test, y_test = my_lstm.data_transform(train, test)"
   ]
  },
  {
   "cell_type": "code",
   "execution_count": 165,
   "metadata": {
    "collapsed": false
   },
   "outputs": [],
   "source": [
    "my_lstm.build(rows=1, cols=30, output_dim=output_dim)"
   ]
  },
  {
   "cell_type": "code",
   "execution_count": 166,
   "metadata": {
    "collapsed": false,
    "scrolled": true
   },
   "outputs": [
    {
     "name": "stdout",
     "output_type": "stream",
     "text": [
      "Train on 700 samples, validate on 78 samples\n",
      "Epoch 1/100\n",
      "700/700 [==============================] - 0s - loss: 0.7056 - acc: 0.0743 - val_loss: 0.7145 - val_acc: 0.0513\n",
      "Epoch 2/100\n",
      "700/700 [==============================] - 0s - loss: 0.6984 - acc: 0.0871 - val_loss: 0.7073 - val_acc: 0.0769\n",
      "Epoch 3/100\n",
      "700/700 [==============================] - 0s - loss: 0.6921 - acc: 0.1014 - val_loss: 0.7008 - val_acc: 0.1538\n",
      "Epoch 4/100\n",
      "700/700 [==============================] - 0s - loss: 0.6866 - acc: 0.1229 - val_loss: 0.6958 - val_acc: 0.1667\n",
      "Epoch 5/100\n",
      "700/700 [==============================] - 0s - loss: 0.6817 - acc: 0.1286 - val_loss: 0.6919 - val_acc: 0.1795\n",
      "Epoch 6/100\n",
      "700/700 [==============================] - 0s - loss: 0.6771 - acc: 0.1429 - val_loss: 0.6890 - val_acc: 0.2051\n",
      "Epoch 7/100\n",
      "700/700 [==============================] - 0s - loss: 0.6726 - acc: 0.1600 - val_loss: 0.6855 - val_acc: 0.2179\n",
      "Epoch 8/100\n",
      "700/700 [==============================] - 0s - loss: 0.6686 - acc: 0.1857 - val_loss: 0.6821 - val_acc: 0.2436\n",
      "Epoch 9/100\n",
      "700/700 [==============================] - 0s - loss: 0.6650 - acc: 0.2114 - val_loss: 0.6799 - val_acc: 0.2564\n",
      "Epoch 10/100\n",
      "700/700 [==============================] - 0s - loss: 0.6615 - acc: 0.2400 - val_loss: 0.6780 - val_acc: 0.2692\n",
      "Epoch 11/100\n",
      "700/700 [==============================] - 0s - loss: 0.6583 - acc: 0.2729 - val_loss: 0.6758 - val_acc: 0.3077\n",
      "Epoch 12/100\n",
      "700/700 [==============================] - 0s - loss: 0.6554 - acc: 0.3029 - val_loss: 0.6744 - val_acc: 0.3205\n",
      "Epoch 13/100\n",
      "700/700 [==============================] - 0s - loss: 0.6530 - acc: 0.3357 - val_loss: 0.6729 - val_acc: 0.3333\n",
      "Epoch 14/100\n",
      "700/700 [==============================] - 0s - loss: 0.6508 - acc: 0.3543 - val_loss: 0.6717 - val_acc: 0.3974\n",
      "Epoch 15/100\n",
      "700/700 [==============================] - 0s - loss: 0.6489 - acc: 0.3829 - val_loss: 0.6705 - val_acc: 0.3974\n",
      "Epoch 16/100\n",
      "700/700 [==============================] - 0s - loss: 0.6471 - acc: 0.3943 - val_loss: 0.6696 - val_acc: 0.4103\n",
      "Epoch 17/100\n",
      "700/700 [==============================] - 0s - loss: 0.6454 - acc: 0.4171 - val_loss: 0.6687 - val_acc: 0.4359\n",
      "Epoch 18/100\n",
      "700/700 [==============================] - 0s - loss: 0.6437 - acc: 0.4343 - val_loss: 0.6676 - val_acc: 0.4615\n",
      "Epoch 19/100\n",
      "700/700 [==============================] - 0s - loss: 0.6422 - acc: 0.4529 - val_loss: 0.6667 - val_acc: 0.4615\n",
      "Epoch 20/100\n",
      "700/700 [==============================] - 0s - loss: 0.6406 - acc: 0.4614 - val_loss: 0.6658 - val_acc: 0.4615\n",
      "Epoch 21/100\n",
      "700/700 [==============================] - 0s - loss: 0.6391 - acc: 0.4686 - val_loss: 0.6650 - val_acc: 0.4744\n",
      "Epoch 22/100\n",
      "700/700 [==============================] - 0s - loss: 0.6377 - acc: 0.4857 - val_loss: 0.6642 - val_acc: 0.4744\n",
      "Epoch 23/100\n",
      "700/700 [==============================] - 0s - loss: 0.6362 - acc: 0.4957 - val_loss: 0.6638 - val_acc: 0.4872\n",
      "Epoch 24/100\n",
      "700/700 [==============================] - 0s - loss: 0.6348 - acc: 0.5171 - val_loss: 0.6632 - val_acc: 0.4872\n",
      "Epoch 25/100\n",
      "700/700 [==============================] - 0s - loss: 0.6335 - acc: 0.5257 - val_loss: 0.6626 - val_acc: 0.4872\n",
      "Epoch 26/100\n",
      "700/700 [==============================] - 0s - loss: 0.6322 - acc: 0.5443 - val_loss: 0.6622 - val_acc: 0.5000\n",
      "Epoch 27/100\n",
      "700/700 [==============================] - 0s - loss: 0.6309 - acc: 0.5486 - val_loss: 0.6617 - val_acc: 0.5000\n",
      "Epoch 28/100\n",
      "700/700 [==============================] - 0s - loss: 0.6296 - acc: 0.5586 - val_loss: 0.6612 - val_acc: 0.5000\n",
      "Epoch 29/100\n",
      "700/700 [==============================] - 0s - loss: 0.6283 - acc: 0.5671 - val_loss: 0.6607 - val_acc: 0.5000\n",
      "Epoch 30/100\n",
      "700/700 [==============================] - 0s - loss: 0.6271 - acc: 0.5757 - val_loss: 0.6604 - val_acc: 0.5000\n",
      "Epoch 31/100\n",
      "700/700 [==============================] - 0s - loss: 0.6259 - acc: 0.5871 - val_loss: 0.6602 - val_acc: 0.5128\n",
      "Epoch 32/100\n",
      "700/700 [==============================] - 0s - loss: 0.6247 - acc: 0.5900 - val_loss: 0.6601 - val_acc: 0.5256\n",
      "Epoch 33/100\n",
      "700/700 [==============================] - 0s - loss: 0.6235 - acc: 0.5943 - val_loss: 0.6599 - val_acc: 0.5385\n",
      "Epoch 34/100\n",
      "700/700 [==============================] - 0s - loss: 0.6224 - acc: 0.6157 - val_loss: 0.6598 - val_acc: 0.5385\n",
      "Epoch 35/100\n",
      "700/700 [==============================] - 0s - loss: 0.6213 - acc: 0.6071 - val_loss: 0.6598 - val_acc: 0.5385\n",
      "Epoch 36/100\n",
      "700/700 [==============================] - 0s - loss: 0.6203 - acc: 0.6157 - val_loss: 0.6595 - val_acc: 0.5513\n",
      "Epoch 37/100\n",
      "700/700 [==============================] - 0s - loss: 0.6191 - acc: 0.6071 - val_loss: 0.6594 - val_acc: 0.5513\n",
      "Epoch 38/100\n",
      "700/700 [==============================] - 0s - loss: 0.6180 - acc: 0.6100 - val_loss: 0.6595 - val_acc: 0.5769\n",
      "Epoch 39/100\n",
      "700/700 [==============================] - 0s - loss: 0.6169 - acc: 0.6171 - val_loss: 0.6596 - val_acc: 0.5769\n",
      "Epoch 40/100\n",
      "700/700 [==============================] - 0s - loss: 0.6159 - acc: 0.6214 - val_loss: 0.6596 - val_acc: 0.5769\n",
      "Epoch 41/100\n",
      "700/700 [==============================] - 0s - loss: 0.6148 - acc: 0.6243 - val_loss: 0.6597 - val_acc: 0.5769\n",
      "Epoch 42/100\n",
      "700/700 [==============================] - 0s - loss: 0.6139 - acc: 0.6229 - val_loss: 0.6599 - val_acc: 0.5769\n",
      "Epoch 43/100\n",
      "700/700 [==============================] - 0s - loss: 0.6128 - acc: 0.6229 - val_loss: 0.6597 - val_acc: 0.5769\n",
      "Epoch 44/100\n",
      "700/700 [==============================] - 0s - loss: 0.6119 - acc: 0.6314 - val_loss: 0.6600 - val_acc: 0.5897\n",
      "Epoch 45/100\n",
      "700/700 [==============================] - 0s - loss: 0.6109 - acc: 0.6329 - val_loss: 0.6602 - val_acc: 0.5897\n",
      "Epoch 46/100\n",
      "700/700 [==============================] - 0s - loss: 0.6099 - acc: 0.6300 - val_loss: 0.6603 - val_acc: 0.5897\n",
      "Epoch 47/100\n",
      "700/700 [==============================] - 0s - loss: 0.6089 - acc: 0.6443 - val_loss: 0.6604 - val_acc: 0.5897\n",
      "Epoch 48/100\n",
      "700/700 [==============================] - 0s - loss: 0.6081 - acc: 0.6371 - val_loss: 0.6604 - val_acc: 0.5897\n",
      "Epoch 49/100\n",
      "700/700 [==============================] - 0s - loss: 0.6071 - acc: 0.6371 - val_loss: 0.6605 - val_acc: 0.5897\n",
      "Epoch 50/100\n",
      "700/700 [==============================] - 0s - loss: 0.6062 - acc: 0.6414 - val_loss: 0.6608 - val_acc: 0.6026\n",
      "Epoch 51/100\n",
      "700/700 [==============================] - 0s - loss: 0.6053 - acc: 0.6457 - val_loss: 0.6609 - val_acc: 0.6026\n",
      "Epoch 52/100\n",
      "700/700 [==============================] - 0s - loss: 0.6043 - acc: 0.6500 - val_loss: 0.6612 - val_acc: 0.6026\n",
      "Epoch 53/100\n",
      "700/700 [==============================] - 0s - loss: 0.6034 - acc: 0.6429 - val_loss: 0.6611 - val_acc: 0.6026\n",
      "Epoch 54/100\n",
      "700/700 [==============================] - 0s - loss: 0.6025 - acc: 0.6529 - val_loss: 0.6614 - val_acc: 0.6026\n",
      "Epoch 55/100\n",
      "700/700 [==============================] - 0s - loss: 0.6017 - acc: 0.6443 - val_loss: 0.6617 - val_acc: 0.6026\n",
      "Epoch 56/100\n",
      "700/700 [==============================] - 0s - loss: 0.6008 - acc: 0.6486 - val_loss: 0.6619 - val_acc: 0.6154\n",
      "Epoch 57/100\n",
      "700/700 [==============================] - 0s - loss: 0.6000 - acc: 0.6543 - val_loss: 0.6619 - val_acc: 0.6154\n",
      "Epoch 58/100\n",
      "700/700 [==============================] - 0s - loss: 0.5990 - acc: 0.6500 - val_loss: 0.6622 - val_acc: 0.6154\n",
      "Epoch 59/100\n",
      "700/700 [==============================] - 0s - loss: 0.5983 - acc: 0.6514 - val_loss: 0.6626 - val_acc: 0.6154\n",
      "Epoch 60/100\n",
      "700/700 [==============================] - 0s - loss: 0.5973 - acc: 0.6557 - val_loss: 0.6626 - val_acc: 0.6154\n",
      "Epoch 61/100\n",
      "700/700 [==============================] - 0s - loss: 0.5965 - acc: 0.6543 - val_loss: 0.6628 - val_acc: 0.6154\n",
      "Epoch 62/100\n",
      "700/700 [==============================] - 0s - loss: 0.5956 - acc: 0.6600 - val_loss: 0.6629 - val_acc: 0.6154\n",
      "Epoch 63/100\n",
      "700/700 [==============================] - 0s - loss: 0.5948 - acc: 0.6514 - val_loss: 0.6630 - val_acc: 0.6154\n",
      "Epoch 64/100\n",
      "700/700 [==============================] - 0s - loss: 0.5940 - acc: 0.6514 - val_loss: 0.6633 - val_acc: 0.6154\n",
      "Epoch 65/100\n",
      "700/700 [==============================] - 0s - loss: 0.5931 - acc: 0.6500 - val_loss: 0.6638 - val_acc: 0.6154\n",
      "Epoch 66/100\n",
      "700/700 [==============================] - 0s - loss: 0.5923 - acc: 0.6557 - val_loss: 0.6641 - val_acc: 0.6154\n",
      "Epoch 67/100\n",
      "700/700 [==============================] - 0s - loss: 0.5915 - acc: 0.6571 - val_loss: 0.6644 - val_acc: 0.6154\n",
      "Epoch 68/100\n",
      "700/700 [==============================] - 0s - loss: 0.5906 - acc: 0.6600 - val_loss: 0.6643 - val_acc: 0.6154\n",
      "Epoch 69/100\n",
      "700/700 [==============================] - 0s - loss: 0.5899 - acc: 0.6571 - val_loss: 0.6649 - val_acc: 0.6282\n",
      "Epoch 70/100\n",
      "700/700 [==============================] - 0s - loss: 0.5891 - acc: 0.6629 - val_loss: 0.6648 - val_acc: 0.6282\n",
      "Epoch 71/100\n",
      "700/700 [==============================] - 0s - loss: 0.5884 - acc: 0.6571 - val_loss: 0.6651 - val_acc: 0.6282\n",
      "Epoch 72/100\n",
      "700/700 [==============================] - 0s - loss: 0.5876 - acc: 0.6600 - val_loss: 0.6654 - val_acc: 0.6282\n",
      "Epoch 73/100\n",
      "700/700 [==============================] - 0s - loss: 0.5869 - acc: 0.6657 - val_loss: 0.6655 - val_acc: 0.6282\n",
      "Epoch 74/100\n",
      "700/700 [==============================] - 0s - loss: 0.5862 - acc: 0.6614 - val_loss: 0.6659 - val_acc: 0.6282\n",
      "Epoch 75/100\n",
      "700/700 [==============================] - 0s - loss: 0.5855 - acc: 0.6629 - val_loss: 0.6662 - val_acc: 0.6282\n",
      "Epoch 76/100\n",
      "700/700 [==============================] - 0s - loss: 0.5848 - acc: 0.6629 - val_loss: 0.6663 - val_acc: 0.6282\n",
      "Epoch 77/100\n",
      "700/700 [==============================] - 0s - loss: 0.5840 - acc: 0.6686 - val_loss: 0.6665 - val_acc: 0.6282\n",
      "Epoch 78/100\n",
      "700/700 [==============================] - 0s - loss: 0.5834 - acc: 0.6686 - val_loss: 0.6670 - val_acc: 0.6282\n",
      "Epoch 79/100\n",
      "700/700 [==============================] - 0s - loss: 0.5826 - acc: 0.6714 - val_loss: 0.6673 - val_acc: 0.6410\n",
      "Epoch 80/100\n",
      "700/700 [==============================] - 0s - loss: 0.5820 - acc: 0.6657 - val_loss: 0.6678 - val_acc: 0.6410\n",
      "Epoch 81/100\n",
      "700/700 [==============================] - 0s - loss: 0.5813 - acc: 0.6686 - val_loss: 0.6678 - val_acc: 0.6538\n",
      "Epoch 82/100\n",
      "700/700 [==============================] - 0s - loss: 0.5805 - acc: 0.6643 - val_loss: 0.6683 - val_acc: 0.6538\n",
      "Epoch 83/100\n",
      "700/700 [==============================] - 0s - loss: 0.5799 - acc: 0.6686 - val_loss: 0.6687 - val_acc: 0.6538\n",
      "Epoch 84/100\n",
      "700/700 [==============================] - 0s - loss: 0.5792 - acc: 0.6729 - val_loss: 0.6692 - val_acc: 0.6538\n",
      "Epoch 85/100\n",
      "700/700 [==============================] - 0s - loss: 0.5784 - acc: 0.6700 - val_loss: 0.6694 - val_acc: 0.6538\n",
      "Epoch 86/100\n",
      "700/700 [==============================] - 0s - loss: 0.5778 - acc: 0.6729 - val_loss: 0.6697 - val_acc: 0.6538\n",
      "Epoch 87/100\n",
      "700/700 [==============================] - 0s - loss: 0.5771 - acc: 0.6743 - val_loss: 0.6699 - val_acc: 0.6410\n",
      "Epoch 88/100\n",
      "700/700 [==============================] - 0s - loss: 0.5765 - acc: 0.6743 - val_loss: 0.6703 - val_acc: 0.6667\n",
      "Epoch 89/100\n",
      "700/700 [==============================] - 0s - loss: 0.5758 - acc: 0.6757 - val_loss: 0.6707 - val_acc: 0.6538\n",
      "Epoch 90/100\n",
      "700/700 [==============================] - 0s - loss: 0.5751 - acc: 0.6743 - val_loss: 0.6709 - val_acc: 0.6795\n",
      "Epoch 91/100\n",
      "700/700 [==============================] - 0s - loss: 0.5745 - acc: 0.6729 - val_loss: 0.6712 - val_acc: 0.6795\n",
      "Epoch 92/100\n",
      "700/700 [==============================] - 0s - loss: 0.5738 - acc: 0.6786 - val_loss: 0.6712 - val_acc: 0.6667\n",
      "Epoch 93/100\n",
      "700/700 [==============================] - 0s - loss: 0.5731 - acc: 0.6729 - val_loss: 0.6715 - val_acc: 0.6667\n",
      "Epoch 94/100\n",
      "700/700 [==============================] - 0s - loss: 0.5725 - acc: 0.6714 - val_loss: 0.6717 - val_acc: 0.6923\n",
      "Epoch 95/100\n",
      "700/700 [==============================] - 0s - loss: 0.5718 - acc: 0.6757 - val_loss: 0.6718 - val_acc: 0.6923\n",
      "Epoch 96/100\n",
      "700/700 [==============================] - 0s - loss: 0.5712 - acc: 0.6729 - val_loss: 0.6721 - val_acc: 0.6923\n",
      "Epoch 97/100\n",
      "700/700 [==============================] - 0s - loss: 0.5705 - acc: 0.6771 - val_loss: 0.6725 - val_acc: 0.6923\n",
      "Epoch 98/100\n",
      "700/700 [==============================] - 0s - loss: 0.5699 - acc: 0.6700 - val_loss: 0.6727 - val_acc: 0.7051\n",
      "Epoch 99/100\n",
      "700/700 [==============================] - 0s - loss: 0.5692 - acc: 0.6743 - val_loss: 0.6729 - val_acc: 0.7051\n",
      "Epoch 100/100\n",
      "700/700 [==============================] - 0s - loss: 0.5686 - acc: 0.6743 - val_loss: 0.6734 - val_acc: 0.7051\n"
     ]
    }
   ],
   "source": [
    "epoch = 100\n",
    "result = my_lstm.train(x_train, y_train, batch_size=50, epoch=epoch, validation_split=0.1)"
   ]
  },
  {
   "cell_type": "code",
   "execution_count": 167,
   "metadata": {
    "collapsed": false
   },
   "outputs": [
    {
     "name": "stdout",
     "output_type": "stream",
     "text": [
      "accuracy for 1 th dim: 0.726708\n",
      "accuracy for 2 th dim: 0.642857\n",
      "accuracy for 3 th dim: 0.614907\n",
      "accuracy for 4 th dim: 0.549689\n",
      "accuracy for 5 th dim: 0.565217\n",
      "accuracy for 6 th dim: 0.506211\n",
      "accuracy for ALL: 0.133540\n"
     ]
    }
   ],
   "source": [
    "acc_ls, acc_all = my_lstm.test(x_test, y_test)\n",
    "for i, acc_ in enumerate(acc_ls):\n",
    "    print 'accuracy for %s th dim: %f' % (i + 1, acc_)\n",
    "print 'accuracy for ALL: %f' % acc_all"
   ]
  },
  {
   "cell_type": "code",
   "execution_count": 128,
   "metadata": {
    "collapsed": false
   },
   "outputs": [
    {
     "data": {
      "image/png": "[encoded data removed]",
      "text/plain": [
       "<matplotlib.figure.Figure at 0x197f47710>"
      ]
     },
     "metadata": {},
     "output_type": "display_data"
    }
   ],
   "source": [
    "my_lstm.visualize_acc(result=result, epoch=epoch)"
   ]
  },
  {
   "cell_type": "code",
   "execution_count": 129,
   "metadata": {
    "collapsed": false
   },
   "outputs": [
    {
     "data": {
      "image/png": "[encoded data removed]",
      "text/plain": [
       "<matplotlib.figure.Figure at 0x197651050>"
      ]
     },
     "metadata": {},
     "output_type": "display_data"
    }
   ],
   "source": [
    "my_lstm.visualize_loss(result=result, epoch=epoch)"
   ]
  },
  {
   "cell_type": "markdown",
   "metadata": {
    "collapsed": true
   },
   "source": [
    "## kNN"
   ]
  },
  {
   "cell_type": "code",
   "execution_count": 90,
   "metadata": {
    "collapsed": true
   },
   "outputs": [],
   "source": [
    "from sklearn import neighbors"
   ]
  },
  {
   "cell_type": "markdown",
   "metadata": {},
   "source": [
    "### data load for kNN"
   ]
  },
  {
   "cell_type": "code",
   "execution_count": 277,
   "metadata": {
    "collapsed": false
   },
   "outputs": [],
   "source": [
    "output_dim = 6\n",
    "train, test, target = base_data_manager.load_normal_representation_data(data_type='balance', category_name='ajax', output_dim=output_dim)"
   ]
  },
  {
   "cell_type": "code",
   "execution_count": 278,
   "metadata": {
    "collapsed": false
   },
   "outputs": [
    {
     "data": {
      "text/plain": [
       "KNeighborsClassifier(algorithm='auto', leaf_size=30, metric='minkowski',\n",
       "           metric_params=None, n_jobs=1, n_neighbors=1, p=2,\n",
       "           weights='uniform')"
      ]
     },
     "execution_count": 278,
     "metadata": {},
     "output_type": "execute_result"
    }
   ],
   "source": [
    "clf = neighbors.KNeighborsClassifier(n_neighbors=1, weights='uniform')\n",
    "clf.fit(train['x'], train['y'])"
   ]
  },
  {
   "cell_type": "code",
   "execution_count": 279,
   "metadata": {
    "collapsed": false
   },
   "outputs": [
    {
     "name": "stdout",
     "output_type": "stream",
     "text": [
      "accuracy for 1 th dim: 0.658385\n",
      "accuracy for 2 th dim: 0.531056\n",
      "accuracy for 3 th dim: 0.524845\n",
      "accuracy for 4 th dim: 0.503106\n",
      "accuracy for 5 th dim: 0.552795\n",
      "accuracy for 6 th dim: 0.540373\n"
     ]
    }
   ],
   "source": [
    "preds = clf.predict(test['x'])\n",
    "\n",
    "acc_ls = []\n",
    "for i in xrange(output_dim):\n",
    "    pred = preds[:, i]\n",
    "    ans = test['y'][:, i]\n",
    "    sum_, all_ = 0, 0\n",
    "    for pred_, ans_ in zip(pred, ans):\n",
    "        if abs(pred_ - ans_) == 0:\n",
    "            sum_ += 1.0\n",
    "        all_ += 1.0\n",
    "    acc_ls.append(sum_ / all_)\n",
    "\n",
    "for i, acc_ in enumerate(acc_ls):\n",
    "    print 'accuracy for %s th dim: %f' % (i + 1, acc_)"
   ]
  },
  {
   "cell_type": "code",
   "execution_count": 280,
   "metadata": {
    "collapsed": false
   },
   "outputs": [],
   "source": [
    "acc_all, acc_sum, res = 0.0, 0.0, []\n",
    "for pred, y_test_ in zip(preds, test['y']):\n",
    "    res = pred == y_test_\n",
    "    acc_sum += 1.0\n",
    "    if res.all():\n",
    "        acc_all += 1.0\n",
    "acc_all = acc_all / acc_sum"
   ]
  },
  {
   "cell_type": "code",
   "execution_count": 281,
   "metadata": {
    "collapsed": false
   },
   "outputs": [
    {
     "data": {
      "text/plain": [
       "0.06832298136645963"
      ]
     },
     "execution_count": 281,
     "metadata": {},
     "output_type": "execute_result"
    }
   ],
   "source": [
    "acc_all"
   ]
  },
  {
   "cell_type": "markdown",
   "metadata": {},
   "source": [
    "## seq2seq"
   ]
  },
  {
   "cell_type": "code",
   "execution_count": 14,
   "metadata": {
    "collapsed": true
   },
   "outputs": [],
   "source": [
    "import seq2seq\n",
    "from seq2seq.models import SimpleSeq2seq"
   ]
  },
  {
   "cell_type": "markdown",
   "metadata": {},
   "source": [
    "### data load for SimpleSeq2Seq"
   ]
  },
  {
   "cell_type": "code",
   "execution_count": 357,
   "metadata": {
    "collapsed": false
   },
   "outputs": [],
   "source": [
    "output_dim = 1\n",
    "train, test, target = base_data_manager.load_normal_representation_data(data_type='balance', category_name='ajax', output_dim=output_dim)\n",
    "base_estimator.param_new(rows=1, cols=30, output_dim=6)\n",
    "x_train, y_train, x_test, y_test = base_estimator.data_transform(train, test)\n",
    "y_train = y_train.reshape(y_train.shape[0], 1, output_dim)"
   ]
  },
  {
   "cell_type": "markdown",
   "metadata": {},
   "source": [
    "### model"
   ]
  },
  {
   "cell_type": "code",
   "execution_count": 358,
   "metadata": {
    "collapsed": true
   },
   "outputs": [],
   "source": [
    "model = SimpleSeq2seq(input_dim=30, hidden_dim=10, output_length=1, output_dim=output_dim)\n",
    "model.compile(loss='mse', optimizer='rmsprop')"
   ]
  },
  {
   "cell_type": "code",
   "execution_count": 359,
   "metadata": {
    "collapsed": false
   },
   "outputs": [
    {
     "data": {
      "image/svg+xml": [
       "<svg height=\"450pt\" viewBox=\"0.00 0.00 380.96 450.00\" width=\"381pt\" xmlns=\"http://www.w3.org/2000/svg\" xmlns:xlink=\"http://www.w3.org/1999/xlink\">\n",
       "<g class=\"graph\" id=\"graph0\" transform=\"scale(1 1) rotate(0) translate(4 446)\">\n",
       "<title>G</title>\n",
       "<polygon fill=\"white\" points=\"-4,4 -4,-446 376.96,-446 376.96,4 -4,4\" stroke=\"none\"/>\n",
       "<!-- 7908034192 -->\n",
       "<g class=\"node\" id=\"node1\"><title>7908034192</title>\n",
       "<polygon fill=\"none\" points=\"46.0195,-324.5 46.0195,-368.5 326.94,-368.5 326.94,-324.5 46.0195,-324.5\" stroke=\"black\"/>\n",
       "<text font-family=\"Times,serif\" font-size=\"14.00\" text-anchor=\"middle\" x=\"101.659\" y=\"-342.3\">lstm_69 (LSTM)</text>\n",
       "<polyline fill=\"none\" points=\"157.299,-324.5 157.299,-368.5 \" stroke=\"black\"/>\n",
       "<text font-family=\"Times,serif\" font-size=\"14.00\" text-anchor=\"middle\" x=\"185.133\" y=\"-353.3\">input:</text>\n",
       "<polyline fill=\"none\" points=\"157.299,-346.5 212.968,-346.5 \" stroke=\"black\"/>\n",
       "<text font-family=\"Times,serif\" font-size=\"14.00\" text-anchor=\"middle\" x=\"185.133\" y=\"-331.3\">output:</text>\n",
       "<polyline fill=\"none\" points=\"212.968,-324.5 212.968,-368.5 \" stroke=\"black\"/>\n",
       "<text font-family=\"Times,serif\" font-size=\"14.00\" text-anchor=\"middle\" x=\"269.954\" y=\"-353.3\">(None, None, 30)</text>\n",
       "<polyline fill=\"none\" points=\"212.968,-346.5 326.94,-346.5 \" stroke=\"black\"/>\n",
       "<text font-family=\"Times,serif\" font-size=\"14.00\" text-anchor=\"middle\" x=\"269.792\" y=\"-331.3\">(None, 10)</text>\n",
       "</g>\n",
       "<!-- 7925716112 -->\n",
       "<g class=\"node\" id=\"node2\"><title>7925716112</title>\n",
       "<polygon fill=\"none\" points=\"47.0586,-243.5 47.0586,-287.5 325.901,-287.5 325.901,-243.5 47.0586,-243.5\" stroke=\"black\"/>\n",
       "<text font-family=\"Times,serif\" font-size=\"14.00\" text-anchor=\"middle\" x=\"120.321\" y=\"-261.3\">dropout_117 (Dropout)</text>\n",
       "<polyline fill=\"none\" points=\"193.584,-243.5 193.584,-287.5 \" stroke=\"black\"/>\n",
       "<text font-family=\"Times,serif\" font-size=\"14.00\" text-anchor=\"middle\" x=\"221.418\" y=\"-272.3\">input:</text>\n",
       "<polyline fill=\"none\" points=\"193.584,-265.5 249.253,-265.5 \" stroke=\"black\"/>\n",
       "<text font-family=\"Times,serif\" font-size=\"14.00\" text-anchor=\"middle\" x=\"221.418\" y=\"-250.3\">output:</text>\n",
       "<polyline fill=\"none\" points=\"249.253,-243.5 249.253,-287.5 \" stroke=\"black\"/>\n",
       "<text font-family=\"Times,serif\" font-size=\"14.00\" text-anchor=\"middle\" x=\"287.577\" y=\"-272.3\">(None, 10)</text>\n",
       "<polyline fill=\"none\" points=\"249.253,-265.5 325.901,-265.5 \" stroke=\"black\"/>\n",
       "<text font-family=\"Times,serif\" font-size=\"14.00\" text-anchor=\"middle\" x=\"287.577\" y=\"-250.3\">(None, 10)</text>\n",
       "</g>\n",
       "<!-- 7908034192&#45;&gt;7925716112 -->\n",
       "<g class=\"edge\" id=\"edge2\"><title>7908034192-&gt;7925716112</title>\n",
       "<path d=\"M186.48,-324.329C186.48,-316.183 186.48,-306.699 186.48,-297.797\" fill=\"none\" stroke=\"black\"/>\n",
       "<polygon fill=\"black\" points=\"189.98,-297.729 186.48,-287.729 182.98,-297.729 189.98,-297.729\" stroke=\"black\"/>\n",
       "</g>\n",
       "<!-- 7894768528 -->\n",
       "<g class=\"node\" id=\"node3\"><title>7894768528</title>\n",
       "<polygon fill=\"none\" points=\"16.1191,-162.5 16.1191,-206.5 356.841,-206.5 356.841,-162.5 16.1191,-162.5\" stroke=\"black\"/>\n",
       "<text font-family=\"Times,serif\" font-size=\"14.00\" text-anchor=\"middle\" x=\"113.321\" y=\"-180.3\">repeatvector_18 (RepeatVector)</text>\n",
       "<polyline fill=\"none\" points=\"210.523,-162.5 210.523,-206.5 \" stroke=\"black\"/>\n",
       "<text font-family=\"Times,serif\" font-size=\"14.00\" text-anchor=\"middle\" x=\"238.358\" y=\"-191.3\">input:</text>\n",
       "<polyline fill=\"none\" points=\"210.523,-184.5 266.192,-184.5 \" stroke=\"black\"/>\n",
       "<text font-family=\"Times,serif\" font-size=\"14.00\" text-anchor=\"middle\" x=\"238.358\" y=\"-169.3\">output:</text>\n",
       "<polyline fill=\"none\" points=\"266.192,-162.5 266.192,-206.5 \" stroke=\"black\"/>\n",
       "<text font-family=\"Times,serif\" font-size=\"14.00\" text-anchor=\"middle\" x=\"311.517\" y=\"-191.3\">(None, 10)</text>\n",
       "<polyline fill=\"none\" points=\"266.192,-184.5 356.841,-184.5 \" stroke=\"black\"/>\n",
       "<text font-family=\"Times,serif\" font-size=\"14.00\" text-anchor=\"middle\" x=\"311.517\" y=\"-169.3\">(None, 1, 10)</text>\n",
       "</g>\n",
       "<!-- 7925716112&#45;&gt;7894768528 -->\n",
       "<g class=\"edge\" id=\"edge3\"><title>7925716112-&gt;7894768528</title>\n",
       "<path d=\"M186.48,-243.329C186.48,-235.183 186.48,-225.699 186.48,-216.797\" fill=\"none\" stroke=\"black\"/>\n",
       "<polygon fill=\"black\" points=\"189.98,-216.729 186.48,-206.729 182.98,-216.729 189.98,-216.729\" stroke=\"black\"/>\n",
       "</g>\n",
       "<!-- 7908034832 -->\n",
       "<g class=\"node\" id=\"node4\"><title>7908034832</title>\n",
       "<polygon fill=\"none\" points=\"57.6816,-81.5 57.6816,-125.5 315.278,-125.5 315.278,-81.5 57.6816,-81.5\" stroke=\"black\"/>\n",
       "<text font-family=\"Times,serif\" font-size=\"14.00\" text-anchor=\"middle\" x=\"113.321\" y=\"-99.3\">lstm_70 (LSTM)</text>\n",
       "<polyline fill=\"none\" points=\"168.961,-81.5 168.961,-125.5 \" stroke=\"black\"/>\n",
       "<text font-family=\"Times,serif\" font-size=\"14.00\" text-anchor=\"middle\" x=\"196.795\" y=\"-110.3\">input:</text>\n",
       "<polyline fill=\"none\" points=\"168.961,-103.5 224.63,-103.5 \" stroke=\"black\"/>\n",
       "<text font-family=\"Times,serif\" font-size=\"14.00\" text-anchor=\"middle\" x=\"196.795\" y=\"-88.3\">output:</text>\n",
       "<polyline fill=\"none\" points=\"224.63,-81.5 224.63,-125.5 \" stroke=\"black\"/>\n",
       "<text font-family=\"Times,serif\" font-size=\"14.00\" text-anchor=\"middle\" x=\"269.954\" y=\"-110.3\">(None, 1, 10)</text>\n",
       "<polyline fill=\"none\" points=\"224.63,-103.5 315.278,-103.5 \" stroke=\"black\"/>\n",
       "<text font-family=\"Times,serif\" font-size=\"14.00\" text-anchor=\"middle\" x=\"269.954\" y=\"-88.3\">(None, 1, 10)</text>\n",
       "</g>\n",
       "<!-- 7894768528&#45;&gt;7908034832 -->\n",
       "<g class=\"edge\" id=\"edge4\"><title>7894768528-&gt;7908034832</title>\n",
       "<path d=\"M186.48,-162.329C186.48,-154.183 186.48,-144.699 186.48,-135.797\" fill=\"none\" stroke=\"black\"/>\n",
       "<polygon fill=\"black\" points=\"189.98,-135.729 186.48,-125.729 182.98,-135.729 189.98,-135.729\" stroke=\"black\"/>\n",
       "</g>\n",
       "<!-- 7846402256 -->\n",
       "<g class=\"node\" id=\"node5\"><title>7846402256</title>\n",
       "<polygon fill=\"none\" points=\"0,-0.5 0,-44.5 372.96,-44.5 372.96,-0.5 0,-0.5\" stroke=\"black\"/>\n",
       "<text font-family=\"Times,serif\" font-size=\"14.00\" text-anchor=\"middle\" x=\"113.321\" y=\"-18.3\">timedistributed_34 (TimeDistributed)</text>\n",
       "<polyline fill=\"none\" points=\"226.643,-0.5 226.643,-44.5 \" stroke=\"black\"/>\n",
       "<text font-family=\"Times,serif\" font-size=\"14.00\" text-anchor=\"middle\" x=\"254.477\" y=\"-29.3\">input:</text>\n",
       "<polyline fill=\"none\" points=\"226.643,-22.5 282.312,-22.5 \" stroke=\"black\"/>\n",
       "<text font-family=\"Times,serif\" font-size=\"14.00\" text-anchor=\"middle\" x=\"254.477\" y=\"-7.3\">output:</text>\n",
       "<polyline fill=\"none\" points=\"282.312,-0.5 282.312,-44.5 \" stroke=\"black\"/>\n",
       "<text font-family=\"Times,serif\" font-size=\"14.00\" text-anchor=\"middle\" x=\"327.636\" y=\"-29.3\">(None, 1, 10)</text>\n",
       "<polyline fill=\"none\" points=\"282.312,-22.5 372.96,-22.5 \" stroke=\"black\"/>\n",
       "<text font-family=\"Times,serif\" font-size=\"14.00\" text-anchor=\"middle\" x=\"327.636\" y=\"-7.3\">(None, 1, 1)</text>\n",
       "</g>\n",
       "<!-- 7908034832&#45;&gt;7846402256 -->\n",
       "<g class=\"edge\" id=\"edge5\"><title>7908034832-&gt;7846402256</title>\n",
       "<path d=\"M186.48,-81.3294C186.48,-73.1826 186.48,-63.6991 186.48,-54.7971\" fill=\"none\" stroke=\"black\"/>\n",
       "<polygon fill=\"black\" points=\"189.98,-54.729 186.48,-44.729 182.98,-54.729 189.98,-54.729\" stroke=\"black\"/>\n",
       "</g>\n",
       "<!-- 7908034384 -->\n",
       "<g class=\"node\" id=\"node6\"><title>7908034384</title>\n",
       "<polygon fill=\"none\" points=\"143.48,-405.5 143.48,-441.5 229.48,-441.5 229.48,-405.5 143.48,-405.5\" stroke=\"black\"/>\n",
       "<text font-family=\"Times,serif\" font-size=\"14.00\" text-anchor=\"middle\" x=\"186.48\" y=\"-419.3\">7908034384</text>\n",
       "</g>\n",
       "<!-- 7908034384&#45;&gt;7908034192 -->\n",
       "<g class=\"edge\" id=\"edge1\"><title>7908034384-&gt;7908034192</title>\n",
       "<path d=\"M186.48,-405.481C186.48,-397.653 186.48,-388.108 186.48,-379.039\" fill=\"none\" stroke=\"black\"/>\n",
       "<polygon fill=\"black\" points=\"189.98,-378.744 186.48,-368.744 182.98,-378.744 189.98,-378.744\" stroke=\"black\"/>\n",
       "</g>\n",
       "</g>\n",
       "</svg>"
      ],
      "text/plain": [
       "<IPython.core.display.SVG object>"
      ]
     },
     "execution_count": 359,
     "metadata": {},
     "output_type": "execute_result"
    }
   ],
   "source": [
    "SVG(model_to_dot(model, show_shapes=True).create(prog='dot', format='svg'))"
   ]
  },
  {
   "cell_type": "code",
   "execution_count": 360,
   "metadata": {
    "collapsed": false,
    "scrolled": true
   },
   "outputs": [
    {
     "name": "stdout",
     "output_type": "stream",
     "text": [
      "Train on 3239 samples, validate on 360 samples\n",
      "Epoch 1/50\n",
      "3239/3239 [==============================] - 0s - loss: 0.2868 - val_loss: 0.2135\n",
      "Epoch 2/50\n",
      "3239/3239 [==============================] - 0s - loss: 0.2205 - val_loss: 0.1971\n",
      "Epoch 3/50\n",
      "3239/3239 [==============================] - 0s - loss: 0.2131 - val_loss: 0.1959\n",
      "Epoch 4/50\n",
      "3239/3239 [==============================] - 0s - loss: 0.2091 - val_loss: 0.1945\n",
      "Epoch 5/50\n",
      "3239/3239 [==============================] - 0s - loss: 0.2077 - val_loss: 0.1953\n",
      "Epoch 6/50\n",
      "3239/3239 [==============================] - 0s - loss: 0.2091 - val_loss: 0.1956\n",
      "Epoch 7/50\n",
      "3239/3239 [==============================] - 0s - loss: 0.2027 - val_loss: 0.1948\n",
      "Epoch 8/50\n",
      "3239/3239 [==============================] - 0s - loss: 0.2002 - val_loss: 0.1949\n",
      "Epoch 9/50\n",
      "3239/3239 [==============================] - 0s - loss: 0.2006 - val_loss: 0.1964\n",
      "Epoch 10/50\n",
      "3239/3239 [==============================] - 0s - loss: 0.1986 - val_loss: 0.1960\n",
      "Epoch 11/50\n",
      "3239/3239 [==============================] - 0s - loss: 0.1982 - val_loss: 0.1940\n",
      "Epoch 12/50\n",
      "3239/3239 [==============================] - 0s - loss: 0.1973 - val_loss: 0.1912\n",
      "Epoch 13/50\n",
      "3239/3239 [==============================] - 0s - loss: 0.1972 - val_loss: 0.1924\n",
      "Epoch 14/50\n",
      "3239/3239 [==============================] - 0s - loss: 0.1940 - val_loss: 0.1911\n",
      "Epoch 15/50\n",
      "3239/3239 [==============================] - 0s - loss: 0.1936 - val_loss: 0.1898\n",
      "Epoch 16/50\n",
      "3239/3239 [==============================] - 0s - loss: 0.1913 - val_loss: 0.1893\n",
      "Epoch 17/50\n",
      "3239/3239 [==============================] - 0s - loss: 0.1931 - val_loss: 0.1918\n",
      "Epoch 18/50\n",
      "3239/3239 [==============================] - 0s - loss: 0.1913 - val_loss: 0.1887\n",
      "Epoch 19/50\n",
      "3239/3239 [==============================] - 0s - loss: 0.1892 - val_loss: 0.1886\n",
      "Epoch 20/50\n",
      "3239/3239 [==============================] - 0s - loss: 0.1894 - val_loss: 0.1913\n",
      "Epoch 21/50\n",
      "3239/3239 [==============================] - 0s - loss: 0.1878 - val_loss: 0.1891\n",
      "Epoch 22/50\n",
      "3239/3239 [==============================] - 0s - loss: 0.1884 - val_loss: 0.1887\n",
      "Epoch 23/50\n",
      "3239/3239 [==============================] - 0s - loss: 0.1889 - val_loss: 0.1890\n",
      "Epoch 24/50\n",
      "3239/3239 [==============================] - 0s - loss: 0.1892 - val_loss: 0.1884\n",
      "Epoch 25/50\n",
      "3239/3239 [==============================] - 0s - loss: 0.1837 - val_loss: 0.1885\n",
      "Epoch 26/50\n",
      "3239/3239 [==============================] - 0s - loss: 0.1846 - val_loss: 0.1877\n",
      "Epoch 27/50\n",
      "3239/3239 [==============================] - 0s - loss: 0.1846 - val_loss: 0.1880\n",
      "Epoch 28/50\n",
      "3239/3239 [==============================] - 0s - loss: 0.1870 - val_loss: 0.1877\n",
      "Epoch 29/50\n",
      "3239/3239 [==============================] - 0s - loss: 0.1848 - val_loss: 0.1880\n",
      "Epoch 30/50\n",
      "3239/3239 [==============================] - 0s - loss: 0.1849 - val_loss: 0.1889\n",
      "Epoch 31/50\n",
      "3239/3239 [==============================] - 0s - loss: 0.1835 - val_loss: 0.1872\n",
      "Epoch 32/50\n",
      "3239/3239 [==============================] - 0s - loss: 0.1817 - val_loss: 0.1867\n",
      "Epoch 33/50\n",
      "3239/3239 [==============================] - 0s - loss: 0.1839 - val_loss: 0.1873\n",
      "Epoch 34/50\n",
      "3239/3239 [==============================] - 0s - loss: 0.1842 - val_loss: 0.1875\n",
      "Epoch 35/50\n",
      "3239/3239 [==============================] - 0s - loss: 0.1815 - val_loss: 0.1847\n",
      "Epoch 36/50\n",
      "3239/3239 [==============================] - 0s - loss: 0.1838 - val_loss: 0.1859\n",
      "Epoch 37/50\n",
      "3239/3239 [==============================] - 0s - loss: 0.1812 - val_loss: 0.1859\n",
      "Epoch 38/50\n",
      "3239/3239 [==============================] - 0s - loss: 0.1808 - val_loss: 0.1886\n",
      "Epoch 39/50\n",
      "3239/3239 [==============================] - 0s - loss: 0.1799 - val_loss: 0.1868\n",
      "Epoch 40/50\n",
      "3239/3239 [==============================] - 0s - loss: 0.1790 - val_loss: 0.1875\n",
      "Epoch 41/50\n",
      "3239/3239 [==============================] - 0s - loss: 0.1794 - val_loss: 0.1862\n",
      "Epoch 42/50\n",
      "3239/3239 [==============================] - 0s - loss: 0.1810 - val_loss: 0.1860\n",
      "Epoch 43/50\n",
      "3239/3239 [==============================] - 0s - loss: 0.1788 - val_loss: 0.1864\n",
      "Epoch 44/50\n",
      "3239/3239 [==============================] - 0s - loss: 0.1775 - val_loss: 0.1862\n",
      "Epoch 45/50\n",
      "3239/3239 [==============================] - 0s - loss: 0.1792 - val_loss: 0.1848\n",
      "Epoch 46/50\n",
      "3239/3239 [==============================] - 0s - loss: 0.1811 - val_loss: 0.1863\n",
      "Epoch 47/50\n",
      "3239/3239 [==============================] - 0s - loss: 0.1787 - val_loss: 0.1853\n",
      "Epoch 48/50\n",
      "3239/3239 [==============================] - 0s - loss: 0.1783 - val_loss: 0.1874\n",
      "Epoch 49/50\n",
      "3239/3239 [==============================] - 0s - loss: 0.1786 - val_loss: 0.1849\n",
      "Epoch 50/50\n",
      "3239/3239 [==============================] - 0s - loss: 0.1751 - val_loss: 0.1845\n"
     ]
    }
   ],
   "source": [
    "batch_size = 50\n",
    "epoch = 50\n",
    "validation_split = 0.1\n",
    "result = model.fit(x_train, y_train, batch_size=batch_size, nb_epoch=epoch, validation_split=validation_split)"
   ]
  },
  {
   "cell_type": "code",
   "execution_count": 361,
   "metadata": {
    "collapsed": false
   },
   "outputs": [
    {
     "name": "stdout",
     "output_type": "stream",
     "text": [
      "accuracy for 0 th dim: 0.726738\n"
     ]
    }
   ],
   "source": [
    "preds = model.predict(x_test)\n",
    "preds = preds.reshape(preds.shape[0], output_dim)\n",
    "preds[preds >= 0.5] = 1\n",
    "preds[preds < 0.5] = 0\n",
    "acc_ls = []\n",
    "for i in xrange(output_dim):\n",
    "    pred = preds[:, i]\n",
    "    ans = y_test[:, i]\n",
    "    sum_, all_ = 0, 0\n",
    "    for pred_, ans_ in zip(pred, ans):\n",
    "        if abs(pred_ - ans_) == 0:\n",
    "            sum_ += 1.0\n",
    "        all_ += 1.0\n",
    "    acc_ls.append(sum_ / all_)\n",
    "\n",
    "for i, acc_ in enumerate(acc_ls):\n",
    "    print 'accuracy for %s th dim: %f' % (i, acc_)"
   ]
  },
  {
   "cell_type": "code",
   "execution_count": 356,
   "metadata": {
    "collapsed": false
   },
   "outputs": [
    {
     "data": {
      "text/plain": [
       "0.567530695770805"
      ]
     },
     "execution_count": 356,
     "metadata": {},
     "output_type": "execute_result"
    }
   ],
   "source": [
    "acc_all, acc_sum, res = 0.0, 0.0, []\n",
    "for pred, y_test_ in zip(preds, y_test):\n",
    "    res = pred == y_test_\n",
    "    acc_sum += 1\n",
    "    if res.all():\n",
    "        acc_all += 1.0\n",
    "acc_all = acc_all / acc_sum\n",
    "acc_all"
   ]
  },
  {
   "cell_type": "markdown",
   "metadata": {},
   "source": [
    "## seq2seq (stacked)"
   ]
  },
  {
   "cell_type": "markdown",
   "metadata": {},
   "source": [
    "### data load for seq2seq (stacked)"
   ]
  },
  {
   "cell_type": "code",
   "execution_count": 326,
   "metadata": {
    "collapsed": true
   },
   "outputs": [],
   "source": [
    "output_dim = 1\n",
    "train, test, target = base_data_manager.load_normal_representation_data(data_type='balance', category_name='ajax', output_dim=output_dim)\n",
    "base_estimator.param_new(rows=1, cols=30, output_dim=6)\n",
    "x_train, y_train, x_test, y_test = base_estimator.data_transform(train, test)\n",
    "y_train = y_train.reshape(y_train.shape[0], 1, output_dim)"
   ]
  },
  {
   "cell_type": "markdown",
   "metadata": {},
   "source": [
    "### model"
   ]
  },
  {
   "cell_type": "code",
   "execution_count": 327,
   "metadata": {
    "collapsed": true
   },
   "outputs": [],
   "source": [
    "model = SimpleSeq2seq(input_dim=30, hidden_dim=10, output_length=1, output_dim=output_dim, depth=3)\n",
    "model.compile(loss='mse', optimizer='rmsprop')"
   ]
  },
  {
   "cell_type": "code",
   "execution_count": 328,
   "metadata": {
    "collapsed": false
   },
   "outputs": [
    {
     "data": {
      "image/svg+xml": [
       "<svg height=\"1098pt\" viewBox=\"0.00 0.00 380.96 1098.00\" width=\"381pt\" xmlns=\"http://www.w3.org/2000/svg\" xmlns:xlink=\"http://www.w3.org/1999/xlink\">\n",
       "<g class=\"graph\" id=\"graph0\" transform=\"scale(1 1) rotate(0) translate(4 1094)\">\n",
       "<title>G</title>\n",
       "<polygon fill=\"white\" points=\"-4,4 -4,-1094 376.96,-1094 376.96,4 -4,4\" stroke=\"none\"/>\n",
       "<!-- 7012477712 -->\n",
       "<g class=\"node\" id=\"node1\"><title>7012477712</title>\n",
       "<polygon fill=\"none\" points=\"46.0195,-972.5 46.0195,-1016.5 326.94,-1016.5 326.94,-972.5 46.0195,-972.5\" stroke=\"black\"/>\n",
       "<text font-family=\"Times,serif\" font-size=\"14.00\" text-anchor=\"middle\" x=\"101.659\" y=\"-990.3\">lstm_57 (LSTM)</text>\n",
       "<polyline fill=\"none\" points=\"157.299,-972.5 157.299,-1016.5 \" stroke=\"black\"/>\n",
       "<text font-family=\"Times,serif\" font-size=\"14.00\" text-anchor=\"middle\" x=\"185.133\" y=\"-1001.3\">input:</text>\n",
       "<polyline fill=\"none\" points=\"157.299,-994.5 212.968,-994.5 \" stroke=\"black\"/>\n",
       "<text font-family=\"Times,serif\" font-size=\"14.00\" text-anchor=\"middle\" x=\"185.133\" y=\"-979.3\">output:</text>\n",
       "<polyline fill=\"none\" points=\"212.968,-972.5 212.968,-1016.5 \" stroke=\"black\"/>\n",
       "<text font-family=\"Times,serif\" font-size=\"14.00\" text-anchor=\"middle\" x=\"269.954\" y=\"-1001.3\">(None, None, 30)</text>\n",
       "<polyline fill=\"none\" points=\"212.968,-994.5 326.94,-994.5 \" stroke=\"black\"/>\n",
       "<text font-family=\"Times,serif\" font-size=\"14.00\" text-anchor=\"middle\" x=\"269.954\" y=\"-979.3\">(None, None, 10)</text>\n",
       "</g>\n",
       "<!-- 7182498896 -->\n",
       "<g class=\"node\" id=\"node2\"><title>7182498896</title>\n",
       "<polygon fill=\"none\" points=\"28.1401,-891.5 28.1401,-935.5 344.82,-935.5 344.82,-891.5 28.1401,-891.5\" stroke=\"black\"/>\n",
       "<text font-family=\"Times,serif\" font-size=\"14.00\" text-anchor=\"middle\" x=\"101.659\" y=\"-909.3\">dropout_108 (Dropout)</text>\n",
       "<polyline fill=\"none\" points=\"175.178,-891.5 175.178,-935.5 \" stroke=\"black\"/>\n",
       "<text font-family=\"Times,serif\" font-size=\"14.00\" text-anchor=\"middle\" x=\"203.013\" y=\"-920.3\">input:</text>\n",
       "<polyline fill=\"none\" points=\"175.178,-913.5 230.847,-913.5 \" stroke=\"black\"/>\n",
       "<text font-family=\"Times,serif\" font-size=\"14.00\" text-anchor=\"middle\" x=\"203.013\" y=\"-898.3\">output:</text>\n",
       "<polyline fill=\"none\" points=\"230.847,-891.5 230.847,-935.5 \" stroke=\"black\"/>\n",
       "<text font-family=\"Times,serif\" font-size=\"14.00\" text-anchor=\"middle\" x=\"287.833\" y=\"-920.3\">(None, None, 10)</text>\n",
       "<polyline fill=\"none\" points=\"230.847,-913.5 344.82,-913.5 \" stroke=\"black\"/>\n",
       "<text font-family=\"Times,serif\" font-size=\"14.00\" text-anchor=\"middle\" x=\"287.833\" y=\"-898.3\">(None, None, 10)</text>\n",
       "</g>\n",
       "<!-- 7012477712&#45;&gt;7182498896 -->\n",
       "<g class=\"edge\" id=\"edge2\"><title>7012477712-&gt;7182498896</title>\n",
       "<path d=\"M186.48,-972.329C186.48,-964.183 186.48,-954.699 186.48,-945.797\" fill=\"none\" stroke=\"black\"/>\n",
       "<polygon fill=\"black\" points=\"189.98,-945.729 186.48,-935.729 182.98,-945.729 189.98,-945.729\" stroke=\"black\"/>\n",
       "</g>\n",
       "<!-- 5315435664 -->\n",
       "<g class=\"node\" id=\"node3\"><title>5315435664</title>\n",
       "<polygon fill=\"none\" points=\"46.0195,-810.5 46.0195,-854.5 326.94,-854.5 326.94,-810.5 46.0195,-810.5\" stroke=\"black\"/>\n",
       "<text font-family=\"Times,serif\" font-size=\"14.00\" text-anchor=\"middle\" x=\"101.659\" y=\"-828.3\">lstm_58 (LSTM)</text>\n",
       "<polyline fill=\"none\" points=\"157.299,-810.5 157.299,-854.5 \" stroke=\"black\"/>\n",
       "<text font-family=\"Times,serif\" font-size=\"14.00\" text-anchor=\"middle\" x=\"185.133\" y=\"-839.3\">input:</text>\n",
       "<polyline fill=\"none\" points=\"157.299,-832.5 212.968,-832.5 \" stroke=\"black\"/>\n",
       "<text font-family=\"Times,serif\" font-size=\"14.00\" text-anchor=\"middle\" x=\"185.133\" y=\"-817.3\">output:</text>\n",
       "<polyline fill=\"none\" points=\"212.968,-810.5 212.968,-854.5 \" stroke=\"black\"/>\n",
       "<text font-family=\"Times,serif\" font-size=\"14.00\" text-anchor=\"middle\" x=\"269.954\" y=\"-839.3\">(None, None, 10)</text>\n",
       "<polyline fill=\"none\" points=\"212.968,-832.5 326.94,-832.5 \" stroke=\"black\"/>\n",
       "<text font-family=\"Times,serif\" font-size=\"14.00\" text-anchor=\"middle\" x=\"269.954\" y=\"-817.3\">(None, None, 10)</text>\n",
       "</g>\n",
       "<!-- 7182498896&#45;&gt;5315435664 -->\n",
       "<g class=\"edge\" id=\"edge3\"><title>7182498896-&gt;5315435664</title>\n",
       "<path d=\"M186.48,-891.329C186.48,-883.183 186.48,-873.699 186.48,-864.797\" fill=\"none\" stroke=\"black\"/>\n",
       "<polygon fill=\"black\" points=\"189.98,-864.729 186.48,-854.729 182.98,-864.729 189.98,-864.729\" stroke=\"black\"/>\n",
       "</g>\n",
       "<!-- 6907277072 -->\n",
       "<g class=\"node\" id=\"node4\"><title>6907277072</title>\n",
       "<polygon fill=\"none\" points=\"28.1401,-729.5 28.1401,-773.5 344.82,-773.5 344.82,-729.5 28.1401,-729.5\" stroke=\"black\"/>\n",
       "<text font-family=\"Times,serif\" font-size=\"14.00\" text-anchor=\"middle\" x=\"101.659\" y=\"-747.3\">dropout_109 (Dropout)</text>\n",
       "<polyline fill=\"none\" points=\"175.178,-729.5 175.178,-773.5 \" stroke=\"black\"/>\n",
       "<text font-family=\"Times,serif\" font-size=\"14.00\" text-anchor=\"middle\" x=\"203.013\" y=\"-758.3\">input:</text>\n",
       "<polyline fill=\"none\" points=\"175.178,-751.5 230.847,-751.5 \" stroke=\"black\"/>\n",
       "<text font-family=\"Times,serif\" font-size=\"14.00\" text-anchor=\"middle\" x=\"203.013\" y=\"-736.3\">output:</text>\n",
       "<polyline fill=\"none\" points=\"230.847,-729.5 230.847,-773.5 \" stroke=\"black\"/>\n",
       "<text font-family=\"Times,serif\" font-size=\"14.00\" text-anchor=\"middle\" x=\"287.833\" y=\"-758.3\">(None, None, 10)</text>\n",
       "<polyline fill=\"none\" points=\"230.847,-751.5 344.82,-751.5 \" stroke=\"black\"/>\n",
       "<text font-family=\"Times,serif\" font-size=\"14.00\" text-anchor=\"middle\" x=\"287.833\" y=\"-736.3\">(None, None, 10)</text>\n",
       "</g>\n",
       "<!-- 5315435664&#45;&gt;6907277072 -->\n",
       "<g class=\"edge\" id=\"edge4\"><title>5315435664-&gt;6907277072</title>\n",
       "<path d=\"M186.48,-810.329C186.48,-802.183 186.48,-792.699 186.48,-783.797\" fill=\"none\" stroke=\"black\"/>\n",
       "<polygon fill=\"black\" points=\"189.98,-783.729 186.48,-773.729 182.98,-783.729 189.98,-783.729\" stroke=\"black\"/>\n",
       "</g>\n",
       "<!-- 7012478032 -->\n",
       "<g class=\"node\" id=\"node5\"><title>7012478032</title>\n",
       "<polygon fill=\"none\" points=\"46.0195,-648.5 46.0195,-692.5 326.94,-692.5 326.94,-648.5 46.0195,-648.5\" stroke=\"black\"/>\n",
       "<text font-family=\"Times,serif\" font-size=\"14.00\" text-anchor=\"middle\" x=\"101.659\" y=\"-666.3\">lstm_55 (LSTM)</text>\n",
       "<polyline fill=\"none\" points=\"157.299,-648.5 157.299,-692.5 \" stroke=\"black\"/>\n",
       "<text font-family=\"Times,serif\" font-size=\"14.00\" text-anchor=\"middle\" x=\"185.133\" y=\"-677.3\">input:</text>\n",
       "<polyline fill=\"none\" points=\"157.299,-670.5 212.968,-670.5 \" stroke=\"black\"/>\n",
       "<text font-family=\"Times,serif\" font-size=\"14.00\" text-anchor=\"middle\" x=\"185.133\" y=\"-655.3\">output:</text>\n",
       "<polyline fill=\"none\" points=\"212.968,-648.5 212.968,-692.5 \" stroke=\"black\"/>\n",
       "<text font-family=\"Times,serif\" font-size=\"14.00\" text-anchor=\"middle\" x=\"269.954\" y=\"-677.3\">(None, None, 10)</text>\n",
       "<polyline fill=\"none\" points=\"212.968,-670.5 326.94,-670.5 \" stroke=\"black\"/>\n",
       "<text font-family=\"Times,serif\" font-size=\"14.00\" text-anchor=\"middle\" x=\"269.792\" y=\"-655.3\">(None, 10)</text>\n",
       "</g>\n",
       "<!-- 6907277072&#45;&gt;7012478032 -->\n",
       "<g class=\"edge\" id=\"edge5\"><title>6907277072-&gt;7012478032</title>\n",
       "<path d=\"M186.48,-729.329C186.48,-721.183 186.48,-711.699 186.48,-702.797\" fill=\"none\" stroke=\"black\"/>\n",
       "<polygon fill=\"black\" points=\"189.98,-702.729 186.48,-692.729 182.98,-702.729 189.98,-702.729\" stroke=\"black\"/>\n",
       "</g>\n",
       "<!-- 5373021072 -->\n",
       "<g class=\"node\" id=\"node6\"><title>5373021072</title>\n",
       "<polygon fill=\"none\" points=\"47.0586,-567.5 47.0586,-611.5 325.901,-611.5 325.901,-567.5 47.0586,-567.5\" stroke=\"black\"/>\n",
       "<text font-family=\"Times,serif\" font-size=\"14.00\" text-anchor=\"middle\" x=\"120.321\" y=\"-585.3\">dropout_110 (Dropout)</text>\n",
       "<polyline fill=\"none\" points=\"193.584,-567.5 193.584,-611.5 \" stroke=\"black\"/>\n",
       "<text font-family=\"Times,serif\" font-size=\"14.00\" text-anchor=\"middle\" x=\"221.418\" y=\"-596.3\">input:</text>\n",
       "<polyline fill=\"none\" points=\"193.584,-589.5 249.253,-589.5 \" stroke=\"black\"/>\n",
       "<text font-family=\"Times,serif\" font-size=\"14.00\" text-anchor=\"middle\" x=\"221.418\" y=\"-574.3\">output:</text>\n",
       "<polyline fill=\"none\" points=\"249.253,-567.5 249.253,-611.5 \" stroke=\"black\"/>\n",
       "<text font-family=\"Times,serif\" font-size=\"14.00\" text-anchor=\"middle\" x=\"287.577\" y=\"-596.3\">(None, 10)</text>\n",
       "<polyline fill=\"none\" points=\"249.253,-589.5 325.901,-589.5 \" stroke=\"black\"/>\n",
       "<text font-family=\"Times,serif\" font-size=\"14.00\" text-anchor=\"middle\" x=\"287.577\" y=\"-574.3\">(None, 10)</text>\n",
       "</g>\n",
       "<!-- 7012478032&#45;&gt;5373021072 -->\n",
       "<g class=\"edge\" id=\"edge6\"><title>7012478032-&gt;5373021072</title>\n",
       "<path d=\"M186.48,-648.329C186.48,-640.183 186.48,-630.699 186.48,-621.797\" fill=\"none\" stroke=\"black\"/>\n",
       "<polygon fill=\"black\" points=\"189.98,-621.729 186.48,-611.729 182.98,-621.729 189.98,-621.729\" stroke=\"black\"/>\n",
       "</g>\n",
       "<!-- 6999472272 -->\n",
       "<g class=\"node\" id=\"node7\"><title>6999472272</title>\n",
       "<polygon fill=\"none\" points=\"16.1191,-486.5 16.1191,-530.5 356.841,-530.5 356.841,-486.5 16.1191,-486.5\" stroke=\"black\"/>\n",
       "<text font-family=\"Times,serif\" font-size=\"14.00\" text-anchor=\"middle\" x=\"113.321\" y=\"-504.3\">repeatvector_13 (RepeatVector)</text>\n",
       "<polyline fill=\"none\" points=\"210.523,-486.5 210.523,-530.5 \" stroke=\"black\"/>\n",
       "<text font-family=\"Times,serif\" font-size=\"14.00\" text-anchor=\"middle\" x=\"238.358\" y=\"-515.3\">input:</text>\n",
       "<polyline fill=\"none\" points=\"210.523,-508.5 266.192,-508.5 \" stroke=\"black\"/>\n",
       "<text font-family=\"Times,serif\" font-size=\"14.00\" text-anchor=\"middle\" x=\"238.358\" y=\"-493.3\">output:</text>\n",
       "<polyline fill=\"none\" points=\"266.192,-486.5 266.192,-530.5 \" stroke=\"black\"/>\n",
       "<text font-family=\"Times,serif\" font-size=\"14.00\" text-anchor=\"middle\" x=\"311.517\" y=\"-515.3\">(None, 10)</text>\n",
       "<polyline fill=\"none\" points=\"266.192,-508.5 356.841,-508.5 \" stroke=\"black\"/>\n",
       "<text font-family=\"Times,serif\" font-size=\"14.00\" text-anchor=\"middle\" x=\"311.517\" y=\"-493.3\">(None, 1, 10)</text>\n",
       "</g>\n",
       "<!-- 5373021072&#45;&gt;6999472272 -->\n",
       "<g class=\"edge\" id=\"edge7\"><title>5373021072-&gt;6999472272</title>\n",
       "<path d=\"M186.48,-567.329C186.48,-559.183 186.48,-549.699 186.48,-540.797\" fill=\"none\" stroke=\"black\"/>\n",
       "<polygon fill=\"black\" points=\"189.98,-540.729 186.48,-530.729 182.98,-540.729 189.98,-540.729\" stroke=\"black\"/>\n",
       "</g>\n",
       "<!-- 7012476880 -->\n",
       "<g class=\"node\" id=\"node8\"><title>7012476880</title>\n",
       "<polygon fill=\"none\" points=\"57.6816,-405.5 57.6816,-449.5 315.278,-449.5 315.278,-405.5 57.6816,-405.5\" stroke=\"black\"/>\n",
       "<text font-family=\"Times,serif\" font-size=\"14.00\" text-anchor=\"middle\" x=\"113.321\" y=\"-423.3\">lstm_56 (LSTM)</text>\n",
       "<polyline fill=\"none\" points=\"168.961,-405.5 168.961,-449.5 \" stroke=\"black\"/>\n",
       "<text font-family=\"Times,serif\" font-size=\"14.00\" text-anchor=\"middle\" x=\"196.795\" y=\"-434.3\">input:</text>\n",
       "<polyline fill=\"none\" points=\"168.961,-427.5 224.63,-427.5 \" stroke=\"black\"/>\n",
       "<text font-family=\"Times,serif\" font-size=\"14.00\" text-anchor=\"middle\" x=\"196.795\" y=\"-412.3\">output:</text>\n",
       "<polyline fill=\"none\" points=\"224.63,-405.5 224.63,-449.5 \" stroke=\"black\"/>\n",
       "<text font-family=\"Times,serif\" font-size=\"14.00\" text-anchor=\"middle\" x=\"269.954\" y=\"-434.3\">(None, 1, 10)</text>\n",
       "<polyline fill=\"none\" points=\"224.63,-427.5 315.278,-427.5 \" stroke=\"black\"/>\n",
       "<text font-family=\"Times,serif\" font-size=\"14.00\" text-anchor=\"middle\" x=\"269.954\" y=\"-412.3\">(None, 1, 10)</text>\n",
       "</g>\n",
       "<!-- 6999472272&#45;&gt;7012476880 -->\n",
       "<g class=\"edge\" id=\"edge8\"><title>6999472272-&gt;7012476880</title>\n",
       "<path d=\"M186.48,-486.329C186.48,-478.183 186.48,-468.699 186.48,-459.797\" fill=\"none\" stroke=\"black\"/>\n",
       "<polygon fill=\"black\" points=\"189.98,-459.729 186.48,-449.729 182.98,-459.729 189.98,-459.729\" stroke=\"black\"/>\n",
       "</g>\n",
       "<!-- 7301955088 -->\n",
       "<g class=\"node\" id=\"node9\"><title>7301955088</title>\n",
       "<polygon fill=\"none\" points=\"57.6816,-324.5 57.6816,-368.5 315.278,-368.5 315.278,-324.5 57.6816,-324.5\" stroke=\"black\"/>\n",
       "<text font-family=\"Times,serif\" font-size=\"14.00\" text-anchor=\"middle\" x=\"113.321\" y=\"-342.3\">lstm_59 (LSTM)</text>\n",
       "<polyline fill=\"none\" points=\"168.961,-324.5 168.961,-368.5 \" stroke=\"black\"/>\n",
       "<text font-family=\"Times,serif\" font-size=\"14.00\" text-anchor=\"middle\" x=\"196.795\" y=\"-353.3\">input:</text>\n",
       "<polyline fill=\"none\" points=\"168.961,-346.5 224.63,-346.5 \" stroke=\"black\"/>\n",
       "<text font-family=\"Times,serif\" font-size=\"14.00\" text-anchor=\"middle\" x=\"196.795\" y=\"-331.3\">output:</text>\n",
       "<polyline fill=\"none\" points=\"224.63,-324.5 224.63,-368.5 \" stroke=\"black\"/>\n",
       "<text font-family=\"Times,serif\" font-size=\"14.00\" text-anchor=\"middle\" x=\"269.954\" y=\"-353.3\">(None, 1, 10)</text>\n",
       "<polyline fill=\"none\" points=\"224.63,-346.5 315.278,-346.5 \" stroke=\"black\"/>\n",
       "<text font-family=\"Times,serif\" font-size=\"14.00\" text-anchor=\"middle\" x=\"269.954\" y=\"-331.3\">(None, 1, 10)</text>\n",
       "</g>\n",
       "<!-- 7012476880&#45;&gt;7301955088 -->\n",
       "<g class=\"edge\" id=\"edge9\"><title>7012476880-&gt;7301955088</title>\n",
       "<path d=\"M186.48,-405.329C186.48,-397.183 186.48,-387.699 186.48,-378.797\" fill=\"none\" stroke=\"black\"/>\n",
       "<polygon fill=\"black\" points=\"189.98,-378.729 186.48,-368.729 182.98,-378.729 189.98,-378.729\" stroke=\"black\"/>\n",
       "</g>\n",
       "<!-- 4875669392 -->\n",
       "<g class=\"node\" id=\"node10\"><title>4875669392</title>\n",
       "<polygon fill=\"none\" points=\"40.3149,-243.5 40.3149,-287.5 332.645,-287.5 332.645,-243.5 40.3149,-243.5\" stroke=\"black\"/>\n",
       "<text font-family=\"Times,serif\" font-size=\"14.00\" text-anchor=\"middle\" x=\"113.321\" y=\"-261.3\">dropout_111 (Dropout)</text>\n",
       "<polyline fill=\"none\" points=\"186.328,-243.5 186.328,-287.5 \" stroke=\"black\"/>\n",
       "<text font-family=\"Times,serif\" font-size=\"14.00\" text-anchor=\"middle\" x=\"214.162\" y=\"-272.3\">input:</text>\n",
       "<polyline fill=\"none\" points=\"186.328,-265.5 241.997,-265.5 \" stroke=\"black\"/>\n",
       "<text font-family=\"Times,serif\" font-size=\"14.00\" text-anchor=\"middle\" x=\"214.162\" y=\"-250.3\">output:</text>\n",
       "<polyline fill=\"none\" points=\"241.997,-243.5 241.997,-287.5 \" stroke=\"black\"/>\n",
       "<text font-family=\"Times,serif\" font-size=\"14.00\" text-anchor=\"middle\" x=\"287.321\" y=\"-272.3\">(None, 1, 10)</text>\n",
       "<polyline fill=\"none\" points=\"241.997,-265.5 332.645,-265.5 \" stroke=\"black\"/>\n",
       "<text font-family=\"Times,serif\" font-size=\"14.00\" text-anchor=\"middle\" x=\"287.321\" y=\"-250.3\">(None, 1, 10)</text>\n",
       "</g>\n",
       "<!-- 7301955088&#45;&gt;4875669392 -->\n",
       "<g class=\"edge\" id=\"edge10\"><title>7301955088-&gt;4875669392</title>\n",
       "<path d=\"M186.48,-324.329C186.48,-316.183 186.48,-306.699 186.48,-297.797\" fill=\"none\" stroke=\"black\"/>\n",
       "<polygon fill=\"black\" points=\"189.98,-297.729 186.48,-287.729 182.98,-297.729 189.98,-297.729\" stroke=\"black\"/>\n",
       "</g>\n",
       "<!-- 6680694288 -->\n",
       "<g class=\"node\" id=\"node11\"><title>6680694288</title>\n",
       "<polygon fill=\"none\" points=\"57.6816,-162.5 57.6816,-206.5 315.278,-206.5 315.278,-162.5 57.6816,-162.5\" stroke=\"black\"/>\n",
       "<text font-family=\"Times,serif\" font-size=\"14.00\" text-anchor=\"middle\" x=\"113.321\" y=\"-180.3\">lstm_60 (LSTM)</text>\n",
       "<polyline fill=\"none\" points=\"168.961,-162.5 168.961,-206.5 \" stroke=\"black\"/>\n",
       "<text font-family=\"Times,serif\" font-size=\"14.00\" text-anchor=\"middle\" x=\"196.795\" y=\"-191.3\">input:</text>\n",
       "<polyline fill=\"none\" points=\"168.961,-184.5 224.63,-184.5 \" stroke=\"black\"/>\n",
       "<text font-family=\"Times,serif\" font-size=\"14.00\" text-anchor=\"middle\" x=\"196.795\" y=\"-169.3\">output:</text>\n",
       "<polyline fill=\"none\" points=\"224.63,-162.5 224.63,-206.5 \" stroke=\"black\"/>\n",
       "<text font-family=\"Times,serif\" font-size=\"14.00\" text-anchor=\"middle\" x=\"269.954\" y=\"-191.3\">(None, 1, 10)</text>\n",
       "<polyline fill=\"none\" points=\"224.63,-184.5 315.278,-184.5 \" stroke=\"black\"/>\n",
       "<text font-family=\"Times,serif\" font-size=\"14.00\" text-anchor=\"middle\" x=\"269.954\" y=\"-169.3\">(None, 1, 10)</text>\n",
       "</g>\n",
       "<!-- 4875669392&#45;&gt;6680694288 -->\n",
       "<g class=\"edge\" id=\"edge11\"><title>4875669392-&gt;6680694288</title>\n",
       "<path d=\"M186.48,-243.329C186.48,-235.183 186.48,-225.699 186.48,-216.797\" fill=\"none\" stroke=\"black\"/>\n",
       "<polygon fill=\"black\" points=\"189.98,-216.729 186.48,-206.729 182.98,-216.729 189.98,-216.729\" stroke=\"black\"/>\n",
       "</g>\n",
       "<!-- 7173209744 -->\n",
       "<g class=\"node\" id=\"node12\"><title>7173209744</title>\n",
       "<polygon fill=\"none\" points=\"40.0586,-81.5 40.0586,-125.5 332.901,-125.5 332.901,-81.5 40.0586,-81.5\" stroke=\"black\"/>\n",
       "<text font-family=\"Times,serif\" font-size=\"14.00\" text-anchor=\"middle\" x=\"113.321\" y=\"-99.3\">dropout_112 (Dropout)</text>\n",
       "<polyline fill=\"none\" points=\"186.584,-81.5 186.584,-125.5 \" stroke=\"black\"/>\n",
       "<text font-family=\"Times,serif\" font-size=\"14.00\" text-anchor=\"middle\" x=\"214.418\" y=\"-110.3\">input:</text>\n",
       "<polyline fill=\"none\" points=\"186.584,-103.5 242.253,-103.5 \" stroke=\"black\"/>\n",
       "<text font-family=\"Times,serif\" font-size=\"14.00\" text-anchor=\"middle\" x=\"214.418\" y=\"-88.3\">output:</text>\n",
       "<polyline fill=\"none\" points=\"242.253,-81.5 242.253,-125.5 \" stroke=\"black\"/>\n",
       "<text font-family=\"Times,serif\" font-size=\"14.00\" text-anchor=\"middle\" x=\"287.577\" y=\"-110.3\">(None, 1, 10)</text>\n",
       "<polyline fill=\"none\" points=\"242.253,-103.5 332.901,-103.5 \" stroke=\"black\"/>\n",
       "<text font-family=\"Times,serif\" font-size=\"14.00\" text-anchor=\"middle\" x=\"287.577\" y=\"-88.3\">(None, 1, 10)</text>\n",
       "</g>\n",
       "<!-- 6680694288&#45;&gt;7173209744 -->\n",
       "<g class=\"edge\" id=\"edge12\"><title>6680694288-&gt;7173209744</title>\n",
       "<path d=\"M186.48,-162.329C186.48,-154.183 186.48,-144.699 186.48,-135.797\" fill=\"none\" stroke=\"black\"/>\n",
       "<polygon fill=\"black\" points=\"189.98,-135.729 186.48,-125.729 182.98,-135.729 189.98,-135.729\" stroke=\"black\"/>\n",
       "</g>\n",
       "<!-- 5152920016 -->\n",
       "<g class=\"node\" id=\"node13\"><title>5152920016</title>\n",
       "<polygon fill=\"none\" points=\"0,-0.5 0,-44.5 372.96,-44.5 372.96,-0.5 0,-0.5\" stroke=\"black\"/>\n",
       "<text font-family=\"Times,serif\" font-size=\"14.00\" text-anchor=\"middle\" x=\"113.321\" y=\"-18.3\">timedistributed_29 (TimeDistributed)</text>\n",
       "<polyline fill=\"none\" points=\"226.643,-0.5 226.643,-44.5 \" stroke=\"black\"/>\n",
       "<text font-family=\"Times,serif\" font-size=\"14.00\" text-anchor=\"middle\" x=\"254.477\" y=\"-29.3\">input:</text>\n",
       "<polyline fill=\"none\" points=\"226.643,-22.5 282.312,-22.5 \" stroke=\"black\"/>\n",
       "<text font-family=\"Times,serif\" font-size=\"14.00\" text-anchor=\"middle\" x=\"254.477\" y=\"-7.3\">output:</text>\n",
       "<polyline fill=\"none\" points=\"282.312,-0.5 282.312,-44.5 \" stroke=\"black\"/>\n",
       "<text font-family=\"Times,serif\" font-size=\"14.00\" text-anchor=\"middle\" x=\"327.636\" y=\"-29.3\">(None, 1, 10)</text>\n",
       "<polyline fill=\"none\" points=\"282.312,-22.5 372.96,-22.5 \" stroke=\"black\"/>\n",
       "<text font-family=\"Times,serif\" font-size=\"14.00\" text-anchor=\"middle\" x=\"327.636\" y=\"-7.3\">(None, 1, 1)</text>\n",
       "</g>\n",
       "<!-- 7173209744&#45;&gt;5152920016 -->\n",
       "<g class=\"edge\" id=\"edge13\"><title>7173209744-&gt;5152920016</title>\n",
       "<path d=\"M186.48,-81.3294C186.48,-73.1826 186.48,-63.6991 186.48,-54.7971\" fill=\"none\" stroke=\"black\"/>\n",
       "<polygon fill=\"black\" points=\"189.98,-54.729 186.48,-44.729 182.98,-54.729 189.98,-54.729\" stroke=\"black\"/>\n",
       "</g>\n",
       "<!-- 7012475152 -->\n",
       "<g class=\"node\" id=\"node14\"><title>7012475152</title>\n",
       "<polygon fill=\"none\" points=\"143.48,-1053.5 143.48,-1089.5 229.48,-1089.5 229.48,-1053.5 143.48,-1053.5\" stroke=\"black\"/>\n",
       "<text font-family=\"Times,serif\" font-size=\"14.00\" text-anchor=\"middle\" x=\"186.48\" y=\"-1067.3\">7012475152</text>\n",
       "</g>\n",
       "<!-- 7012475152&#45;&gt;7012477712 -->\n",
       "<g class=\"edge\" id=\"edge1\"><title>7012475152-&gt;7012477712</title>\n",
       "<path d=\"M186.48,-1053.48C186.48,-1045.65 186.48,-1036.11 186.48,-1027.04\" fill=\"none\" stroke=\"black\"/>\n",
       "<polygon fill=\"black\" points=\"189.98,-1026.74 186.48,-1016.74 182.98,-1026.74 189.98,-1026.74\" stroke=\"black\"/>\n",
       "</g>\n",
       "</g>\n",
       "</svg>"
      ],
      "text/plain": [
       "<IPython.core.display.SVG object>"
      ]
     },
     "execution_count": 328,
     "metadata": {},
     "output_type": "execute_result"
    }
   ],
   "source": [
    "SVG(model_to_dot(model, show_shapes=True).create(prog='dot', format='svg'))"
   ]
  },
  {
   "cell_type": "code",
   "execution_count": 329,
   "metadata": {
    "collapsed": false,
    "scrolled": true
   },
   "outputs": [
    {
     "name": "stdout",
     "output_type": "stream",
     "text": [
      "Train on 3239 samples, validate on 360 samples\n",
      "Epoch 1/50\n",
      "3239/3239 [==============================] - 0s - loss: 0.3777 - val_loss: 0.3065\n",
      "Epoch 2/50\n",
      "3239/3239 [==============================] - 0s - loss: 0.2601 - val_loss: 0.2337\n",
      "Epoch 3/50\n",
      "3239/3239 [==============================] - 0s - loss: 0.2442 - val_loss: 0.2224\n",
      "Epoch 4/50\n",
      "3239/3239 [==============================] - 0s - loss: 0.2314 - val_loss: 0.2128\n",
      "Epoch 5/50\n",
      "3239/3239 [==============================] - 0s - loss: 0.2298 - val_loss: 0.2050\n",
      "Epoch 6/50\n",
      "3239/3239 [==============================] - 0s - loss: 0.2269 - val_loss: 0.2014\n",
      "Epoch 7/50\n",
      "3239/3239 [==============================] - 0s - loss: 0.2201 - val_loss: 0.1954\n",
      "Epoch 8/50\n",
      "3239/3239 [==============================] - 0s - loss: 0.2159 - val_loss: 0.1934\n",
      "Epoch 9/50\n",
      "3239/3239 [==============================] - 0s - loss: 0.2128 - val_loss: 0.1920\n",
      "Epoch 10/50\n",
      "3239/3239 [==============================] - 0s - loss: 0.2116 - val_loss: 0.1903\n",
      "Epoch 11/50\n",
      "3239/3239 [==============================] - 0s - loss: 0.2117 - val_loss: 0.1899\n",
      "Epoch 12/50\n",
      "3239/3239 [==============================] - 0s - loss: 0.2065 - val_loss: 0.1867\n",
      "Epoch 13/50\n",
      "3239/3239 [==============================] - 0s - loss: 0.2041 - val_loss: 0.1859\n",
      "Epoch 14/50\n",
      "3239/3239 [==============================] - 0s - loss: 0.2054 - val_loss: 0.1853\n",
      "Epoch 15/50\n",
      "3239/3239 [==============================] - 0s - loss: 0.1998 - val_loss: 0.1846\n",
      "Epoch 16/50\n",
      "3239/3239 [==============================] - 0s - loss: 0.1996 - val_loss: 0.1846\n",
      "Epoch 17/50\n",
      "3239/3239 [==============================] - 0s - loss: 0.2004 - val_loss: 0.1837\n",
      "Epoch 18/50\n",
      "3239/3239 [==============================] - 0s - loss: 0.1963 - val_loss: 0.1827\n",
      "Epoch 19/50\n",
      "3239/3239 [==============================] - 0s - loss: 0.1939 - val_loss: 0.1819\n",
      "Epoch 20/50\n",
      "3239/3239 [==============================] - 1s - loss: 0.1934 - val_loss: 0.1826\n",
      "Epoch 21/50\n",
      "3239/3239 [==============================] - 0s - loss: 0.1918 - val_loss: 0.1833\n",
      "Epoch 22/50\n",
      "3239/3239 [==============================] - 0s - loss: 0.1920 - val_loss: 0.1825\n",
      "Epoch 23/50\n",
      "3239/3239 [==============================] - 0s - loss: 0.1937 - val_loss: 0.1833\n",
      "Epoch 24/50\n",
      "3239/3239 [==============================] - 0s - loss: 0.1925 - val_loss: 0.1817\n",
      "Epoch 25/50\n",
      "3239/3239 [==============================] - 0s - loss: 0.1875 - val_loss: 0.1823\n",
      "Epoch 26/50\n",
      "3239/3239 [==============================] - 0s - loss: 0.1899 - val_loss: 0.1801\n",
      "Epoch 27/50\n",
      "3239/3239 [==============================] - 0s - loss: 0.1895 - val_loss: 0.1804\n",
      "Epoch 28/50\n",
      "3239/3239 [==============================] - 0s - loss: 0.1919 - val_loss: 0.1805\n",
      "Epoch 29/50\n",
      "3239/3239 [==============================] - 0s - loss: 0.1883 - val_loss: 0.1796\n",
      "Epoch 30/50\n",
      "3239/3239 [==============================] - 0s - loss: 0.1900 - val_loss: 0.1812\n",
      "Epoch 31/50\n",
      "3239/3239 [==============================] - 0s - loss: 0.1882 - val_loss: 0.1814\n",
      "Epoch 32/50\n",
      "3239/3239 [==============================] - 0s - loss: 0.1880 - val_loss: 0.1813\n",
      "Epoch 33/50\n",
      "3239/3239 [==============================] - 0s - loss: 0.1908 - val_loss: 0.1807\n",
      "Epoch 34/50\n",
      "3239/3239 [==============================] - 0s - loss: 0.1880 - val_loss: 0.1785\n",
      "Epoch 35/50\n",
      "3239/3239 [==============================] - 1s - loss: 0.1878 - val_loss: 0.1799\n",
      "Epoch 36/50\n",
      "3239/3239 [==============================] - 1s - loss: 0.1867 - val_loss: 0.1802\n",
      "Epoch 37/50\n",
      "3239/3239 [==============================] - 0s - loss: 0.1897 - val_loss: 0.1776\n",
      "Epoch 38/50\n",
      "3239/3239 [==============================] - 0s - loss: 0.1853 - val_loss: 0.1769\n",
      "Epoch 39/50\n",
      "3239/3239 [==============================] - 0s - loss: 0.1851 - val_loss: 0.1783\n",
      "Epoch 40/50\n",
      "3239/3239 [==============================] - 0s - loss: 0.1809 - val_loss: 0.1775\n",
      "Epoch 41/50\n",
      "3239/3239 [==============================] - 0s - loss: 0.1808 - val_loss: 0.1758\n",
      "Epoch 42/50\n",
      "3239/3239 [==============================] - 0s - loss: 0.1846 - val_loss: 0.1785\n",
      "Epoch 43/50\n",
      "3239/3239 [==============================] - 0s - loss: 0.1808 - val_loss: 0.1786\n",
      "Epoch 44/50\n",
      "3239/3239 [==============================] - 0s - loss: 0.1850 - val_loss: 0.1790\n",
      "Epoch 45/50\n",
      "3239/3239 [==============================] - 0s - loss: 0.1848 - val_loss: 0.1783\n",
      "Epoch 46/50\n",
      "3239/3239 [==============================] - 0s - loss: 0.1825 - val_loss: 0.1779\n",
      "Epoch 47/50\n",
      "3239/3239 [==============================] - 0s - loss: 0.1849 - val_loss: 0.1782\n",
      "Epoch 48/50\n",
      "3239/3239 [==============================] - 0s - loss: 0.1817 - val_loss: 0.1788\n",
      "Epoch 49/50\n",
      "3239/3239 [==============================] - 0s - loss: 0.1830 - val_loss: 0.1788\n",
      "Epoch 50/50\n",
      "3239/3239 [==============================] - 0s - loss: 0.1843 - val_loss: 0.1783\n"
     ]
    }
   ],
   "source": [
    "batch_size = 50\n",
    "epoch = 50\n",
    "validation_split = 0.1\n",
    "result = model.fit(x_train, y_train, batch_size=batch_size, nb_epoch=epoch, validation_split=validation_split)"
   ]
  },
  {
   "cell_type": "code",
   "execution_count": 330,
   "metadata": {
    "collapsed": false
   },
   "outputs": [
    {
     "name": "stdout",
     "output_type": "stream",
     "text": [
      "accuracy for 0 th dim: 0.711068\n"
     ]
    }
   ],
   "source": [
    "preds = model.predict(x_test)\n",
    "preds = preds.reshape(preds.shape[0], output_dim)\n",
    "preds[preds >= 0.5] = 1\n",
    "preds[preds < 0.5] = 0\n",
    "acc_ls = []\n",
    "for i in xrange(output_dim):\n",
    "    pred = preds[:, i]\n",
    "    ans = y_test[:, i]\n",
    "    sum_, all_ = 0, 0\n",
    "    for pred_, ans_ in zip(pred, ans):\n",
    "        if abs(pred_ - ans_) == 0:\n",
    "            sum_ += 1.0\n",
    "        all_ += 1.0\n",
    "    acc_ls.append(sum_ / all_)\n",
    "\n",
    "for i, acc_ in enumerate(acc_ls):\n",
    "    print 'accuracy for %s th dim: %f' % (i, acc_)"
   ]
  },
  {
   "cell_type": "code",
   "execution_count": 325,
   "metadata": {
    "collapsed": false
   },
   "outputs": [
    {
     "data": {
      "text/plain": [
       "0.5538881309686221"
      ]
     },
     "execution_count": 325,
     "metadata": {},
     "output_type": "execute_result"
    }
   ],
   "source": [
    "acc_all, acc_sum, res = 0.0, 0.0, []\n",
    "for pred, y_test_ in zip(preds, y_test):\n",
    "    res = pred == y_test_\n",
    "    acc_sum += 1\n",
    "    if res.all():\n",
    "        acc_all += 1.0\n",
    "acc_all = acc_all / acc_sum\n",
    "acc_all"
   ]
  },
  {
   "cell_type": "code",
   "execution_count": null,
   "metadata": {
    "collapsed": true
   },
   "outputs": [],
   "source": []
  },
  {
   "cell_type": "code",
   "execution_count": null,
   "metadata": {
    "collapsed": true
   },
   "outputs": [],
   "source": []
  },
  {
   "cell_type": "code",
   "execution_count": null,
   "metadata": {
    "collapsed": true
   },
   "outputs": [],
   "source": []
  },
  {
   "cell_type": "markdown",
   "metadata": {},
   "source": [
    "## Attention Seq2Seq"
   ]
  },
  {
   "cell_type": "code",
   "execution_count": 48,
   "metadata": {
    "collapsed": true
   },
   "outputs": [],
   "source": [
    "from seq2seq.models import AttentionSeq2seq"
   ]
  },
  {
   "cell_type": "markdown",
   "metadata": {},
   "source": [
    "### data load for attention seq2seq"
   ]
  },
  {
   "cell_type": "code",
   "execution_count": 49,
   "metadata": {
    "collapsed": true
   },
   "outputs": [],
   "source": [
    "output_dim = 6\n",
    "train, test, target = base_data_manager.load_normal_representation_data(data_type='balance', category_name='ajax', output_dim=output_dim)\n",
    "base_estimator.param_new(rows=1, cols=30, output_dim=6)\n",
    "x_train, y_train, x_test, y_test = base_estimator.data_transform(train, test)\n",
    "y_train = y_train.reshape(y_train.shape[0], 1, output_dim)"
   ]
  },
  {
   "cell_type": "markdown",
   "metadata": {},
   "source": [
    "### model"
   ]
  },
  {
   "cell_type": "code",
   "execution_count": 66,
   "metadata": {
    "collapsed": false
   },
   "outputs": [
    {
     "name": "stderr",
     "output_type": "stream",
     "text": [
      "/Users/admin/Desktop/anaconda/lib/python2.7/site-packages/keras/engine/topology.py:1565: UserWarning: Model inputs must come from a Keras Input layer, they cannot be the output of a previous non-Input layer. Here, a tensor specified as input to \"sequential_16_model\" was not an Input tensor, it was generated by layer layer_11.\n",
      "Note that input tensors are instantiated via `tensor = Input(shape)`.\n",
      "The tensor that caused the issue was: layer_input_11\n",
      "  str(x.name))\n"
     ]
    }
   ],
   "source": [
    "model = AttentionSeq2seq(input_dim=30, input_shape=[1, 30], hidden_dim=30, output_length=1, output_dim=6, depth=4)\n",
    "model.compile(loss='mse', optimizer='rmsprop')"
   ]
  },
  {
   "cell_type": "code",
   "execution_count": 67,
   "metadata": {
    "collapsed": false
   },
   "outputs": [
    {
     "data": {
      "image/svg+xml": [
       "<svg height=\"1665pt\" viewBox=\"0.00 0.00 397.22 1665.00\" width=\"397pt\" xmlns=\"http://www.w3.org/2000/svg\" xmlns:xlink=\"http://www.w3.org/1999/xlink\">\n",
       "<g class=\"graph\" id=\"graph0\" transform=\"scale(1 1) rotate(0) translate(4 1661)\">\n",
       "<title>G</title>\n",
       "<polygon fill=\"white\" points=\"-4,4 -4,-1661 393.216,-1661 393.216,4 -4,4\" stroke=\"none\"/>\n",
       "<!-- 5064556368 -->\n",
       "<g class=\"node\" id=\"node1\"><title>5064556368</title>\n",
       "<polygon fill=\"none\" points=\"66.4829,-1539.5 66.4829,-1583.5 322.733,-1583.5 322.733,-1539.5 66.4829,-1539.5\" stroke=\"black\"/>\n",
       "<text font-family=\"Times,serif\" font-size=\"14.00\" text-anchor=\"middle\" x=\"121.449\" y=\"-1557.3\">layer_11 (Layer)</text>\n",
       "<polyline fill=\"none\" points=\"176.416,-1539.5 176.416,-1583.5 \" stroke=\"black\"/>\n",
       "<text font-family=\"Times,serif\" font-size=\"14.00\" text-anchor=\"middle\" x=\"204.25\" y=\"-1568.3\">input:</text>\n",
       "<polyline fill=\"none\" points=\"176.416,-1561.5 232.084,-1561.5 \" stroke=\"black\"/>\n",
       "<text font-family=\"Times,serif\" font-size=\"14.00\" text-anchor=\"middle\" x=\"204.25\" y=\"-1546.3\">output:</text>\n",
       "<polyline fill=\"none\" points=\"232.084,-1539.5 232.084,-1583.5 \" stroke=\"black\"/>\n",
       "<text font-family=\"Times,serif\" font-size=\"14.00\" text-anchor=\"middle\" x=\"277.409\" y=\"-1568.3\">(None, 1, 30)</text>\n",
       "<polyline fill=\"none\" points=\"232.084,-1561.5 322.733,-1561.5 \" stroke=\"black\"/>\n",
       "<text font-family=\"Times,serif\" font-size=\"14.00\" text-anchor=\"middle\" x=\"277.409\" y=\"-1546.3\">(None, 1, 30)</text>\n",
       "</g>\n",
       "<!-- 4998976784 -->\n",
       "<g class=\"node\" id=\"node2\"><title>4998976784</title>\n",
       "<polygon fill=\"none\" points=\"24.6162,-1458.5 24.6162,-1502.5 364.6,-1502.5 364.6,-1458.5 24.6162,-1458.5\" stroke=\"black\"/>\n",
       "<text font-family=\"Times,serif\" font-size=\"14.00\" text-anchor=\"middle\" x=\"121.449\" y=\"-1476.3\">bidirectional_41 (Bidirectional)</text>\n",
       "<polyline fill=\"none\" points=\"218.282,-1458.5 218.282,-1502.5 \" stroke=\"black\"/>\n",
       "<text font-family=\"Times,serif\" font-size=\"14.00\" text-anchor=\"middle\" x=\"246.117\" y=\"-1487.3\">input:</text>\n",
       "<polyline fill=\"none\" points=\"218.282,-1480.5 273.951,-1480.5 \" stroke=\"black\"/>\n",
       "<text font-family=\"Times,serif\" font-size=\"14.00\" text-anchor=\"middle\" x=\"246.117\" y=\"-1465.3\">output:</text>\n",
       "<polyline fill=\"none\" points=\"273.951,-1458.5 273.951,-1502.5 \" stroke=\"black\"/>\n",
       "<text font-family=\"Times,serif\" font-size=\"14.00\" text-anchor=\"middle\" x=\"318.782\" y=\"-1487.3\">multiple</text>\n",
       "<polyline fill=\"none\" points=\"273.951,-1480.5 364.6,-1480.5 \" stroke=\"black\"/>\n",
       "<text font-family=\"Times,serif\" font-size=\"14.00\" text-anchor=\"middle\" x=\"319.275\" y=\"-1465.3\">(None, 1, 30)</text>\n",
       "</g>\n",
       "<!-- 5064556368&#45;&gt;4998976784 -->\n",
       "<g class=\"edge\" id=\"edge2\"><title>5064556368-&gt;4998976784</title>\n",
       "<path d=\"M194.608,-1539.33C194.608,-1531.18 194.608,-1521.7 194.608,-1512.8\" fill=\"none\" stroke=\"black\"/>\n",
       "<polygon fill=\"black\" points=\"198.108,-1512.73 194.608,-1502.73 191.108,-1512.73 198.108,-1512.73\" stroke=\"black\"/>\n",
       "</g>\n",
       "<!-- 5048557072 -->\n",
       "<g class=\"node\" id=\"node3\"><title>5048557072</title>\n",
       "<polygon fill=\"none\" points=\"51.4302,-1377.5 51.4302,-1421.5 337.786,-1421.5 337.786,-1377.5 51.4302,-1377.5\" stroke=\"black\"/>\n",
       "<text font-family=\"Times,serif\" font-size=\"14.00\" text-anchor=\"middle\" x=\"121.449\" y=\"-1395.3\">dropout_72 (Dropout)</text>\n",
       "<polyline fill=\"none\" points=\"191.468,-1377.5 191.468,-1421.5 \" stroke=\"black\"/>\n",
       "<text font-family=\"Times,serif\" font-size=\"14.00\" text-anchor=\"middle\" x=\"219.303\" y=\"-1406.3\">input:</text>\n",
       "<polyline fill=\"none\" points=\"191.468,-1399.5 247.137,-1399.5 \" stroke=\"black\"/>\n",
       "<text font-family=\"Times,serif\" font-size=\"14.00\" text-anchor=\"middle\" x=\"219.303\" y=\"-1384.3\">output:</text>\n",
       "<polyline fill=\"none\" points=\"247.137,-1377.5 247.137,-1421.5 \" stroke=\"black\"/>\n",
       "<text font-family=\"Times,serif\" font-size=\"14.00\" text-anchor=\"middle\" x=\"292.461\" y=\"-1406.3\">(None, 1, 30)</text>\n",
       "<polyline fill=\"none\" points=\"247.137,-1399.5 337.786,-1399.5 \" stroke=\"black\"/>\n",
       "<text font-family=\"Times,serif\" font-size=\"14.00\" text-anchor=\"middle\" x=\"292.461\" y=\"-1384.3\">(None, 1, 30)</text>\n",
       "</g>\n",
       "<!-- 4998976784&#45;&gt;5048557072 -->\n",
       "<g class=\"edge\" id=\"edge3\"><title>4998976784-&gt;5048557072</title>\n",
       "<path d=\"M194.608,-1458.33C194.608,-1450.18 194.608,-1440.7 194.608,-1431.8\" fill=\"none\" stroke=\"black\"/>\n",
       "<polygon fill=\"black\" points=\"198.108,-1431.73 194.608,-1421.73 191.108,-1431.73 198.108,-1431.73\" stroke=\"black\"/>\n",
       "</g>\n",
       "<!-- 5028656336 -->\n",
       "<g class=\"node\" id=\"node4\"><title>5028656336</title>\n",
       "<polygon fill=\"none\" points=\"24.6162,-1296.5 24.6162,-1340.5 364.6,-1340.5 364.6,-1296.5 24.6162,-1296.5\" stroke=\"black\"/>\n",
       "<text font-family=\"Times,serif\" font-size=\"14.00\" text-anchor=\"middle\" x=\"121.449\" y=\"-1314.3\">bidirectional_42 (Bidirectional)</text>\n",
       "<polyline fill=\"none\" points=\"218.282,-1296.5 218.282,-1340.5 \" stroke=\"black\"/>\n",
       "<text font-family=\"Times,serif\" font-size=\"14.00\" text-anchor=\"middle\" x=\"246.117\" y=\"-1325.3\">input:</text>\n",
       "<polyline fill=\"none\" points=\"218.282,-1318.5 273.951,-1318.5 \" stroke=\"black\"/>\n",
       "<text font-family=\"Times,serif\" font-size=\"14.00\" text-anchor=\"middle\" x=\"246.117\" y=\"-1303.3\">output:</text>\n",
       "<polyline fill=\"none\" points=\"273.951,-1296.5 273.951,-1340.5 \" stroke=\"black\"/>\n",
       "<text font-family=\"Times,serif\" font-size=\"14.00\" text-anchor=\"middle\" x=\"318.782\" y=\"-1325.3\">multiple</text>\n",
       "<polyline fill=\"none\" points=\"273.951,-1318.5 364.6,-1318.5 \" stroke=\"black\"/>\n",
       "<text font-family=\"Times,serif\" font-size=\"14.00\" text-anchor=\"middle\" x=\"319.275\" y=\"-1303.3\">(None, 1, 30)</text>\n",
       "</g>\n",
       "<!-- 5048557072&#45;&gt;5028656336 -->\n",
       "<g class=\"edge\" id=\"edge4\"><title>5048557072-&gt;5028656336</title>\n",
       "<path d=\"M194.608,-1377.33C194.608,-1369.18 194.608,-1359.7 194.608,-1350.8\" fill=\"none\" stroke=\"black\"/>\n",
       "<polygon fill=\"black\" points=\"198.108,-1350.73 194.608,-1340.73 191.108,-1350.73 198.108,-1350.73\" stroke=\"black\"/>\n",
       "</g>\n",
       "<!-- 5050970064 -->\n",
       "<g class=\"node\" id=\"node5\"><title>5050970064</title>\n",
       "<polygon fill=\"none\" points=\"51.4302,-1215.5 51.4302,-1259.5 337.786,-1259.5 337.786,-1215.5 51.4302,-1215.5\" stroke=\"black\"/>\n",
       "<text font-family=\"Times,serif\" font-size=\"14.00\" text-anchor=\"middle\" x=\"121.449\" y=\"-1233.3\">dropout_73 (Dropout)</text>\n",
       "<polyline fill=\"none\" points=\"191.468,-1215.5 191.468,-1259.5 \" stroke=\"black\"/>\n",
       "<text font-family=\"Times,serif\" font-size=\"14.00\" text-anchor=\"middle\" x=\"219.303\" y=\"-1244.3\">input:</text>\n",
       "<polyline fill=\"none\" points=\"191.468,-1237.5 247.137,-1237.5 \" stroke=\"black\"/>\n",
       "<text font-family=\"Times,serif\" font-size=\"14.00\" text-anchor=\"middle\" x=\"219.303\" y=\"-1222.3\">output:</text>\n",
       "<polyline fill=\"none\" points=\"247.137,-1215.5 247.137,-1259.5 \" stroke=\"black\"/>\n",
       "<text font-family=\"Times,serif\" font-size=\"14.00\" text-anchor=\"middle\" x=\"292.461\" y=\"-1244.3\">(None, 1, 30)</text>\n",
       "<polyline fill=\"none\" points=\"247.137,-1237.5 337.786,-1237.5 \" stroke=\"black\"/>\n",
       "<text font-family=\"Times,serif\" font-size=\"14.00\" text-anchor=\"middle\" x=\"292.461\" y=\"-1222.3\">(None, 1, 30)</text>\n",
       "</g>\n",
       "<!-- 5028656336&#45;&gt;5050970064 -->\n",
       "<g class=\"edge\" id=\"edge5\"><title>5028656336-&gt;5050970064</title>\n",
       "<path d=\"M194.608,-1296.33C194.608,-1288.18 194.608,-1278.7 194.608,-1269.8\" fill=\"none\" stroke=\"black\"/>\n",
       "<polygon fill=\"black\" points=\"198.108,-1269.73 194.608,-1259.73 191.108,-1269.73 198.108,-1269.73\" stroke=\"black\"/>\n",
       "</g>\n",
       "<!-- 5050968208 -->\n",
       "<g class=\"node\" id=\"node6\"><title>5050968208</title>\n",
       "<polygon fill=\"none\" points=\"24.6162,-1134.5 24.6162,-1178.5 364.6,-1178.5 364.6,-1134.5 24.6162,-1134.5\" stroke=\"black\"/>\n",
       "<text font-family=\"Times,serif\" font-size=\"14.00\" text-anchor=\"middle\" x=\"121.449\" y=\"-1152.3\">bidirectional_43 (Bidirectional)</text>\n",
       "<polyline fill=\"none\" points=\"218.282,-1134.5 218.282,-1178.5 \" stroke=\"black\"/>\n",
       "<text font-family=\"Times,serif\" font-size=\"14.00\" text-anchor=\"middle\" x=\"246.117\" y=\"-1163.3\">input:</text>\n",
       "<polyline fill=\"none\" points=\"218.282,-1156.5 273.951,-1156.5 \" stroke=\"black\"/>\n",
       "<text font-family=\"Times,serif\" font-size=\"14.00\" text-anchor=\"middle\" x=\"246.117\" y=\"-1141.3\">output:</text>\n",
       "<polyline fill=\"none\" points=\"273.951,-1134.5 273.951,-1178.5 \" stroke=\"black\"/>\n",
       "<text font-family=\"Times,serif\" font-size=\"14.00\" text-anchor=\"middle\" x=\"318.782\" y=\"-1163.3\">multiple</text>\n",
       "<polyline fill=\"none\" points=\"273.951,-1156.5 364.6,-1156.5 \" stroke=\"black\"/>\n",
       "<text font-family=\"Times,serif\" font-size=\"14.00\" text-anchor=\"middle\" x=\"319.275\" y=\"-1141.3\">(None, 1, 30)</text>\n",
       "</g>\n",
       "<!-- 5050970064&#45;&gt;5050968208 -->\n",
       "<g class=\"edge\" id=\"edge6\"><title>5050970064-&gt;5050968208</title>\n",
       "<path d=\"M194.608,-1215.33C194.608,-1207.18 194.608,-1197.7 194.608,-1188.8\" fill=\"none\" stroke=\"black\"/>\n",
       "<polygon fill=\"black\" points=\"198.108,-1188.73 194.608,-1178.73 191.108,-1188.73 198.108,-1188.73\" stroke=\"black\"/>\n",
       "</g>\n",
       "<!-- 4998423632 -->\n",
       "<g class=\"node\" id=\"node7\"><title>4998423632</title>\n",
       "<polygon fill=\"none\" points=\"51.4302,-1053.5 51.4302,-1097.5 337.786,-1097.5 337.786,-1053.5 51.4302,-1053.5\" stroke=\"black\"/>\n",
       "<text font-family=\"Times,serif\" font-size=\"14.00\" text-anchor=\"middle\" x=\"121.449\" y=\"-1071.3\">dropout_74 (Dropout)</text>\n",
       "<polyline fill=\"none\" points=\"191.468,-1053.5 191.468,-1097.5 \" stroke=\"black\"/>\n",
       "<text font-family=\"Times,serif\" font-size=\"14.00\" text-anchor=\"middle\" x=\"219.303\" y=\"-1082.3\">input:</text>\n",
       "<polyline fill=\"none\" points=\"191.468,-1075.5 247.137,-1075.5 \" stroke=\"black\"/>\n",
       "<text font-family=\"Times,serif\" font-size=\"14.00\" text-anchor=\"middle\" x=\"219.303\" y=\"-1060.3\">output:</text>\n",
       "<polyline fill=\"none\" points=\"247.137,-1053.5 247.137,-1097.5 \" stroke=\"black\"/>\n",
       "<text font-family=\"Times,serif\" font-size=\"14.00\" text-anchor=\"middle\" x=\"292.461\" y=\"-1082.3\">(None, 1, 30)</text>\n",
       "<polyline fill=\"none\" points=\"247.137,-1075.5 337.786,-1075.5 \" stroke=\"black\"/>\n",
       "<text font-family=\"Times,serif\" font-size=\"14.00\" text-anchor=\"middle\" x=\"292.461\" y=\"-1060.3\">(None, 1, 30)</text>\n",
       "</g>\n",
       "<!-- 5050968208&#45;&gt;4998423632 -->\n",
       "<g class=\"edge\" id=\"edge7\"><title>5050968208-&gt;4998423632</title>\n",
       "<path d=\"M194.608,-1134.33C194.608,-1126.18 194.608,-1116.7 194.608,-1107.8\" fill=\"none\" stroke=\"black\"/>\n",
       "<polygon fill=\"black\" points=\"198.108,-1107.73 194.608,-1097.73 191.108,-1107.73 198.108,-1107.73\" stroke=\"black\"/>\n",
       "</g>\n",
       "<!-- 5024019728 -->\n",
       "<g class=\"node\" id=\"node8\"><title>5024019728</title>\n",
       "<polygon fill=\"none\" points=\"24.6162,-972.5 24.6162,-1016.5 364.6,-1016.5 364.6,-972.5 24.6162,-972.5\" stroke=\"black\"/>\n",
       "<text font-family=\"Times,serif\" font-size=\"14.00\" text-anchor=\"middle\" x=\"121.449\" y=\"-990.3\">bidirectional_44 (Bidirectional)</text>\n",
       "<polyline fill=\"none\" points=\"218.282,-972.5 218.282,-1016.5 \" stroke=\"black\"/>\n",
       "<text font-family=\"Times,serif\" font-size=\"14.00\" text-anchor=\"middle\" x=\"246.117\" y=\"-1001.3\">input:</text>\n",
       "<polyline fill=\"none\" points=\"218.282,-994.5 273.951,-994.5 \" stroke=\"black\"/>\n",
       "<text font-family=\"Times,serif\" font-size=\"14.00\" text-anchor=\"middle\" x=\"246.117\" y=\"-979.3\">output:</text>\n",
       "<polyline fill=\"none\" points=\"273.951,-972.5 273.951,-1016.5 \" stroke=\"black\"/>\n",
       "<text font-family=\"Times,serif\" font-size=\"14.00\" text-anchor=\"middle\" x=\"318.782\" y=\"-1001.3\">multiple</text>\n",
       "<polyline fill=\"none\" points=\"273.951,-994.5 364.6,-994.5 \" stroke=\"black\"/>\n",
       "<text font-family=\"Times,serif\" font-size=\"14.00\" text-anchor=\"middle\" x=\"319.275\" y=\"-979.3\">(None, 1, 30)</text>\n",
       "</g>\n",
       "<!-- 4998423632&#45;&gt;5024019728 -->\n",
       "<g class=\"edge\" id=\"edge8\"><title>4998423632-&gt;5024019728</title>\n",
       "<path d=\"M194.608,-1053.33C194.608,-1045.18 194.608,-1035.7 194.608,-1026.8\" fill=\"none\" stroke=\"black\"/>\n",
       "<polygon fill=\"black\" points=\"198.108,-1026.73 194.608,-1016.73 191.108,-1026.73 198.108,-1026.73\" stroke=\"black\"/>\n",
       "</g>\n",
       "<!-- 5048557008 -->\n",
       "<g class=\"node\" id=\"node9\"><title>5048557008</title>\n",
       "<polygon fill=\"none\" points=\"51.4302,-891.5 51.4302,-935.5 337.786,-935.5 337.786,-891.5 51.4302,-891.5\" stroke=\"black\"/>\n",
       "<text font-family=\"Times,serif\" font-size=\"14.00\" text-anchor=\"middle\" x=\"121.449\" y=\"-909.3\">dropout_75 (Dropout)</text>\n",
       "<polyline fill=\"none\" points=\"191.468,-891.5 191.468,-935.5 \" stroke=\"black\"/>\n",
       "<text font-family=\"Times,serif\" font-size=\"14.00\" text-anchor=\"middle\" x=\"219.303\" y=\"-920.3\">input:</text>\n",
       "<polyline fill=\"none\" points=\"191.468,-913.5 247.137,-913.5 \" stroke=\"black\"/>\n",
       "<text font-family=\"Times,serif\" font-size=\"14.00\" text-anchor=\"middle\" x=\"219.303\" y=\"-898.3\">output:</text>\n",
       "<polyline fill=\"none\" points=\"247.137,-891.5 247.137,-935.5 \" stroke=\"black\"/>\n",
       "<text font-family=\"Times,serif\" font-size=\"14.00\" text-anchor=\"middle\" x=\"292.461\" y=\"-920.3\">(None, 1, 30)</text>\n",
       "<polyline fill=\"none\" points=\"247.137,-913.5 337.786,-913.5 \" stroke=\"black\"/>\n",
       "<text font-family=\"Times,serif\" font-size=\"14.00\" text-anchor=\"middle\" x=\"292.461\" y=\"-898.3\">(None, 1, 30)</text>\n",
       "</g>\n",
       "<!-- 5024019728&#45;&gt;5048557008 -->\n",
       "<g class=\"edge\" id=\"edge9\"><title>5024019728-&gt;5048557008</title>\n",
       "<path d=\"M194.608,-972.329C194.608,-964.183 194.608,-954.699 194.608,-945.797\" fill=\"none\" stroke=\"black\"/>\n",
       "<polygon fill=\"black\" points=\"198.108,-945.729 194.608,-935.729 191.108,-945.729 198.108,-945.729\" stroke=\"black\"/>\n",
       "</g>\n",
       "<!-- 5069765904 -->\n",
       "<g class=\"node\" id=\"node10\"><title>5069765904</title>\n",
       "<polygon fill=\"none\" points=\"8.12793,-810.5 8.12793,-854.5 381.088,-854.5 381.088,-810.5 8.12793,-810.5\" stroke=\"black\"/>\n",
       "<text font-family=\"Times,serif\" font-size=\"14.00\" text-anchor=\"middle\" x=\"121.449\" y=\"-828.3\">timedistributed_20 (TimeDistributed)</text>\n",
       "<polyline fill=\"none\" points=\"234.771,-810.5 234.771,-854.5 \" stroke=\"black\"/>\n",
       "<text font-family=\"Times,serif\" font-size=\"14.00\" text-anchor=\"middle\" x=\"262.605\" y=\"-839.3\">input:</text>\n",
       "<polyline fill=\"none\" points=\"234.771,-832.5 290.439,-832.5 \" stroke=\"black\"/>\n",
       "<text font-family=\"Times,serif\" font-size=\"14.00\" text-anchor=\"middle\" x=\"262.605\" y=\"-817.3\">output:</text>\n",
       "<polyline fill=\"none\" points=\"290.439,-810.5 290.439,-854.5 \" stroke=\"black\"/>\n",
       "<text font-family=\"Times,serif\" font-size=\"14.00\" text-anchor=\"middle\" x=\"335.764\" y=\"-839.3\">(None, 1, 30)</text>\n",
       "<polyline fill=\"none\" points=\"290.439,-832.5 381.088,-832.5 \" stroke=\"black\"/>\n",
       "<text font-family=\"Times,serif\" font-size=\"14.00\" text-anchor=\"middle\" x=\"335.764\" y=\"-817.3\">(None, 1, 30)</text>\n",
       "</g>\n",
       "<!-- 5048557008&#45;&gt;5069765904 -->\n",
       "<g class=\"edge\" id=\"edge10\"><title>5048557008-&gt;5069765904</title>\n",
       "<path d=\"M194.608,-891.329C194.608,-883.183 194.608,-873.699 194.608,-864.797\" fill=\"none\" stroke=\"black\"/>\n",
       "<polygon fill=\"black\" points=\"198.108,-864.729 194.608,-854.729 191.108,-864.729 198.108,-864.729\" stroke=\"black\"/>\n",
       "</g>\n",
       "<!-- 4998718352 -->\n",
       "<g class=\"node\" id=\"node11\"><title>4998718352</title>\n",
       "<polygon fill=\"none\" points=\"51.4302,-729.5 51.4302,-773.5 337.786,-773.5 337.786,-729.5 51.4302,-729.5\" stroke=\"black\"/>\n",
       "<text font-family=\"Times,serif\" font-size=\"14.00\" text-anchor=\"middle\" x=\"121.449\" y=\"-747.3\">dropout_76 (Dropout)</text>\n",
       "<polyline fill=\"none\" points=\"191.468,-729.5 191.468,-773.5 \" stroke=\"black\"/>\n",
       "<text font-family=\"Times,serif\" font-size=\"14.00\" text-anchor=\"middle\" x=\"219.303\" y=\"-758.3\">input:</text>\n",
       "<polyline fill=\"none\" points=\"191.468,-751.5 247.137,-751.5 \" stroke=\"black\"/>\n",
       "<text font-family=\"Times,serif\" font-size=\"14.00\" text-anchor=\"middle\" x=\"219.303\" y=\"-736.3\">output:</text>\n",
       "<polyline fill=\"none\" points=\"247.137,-729.5 247.137,-773.5 \" stroke=\"black\"/>\n",
       "<text font-family=\"Times,serif\" font-size=\"14.00\" text-anchor=\"middle\" x=\"292.461\" y=\"-758.3\">(None, 1, 30)</text>\n",
       "<polyline fill=\"none\" points=\"247.137,-751.5 337.786,-751.5 \" stroke=\"black\"/>\n",
       "<text font-family=\"Times,serif\" font-size=\"14.00\" text-anchor=\"middle\" x=\"292.461\" y=\"-736.3\">(None, 1, 30)</text>\n",
       "</g>\n",
       "<!-- 5069765904&#45;&gt;4998718352 -->\n",
       "<g class=\"edge\" id=\"edge11\"><title>5069765904-&gt;4998718352</title>\n",
       "<path d=\"M194.608,-810.329C194.608,-802.183 194.608,-792.699 194.608,-783.797\" fill=\"none\" stroke=\"black\"/>\n",
       "<polygon fill=\"black\" points=\"198.108,-783.729 194.608,-773.729 191.108,-783.729 198.108,-783.729\" stroke=\"black\"/>\n",
       "</g>\n",
       "<!-- 4998717840 -->\n",
       "<g class=\"node\" id=\"node12\"><title>4998717840</title>\n",
       "<polygon fill=\"none\" points=\"0,-648.5 0,-692.5 389.216,-692.5 389.216,-648.5 0,-648.5\" stroke=\"black\"/>\n",
       "<text font-family=\"Times,serif\" font-size=\"14.00\" text-anchor=\"middle\" x=\"121.449\" y=\"-666.3\">attentiondecoder_11 (AttentionDecoder)</text>\n",
       "<polyline fill=\"none\" points=\"242.898,-648.5 242.898,-692.5 \" stroke=\"black\"/>\n",
       "<text font-family=\"Times,serif\" font-size=\"14.00\" text-anchor=\"middle\" x=\"270.733\" y=\"-677.3\">input:</text>\n",
       "<polyline fill=\"none\" points=\"242.898,-670.5 298.567,-670.5 \" stroke=\"black\"/>\n",
       "<text font-family=\"Times,serif\" font-size=\"14.00\" text-anchor=\"middle\" x=\"270.733\" y=\"-655.3\">output:</text>\n",
       "<polyline fill=\"none\" points=\"298.567,-648.5 298.567,-692.5 \" stroke=\"black\"/>\n",
       "<text font-family=\"Times,serif\" font-size=\"14.00\" text-anchor=\"middle\" x=\"343.892\" y=\"-677.3\">(None, 1, 30)</text>\n",
       "<polyline fill=\"none\" points=\"298.567,-670.5 389.216,-670.5 \" stroke=\"black\"/>\n",
       "<text font-family=\"Times,serif\" font-size=\"14.00\" text-anchor=\"middle\" x=\"343.892\" y=\"-655.3\">(None, 1, 30)</text>\n",
       "</g>\n",
       "<!-- 4998718352&#45;&gt;4998717840 -->\n",
       "<g class=\"edge\" id=\"edge12\"><title>4998718352-&gt;4998717840</title>\n",
       "<path d=\"M194.608,-729.329C194.608,-721.183 194.608,-711.699 194.608,-702.797\" fill=\"none\" stroke=\"black\"/>\n",
       "<polygon fill=\"black\" points=\"198.108,-702.729 194.608,-692.729 191.108,-702.729 198.108,-702.729\" stroke=\"black\"/>\n",
       "</g>\n",
       "<!-- 5039136016 -->\n",
       "<g class=\"node\" id=\"node13\"><title>5039136016</title>\n",
       "<polygon fill=\"none\" points=\"51.4302,-567.5 51.4302,-611.5 337.786,-611.5 337.786,-567.5 51.4302,-567.5\" stroke=\"black\"/>\n",
       "<text font-family=\"Times,serif\" font-size=\"14.00\" text-anchor=\"middle\" x=\"121.449\" y=\"-585.3\">dropout_77 (Dropout)</text>\n",
       "<polyline fill=\"none\" points=\"191.468,-567.5 191.468,-611.5 \" stroke=\"black\"/>\n",
       "<text font-family=\"Times,serif\" font-size=\"14.00\" text-anchor=\"middle\" x=\"219.303\" y=\"-596.3\">input:</text>\n",
       "<polyline fill=\"none\" points=\"191.468,-589.5 247.137,-589.5 \" stroke=\"black\"/>\n",
       "<text font-family=\"Times,serif\" font-size=\"14.00\" text-anchor=\"middle\" x=\"219.303\" y=\"-574.3\">output:</text>\n",
       "<polyline fill=\"none\" points=\"247.137,-567.5 247.137,-611.5 \" stroke=\"black\"/>\n",
       "<text font-family=\"Times,serif\" font-size=\"14.00\" text-anchor=\"middle\" x=\"292.461\" y=\"-596.3\">(None, 1, 30)</text>\n",
       "<polyline fill=\"none\" points=\"247.137,-589.5 337.786,-589.5 \" stroke=\"black\"/>\n",
       "<text font-family=\"Times,serif\" font-size=\"14.00\" text-anchor=\"middle\" x=\"292.461\" y=\"-574.3\">(None, 1, 30)</text>\n",
       "</g>\n",
       "<!-- 4998717840&#45;&gt;5039136016 -->\n",
       "<g class=\"edge\" id=\"edge13\"><title>4998717840-&gt;5039136016</title>\n",
       "<path d=\"M194.608,-648.329C194.608,-640.183 194.608,-630.699 194.608,-621.797\" fill=\"none\" stroke=\"black\"/>\n",
       "<polygon fill=\"black\" points=\"198.108,-621.729 194.608,-611.729 191.108,-621.729 198.108,-621.729\" stroke=\"black\"/>\n",
       "</g>\n",
       "<!-- 4844254288 -->\n",
       "<g class=\"node\" id=\"node14\"><title>4844254288</title>\n",
       "<polygon fill=\"none\" points=\"20.3369,-486.5 20.3369,-530.5 368.879,-530.5 368.879,-486.5 20.3369,-486.5\" stroke=\"black\"/>\n",
       "<text font-family=\"Times,serif\" font-size=\"14.00\" text-anchor=\"middle\" x=\"121.449\" y=\"-504.3\">lstmencoder_57 (LSTMEncoder)</text>\n",
       "<polyline fill=\"none\" points=\"222.562,-486.5 222.562,-530.5 \" stroke=\"black\"/>\n",
       "<text font-family=\"Times,serif\" font-size=\"14.00\" text-anchor=\"middle\" x=\"250.396\" y=\"-515.3\">input:</text>\n",
       "<polyline fill=\"none\" points=\"222.562,-508.5 278.23,-508.5 \" stroke=\"black\"/>\n",
       "<text font-family=\"Times,serif\" font-size=\"14.00\" text-anchor=\"middle\" x=\"250.396\" y=\"-493.3\">output:</text>\n",
       "<polyline fill=\"none\" points=\"278.23,-486.5 278.23,-530.5 \" stroke=\"black\"/>\n",
       "<text font-family=\"Times,serif\" font-size=\"14.00\" text-anchor=\"middle\" x=\"323.555\" y=\"-515.3\">(None, 1, 30)</text>\n",
       "<polyline fill=\"none\" points=\"278.23,-508.5 368.879,-508.5 \" stroke=\"black\"/>\n",
       "<text font-family=\"Times,serif\" font-size=\"14.00\" text-anchor=\"middle\" x=\"323.555\" y=\"-493.3\">(None, 1, 30)</text>\n",
       "</g>\n",
       "<!-- 5039136016&#45;&gt;4844254288 -->\n",
       "<g class=\"edge\" id=\"edge14\"><title>5039136016-&gt;4844254288</title>\n",
       "<path d=\"M194.608,-567.329C194.608,-559.183 194.608,-549.699 194.608,-540.797\" fill=\"none\" stroke=\"black\"/>\n",
       "<polygon fill=\"black\" points=\"198.108,-540.729 194.608,-530.729 191.108,-540.729 198.108,-540.729\" stroke=\"black\"/>\n",
       "</g>\n",
       "<!-- 5073760208 -->\n",
       "<g class=\"node\" id=\"node15\"><title>5073760208</title>\n",
       "<polygon fill=\"none\" points=\"51.4302,-405.5 51.4302,-449.5 337.786,-449.5 337.786,-405.5 51.4302,-405.5\" stroke=\"black\"/>\n",
       "<text font-family=\"Times,serif\" font-size=\"14.00\" text-anchor=\"middle\" x=\"121.449\" y=\"-423.3\">dropout_78 (Dropout)</text>\n",
       "<polyline fill=\"none\" points=\"191.468,-405.5 191.468,-449.5 \" stroke=\"black\"/>\n",
       "<text font-family=\"Times,serif\" font-size=\"14.00\" text-anchor=\"middle\" x=\"219.303\" y=\"-434.3\">input:</text>\n",
       "<polyline fill=\"none\" points=\"191.468,-427.5 247.137,-427.5 \" stroke=\"black\"/>\n",
       "<text font-family=\"Times,serif\" font-size=\"14.00\" text-anchor=\"middle\" x=\"219.303\" y=\"-412.3\">output:</text>\n",
       "<polyline fill=\"none\" points=\"247.137,-405.5 247.137,-449.5 \" stroke=\"black\"/>\n",
       "<text font-family=\"Times,serif\" font-size=\"14.00\" text-anchor=\"middle\" x=\"292.461\" y=\"-434.3\">(None, 1, 30)</text>\n",
       "<polyline fill=\"none\" points=\"247.137,-427.5 337.786,-427.5 \" stroke=\"black\"/>\n",
       "<text font-family=\"Times,serif\" font-size=\"14.00\" text-anchor=\"middle\" x=\"292.461\" y=\"-412.3\">(None, 1, 30)</text>\n",
       "</g>\n",
       "<!-- 4844254288&#45;&gt;5073760208 -->\n",
       "<g class=\"edge\" id=\"edge15\"><title>4844254288-&gt;5073760208</title>\n",
       "<path d=\"M194.608,-486.329C194.608,-478.183 194.608,-468.699 194.608,-459.797\" fill=\"none\" stroke=\"black\"/>\n",
       "<polygon fill=\"black\" points=\"198.108,-459.729 194.608,-449.729 191.108,-459.729 198.108,-459.729\" stroke=\"black\"/>\n",
       "</g>\n",
       "<!-- 5073710672 -->\n",
       "<g class=\"node\" id=\"node16\"><title>5073710672</title>\n",
       "<polygon fill=\"none\" points=\"20.3369,-324.5 20.3369,-368.5 368.879,-368.5 368.879,-324.5 20.3369,-324.5\" stroke=\"black\"/>\n",
       "<text font-family=\"Times,serif\" font-size=\"14.00\" text-anchor=\"middle\" x=\"121.449\" y=\"-342.3\">lstmencoder_58 (LSTMEncoder)</text>\n",
       "<polyline fill=\"none\" points=\"222.562,-324.5 222.562,-368.5 \" stroke=\"black\"/>\n",
       "<text font-family=\"Times,serif\" font-size=\"14.00\" text-anchor=\"middle\" x=\"250.396\" y=\"-353.3\">input:</text>\n",
       "<polyline fill=\"none\" points=\"222.562,-346.5 278.23,-346.5 \" stroke=\"black\"/>\n",
       "<text font-family=\"Times,serif\" font-size=\"14.00\" text-anchor=\"middle\" x=\"250.396\" y=\"-331.3\">output:</text>\n",
       "<polyline fill=\"none\" points=\"278.23,-324.5 278.23,-368.5 \" stroke=\"black\"/>\n",
       "<text font-family=\"Times,serif\" font-size=\"14.00\" text-anchor=\"middle\" x=\"323.555\" y=\"-353.3\">(None, 1, 30)</text>\n",
       "<polyline fill=\"none\" points=\"278.23,-346.5 368.879,-346.5 \" stroke=\"black\"/>\n",
       "<text font-family=\"Times,serif\" font-size=\"14.00\" text-anchor=\"middle\" x=\"323.555\" y=\"-331.3\">(None, 1, 30)</text>\n",
       "</g>\n",
       "<!-- 5073760208&#45;&gt;5073710672 -->\n",
       "<g class=\"edge\" id=\"edge16\"><title>5073760208-&gt;5073710672</title>\n",
       "<path d=\"M194.608,-405.329C194.608,-397.183 194.608,-387.699 194.608,-378.797\" fill=\"none\" stroke=\"black\"/>\n",
       "<polygon fill=\"black\" points=\"198.108,-378.729 194.608,-368.729 191.108,-378.729 198.108,-378.729\" stroke=\"black\"/>\n",
       "</g>\n",
       "<!-- 5026337424 -->\n",
       "<g class=\"node\" id=\"node17\"><title>5026337424</title>\n",
       "<polygon fill=\"none\" points=\"51.4302,-243.5 51.4302,-287.5 337.786,-287.5 337.786,-243.5 51.4302,-243.5\" stroke=\"black\"/>\n",
       "<text font-family=\"Times,serif\" font-size=\"14.00\" text-anchor=\"middle\" x=\"121.449\" y=\"-261.3\">dropout_79 (Dropout)</text>\n",
       "<polyline fill=\"none\" points=\"191.468,-243.5 191.468,-287.5 \" stroke=\"black\"/>\n",
       "<text font-family=\"Times,serif\" font-size=\"14.00\" text-anchor=\"middle\" x=\"219.303\" y=\"-272.3\">input:</text>\n",
       "<polyline fill=\"none\" points=\"191.468,-265.5 247.137,-265.5 \" stroke=\"black\"/>\n",
       "<text font-family=\"Times,serif\" font-size=\"14.00\" text-anchor=\"middle\" x=\"219.303\" y=\"-250.3\">output:</text>\n",
       "<polyline fill=\"none\" points=\"247.137,-243.5 247.137,-287.5 \" stroke=\"black\"/>\n",
       "<text font-family=\"Times,serif\" font-size=\"14.00\" text-anchor=\"middle\" x=\"292.461\" y=\"-272.3\">(None, 1, 30)</text>\n",
       "<polyline fill=\"none\" points=\"247.137,-265.5 337.786,-265.5 \" stroke=\"black\"/>\n",
       "<text font-family=\"Times,serif\" font-size=\"14.00\" text-anchor=\"middle\" x=\"292.461\" y=\"-250.3\">(None, 1, 30)</text>\n",
       "</g>\n",
       "<!-- 5073710672&#45;&gt;5026337424 -->\n",
       "<g class=\"edge\" id=\"edge17\"><title>5073710672-&gt;5026337424</title>\n",
       "<path d=\"M194.608,-324.329C194.608,-316.183 194.608,-306.699 194.608,-297.797\" fill=\"none\" stroke=\"black\"/>\n",
       "<polygon fill=\"black\" points=\"198.108,-297.729 194.608,-287.729 191.108,-297.729 198.108,-297.729\" stroke=\"black\"/>\n",
       "</g>\n",
       "<!-- 5026340048 -->\n",
       "<g class=\"node\" id=\"node18\"><title>5026340048</title>\n",
       "<polygon fill=\"none\" points=\"20.3369,-162.5 20.3369,-206.5 368.879,-206.5 368.879,-162.5 20.3369,-162.5\" stroke=\"black\"/>\n",
       "<text font-family=\"Times,serif\" font-size=\"14.00\" text-anchor=\"middle\" x=\"121.449\" y=\"-180.3\">lstmencoder_59 (LSTMEncoder)</text>\n",
       "<polyline fill=\"none\" points=\"222.562,-162.5 222.562,-206.5 \" stroke=\"black\"/>\n",
       "<text font-family=\"Times,serif\" font-size=\"14.00\" text-anchor=\"middle\" x=\"250.396\" y=\"-191.3\">input:</text>\n",
       "<polyline fill=\"none\" points=\"222.562,-184.5 278.23,-184.5 \" stroke=\"black\"/>\n",
       "<text font-family=\"Times,serif\" font-size=\"14.00\" text-anchor=\"middle\" x=\"250.396\" y=\"-169.3\">output:</text>\n",
       "<polyline fill=\"none\" points=\"278.23,-162.5 278.23,-206.5 \" stroke=\"black\"/>\n",
       "<text font-family=\"Times,serif\" font-size=\"14.00\" text-anchor=\"middle\" x=\"323.555\" y=\"-191.3\">(None, 1, 30)</text>\n",
       "<polyline fill=\"none\" points=\"278.23,-184.5 368.879,-184.5 \" stroke=\"black\"/>\n",
       "<text font-family=\"Times,serif\" font-size=\"14.00\" text-anchor=\"middle\" x=\"323.555\" y=\"-169.3\">(None, 1, 30)</text>\n",
       "</g>\n",
       "<!-- 5026337424&#45;&gt;5026340048 -->\n",
       "<g class=\"edge\" id=\"edge18\"><title>5026337424-&gt;5026340048</title>\n",
       "<path d=\"M194.608,-243.329C194.608,-235.183 194.608,-225.699 194.608,-216.797\" fill=\"none\" stroke=\"black\"/>\n",
       "<polygon fill=\"black\" points=\"198.108,-216.729 194.608,-206.729 191.108,-216.729 198.108,-216.729\" stroke=\"black\"/>\n",
       "</g>\n",
       "<!-- 5039134288 -->\n",
       "<g class=\"node\" id=\"node19\"><title>5039134288</title>\n",
       "<polygon fill=\"none\" points=\"51.4302,-81.5 51.4302,-125.5 337.786,-125.5 337.786,-81.5 51.4302,-81.5\" stroke=\"black\"/>\n",
       "<text font-family=\"Times,serif\" font-size=\"14.00\" text-anchor=\"middle\" x=\"121.449\" y=\"-99.3\">dropout_80 (Dropout)</text>\n",
       "<polyline fill=\"none\" points=\"191.468,-81.5 191.468,-125.5 \" stroke=\"black\"/>\n",
       "<text font-family=\"Times,serif\" font-size=\"14.00\" text-anchor=\"middle\" x=\"219.303\" y=\"-110.3\">input:</text>\n",
       "<polyline fill=\"none\" points=\"191.468,-103.5 247.137,-103.5 \" stroke=\"black\"/>\n",
       "<text font-family=\"Times,serif\" font-size=\"14.00\" text-anchor=\"middle\" x=\"219.303\" y=\"-88.3\">output:</text>\n",
       "<polyline fill=\"none\" points=\"247.137,-81.5 247.137,-125.5 \" stroke=\"black\"/>\n",
       "<text font-family=\"Times,serif\" font-size=\"14.00\" text-anchor=\"middle\" x=\"292.461\" y=\"-110.3\">(None, 1, 30)</text>\n",
       "<polyline fill=\"none\" points=\"247.137,-103.5 337.786,-103.5 \" stroke=\"black\"/>\n",
       "<text font-family=\"Times,serif\" font-size=\"14.00\" text-anchor=\"middle\" x=\"292.461\" y=\"-88.3\">(None, 1, 30)</text>\n",
       "</g>\n",
       "<!-- 5026340048&#45;&gt;5039134288 -->\n",
       "<g class=\"edge\" id=\"edge19\"><title>5026340048-&gt;5039134288</title>\n",
       "<path d=\"M194.608,-162.329C194.608,-154.183 194.608,-144.699 194.608,-135.797\" fill=\"none\" stroke=\"black\"/>\n",
       "<polygon fill=\"black\" points=\"198.108,-135.729 194.608,-125.729 191.108,-135.729 198.108,-135.729\" stroke=\"black\"/>\n",
       "</g>\n",
       "<!-- 5005912656 -->\n",
       "<g class=\"node\" id=\"node20\"><title>5005912656</title>\n",
       "<polygon fill=\"none\" points=\"8.12793,-0.5 8.12793,-44.5 381.088,-44.5 381.088,-0.5 8.12793,-0.5\" stroke=\"black\"/>\n",
       "<text font-family=\"Times,serif\" font-size=\"14.00\" text-anchor=\"middle\" x=\"121.449\" y=\"-18.3\">timedistributed_21 (TimeDistributed)</text>\n",
       "<polyline fill=\"none\" points=\"234.771,-0.5 234.771,-44.5 \" stroke=\"black\"/>\n",
       "<text font-family=\"Times,serif\" font-size=\"14.00\" text-anchor=\"middle\" x=\"262.605\" y=\"-29.3\">input:</text>\n",
       "<polyline fill=\"none\" points=\"234.771,-22.5 290.439,-22.5 \" stroke=\"black\"/>\n",
       "<text font-family=\"Times,serif\" font-size=\"14.00\" text-anchor=\"middle\" x=\"262.605\" y=\"-7.3\">output:</text>\n",
       "<polyline fill=\"none\" points=\"290.439,-0.5 290.439,-44.5 \" stroke=\"black\"/>\n",
       "<text font-family=\"Times,serif\" font-size=\"14.00\" text-anchor=\"middle\" x=\"335.764\" y=\"-29.3\">(None, 1, 30)</text>\n",
       "<polyline fill=\"none\" points=\"290.439,-22.5 381.088,-22.5 \" stroke=\"black\"/>\n",
       "<text font-family=\"Times,serif\" font-size=\"14.00\" text-anchor=\"middle\" x=\"335.764\" y=\"-7.3\">(None, 1, 6)</text>\n",
       "</g>\n",
       "<!-- 5039134288&#45;&gt;5005912656 -->\n",
       "<g class=\"edge\" id=\"edge20\"><title>5039134288-&gt;5005912656</title>\n",
       "<path d=\"M194.608,-81.3294C194.608,-73.1826 194.608,-63.6991 194.608,-54.7971\" fill=\"none\" stroke=\"black\"/>\n",
       "<polygon fill=\"black\" points=\"198.108,-54.729 194.608,-44.729 191.108,-54.729 198.108,-54.729\" stroke=\"black\"/>\n",
       "</g>\n",
       "<!-- 4998976336 -->\n",
       "<g class=\"node\" id=\"node21\"><title>4998976336</title>\n",
       "<polygon fill=\"none\" points=\"151.608,-1620.5 151.608,-1656.5 237.608,-1656.5 237.608,-1620.5 151.608,-1620.5\" stroke=\"black\"/>\n",
       "<text font-family=\"Times,serif\" font-size=\"14.00\" text-anchor=\"middle\" x=\"194.608\" y=\"-1634.3\">4998976336</text>\n",
       "</g>\n",
       "<!-- 4998976336&#45;&gt;5064556368 -->\n",
       "<g class=\"edge\" id=\"edge1\"><title>4998976336-&gt;5064556368</title>\n",
       "<path d=\"M194.608,-1620.48C194.608,-1612.65 194.608,-1603.11 194.608,-1594.04\" fill=\"none\" stroke=\"black\"/>\n",
       "<polygon fill=\"black\" points=\"198.108,-1593.74 194.608,-1583.74 191.108,-1593.74 198.108,-1593.74\" stroke=\"black\"/>\n",
       "</g>\n",
       "</g>\n",
       "</svg>"
      ],
      "text/plain": [
       "<IPython.core.display.SVG object>"
      ]
     },
     "execution_count": 67,
     "metadata": {},
     "output_type": "execute_result"
    }
   ],
   "source": [
    "SVG(model_to_dot(model, show_shapes=True).create(prog='dot', format='svg'))"
   ]
  },
  {
   "cell_type": "code",
   "execution_count": 68,
   "metadata": {
    "collapsed": false,
    "scrolled": true
   },
   "outputs": [
    {
     "name": "stdout",
     "output_type": "stream",
     "text": [
      "Train on 700 samples, validate on 78 samples\n",
      "Epoch 1/50\n",
      "700/700 [==============================] - 0s - loss: 0.5579 - val_loss: 0.4624\n",
      "Epoch 2/50\n",
      "700/700 [==============================] - 0s - loss: 0.3294 - val_loss: 0.2307\n",
      "Epoch 3/50\n",
      "700/700 [==============================] - 0s - loss: 0.2392 - val_loss: 0.2208\n",
      "Epoch 4/50\n",
      "700/700 [==============================] - 0s - loss: 0.2308 - val_loss: 0.2166\n",
      "Epoch 5/50\n",
      "700/700 [==============================] - 0s - loss: 0.2251 - val_loss: 0.2151\n",
      "Epoch 6/50\n",
      "700/700 [==============================] - 0s - loss: 0.2200 - val_loss: 0.2124\n",
      "Epoch 7/50\n",
      "700/700 [==============================] - 0s - loss: 0.2195 - val_loss: 0.2153\n",
      "Epoch 8/50\n",
      "700/700 [==============================] - 0s - loss: 0.2172 - val_loss: 0.2138\n",
      "Epoch 9/50\n",
      "700/700 [==============================] - 0s - loss: 0.2144 - val_loss: 0.2161\n",
      "Epoch 10/50\n",
      "700/700 [==============================] - 0s - loss: 0.2133 - val_loss: 0.2148\n",
      "Epoch 11/50\n",
      "700/700 [==============================] - 0s - loss: 0.2145 - val_loss: 0.2148\n",
      "Epoch 12/50\n",
      "700/700 [==============================] - 0s - loss: 0.2080 - val_loss: 0.2139\n",
      "Epoch 13/50\n",
      "700/700 [==============================] - 0s - loss: 0.2101 - val_loss: 0.2146\n",
      "Epoch 14/50\n",
      "700/700 [==============================] - 0s - loss: 0.2045 - val_loss: 0.2144\n",
      "Epoch 15/50\n",
      "700/700 [==============================] - 0s - loss: 0.2049 - val_loss: 0.2172\n",
      "Epoch 16/50\n",
      "700/700 [==============================] - 0s - loss: 0.2038 - val_loss: 0.2156\n",
      "Epoch 17/50\n",
      "700/700 [==============================] - 0s - loss: 0.2022 - val_loss: 0.2196\n",
      "Epoch 18/50\n",
      "700/700 [==============================] - 0s - loss: 0.1999 - val_loss: 0.2188\n",
      "Epoch 19/50\n",
      "700/700 [==============================] - 0s - loss: 0.2042 - val_loss: 0.2168\n",
      "Epoch 20/50\n",
      "700/700 [==============================] - 0s - loss: 0.2023 - val_loss: 0.2153\n",
      "Epoch 21/50\n",
      "700/700 [==============================] - 0s - loss: 0.2003 - val_loss: 0.2190\n",
      "Epoch 22/50\n",
      "700/700 [==============================] - 0s - loss: 0.2000 - val_loss: 0.2155\n",
      "Epoch 23/50\n",
      "700/700 [==============================] - 0s - loss: 0.1969 - val_loss: 0.2188\n",
      "Epoch 24/50\n",
      "700/700 [==============================] - 0s - loss: 0.1974 - val_loss: 0.2159\n",
      "Epoch 25/50\n",
      "700/700 [==============================] - 0s - loss: 0.1972 - val_loss: 0.2210\n",
      "Epoch 26/50\n",
      "700/700 [==============================] - 0s - loss: 0.1961 - val_loss: 0.2179\n",
      "Epoch 27/50\n",
      "700/700 [==============================] - 0s - loss: 0.1990 - val_loss: 0.2184\n",
      "Epoch 28/50\n",
      "700/700 [==============================] - 0s - loss: 0.1903 - val_loss: 0.2188\n",
      "Epoch 29/50\n",
      "700/700 [==============================] - 0s - loss: 0.1936 - val_loss: 0.2193\n",
      "Epoch 30/50\n",
      "700/700 [==============================] - 0s - loss: 0.1941 - val_loss: 0.2191\n",
      "Epoch 31/50\n",
      "700/700 [==============================] - 0s - loss: 0.1957 - val_loss: 0.2176\n",
      "Epoch 32/50\n",
      "700/700 [==============================] - 0s - loss: 0.1903 - val_loss: 0.2226\n",
      "Epoch 33/50\n",
      "700/700 [==============================] - 0s - loss: 0.1917 - val_loss: 0.2203\n",
      "Epoch 34/50\n",
      "700/700 [==============================] - 0s - loss: 0.1912 - val_loss: 0.2229\n",
      "Epoch 35/50\n",
      "700/700 [==============================] - 0s - loss: 0.1875 - val_loss: 0.2297\n",
      "Epoch 36/50\n",
      "700/700 [==============================] - 0s - loss: 0.1931 - val_loss: 0.2219\n",
      "Epoch 37/50\n",
      "700/700 [==============================] - 0s - loss: 0.1900 - val_loss: 0.2223\n",
      "Epoch 38/50\n",
      "700/700 [==============================] - 0s - loss: 0.1896 - val_loss: 0.2217\n",
      "Epoch 39/50\n",
      "700/700 [==============================] - 0s - loss: 0.1860 - val_loss: 0.2292\n",
      "Epoch 40/50\n",
      "700/700 [==============================] - 0s - loss: 0.1873 - val_loss: 0.2245\n",
      "Epoch 41/50\n",
      "700/700 [==============================] - 0s - loss: 0.1894 - val_loss: 0.2244\n",
      "Epoch 42/50\n",
      "700/700 [==============================] - 0s - loss: 0.1877 - val_loss: 0.2223\n",
      "Epoch 43/50\n",
      "700/700 [==============================] - 0s - loss: 0.1859 - val_loss: 0.2278\n",
      "Epoch 44/50\n",
      "700/700 [==============================] - 0s - loss: 0.1870 - val_loss: 0.2251\n",
      "Epoch 45/50\n",
      "700/700 [==============================] - 0s - loss: 0.1841 - val_loss: 0.2240\n",
      "Epoch 46/50\n",
      "700/700 [==============================] - 0s - loss: 0.1824 - val_loss: 0.2236\n",
      "Epoch 47/50\n",
      "700/700 [==============================] - 0s - loss: 0.1872 - val_loss: 0.2239\n",
      "Epoch 48/50\n",
      "700/700 [==============================] - 0s - loss: 0.1836 - val_loss: 0.2258\n",
      "Epoch 49/50\n",
      "700/700 [==============================] - 0s - loss: 0.1845 - val_loss: 0.2253\n",
      "Epoch 50/50\n",
      "700/700 [==============================] - 0s - loss: 0.1842 - val_loss: 0.2322\n"
     ]
    }
   ],
   "source": [
    "batch_size = 50\n",
    "epoch = 50\n",
    "validation_split = 0.1\n",
    "result = model.fit(x_train, y_train, batch_size=batch_size, nb_epoch=epoch, validation_split=validation_split)"
   ]
  },
  {
   "cell_type": "code",
   "execution_count": 69,
   "metadata": {
    "collapsed": false
   },
   "outputs": [
    {
     "name": "stdout",
     "output_type": "stream",
     "text": [
      "accuracy for 0 th dim: 0.708075\n",
      "accuracy for 1 th dim: 0.627329\n",
      "accuracy for 2 th dim: 0.621118\n",
      "accuracy for 3 th dim: 0.583851\n",
      "accuracy for 4 th dim: 0.593168\n",
      "accuracy for 5 th dim: 0.552795\n"
     ]
    }
   ],
   "source": [
    "preds = model.predict(x_test).reshape(preds.shape[0], output_dim)\n",
    "preds[preds >= 0.5] = 1\n",
    "preds[preds < 0.5] = 0\n",
    "acc_ls = []\n",
    "for i in xrange(output_dim):\n",
    "    pred = preds[:, i]\n",
    "    ans = y_test[:, i]\n",
    "    sum_, all_ = 0, 0\n",
    "    for pred_, ans_ in zip(pred, ans):\n",
    "        if abs(pred_ - ans_) == 0:\n",
    "            sum_ += 1.0\n",
    "        all_ += 1.0\n",
    "    acc_ls.append(sum_ / all_)\n",
    "\n",
    "for i, acc_ in enumerate(acc_ls):\n",
    "    print 'accuracy for %s th dim: %f' % (i, acc_)"
   ]
  },
  {
   "cell_type": "markdown",
   "metadata": {},
   "source": [
    "## Attention Time"
   ]
  },
  {
   "cell_type": "markdown",
   "metadata": {},
   "source": [
    "### CNN pre-train"
   ]
  },
  {
   "cell_type": "code",
   "execution_count": null,
   "metadata": {
    "collapsed": true
   },
   "outputs": [],
   "source": [
    "model = Sequential()\n",
    "model.add(Convolution2D(50, 1, 3, input_shape=(1, rows, cols)))\n",
    "model.add(Activation('relu'))\n",
    "model.add(Convolution2D(100, 1, 3))\n",
    "model.add(Activation('relu'))\n",
    "model.add(MaxPooling2D(pool_size=(1, 2)))\n",
    "model.add(Flatten())\n",
    "model.add(Dense(100))\n",
    "model.add(Activation('relu'))\n",
    "model.add(Dense(6))"
   ]
  },
  {
   "cell_type": "code",
   "execution_count": null,
   "metadata": {
    "collapsed": true
   },
   "outputs": [],
   "source": [
    "max_caption_len = 16\n",
    "vocab_size = 10000\n",
    "\n",
    "# first, let's define an image model that\n",
    "# will encode pictures into 128-dimensional vectors.\n",
    "# it should be initialized with pre-trained weights.\n",
    "image_model = Sequential()\n",
    "image_model.add(Convolution2D(32, 3, 3, border_mode='valid', input_shape=(3, 100, 100)))\n",
    "image_model.add(Activation('relu'))\n",
    "image_model.add(Convolution2D(32, 3, 3))\n",
    "image_model.add(Activation('relu'))\n",
    "image_model.add(MaxPooling2D(pool_size=(2, 2)))\n",
    "\n",
    "image_model.add(Convolution2D(64, 3, 3, border_mode='valid'))\n",
    "image_model.add(Activation('relu'))\n",
    "image_model.add(Convolution2D(64, 3, 3))\n",
    "image_model.add(Activation('relu'))\n",
    "image_model.add(MaxPooling2D(pool_size=(2, 2)))\n",
    "\n",
    "image_model.add(Flatten())\n",
    "image_model.add(Dense(100))\n",
    "\n",
    "# let's load the weights from a save file.\n",
    "image_model.load_weights('weight_file.h5')\n",
    "\n",
    "# next, let's define a RNN model that encodes sequences of words\n",
    "# into sequences of 128-dimensional word vectors.\n",
    "timeseries_model = Sequential()\n",
    "language_model.add((output_dim=100, return_sequences=True))\n",
    "language_model.add(TimeDistributedDense(128))\n",
    "\n",
    "# let's repeat the image vector to turn it into a sequence.\n",
    "image_model.add(RepeatVector(max_caption_len))\n",
    "\n",
    "# the output of both models will be tensors of shape (samples, max_caption_len, 128).\n",
    "# let's concatenate these 2 vector sequences.\n",
    "model = Sequential()\n",
    "model.add(Merge([image_model, language_model], mode='concat', concat_axis=-1))\n",
    "# let's encode this vector sequence into a single vector\n",
    "model.add(GRU(256, return_sequences=False))\n",
    "# which will be used to compute a probability\n",
    "# distribution over what the next word in the caption should be!\n",
    "model.add(Dense(vocab_size))\n",
    "model.add(Activation('softmax'))\n",
    "\n",
    "model.compile(loss='categorical_crossentropy', optimizer='rmsprop')\n",
    "\n",
    "# \"images\" is a numpy float array of shape (nb_samples, nb_channels=3, width, height).\n",
    "# \"captions\" is a numpy integer array of shape (nb_samples, max_caption_len)\n",
    "# containing word index sequences representing partial captions.\n",
    "# \"next_words\" is a numpy float array of shape (nb_samples, vocab_size)\n",
    "# containing a categorical encoding (0s and 1s) of the next word in the corresponding\n",
    "# partial caption.\n",
    "model.fit([images, partial_captions], next_words, batch_size=16, nb_epoch=100)"
   ]
  },
  {
   "cell_type": "code",
   "execution_count": null,
   "metadata": {
    "collapsed": true
   },
   "outputs": [],
   "source": []
  },
  {
   "cell_type": "code",
   "execution_count": null,
   "metadata": {
    "collapsed": true
   },
   "outputs": [],
   "source": []
  },
  {
   "cell_type": "code",
   "execution_count": null,
   "metadata": {
    "collapsed": true
   },
   "outputs": [],
   "source": [
    "max_caption_len = 21\n",
    "vocab_size = 43\n",
    "def VGG_16(weights_path=None):\n",
    "    model = Sequential()\n",
    "    model.add(ZeroPadding2D((1,1),input_shape=(3,224,224)))\n",
    "    model.add(Convolution2D(64, 3, 3, activation='relu'))\n",
    "    model.add(ZeroPadding2D((1,1)))\n",
    "    model.add(Convolution2D(64, 3, 3, activation='relu'))\n",
    "    model.add(MaxPooling2D((2,2), strides=(2,2)))\n",
    "\n",
    "    model.add(ZeroPadding2D((1,1)))\n",
    "    model.add(Convolution2D(128, 3, 3, activation='relu'))\n",
    "    model.add(ZeroPadding2D((1,1)))\n",
    "    model.add(Convolution2D(128, 3, 3, activation='relu'))\n",
    "    model.add(MaxPooling2D((2,2), strides=(2,2)))\n",
    "\n",
    "    model.add(ZeroPadding2D((1,1)))\n",
    "    model.add(Convolution2D(256, 3, 3, activation='relu'))\n",
    "    model.add(ZeroPadding2D((1,1)))\n",
    "    model.add(Convolution2D(256, 3, 3, activation='relu'))\n",
    "    model.add(ZeroPadding2D((1,1)))\n",
    "    model.add(Convolution2D(256, 3, 3, activation='relu'))\n",
    "    model.add(MaxPooling2D((2,2), strides=(2,2)))\n",
    "\n",
    "    model.add(ZeroPadding2D((1,1)))\n",
    "    model.add(Convolution2D(512, 3, 3, activation='relu'))\n",
    "    model.add(ZeroPadding2D((1,1)))\n",
    "    model.add(Convolution2D(512, 3, 3, activation='relu'))\n",
    "    model.add(ZeroPadding2D((1,1)))\n",
    "    model.add(Convolution2D(512, 3, 3, activation='relu'))\n",
    "    model.add(MaxPooling2D((2,2), strides=(2,2)))\n",
    "\n",
    "    model.add(ZeroPadding2D((1,1)))\n",
    "    model.add(Convolution2D(512, 3, 3, activation='relu'))\n",
    "    model.add(ZeroPadding2D((1,1)))\n",
    "    model.add(Convolution2D(512, 3, 3, activation='relu'))\n",
    "    model.add(ZeroPadding2D((1,1)))\n",
    "    model.add(Convolution2D(512, 3, 3, activation='relu'))\n",
    "    model.add(MaxPooling2D((2,2), strides=(2,2)))\n",
    "\n",
    "    model.add(Flatten())\n",
    "    model.add(Dense(4096, activation='relu'))\n",
    "    model.add(Dropout(0.5))\n",
    "    model.add(Dense(4096, activation='relu'))\n",
    "    model.add(Dropout(0.5))\n",
    "    model.add(Dense(1000, activation='softmax'))\n",
    "\n",
    "    if weights_path:\n",
    "        model.load_weights(weights_path)\n",
    "\n",
    "    #Remove the last two layers to get the 4096D activations\n",
    "    model.layers.pop()\n",
    "    model.layers.pop()\n",
    "\n",
    "    return model\n",
    "print \"VGG loading\"\n",
    "image_model = VGG_16('vgg16_weights.h5')\n",
    "image_model.trainable = False\n",
    "print \"VGG loaded\"\n",
    "# let's load the weights from a save file.\n",
    "# image_model.load_weights('weight_file.h5')\n",
    "\n",
    "# next, let's define a RNN model that encodes sequences of words\n",
    "# into sequences of 128-dimensional word vectors.\n",
    "print \"Text model loading\"\n",
    "language_model = Sequential()\n",
    "language_model.add(Embedding(vocab_size, 256, input_length=max_caption_len))\n",
    "language_model.add(GRU(output_dim=128, return_sequences=True))\n",
    "language_model.add(TimeDistributedDense(128))\n",
    "print \"Text model loaded\"\n",
    "# let's repeat the image vector to turn it into a sequence.\n",
    "print \"Repeat model loading\"\n",
    "image_model.add(RepeatVector(max_caption_len))\n",
    "print \"Repeat model loaded\"\n",
    "# the output of both models will be tensors of shape (samples, max_caption_len, 128).\n",
    "# let's concatenate these 2 vector sequences.\n",
    "print \"Merging\"\n",
    "model = Sequential()\n",
    "model.add(Merge([image_model, language_model], mode='concat', concat_axis=-1))\n",
    "# let's encode this vector sequence into a single vector\n",
    "model.add(GRU(256, return_sequences=False))\n",
    "# which will be used to compute a probability\n",
    "# distribution over what the next word in the caption should be!\n",
    "model.add(Dense(vocab_size))\n",
    "model.add(Activation('softmax'))\n",
    "\n",
    "model.compile(loss='categorical_crossentropy', optimizer='rmsprop')\n",
    "print \"Merged\"\n",
    "# \"images\" is a numpy float array of shape (nb_samples, nb_channels=3, width, height).\n",
    "# \"captions\" is a numpy integer array of shape (nb_samples, max_caption_len)\n",
    "# containing word index sequences representing partial captions.\n",
    "# \"next_words\" is a numpy float array of shape (nb_samples, vocab_size)\n",
    "# containing a categorical encoding (0s and 1s) of the next word in the corresponding\n",
    "# partial caption.\n",
    "print \"Data preprocessig\"\n",
    "Texts = [\"START A girl is stretched out in shallow water END\",\n",
    "        \"START The two people stand by a body of water and in front of bushes in fall END\",\n",
    "        \"START A blonde horse and a blonde girl in a black sweatshirt are staring at a fire in a barrel END\",\n",
    "        \"START Children sit and watch the fish moving in the pond END\",\n",
    "        \"START A fisherman fishes at the bank of a foggy river END\"]\n",
    "\n",
    "Images = [\"667626_18933d713e.jpg\",\n",
    "         \"3637013_c675de7705.jpg\",\n",
    "         \"10815824_2997e03d76.jpg\",\n",
    "         \"12830823_87d2654e31.jpg\",\n",
    "         \"17273391_55cfc7d3d4.jpg\"]\n",
    "images = []\n",
    "for image in Images:\n",
    "    img = cv2.imread(image)\n",
    "    img.resize((3,224,224))\n",
    "    images.append(img)\n",
    "images = np.asarray(images)\n",
    "\n",
    "words = [txt.split() for txt in Texts]\n",
    "unique = []\n",
    "for word in words:\n",
    "    unique.extend(word)\n",
    "unique = list(set(unique))\n",
    "word_index = {}\n",
    "index_word = {}\n",
    "for i,word in enumerate(unique):\n",
    "    word_index[word] = i\n",
    "    index_word[i] = word\n",
    "\n",
    "partial_captions = []\n",
    "for text in Texts:\n",
    "    one = [word_index[txt] for txt in text.split()]\n",
    "    partial_captions.append(one)\n",
    "\n",
    "partial_captions = sequence.pad_sequences(partial_captions, maxlen=max_caption_len,padding='post')\n",
    "next_words = np.zeros((5,vocab_size))\n",
    "for i,text in enumerate(Texts):\n",
    "    text = text.split()\n",
    "    x = [word_index[txt] for txt in text]\n",
    "    x = np.asarray(x)\n",
    "    next_words[i,x] = 1\n",
    "\n",
    "print \"Data preprocessing done\"\n",
    "model.fit([images, partial_captions], next_words, batch_size=1, nb_epoch=5)"
   ]
  }
 ],
 "metadata": {
  "kernelspec": {
   "display_name": "Python 2",
   "language": "python",
   "name": "python2"
  },
  "language_info": {
   "codemirror_mode": {
    "name": "ipython",
    "version": 2
   },
   "file_extension": ".py",
   "mimetype": "text/x-python",
   "name": "python",
   "nbconvert_exporter": "python",
   "pygments_lexer": "ipython2",
   "version": "2.7.11"
  }
 },
 "nbformat": 4,
 "nbformat_minor": 0
}
